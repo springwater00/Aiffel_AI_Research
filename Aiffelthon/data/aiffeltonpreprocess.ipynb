{
 "cells": [
  {
   "cell_type": "code",
   "execution_count": 2,
   "metadata": {},
   "outputs": [
    {
     "name": "stdout",
     "output_type": "stream",
     "text": [
      "CSV 파일 작성이 완료되었습니다.\n"
     ]
    }
   ],
   "source": [
    "import os\n",
    "import csv\n",
    "import re\n",
    "import pandas as pd\n",
    "import shutil\n",
    "\n",
    "# 파일들이 위치한 디렉토리 경로를 입력해주세요.\n",
    "directory_path = '/Users/butterflyeffectleedea/Downloads/preprocessdrum/snare'\n",
    "\n",
    "# 저장할 CSV 파일 이름을 입력해주세요.\n",
    "csv_file_name = 'output.csv'\n",
    "\n",
    "# CSV 파일에 헤더 추가\n",
    "with open(csv_file_name, mode='w', newline='', encoding='utf-8') as csvfile:\n",
    "    csv_writer = csv.writer(csvfile)\n",
    "    csv_writer.writerow(['Artist', 'Instrument', 'Etc'])\n",
    "\n",
    "# 디렉토리의 모든 파일을 찾아서 처리\n",
    "for file_name in os.listdir(directory_path):\n",
    "    # 파일 확장자가 .wav인 경우에만 처리\n",
    "    if file_name.endswith('.wav'):\n",
    "        # 파일 이름에서 .wav를 제거하고 '_'로 구분된 단어들을 분리\n",
    "        split_name = file_name[:-4].split('_')\n",
    "\n",
    "        artist = split_name[0]\n",
    "        instrument = split_name[1]\n",
    "        etc = '_'.join(split_name[2:])\n",
    "\n",
    "        # 각 열에 맞게 값을 저장\n",
    "        with open(csv_file_name, mode='a', newline='', encoding='utf-8') as csvfile:\n",
    "            csv_writer = csv.writer(csvfile)\n",
    "            csv_writer.writerow([artist, instrument, etc])\n",
    "\n",
    "print('CSV 파일 작성이 완료되었습니다.')\n"
   ]
  },
  {
   "attachments": {},
   "cell_type": "markdown",
   "metadata": {},
   "source": [
    "directory_path = '/Users/butterflyeffectleedea/Downloads/preprocessdrum'"
   ]
  },
  {
   "cell_type": "code",
   "execution_count": 12,
   "metadata": {},
   "outputs": [
    {
     "name": "stdout",
     "output_type": "stream",
     "text": [
      "CSV 파일 작성이 완료되었습니다.\n"
     ]
    }
   ],
   "source": [
    "# 파일들이 위치한 디렉토리 경로를 입력해주세요.\n",
    "directory_path = '/Users/butterflyeffectleedea/Downloads/preprocessdrum'\n",
    "\n",
    "# 저장할 CSV 파일 이름을 입력해주세요.\n",
    "csv_file_name = 'output5.csv'\n",
    "\n",
    "# CSV 파일에 헤더 추가\n",
    "with open(csv_file_name, mode='w', newline='', encoding='utf-8') as csvfile:\n",
    "    csv_writer = csv.writer(csvfile)\n",
    "    csv_writer.writerow(['File_Name', 'Artist', 'Instrument', 'Etc'])\n",
    "\n",
    "# 디렉토리의 모든 파일을 찾아서 처리\n",
    "for file_name in os.listdir(directory_path):\n",
    "    # 파일 확장자가 .wav인 경우에만 처리\n",
    "    if file_name.endswith('.wav'):\n",
    "        # 파일 이름에서 .wav를 제거하고 스페이스(' ')를 '_'로 대체한 후, '_'로 구분된 단어들을 분리\n",
    "        split_name = file_name[:-4].replace(' ', '_').split('_')\n",
    "\n",
    "        # 파일 이름에서 (번호) 형식 제거\n",
    "        split_name = [re.sub(r'\\(\\d+\\)', '', name_part) for name_part in split_name]\n",
    "\n",
    "        try:\n",
    "            artist = split_name[0].lower()  # 대문자를 소문자로 변경\n",
    "            instrument = split_name[1].lower()  # 대문자를 소문자로 변경\n",
    "            etc = ','.join(split_name[2:]).replace('_', ',')  # '_'를 ','로 대체\n",
    "        except IndexError:\n",
    "            print(f\"예외 발생: {file_name}은(는) 처리할 수 없는 형식입니다.\")\n",
    "            artist = file_name[:-4]\n",
    "            instrument = \"\"\n",
    "            etc = \"\"\n",
    "\n",
    "        # 각 열에 맞게 값을 저장\n",
    "        with open(csv_file_name, mode='a', newline='', encoding='utf-8') as csvfile:\n",
    "            csv_writer = csv.writer(csvfile)\n",
    "            csv_writer.writerow([file_name, artist, instrument, etc])\n",
    "\n",
    "print('CSV 파일 작성이 완료되었습니다.')\n"
   ]
  },
  {
   "cell_type": "code",
   "execution_count": 9,
   "metadata": {},
   "outputs": [
    {
     "name": "stdout",
     "output_type": "stream",
     "text": [
      "모든 .wav 파일 이름이 소문자로 변경되었습니다.\n"
     ]
    }
   ],
   "source": [
    "# 소문자로 모두 변경\n",
    "\n",
    "# 파일들이 위치한 디렉토리 경로를 입력해주세요.\n",
    "directory_path = '/Users/butterflyeffectleedea/Downloads/preprocessdrum'\n",
    "\n",
    "# 디렉토리의 모든 파일을 찾아서 처리\n",
    "for file_name in os.listdir(directory_path):\n",
    "    # 파일 확장자가 .wav인 경우에만 처리\n",
    "    if file_name.endswith('.wav'):\n",
    "        # 파일 이름을 소문자로 변경\n",
    "        lower_file_name = file_name.lower()\n",
    "\n",
    "        # 원본 파일 경로와 변경할 파일 경로 생성\n",
    "        original_file_path = os.path.join(directory_path, file_name)\n",
    "        new_file_path = os.path.join(directory_path, lower_file_name)\n",
    "\n",
    "        # 파일 이름 변경\n",
    "        os.rename(original_file_path, new_file_path)\n",
    "\n",
    "print('모든 .wav 파일 이름이 소문자로 변경되었습니다.')\n"
   ]
  },
  {
   "cell_type": "code",
   "execution_count": 10,
   "metadata": {},
   "outputs": [
    {
     "name": "stdout",
     "output_type": "stream",
     "text": [
      "모든 .wav 파일 이름이 변경되었습니다.\n"
     ]
    }
   ],
   "source": [
    "# 괄호 없애고 space underbar change \n",
    "\n",
    "# 파일들이 위치한 디렉토리 경로를 입력해주세요.\n",
    "directory_path = '/Users/butterflyeffectleedea/Downloads/preprocessdrum'\n",
    "\n",
    "# 디렉토리의 모든 파일을 찾아서 처리\n",
    "for file_name in os.listdir(directory_path):\n",
    "    # 파일 확장자가 .wav인 경우에만 처리\n",
    "    if file_name.endswith('.wav'):\n",
    "        # 괄호 안의 숫자를 추출\n",
    "        number = re.search(r'\\((\\d+)\\)', file_name)\n",
    "        if number:\n",
    "            number = number.group(1)\n",
    "        else:\n",
    "            number = ''\n",
    "\n",
    "        # 괄호와 괄호 안의 숫자를 제거하고, 스페이스(' ')를 '_'로 대체한 후, 추출한 숫자를 뒤에 추가\n",
    "        new_file_name = re.sub(r'\\(\\d+\\)', '', file_name).replace(' ', '_')[:-4] + number + '.wav'\n",
    "\n",
    "        # 원본 파일 경로와 변경할 파일 경로 생성\n",
    "        original_file_path = os.path.join(directory_path, file_name)\n",
    "        new_file_path = os.path.join(directory_path, new_file_name)\n",
    "\n",
    "        # 파일 이름 변경\n",
    "        os.rename(original_file_path, new_file_path)\n",
    "\n",
    "print('wav 파일 이름 변경 완료')\n"
   ]
  }
 ],
 "metadata": {
  "kernelspec": {
   "display_name": "Python 3",
   "language": "python",
   "name": "python3"
  },
  "language_info": {
   "codemirror_mode": {
    "name": "ipython",
    "version": 3
   },
   "file_extension": ".py",
   "mimetype": "text/x-python",
   "name": "python",
   "nbconvert_exporter": "python",
   "pygments_lexer": "ipython3",
   "version": "3.10.5"
  },
  "orig_nbformat": 4
 },
 "nbformat": 4,
 "nbformat_minor": 2
}
