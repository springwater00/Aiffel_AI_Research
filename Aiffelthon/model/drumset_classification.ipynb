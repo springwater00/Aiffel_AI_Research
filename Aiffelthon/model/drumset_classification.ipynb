{
 "cells": [
  {
   "cell_type": "code",
   "execution_count": 1,
   "id": "1f49c80c",
   "metadata": {},
   "outputs": [
    {
     "name": "stdout",
     "output_type": "stream",
     "text": [
      "Requirement already satisfied: laion-clap in /opt/conda/lib/python3.9/site-packages (1.1.4)\n",
      "Requirement already satisfied: torchlibrosa in /opt/conda/lib/python3.9/site-packages (from laion-clap) (0.1.0)\n",
      "Requirement already satisfied: soundfile in /opt/conda/lib/python3.9/site-packages (from laion-clap) (0.10.3.post1)\n",
      "Requirement already satisfied: ftfy in /opt/conda/lib/python3.9/site-packages (from laion-clap) (6.1.1)\n",
      "Requirement already satisfied: librosa in /opt/conda/lib/python3.9/site-packages (from laion-clap) (0.8.1)\n",
      "Requirement already satisfied: braceexpand in /opt/conda/lib/python3.9/site-packages (from laion-clap) (0.1.7)\n",
      "Requirement already satisfied: wget in /opt/conda/lib/python3.9/site-packages (from laion-clap) (3.2)\n",
      "Requirement already satisfied: wandb in /opt/conda/lib/python3.9/site-packages (from laion-clap) (0.15.2)\n",
      "Requirement already satisfied: scikit-learn in /opt/conda/lib/python3.9/site-packages (from laion-clap) (1.0)\n",
      "Requirement already satisfied: pandas in /opt/conda/lib/python3.9/site-packages (from laion-clap) (1.3.3)\n",
      "Requirement already satisfied: scipy in /opt/conda/lib/python3.9/site-packages (from laion-clap) (1.10.1)\n",
      "Requirement already satisfied: h5py in /opt/conda/lib/python3.9/site-packages (from laion-clap) (3.1.0)\n",
      "Requirement already satisfied: tqdm in /opt/conda/lib/python3.9/site-packages (from laion-clap) (4.62.3)\n",
      "Requirement already satisfied: numpy==1.23.5 in /opt/conda/lib/python3.9/site-packages (from laion-clap) (1.23.5)\n",
      "Requirement already satisfied: llvmlite in /opt/conda/lib/python3.9/site-packages (from laion-clap) (0.36.0)\n",
      "Requirement already satisfied: regex in /opt/conda/lib/python3.9/site-packages (from laion-clap) (2021.11.10)\n",
      "Requirement already satisfied: webdataset in /opt/conda/lib/python3.9/site-packages (from laion-clap) (0.2.48)\n",
      "Requirement already satisfied: transformers in /opt/conda/lib/python3.9/site-packages (from laion-clap) (4.11.3)\n",
      "Requirement already satisfied: progressbar in /opt/conda/lib/python3.9/site-packages (from laion-clap) (2.5)\n",
      "Requirement already satisfied: wcwidth>=0.2.5 in /opt/conda/lib/python3.9/site-packages (from ftfy->laion-clap) (0.2.5)\n",
      "Requirement already satisfied: resampy>=0.2.2 in /opt/conda/lib/python3.9/site-packages (from librosa->laion-clap) (0.2.2)\n",
      "Requirement already satisfied: audioread>=2.0.0 in /opt/conda/lib/python3.9/site-packages (from librosa->laion-clap) (2.1.9)\n",
      "Requirement already satisfied: packaging>=20.0 in /opt/conda/lib/python3.9/site-packages (from librosa->laion-clap) (21.3)\n",
      "Requirement already satisfied: decorator>=3.0.0 in /opt/conda/lib/python3.9/site-packages (from librosa->laion-clap) (4.4.2)\n",
      "Requirement already satisfied: pooch>=1.0 in /opt/conda/lib/python3.9/site-packages (from librosa->laion-clap) (1.5.2)\n",
      "Requirement already satisfied: numba>=0.43.0 in /opt/conda/lib/python3.9/site-packages (from librosa->laion-clap) (0.53.1)\n",
      "Requirement already satisfied: joblib>=0.14 in /opt/conda/lib/python3.9/site-packages (from librosa->laion-clap) (1.1.0)\n",
      "Requirement already satisfied: threadpoolctl>=2.0.0 in /opt/conda/lib/python3.9/site-packages (from scikit-learn->laion-clap) (3.0.0)\n",
      "Requirement already satisfied: cffi>=1.0 in /opt/conda/lib/python3.9/site-packages (from soundfile->laion-clap) (1.15.0)\n",
      "Requirement already satisfied: python-dateutil>=2.7.3 in /opt/conda/lib/python3.9/site-packages (from pandas->laion-clap) (2.8.2)\n",
      "Requirement already satisfied: pytz>=2017.3 in /opt/conda/lib/python3.9/site-packages (from pandas->laion-clap) (2021.3)\n",
      "Requirement already satisfied: pyyaml>=5.1 in /opt/conda/lib/python3.9/site-packages (from transformers->laion-clap) (6.0)\n",
      "Requirement already satisfied: huggingface-hub>=0.0.17 in /opt/conda/lib/python3.9/site-packages (from transformers->laion-clap) (0.0.19)\n",
      "Requirement already satisfied: tokenizers<0.11,>=0.10.1 in /opt/conda/lib/python3.9/site-packages (from transformers->laion-clap) (0.10.3)\n",
      "Requirement already satisfied: requests in /opt/conda/lib/python3.9/site-packages (from transformers->laion-clap) (2.26.0)\n",
      "Requirement already satisfied: sacremoses in /opt/conda/lib/python3.9/site-packages (from transformers->laion-clap) (0.0.46)\n",
      "Requirement already satisfied: filelock in /opt/conda/lib/python3.9/site-packages (from transformers->laion-clap) (3.4.0)\n",
      "Requirement already satisfied: typing-extensions in /opt/conda/lib/python3.9/site-packages (from wandb->laion-clap) (4.0.1)\n",
      "Requirement already satisfied: pathtools in /opt/conda/lib/python3.9/site-packages (from wandb->laion-clap) (0.1.2)\n",
      "Requirement already satisfied: protobuf!=4.21.0,<5,>=3.15.0 in /opt/conda/lib/python3.9/site-packages (from wandb->laion-clap) (3.19.1)\n",
      "Requirement already satisfied: sentry-sdk>=1.0.0 in /opt/conda/lib/python3.9/site-packages (from wandb->laion-clap) (1.22.1)\n",
      "Requirement already satisfied: setproctitle in /opt/conda/lib/python3.9/site-packages (from wandb->laion-clap) (1.3.2)\n",
      "Requirement already satisfied: Click!=8.0.0,>=7.0 in /opt/conda/lib/python3.9/site-packages (from wandb->laion-clap) (8.0.3)\n",
      "Requirement already satisfied: docker-pycreds>=0.4.0 in /opt/conda/lib/python3.9/site-packages (from wandb->laion-clap) (0.4.0)\n",
      "Requirement already satisfied: GitPython!=3.1.29,>=1.0.0 in /opt/conda/lib/python3.9/site-packages (from wandb->laion-clap) (3.1.31)\n",
      "Requirement already satisfied: psutil>=5.0.0 in /opt/conda/lib/python3.9/site-packages (from wandb->laion-clap) (5.8.0)\n",
      "Requirement already satisfied: appdirs>=1.4.3 in /opt/conda/lib/python3.9/site-packages (from wandb->laion-clap) (1.4.4)\n",
      "Requirement already satisfied: setuptools in /opt/conda/lib/python3.9/site-packages (from wandb->laion-clap) (59.4.0)\n",
      "Requirement already satisfied: pycparser in /opt/conda/lib/python3.9/site-packages (from cffi>=1.0->soundfile->laion-clap) (2.21)\n",
      "Requirement already satisfied: six>=1.4.0 in /opt/conda/lib/python3.9/site-packages (from docker-pycreds>=0.4.0->wandb->laion-clap) (1.16.0)\n",
      "Requirement already satisfied: gitdb<5,>=4.0.1 in /opt/conda/lib/python3.9/site-packages (from GitPython!=3.1.29,>=1.0.0->wandb->laion-clap) (4.0.10)\n",
      "Requirement already satisfied: pyparsing!=3.0.5,>=2.0.2 in /opt/conda/lib/python3.9/site-packages (from packaging>=20.0->librosa->laion-clap) (3.0.6)\n",
      "Requirement already satisfied: certifi>=2017.4.17 in /opt/conda/lib/python3.9/site-packages (from requests->transformers->laion-clap) (2021.10.8)\n",
      "Requirement already satisfied: charset-normalizer~=2.0.0 in /opt/conda/lib/python3.9/site-packages (from requests->transformers->laion-clap) (2.0.8)\n",
      "Requirement already satisfied: idna<4,>=2.5 in /opt/conda/lib/python3.9/site-packages (from requests->transformers->laion-clap) (2.10)\n",
      "Requirement already satisfied: urllib3<1.27,>=1.21.1 in /opt/conda/lib/python3.9/site-packages (from requests->transformers->laion-clap) (1.26.15)\n",
      "Requirement already satisfied: smmap<6,>=3.0.1 in /opt/conda/lib/python3.9/site-packages (from gitdb<5,>=4.0.1->GitPython!=3.1.29,>=1.0.0->wandb->laion-clap) (5.0.0)\n",
      "\u001b[33mWARNING: Running pip as the 'root' user can result in broken permissions and conflicting behaviour with the system package manager. It is recommended to use a virtual environment instead: https://pip.pypa.io/warnings/venv\u001b[0m\n",
      "Requirement already satisfied: torch in /opt/conda/lib/python3.9/site-packages (1.9.1+cu111)\n",
      "Requirement already satisfied: typing-extensions in /opt/conda/lib/python3.9/site-packages (from torch) (4.0.1)\n",
      "\u001b[33mWARNING: Running pip as the 'root' user can result in broken permissions and conflicting behaviour with the system package manager. It is recommended to use a virtual environment instead: https://pip.pypa.io/warnings/venv\u001b[0m\n",
      "Requirement already satisfied: torchvision in /opt/conda/lib/python3.9/site-packages (0.10.1+cu111)\n",
      "Requirement already satisfied: numpy in /opt/conda/lib/python3.9/site-packages (from torchvision) (1.23.5)\n",
      "Requirement already satisfied: torch==1.9.1 in /opt/conda/lib/python3.9/site-packages (from torchvision) (1.9.1+cu111)\n",
      "Requirement already satisfied: pillow>=5.3.0 in /opt/conda/lib/python3.9/site-packages (from torchvision) (8.3.2)\n",
      "Requirement already satisfied: typing-extensions in /opt/conda/lib/python3.9/site-packages (from torch==1.9.1->torchvision) (4.0.1)\n",
      "\u001b[33mWARNING: Running pip as the 'root' user can result in broken permissions and conflicting behaviour with the system package manager. It is recommended to use a virtual environment instead: https://pip.pypa.io/warnings/venv\u001b[0m\n",
      "Requirement already satisfied: torchaudio in /opt/conda/lib/python3.9/site-packages (0.9.1)\n",
      "Requirement already satisfied: torch==1.9.1 in /opt/conda/lib/python3.9/site-packages (from torchaudio) (1.9.1+cu111)\n",
      "Requirement already satisfied: typing-extensions in /opt/conda/lib/python3.9/site-packages (from torch==1.9.1->torchaudio) (4.0.1)\n",
      "\u001b[33mWARNING: Running pip as the 'root' user can result in broken permissions and conflicting behaviour with the system package manager. It is recommended to use a virtual environment instead: https://pip.pypa.io/warnings/venv\u001b[0m\n"
     ]
    }
   ],
   "source": [
    "# 0. Settings\n",
    "!pip install laion-clap\n",
    "!pip install torch\n",
    "!pip install torchvision\n",
    "!pip install torchaudio\n",
    "import laion_clap\n",
    "import glob\n",
    "import json\n",
    "import torch\n",
    "import numpy as np\n",
    "import torchaudio\n",
    "import tarfile\n",
    "import zipfile\n",
    "import numpy as np\n",
    "import matplotlib.pyplot as plt\n",
    "from sklearn.metrics import ConfusionMatrixDisplay\n",
    "import os\n",
    "import glob\n",
    "import tensorflow as tf\n",
    "from tensorflow import keras\n",
    "import pickle\n"
   ]
  },
  {
   "cell_type": "code",
   "execution_count": 2,
   "id": "ffca3bf4",
   "metadata": {},
   "outputs": [],
   "source": [
    "keras.backend.clear_session()"
   ]
  },
  {
   "cell_type": "markdown",
   "id": "0747e72d",
   "metadata": {},
   "source": [
    "# Define Classifier type"
   ]
  },
  {
   "cell_type": "code",
   "execution_count": 3,
   "id": "29f4eb3e",
   "metadata": {},
   "outputs": [],
   "source": [
    "class_index_dict_path = 'label/drumsc.json'\n",
    "column_name = 'Instrument' # 'genre', 'artist'"
   ]
  },
  {
   "cell_type": "markdown",
   "id": "94d3a459",
   "metadata": {},
   "source": [
    "# Load Dataset"
   ]
  },
  {
   "cell_type": "code",
   "execution_count": 4,
   "id": "2af44490",
   "metadata": {},
   "outputs": [],
   "source": [
    "def load_pickle(file_path):\n",
    "    with open(file_path, 'rb') as f:\n",
    "        values = pickle.load(f)\n",
    "        print(type(values))\n",
    "    return values"
   ]
  },
  {
   "cell_type": "code",
   "execution_count": 5,
   "id": "416f4710",
   "metadata": {},
   "outputs": [
    {
     "name": "stdout",
     "output_type": "stream",
     "text": [
      "<class 'numpy.ndarray'>\n",
      "<class 'numpy.ndarray'>\n",
      "<class 'list'>\n",
      "<class 'numpy.ndarray'>\n",
      "<class 'list'>\n"
     ]
    }
   ],
   "source": [
    "clap_audio_embeds = load_pickle('data/clap_audio_embeds.pkl')\n",
    "train_audio_embeds = load_pickle('data/drum_audio_embeds.pkl')\n",
    "train_ground_truth_idx = load_pickle('data/drum_ground_truth_idx.pkl')\n",
    "test_audio_embeds = load_pickle('data/drum_drumtest60_audio_embeds.pkl')\n",
    "test_ground_truth_idx = load_pickle('data/drum_drumtest60_ground_truth_idx.pkl')"
   ]
  },
  {
   "cell_type": "code",
   "execution_count": 6,
   "id": "f0f4b411",
   "metadata": {},
   "outputs": [],
   "source": [
    "train_ground_truth = np.array(train_ground_truth_idx)\n",
    "test_ground_truth = np.array(test_ground_truth_idx)"
   ]
  },
  {
   "cell_type": "code",
   "execution_count": 7,
   "id": "0a273199",
   "metadata": {},
   "outputs": [
    {
     "name": "stdout",
     "output_type": "stream",
     "text": [
      "(50, 512) (1440, 512) (1440,)\n",
      "(30, 512) (30,)\n",
      "<class 'numpy.ndarray'> <class 'numpy.ndarray'> <class 'numpy.ndarray'>\n"
     ]
    }
   ],
   "source": [
    "print(clap_audio_embeds.shape,train_audio_embeds.shape,train_ground_truth.shape)\n",
    "print(test_audio_embeds.shape,test_ground_truth.shape)\n",
    "print(type(clap_audio_embeds),type(train_audio_embeds),type(train_ground_truth))"
   ]
  },
  {
   "cell_type": "markdown",
   "id": "e0189d3a",
   "metadata": {},
   "source": [
    "# Modeling (1) - Input : train_audio_embeds"
   ]
  },
  {
   "cell_type": "code",
   "execution_count": 15,
   "id": "21e71220",
   "metadata": {},
   "outputs": [
    {
     "name": "stdout",
     "output_type": "stream",
     "text": [
      "Epoch 1/50\n",
      "41/41 [==============================] - 1s 7ms/step - loss: 0.4181 - accuracy: 0.8681 - val_loss: 1.3406 - val_accuracy: 0.8681\n",
      "Epoch 2/50\n",
      "41/41 [==============================] - 0s 4ms/step - loss: 0.1673 - accuracy: 0.9360 - val_loss: 1.0952 - val_accuracy: 0.9375\n",
      "Epoch 3/50\n",
      "41/41 [==============================] - 0s 4ms/step - loss: 0.1129 - accuracy: 0.9645 - val_loss: 0.9738 - val_accuracy: 0.8958\n",
      "Epoch 4/50\n",
      "41/41 [==============================] - 0s 5ms/step - loss: 0.0931 - accuracy: 0.9691 - val_loss: 0.8047 - val_accuracy: 0.9792\n",
      "Epoch 5/50\n",
      "41/41 [==============================] - 0s 4ms/step - loss: 0.0767 - accuracy: 0.9807 - val_loss: 0.6044 - val_accuracy: 0.9931\n",
      "Epoch 6/50\n",
      "41/41 [==============================] - 0s 4ms/step - loss: 0.1007 - accuracy: 0.9614 - val_loss: 0.5623 - val_accuracy: 0.9861\n",
      "Epoch 7/50\n",
      "41/41 [==============================] - 0s 4ms/step - loss: 0.0804 - accuracy: 0.9784 - val_loss: 0.4011 - val_accuracy: 1.0000\n",
      "Epoch 8/50\n",
      "41/41 [==============================] - 0s 4ms/step - loss: 0.0700 - accuracy: 0.9799 - val_loss: 0.2724 - val_accuracy: 1.0000\n",
      "Epoch 9/50\n",
      "41/41 [==============================] - 0s 4ms/step - loss: 0.0637 - accuracy: 0.9823 - val_loss: 0.3150 - val_accuracy: 0.9653\n"
     ]
    }
   ],
   "source": [
    "import numpy as np\n",
    "from keras.models import Sequential\n",
    "from tensorflow.keras.layers import Input, Dense, Dropout, BatchNormalization\n",
    "from tensorflow.keras.models import Model\n",
    "from keras.callbacks import EarlyStopping\n",
    "from tensorflow.keras import optimizers\n",
    "\n",
    "# Define the model\n",
    "model = Sequential()\n",
    "model.add(Dense(512, activation='relu', input_dim=train_audio_embeds.shape[1]))\n",
    "model.add(BatchNormalization())\n",
    "model.add(Dense(128, activation='relu'))\n",
    "model.add(BatchNormalization())\n",
    "model.add(Dense(6, activation='softmax'))\n",
    "\n",
    "# Compile the model\n",
    "optimizer = optimizers.Adam(learning_rate=0.001)\n",
    "model.compile(optimizer=optimizer, loss='sparse_categorical_crossentropy', metrics=['accuracy'])\n",
    "\n",
    "# Define early stopping\n",
    "early_stop = EarlyStopping(monitor='val_accuracy', patience=2)\n",
    "\n",
    "# Train the model\n",
    "history = model.fit(train_audio_embeds, train_ground_truth, validation_split=0.1, epochs=50, batch_size=32, callbacks=[early_stop])\n"
   ]
  },
  {
   "cell_type": "code",
   "execution_count": 16,
   "id": "ff7b7be4",
   "metadata": {},
   "outputs": [
    {
     "data": {
      "image/png": "[encoded data removed]",
      "text/plain": [
       "<Figure size 432x288 with 1 Axes>"
      ]
     },
     "metadata": {
      "needs_background": "light"
     },
     "output_type": "display_data"
    }
   ],
   "source": [
    "import matplotlib.pyplot as plt\n",
    "\n",
    "# plot training and validation accuracy\n",
    "plt.plot(history.history['accuracy'])\n",
    "plt.plot(history.history['val_accuracy'])\n",
    "plt.title('Model accuracy')\n",
    "plt.ylabel('Accuracy')\n",
    "plt.xlabel('Epoch')\n",
    "plt.legend(['Train', 'Val'], loc='upper left')\n",
    "plt.show()"
   ]
  },
  {
   "cell_type": "code",
   "execution_count": 17,
   "id": "c691fa5a",
   "metadata": {},
   "outputs": [
    {
     "name": "stdout",
     "output_type": "stream",
     "text": [
      "1/1 [==============================] - 0s 18ms/step - loss: 0.2218 - accuracy: 0.9667\n",
      "Test loss: 0.22183384001255035\n",
      "Test accuracy: 0.9666666388511658\n"
     ]
    }
   ],
   "source": [
    "# Evaluate the model on the test set\n",
    "test_loss, test_acc = model.evaluate(test_audio_embeds, test_ground_truth)\n",
    "print('Test loss:', test_loss)\n",
    "print('Test accuracy:', test_acc)\n"
   ]
  },
  {
   "cell_type": "markdown",
   "id": "15eec398",
   "metadata": {},
   "source": [
    "# Modeling (2) - Input : train_audio_embeds + CLAP(ESC50)_audio_embeds"
   ]
  },
  {
   "cell_type": "code",
   "execution_count": 18,
   "id": "8783d3f4",
   "metadata": {},
   "outputs": [
    {
     "name": "stdout",
     "output_type": "stream",
     "text": [
      "Epoch 1/50\n",
      "3/3 [==============================] - 1s 97ms/step - loss: 1.7052 - accuracy: 0.2889 - val_loss: 1.7651 - val_accuracy: 0.2000\n",
      "Epoch 2/50\n",
      "3/3 [==============================] - 0s 15ms/step - loss: 0.4953 - accuracy: 0.8222 - val_loss: 1.7214 - val_accuracy: 0.8000\n",
      "Epoch 3/50\n",
      "3/3 [==============================] - 0s 14ms/step - loss: 0.2127 - accuracy: 0.9778 - val_loss: 1.6676 - val_accuracy: 1.0000\n",
      "Epoch 4/50\n",
      "3/3 [==============================] - 0s 15ms/step - loss: 0.1626 - accuracy: 0.9778 - val_loss: 1.6124 - val_accuracy: 1.0000\n",
      "Epoch 5/50\n",
      "3/3 [==============================] - 0s 15ms/step - loss: 0.1793 - accuracy: 0.9556 - val_loss: 1.5483 - val_accuracy: 1.0000\n"
     ]
    }
   ],
   "source": [
    "from tensorflow.keras.layers import concatenate\n",
    "\n",
    "# Define input layers\n",
    "input1 = Input(shape=(clap_audio_embeds.shape[1],))\n",
    "input2 = Input(shape=(train_audio_embeds.shape[1],))\n",
    "\n",
    "# Define first branch for clap_audio_embeds\n",
    "x1 = Dense(1024, activation='relu')(input1)\n",
    "x1 = BatchNormalization()(x1)\n",
    "# x1 = Dense(512, activation='relu')(x1)\n",
    "# x1 = Dropout(0.3)(x1)\n",
    "# x1 = BatchNormalization()(x1)\n",
    "# x1 = Dense(128, activation='relu')(x1)\n",
    "# x1 = Dropout(0.3)(x1)\n",
    "# x1 = BatchNormalization()(x1)\n",
    "x1 = Dense(64, activation='relu')(x1)\n",
    "x1 = Dropout(0.3)(x1)\n",
    "x1 = BatchNormalization()(x1)\n",
    "\n",
    "# Define second branch for train_audio_embeds\n",
    "x2 = Dense(1024, activation='relu')(input2)\n",
    "x2 = BatchNormalization()(x2)\n",
    "# x2 = Dense(512, activation='relu')(x2)\n",
    "# x2 = Dropout(0.3)(x2)\n",
    "# x2 = BatchNormalization()(x2)\n",
    "# x2 = Dense(128, activation='relu')(x2)\n",
    "# x2 = Dropout(0.3)(x2)\n",
    "# x2 = BatchNormalization()(x2)\n",
    "x2 = Dense(64, activation='relu')(x2)\n",
    "x2 = Dropout(0.3)(x2)\n",
    "x2 = BatchNormalization()(x2)\n",
    "\n",
    "# Concatenate the two branches\n",
    "x = concatenate([x1, x2])\n",
    "\n",
    "# Define output layer\n",
    "output = Dense(6, activation='softmax')(x)\n",
    "\n",
    "# Define the model\n",
    "model = Model(inputs=[input1, input2], outputs=output)\n",
    "\n",
    "# Compile the model\n",
    "optimizer = optimizers.Adam(learning_rate=0.001)\n",
    "model.compile(optimizer=optimizer, loss='sparse_categorical_crossentropy', metrics=['accuracy'])\n",
    "\n",
    "# Define early stopping\n",
    "early_stop = EarlyStopping(monitor='val_accuracy', patience=2)\n",
    "\n",
    "# Train the model\n",
    "history = model.fit([clap_audio_embeds, train_audio_embeds], train_ground_truth, validation_split=0.1, epochs=50, batch_size=16, callbacks=[early_stop])"
   ]
  },
  {
   "cell_type": "code",
   "execution_count": 19,
   "id": "d75ff7dd",
   "metadata": {},
   "outputs": [
    {
     "data": {
      "image/png": "[encoded data removed]",
      "text/plain": [
       "<Figure size 432x288 with 1 Axes>"
      ]
     },
     "metadata": {
      "needs_background": "light"
     },
     "output_type": "display_data"
    }
   ],
   "source": [
    "# plot training and validation accuracy\n",
    "plt.plot(history.history['accuracy'])\n",
    "plt.plot(history.history['val_accuracy'])\n",
    "plt.title('Model accuracy')\n",
    "plt.ylabel('Accuracy')\n",
    "plt.xlabel('Epoch')\n",
    "plt.legend(['Train', 'Val'], loc='upper left')\n",
    "plt.show()"
   ]
  },
  {
   "cell_type": "code",
   "execution_count": 21,
   "id": "0ae095a8",
   "metadata": {},
   "outputs": [
    {
     "name": "stdout",
     "output_type": "stream",
     "text": [
      "(50, 512) (1440, 512) (1440,)\n",
      "(50, 512) (30, 512) (30,)\n"
     ]
    }
   ],
   "source": [
    "print(clap_audio_embeds.shape,train_audio_embeds.shape,train_ground_truth.shape)\n",
    "print(clap_audio_embeds.shape,test_audio_embeds.shape,test_ground_truth.shape)"
   ]
  },
  {
   "cell_type": "code",
   "execution_count": 22,
   "id": "655be7c1",
   "metadata": {},
   "outputs": [
    {
     "ename": "ValueError",
     "evalue": "Data cardinality is ambiguous:\n  x sizes: 50, 30\n  y sizes: 30\nMake sure all arrays contain the same number of samples.",
     "output_type": "error",
     "traceback": [
      "\u001b[0;31m---------------------------------------------------------------------------\u001b[0m",
      "\u001b[0;31mValueError\u001b[0m                                Traceback (most recent call last)",
      "\u001b[0;32m/tmp/ipykernel_3635/130808249.py\u001b[0m in \u001b[0;36m<module>\u001b[0;34m\u001b[0m\n\u001b[1;32m      3\u001b[0m \u001b[0;34m\u001b[0m\u001b[0m\n\u001b[1;32m      4\u001b[0m \u001b[0;31m# Evaluate the model\u001b[0m\u001b[0;34m\u001b[0m\u001b[0;34m\u001b[0m\u001b[0m\n\u001b[0;32m----> 5\u001b[0;31m \u001b[0mtest_loss\u001b[0m\u001b[0;34m,\u001b[0m \u001b[0mtest_acc\u001b[0m \u001b[0;34m=\u001b[0m \u001b[0mmodel\u001b[0m\u001b[0;34m.\u001b[0m\u001b[0mevaluate\u001b[0m\u001b[0;34m(\u001b[0m\u001b[0;34m[\u001b[0m\u001b[0mclap_audio_embeds\u001b[0m\u001b[0;34m,\u001b[0m \u001b[0mtest_audio_embeds\u001b[0m\u001b[0;34m]\u001b[0m\u001b[0;34m,\u001b[0m \u001b[0mtest_ground_truth\u001b[0m\u001b[0;34m)\u001b[0m\u001b[0;34m\u001b[0m\u001b[0;34m\u001b[0m\u001b[0m\n\u001b[0m\u001b[1;32m      6\u001b[0m \u001b[0mprint\u001b[0m\u001b[0;34m(\u001b[0m\u001b[0;34m'Test accuracy:'\u001b[0m\u001b[0;34m,\u001b[0m \u001b[0mtest_acc\u001b[0m\u001b[0;34m)\u001b[0m\u001b[0;34m\u001b[0m\u001b[0;34m\u001b[0m\u001b[0m\n",
      "\u001b[0;32m/opt/conda/lib/python3.9/site-packages/keras/engine/training.py\u001b[0m in \u001b[0;36mevaluate\u001b[0;34m(self, x, y, batch_size, verbose, sample_weight, steps, callbacks, max_queue_size, workers, use_multiprocessing, return_dict, **kwargs)\u001b[0m\n\u001b[1;32m   1464\u001b[0m       \u001b[0;32melse\u001b[0m\u001b[0;34m:\u001b[0m\u001b[0;34m\u001b[0m\u001b[0;34m\u001b[0m\u001b[0m\n\u001b[1;32m   1465\u001b[0m         \u001b[0;31m# Creates a `tf.data.Dataset` and handles batch and epoch iteration.\u001b[0m\u001b[0;34m\u001b[0m\u001b[0;34m\u001b[0m\u001b[0m\n\u001b[0;32m-> 1466\u001b[0;31m         data_handler = data_adapter.get_data_handler(\n\u001b[0m\u001b[1;32m   1467\u001b[0m             \u001b[0mx\u001b[0m\u001b[0;34m=\u001b[0m\u001b[0mx\u001b[0m\u001b[0;34m,\u001b[0m\u001b[0;34m\u001b[0m\u001b[0;34m\u001b[0m\u001b[0m\n\u001b[1;32m   1468\u001b[0m             \u001b[0my\u001b[0m\u001b[0;34m=\u001b[0m\u001b[0my\u001b[0m\u001b[0;34m,\u001b[0m\u001b[0;34m\u001b[0m\u001b[0;34m\u001b[0m\u001b[0m\n",
      "\u001b[0;32m/opt/conda/lib/python3.9/site-packages/keras/engine/data_adapter.py\u001b[0m in \u001b[0;36mget_data_handler\u001b[0;34m(*args, **kwargs)\u001b[0m\n\u001b[1;32m   1381\u001b[0m   \u001b[0;32mif\u001b[0m \u001b[0mgetattr\u001b[0m\u001b[0;34m(\u001b[0m\u001b[0mkwargs\u001b[0m\u001b[0;34m[\u001b[0m\u001b[0;34m\"model\"\u001b[0m\u001b[0;34m]\u001b[0m\u001b[0;34m,\u001b[0m \u001b[0;34m\"_cluster_coordinator\"\u001b[0m\u001b[0;34m,\u001b[0m \u001b[0;32mNone\u001b[0m\u001b[0;34m)\u001b[0m\u001b[0;34m:\u001b[0m\u001b[0;34m\u001b[0m\u001b[0;34m\u001b[0m\u001b[0m\n\u001b[1;32m   1382\u001b[0m     \u001b[0;32mreturn\u001b[0m \u001b[0m_ClusterCoordinatorDataHandler\u001b[0m\u001b[0;34m(\u001b[0m\u001b[0;34m*\u001b[0m\u001b[0margs\u001b[0m\u001b[0;34m,\u001b[0m \u001b[0;34m**\u001b[0m\u001b[0mkwargs\u001b[0m\u001b[0;34m)\u001b[0m\u001b[0;34m\u001b[0m\u001b[0;34m\u001b[0m\u001b[0m\n\u001b[0;32m-> 1383\u001b[0;31m   \u001b[0;32mreturn\u001b[0m \u001b[0mDataHandler\u001b[0m\u001b[0;34m(\u001b[0m\u001b[0;34m*\u001b[0m\u001b[0margs\u001b[0m\u001b[0;34m,\u001b[0m \u001b[0;34m**\u001b[0m\u001b[0mkwargs\u001b[0m\u001b[0;34m)\u001b[0m\u001b[0;34m\u001b[0m\u001b[0;34m\u001b[0m\u001b[0m\n\u001b[0m\u001b[1;32m   1384\u001b[0m \u001b[0;34m\u001b[0m\u001b[0m\n\u001b[1;32m   1385\u001b[0m \u001b[0;34m\u001b[0m\u001b[0m\n",
      "\u001b[0;32m/opt/conda/lib/python3.9/site-packages/keras/engine/data_adapter.py\u001b[0m in \u001b[0;36m__init__\u001b[0;34m(self, x, y, sample_weight, batch_size, steps_per_epoch, initial_epoch, epochs, shuffle, class_weight, max_queue_size, workers, use_multiprocessing, model, steps_per_execution, distribute)\u001b[0m\n\u001b[1;32m   1136\u001b[0m \u001b[0;34m\u001b[0m\u001b[0m\n\u001b[1;32m   1137\u001b[0m     \u001b[0madapter_cls\u001b[0m \u001b[0;34m=\u001b[0m \u001b[0mselect_data_adapter\u001b[0m\u001b[0;34m(\u001b[0m\u001b[0mx\u001b[0m\u001b[0;34m,\u001b[0m \u001b[0my\u001b[0m\u001b[0;34m)\u001b[0m\u001b[0;34m\u001b[0m\u001b[0;34m\u001b[0m\u001b[0m\n\u001b[0;32m-> 1138\u001b[0;31m     self._adapter = adapter_cls(\n\u001b[0m\u001b[1;32m   1139\u001b[0m         \u001b[0mx\u001b[0m\u001b[0;34m,\u001b[0m\u001b[0;34m\u001b[0m\u001b[0;34m\u001b[0m\u001b[0m\n\u001b[1;32m   1140\u001b[0m         \u001b[0my\u001b[0m\u001b[0;34m,\u001b[0m\u001b[0;34m\u001b[0m\u001b[0;34m\u001b[0m\u001b[0m\n",
      "\u001b[0;32m/opt/conda/lib/python3.9/site-packages/keras/engine/data_adapter.py\u001b[0m in \u001b[0;36m__init__\u001b[0;34m(self, x, y, sample_weights, sample_weight_modes, batch_size, epochs, steps, shuffle, **kwargs)\u001b[0m\n\u001b[1;32m    239\u001b[0m \u001b[0;34m\u001b[0m\u001b[0m\n\u001b[1;32m    240\u001b[0m     \u001b[0mnum_samples\u001b[0m \u001b[0;34m=\u001b[0m \u001b[0mset\u001b[0m\u001b[0;34m(\u001b[0m\u001b[0mint\u001b[0m\u001b[0;34m(\u001b[0m\u001b[0mi\u001b[0m\u001b[0;34m.\u001b[0m\u001b[0mshape\u001b[0m\u001b[0;34m[\u001b[0m\u001b[0;36m0\u001b[0m\u001b[0;34m]\u001b[0m\u001b[0;34m)\u001b[0m \u001b[0;32mfor\u001b[0m \u001b[0mi\u001b[0m \u001b[0;32min\u001b[0m \u001b[0mtf\u001b[0m\u001b[0;34m.\u001b[0m\u001b[0mnest\u001b[0m\u001b[0;34m.\u001b[0m\u001b[0mflatten\u001b[0m\u001b[0;34m(\u001b[0m\u001b[0minputs\u001b[0m\u001b[0;34m)\u001b[0m\u001b[0;34m)\u001b[0m\u001b[0;34m.\u001b[0m\u001b[0mpop\u001b[0m\u001b[0;34m(\u001b[0m\u001b[0;34m)\u001b[0m\u001b[0;34m\u001b[0m\u001b[0;34m\u001b[0m\u001b[0m\n\u001b[0;32m--> 241\u001b[0;31m     \u001b[0m_check_data_cardinality\u001b[0m\u001b[0;34m(\u001b[0m\u001b[0minputs\u001b[0m\u001b[0;34m)\u001b[0m\u001b[0;34m\u001b[0m\u001b[0;34m\u001b[0m\u001b[0m\n\u001b[0m\u001b[1;32m    242\u001b[0m \u001b[0;34m\u001b[0m\u001b[0m\n\u001b[1;32m    243\u001b[0m     \u001b[0;31m# If batch_size is not passed but steps is, calculate from the input data.\u001b[0m\u001b[0;34m\u001b[0m\u001b[0;34m\u001b[0m\u001b[0m\n",
      "\u001b[0;32m/opt/conda/lib/python3.9/site-packages/keras/engine/data_adapter.py\u001b[0m in \u001b[0;36m_check_data_cardinality\u001b[0;34m(data)\u001b[0m\n\u001b[1;32m   1647\u001b[0m           label, \", \".join(str(i.shape[0]) for i in tf.nest.flatten(single_data)))\n\u001b[1;32m   1648\u001b[0m     \u001b[0mmsg\u001b[0m \u001b[0;34m+=\u001b[0m \u001b[0;34m\"Make sure all arrays contain the same number of samples.\"\u001b[0m\u001b[0;34m\u001b[0m\u001b[0;34m\u001b[0m\u001b[0m\n\u001b[0;32m-> 1649\u001b[0;31m     \u001b[0;32mraise\u001b[0m \u001b[0mValueError\u001b[0m\u001b[0;34m(\u001b[0m\u001b[0mmsg\u001b[0m\u001b[0;34m)\u001b[0m\u001b[0;34m\u001b[0m\u001b[0;34m\u001b[0m\u001b[0m\n\u001b[0m\u001b[1;32m   1650\u001b[0m \u001b[0;34m\u001b[0m\u001b[0m\n\u001b[1;32m   1651\u001b[0m \u001b[0;34m\u001b[0m\u001b[0m\n",
      "\u001b[0;31mValueError\u001b[0m: Data cardinality is ambiguous:\n  x sizes: 50, 30\n  y sizes: 30\nMake sure all arrays contain the same number of samples."
     ]
    }
   ],
   "source": [
    "# Freeze the weights of the model\n",
    "model.trainable = False\n",
    "\n",
    "# Evaluate the model\n",
    "test_loss, test_acc = model.evaluate([clap_audio_embeds, test_audio_embeds], test_ground_truth)\n",
    "print('Test accuracy:', test_acc)\n"
   ]
  },
  {
   "cell_type": "code",
   "execution_count": null,
   "id": "2b8065ff",
   "metadata": {},
   "outputs": [],
   "source": []
  },
  {
   "cell_type": "code",
   "execution_count": null,
   "id": "435d7e9e",
   "metadata": {},
   "outputs": [],
   "source": []
  },
  {
   "cell_type": "code",
   "execution_count": null,
   "id": "333aea28",
   "metadata": {},
   "outputs": [],
   "source": []
  }
 ],
 "metadata": {
  "kernelspec": {
   "display_name": "Python 3 (ipykernel)",
   "language": "python",
   "name": "python3"
  },
  "language_info": {
   "codemirror_mode": {
    "name": "ipython",
    "version": 3
   },
   "file_extension": ".py",
   "mimetype": "text/x-python",
   "name": "python",
   "nbconvert_exporter": "python",
   "pygments_lexer": "ipython3",
   "version": "3.9.7"
  }
 },
 "nbformat": 4,
 "nbformat_minor": 5
}
