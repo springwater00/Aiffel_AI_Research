{
 "cells": [
  {
   "cell_type": "code",
   "execution_count": 1,
   "id": "500499c1",
   "metadata": {},
   "outputs": [],
   "source": [
    "# 0. Settings\n",
    "# !pip install laion-clap\n",
    "# !pip install torch\n",
    "# !pip install torchvision\n",
    "# !pip install torchaudio\n",
    "import laion_clap\n",
    "import glob\n",
    "import json \n",
    "import torch\n",
    "import numpy as np\n",
    "import torchaudio\n",
    "import tarfile\n",
    "import zipfile\n",
    "import numpy as np\n",
    "import matplotlib.pyplot as plt\n",
    "from sklearn.metrics import ConfusionMatrixDisplay\n",
    "import os\n",
    "import glob\n",
    "import tensorflow as tf\n",
    "from tensorflow import keras\n",
    "import pickle\n"
   ]
  },
  {
   "cell_type": "code",
   "execution_count": 2,
   "id": "aef3d39e",
   "metadata": {},
   "outputs": [],
   "source": [
    "keras.backend.clear_session()"
   ]
  },
  {
   "cell_type": "markdown",
   "id": "314601d8",
   "metadata": {},
   "source": [
    "# Define Classifier type"
   ]
  },
  {
   "cell_type": "code",
   "execution_count": 3,
   "id": "223a6d5d",
   "metadata": {},
   "outputs": [],
   "source": [
    "class_index_dict_path = 'label/drumsc.json'\n",
    "column_name = 'Instrument' # 'genre', 'artist'"
   ]
  },
  {
   "cell_type": "markdown",
   "id": "b35553f1",
   "metadata": {},
   "source": [
    "# Load Dataset"
   ]
  },
  {
   "cell_type": "code",
   "execution_count": 4,
   "id": "04cffeda",
   "metadata": {},
   "outputs": [],
   "source": [
    "def load_pickle(file_path):\n",
    "    with open(file_path, 'rb') as f:\n",
    "        values = pickle.load(f)\n",
    "        print(type(values))\n",
    "    return values"
   ]
  },
  {
   "cell_type": "code",
   "execution_count": 5,
   "id": "13f03e81",
   "metadata": {},
   "outputs": [
    {
     "name": "stdout",
     "output_type": "stream",
     "text": [
      "<class 'numpy.ndarray'>\n",
      "<class 'numpy.ndarray'>\n",
      "<class 'list'>\n",
      "<class 'numpy.ndarray'>\n",
      "<class 'list'>\n"
     ]
    }
   ],
   "source": [
    "clap_audio_embeds = load_pickle('data/clap_audio_embeds.pkl')\n",
    "train_audio_embeds = load_pickle('data/dtrain_audio_embeds.pkl')\n",
    "train_ground_truth_idx = load_pickle('data/dtrain_ground_truth_idx.pkl')\n",
    "test_audio_embeds = load_pickle('data/dtest_audio_embeds.pkl')\n",
    "test_ground_truth_idx = load_pickle('data/dtest_ground_truth_idx.pkl')"
   ]
  },
  {
   "cell_type": "code",
   "execution_count": 7,
   "id": "5472529e",
   "metadata": {},
   "outputs": [
    {
     "name": "stdout",
     "output_type": "stream",
     "text": [
      "(1408,) (30,)\n"
     ]
    }
   ],
   "source": [
    "train_ground_truth = np.array(train_ground_truth_idx)\n",
    "test_ground_truth = np.array(test_ground_truth_idx)\n",
    "print(train_ground_truth.shape,test_ground_truth.shape)"
   ]
  },
  {
   "cell_type": "code",
   "execution_count": 8,
   "id": "c9a3cdb6",
   "metadata": {},
   "outputs": [
    {
     "name": "stdout",
     "output_type": "stream",
     "text": [
      "(50, 512) (1408, 512) (1408,)\n",
      "(30, 512) (30,)\n",
      "<class 'numpy.ndarray'> <class 'numpy.ndarray'> <class 'numpy.ndarray'>\n"
     ]
    }
   ],
   "source": [
    "print(clap_audio_embeds.shape,train_audio_embeds.shape,train_ground_truth.shape)\n",
    "print(test_audio_embeds.shape,test_ground_truth.shape)\n",
    "print(type(clap_audio_embeds),type(train_audio_embeds),type(train_ground_truth))"
   ]
  },
  {
   "cell_type": "markdown",
   "id": "a7e95edc",
   "metadata": {},
   "source": [
    "# Modeling (1) - Input : train_audio_embeds"
   ]
  },
  {
   "cell_type": "code",
   "execution_count": 40,
   "id": "f544e479",
   "metadata": {
    "scrolled": true
   },
   "outputs": [
    {
     "name": "stdout",
     "output_type": "stream",
     "text": [
      "Epoch 1/50\n",
      "80/80 [==============================] - 1s 5ms/step - loss: 0.8112 - accuracy: 0.7111 - val_loss: 1.5182 - val_accuracy: 0.0284\n",
      "Epoch 2/50\n",
      "80/80 [==============================] - 0s 4ms/step - loss: 0.3419 - accuracy: 0.8887 - val_loss: 1.4753 - val_accuracy: 0.0426\n",
      "Epoch 3/50\n",
      "80/80 [==============================] - 0s 4ms/step - loss: 0.2796 - accuracy: 0.9077 - val_loss: 1.3443 - val_accuracy: 0.1844\n",
      "Epoch 4/50\n",
      "80/80 [==============================] - 0s 4ms/step - loss: 0.2501 - accuracy: 0.9163 - val_loss: 1.1266 - val_accuracy: 0.4539\n",
      "Epoch 5/50\n",
      "80/80 [==============================] - 0s 4ms/step - loss: 0.2116 - accuracy: 0.9305 - val_loss: 0.8297 - val_accuracy: 0.6028\n",
      "Epoch 6/50\n",
      "80/80 [==============================] - 0s 4ms/step - loss: 0.1823 - accuracy: 0.9440 - val_loss: 0.4881 - val_accuracy: 0.8582\n",
      "Epoch 7/50\n",
      "80/80 [==============================] - 0s 4ms/step - loss: 0.1793 - accuracy: 0.9487 - val_loss: 0.2732 - val_accuracy: 0.8936\n",
      "Epoch 8/50\n",
      "80/80 [==============================] - 0s 4ms/step - loss: 0.1790 - accuracy: 0.9424 - val_loss: 0.2769 - val_accuracy: 0.8723\n",
      "Epoch 9/50\n",
      "80/80 [==============================] - 0s 4ms/step - loss: 0.1399 - accuracy: 0.9574 - val_loss: 0.2772 - val_accuracy: 0.8794\n"
     ]
    },
    {
     "data": {
      "image/png": "[encoded data removed]",
      "text/plain": [
       "<Figure size 432x288 with 1 Axes>"
      ]
     },
     "metadata": {
      "needs_background": "light"
     },
     "output_type": "display_data"
    }
   ],
   "source": [
    "import numpy as np\n",
    "from keras.models import Sequential\n",
    "from tensorflow.keras.layers import Input, Dense, Dropout, BatchNormalization\n",
    "from tensorflow.keras.models import Model\n",
    "from keras.callbacks import EarlyStopping\n",
    "from tensorflow.keras import optimizers\n",
    "np.random.seed(42)\n",
    "tf.random.set_seed(42)\n",
    "\n",
    "# Define the model\n",
    "model = Sequential()\n",
    "model.add(Dense(512, activation='relu', input_dim=train_audio_embeds.shape[1]))\n",
    "model.add(BatchNormalization())\n",
    "model.add(Dropout(0.3))\n",
    "model.add(Dense(128, activation='relu'))\n",
    "model.add(BatchNormalization())\n",
    "\n",
    "# model.add(Dropout(0.3))\n",
    "# model.add(Dense(128, activation='relu'))\n",
    "# model.add(BatchNormalization())\n",
    "model.add(Dense(5, activation='softmax'))\n",
    "\n",
    "# Compile the model\n",
    "optimizer = optimizers.Adam(learning_rate=0.0001)\n",
    "model.compile(optimizer=optimizer, loss='sparse_categorical_crossentropy', metrics=['accuracy'])\n",
    "\n",
    "# Define early stopping\n",
    "early_stop = EarlyStopping(monitor='val_accuracy', patience=2)\n",
    "\n",
    "# Train the model\n",
    "history = model.fit(train_audio_embeds, train_ground_truth, validation_split=0.1, epochs=50, batch_size=16, callbacks=[early_stop]) #32\n",
    "\n",
    "import matplotlib.pyplot as plt\n",
    "\n",
    "# plot training and validation accuracy\n",
    "plt.plot(history.history['accuracy'])\n",
    "plt.plot(history.history['val_accuracy'])\n",
    "plt.title('Model accuracy')\n",
    "plt.ylabel('Accuracy')\n",
    "plt.xlabel('Epoch')\n",
    "plt.legend(['Train', 'Val'], loc='upper left')\n",
    "plt.show()"
   ]
  },
  {
   "cell_type": "code",
   "execution_count": 41,
   "id": "c0aa92ab",
   "metadata": {},
   "outputs": [
    {
     "name": "stdout",
     "output_type": "stream",
     "text": [
      "1/1 [==============================] - 0s 18ms/step - loss: 0.5668 - accuracy: 0.8000\n",
      "Test loss: 0.5668043494224548\n",
      "Test accuracy: 0.800000011920929\n"
     ]
    }
   ],
   "source": [
    "# Evaluate the model on the test set\n",
    "test_loss, test_acc = model.evaluate(test_audio_embeds, test_ground_truth)\n",
    "print('Test loss:', test_loss)\n",
    "print('Test accuracy:', test_acc)\n"
   ]
  },
  {
   "cell_type": "code",
   "execution_count": 42,
   "id": "1d8cec65",
   "metadata": {},
   "outputs": [
    {
     "data": {
      "text/plain": [
       "<AxesSubplot:>"
      ]
     },
     "execution_count": 42,
     "metadata": {},
     "output_type": "execute_result"
    },
    {
     "data": {
      "image/png": "[encoded data removed]",
      "text/plain": [
       "<Figure size 432x288 with 2 Axes>"
      ]
     },
     "metadata": {
      "needs_background": "light"
     },
     "output_type": "display_data"
    }
   ],
   "source": [
    "from sklearn.metrics import confusion_matrix\n",
    "import seaborn as sns\n",
    "\n",
    "# Get predictions on test data\n",
    "test_predictions = model.predict(test_audio_embeds).argmax(axis=-1)\n",
    "\n",
    "# Compute confusion matrix\n",
    "cm = confusion_matrix(test_ground_truth, test_predictions)\n",
    "\n",
    "# Plot confusion matrix\n",
    "\n",
    "class_names = ['clap', 'hihat', 'snare', 'kick', 'cymbal']\n",
    "sns.heatmap(cm, annot=True, cmap='Blues', fmt='g', xticklabels=class_names, yticklabels=class_names)"
   ]
  }
 ],
 "metadata": {
  "kernelspec": {
   "display_name": "Python 3 (ipykernel)",
   "language": "python",
   "name": "python3"
  },
  "language_info": {
   "codemirror_mode": {
    "name": "ipython",
    "version": 3
   },
   "file_extension": ".py",
   "mimetype": "text/x-python",
   "name": "python",
   "nbconvert_exporter": "python",
   "pygments_lexer": "ipython3",
   "version": "3.9.7"
  }
 },
 "nbformat": 4,
 "nbformat_minor": 5
}
