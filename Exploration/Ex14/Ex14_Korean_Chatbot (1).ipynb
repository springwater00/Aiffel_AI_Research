{
 "cells": [
  {
   "cell_type": "markdown",
   "id": "371e23f4",
   "metadata": {},
   "source": [
    "# 한국어 데이터로 챗봇 만들기"
   ]
  },
  {
   "cell_type": "code",
   "execution_count": 1,
   "id": "07ac0fbb",
   "metadata": {},
   "outputs": [],
   "source": [
    "import tensorflow as tf\n",
    "import tensorflow_datasets as tfds\n",
    "import os\n",
    "import re\n",
    "import numpy as np\n",
    "import matplotlib.pyplot as plt\n",
    "import pandas as pd\n"
   ]
  },
  {
   "cell_type": "markdown",
   "id": "16e7bc55",
   "metadata": {},
   "source": [
    "# Step 1. 데이터 수집하기"
   ]
  },
  {
   "cell_type": "code",
   "execution_count": 2,
   "id": "eb3a8216",
   "metadata": {},
   "outputs": [
    {
     "data": {
      "text/html": [
       "<div>\n",
       "<style scoped>\n",
       "    .dataframe tbody tr th:only-of-type {\n",
       "        vertical-align: middle;\n",
       "    }\n",
       "\n",
       "    .dataframe tbody tr th {\n",
       "        vertical-align: top;\n",
       "    }\n",
       "\n",
       "    .dataframe thead th {\n",
       "        text-align: right;\n",
       "    }\n",
       "</style>\n",
       "<table border=\"1\" class=\"dataframe\">\n",
       "  <thead>\n",
       "    <tr style=\"text-align: right;\">\n",
       "      <th></th>\n",
       "      <th>Q</th>\n",
       "      <th>A</th>\n",
       "      <th>label</th>\n",
       "    </tr>\n",
       "  </thead>\n",
       "  <tbody>\n",
       "    <tr>\n",
       "      <th>0</th>\n",
       "      <td>12시 땡!</td>\n",
       "      <td>하루가 또 가네요.</td>\n",
       "      <td>0</td>\n",
       "    </tr>\n",
       "    <tr>\n",
       "      <th>1</th>\n",
       "      <td>1지망 학교 떨어졌어</td>\n",
       "      <td>위로해 드립니다.</td>\n",
       "      <td>0</td>\n",
       "    </tr>\n",
       "    <tr>\n",
       "      <th>2</th>\n",
       "      <td>3박4일 놀러가고 싶다</td>\n",
       "      <td>여행은 언제나 좋죠.</td>\n",
       "      <td>0</td>\n",
       "    </tr>\n",
       "    <tr>\n",
       "      <th>3</th>\n",
       "      <td>3박4일 정도 놀러가고 싶다</td>\n",
       "      <td>여행은 언제나 좋죠.</td>\n",
       "      <td>0</td>\n",
       "    </tr>\n",
       "    <tr>\n",
       "      <th>4</th>\n",
       "      <td>PPL 심하네</td>\n",
       "      <td>눈살이 찌푸려지죠.</td>\n",
       "      <td>0</td>\n",
       "    </tr>\n",
       "    <tr>\n",
       "      <th>...</th>\n",
       "      <td>...</td>\n",
       "      <td>...</td>\n",
       "      <td>...</td>\n",
       "    </tr>\n",
       "    <tr>\n",
       "      <th>11818</th>\n",
       "      <td>훔쳐보는 것도 눈치 보임.</td>\n",
       "      <td>티가 나니까 눈치가 보이는 거죠!</td>\n",
       "      <td>2</td>\n",
       "    </tr>\n",
       "    <tr>\n",
       "      <th>11819</th>\n",
       "      <td>훔쳐보는 것도 눈치 보임.</td>\n",
       "      <td>훔쳐보는 거 티나나봐요.</td>\n",
       "      <td>2</td>\n",
       "    </tr>\n",
       "    <tr>\n",
       "      <th>11820</th>\n",
       "      <td>흑기사 해주는 짝남.</td>\n",
       "      <td>설렜겠어요.</td>\n",
       "      <td>2</td>\n",
       "    </tr>\n",
       "    <tr>\n",
       "      <th>11821</th>\n",
       "      <td>힘든 연애 좋은 연애라는게 무슨 차이일까?</td>\n",
       "      <td>잘 헤어질 수 있는 사이 여부인 거 같아요.</td>\n",
       "      <td>2</td>\n",
       "    </tr>\n",
       "    <tr>\n",
       "      <th>11822</th>\n",
       "      <td>힘들어서 결혼할까봐</td>\n",
       "      <td>도피성 결혼은 하지 않길 바라요.</td>\n",
       "      <td>2</td>\n",
       "    </tr>\n",
       "  </tbody>\n",
       "</table>\n",
       "<p>11823 rows × 3 columns</p>\n",
       "</div>"
      ],
      "text/plain": [
       "                             Q                         A  label\n",
       "0                       12시 땡!                하루가 또 가네요.      0\n",
       "1                  1지망 학교 떨어졌어                 위로해 드립니다.      0\n",
       "2                 3박4일 놀러가고 싶다               여행은 언제나 좋죠.      0\n",
       "3              3박4일 정도 놀러가고 싶다               여행은 언제나 좋죠.      0\n",
       "4                      PPL 심하네                눈살이 찌푸려지죠.      0\n",
       "...                        ...                       ...    ...\n",
       "11818           훔쳐보는 것도 눈치 보임.        티가 나니까 눈치가 보이는 거죠!      2\n",
       "11819           훔쳐보는 것도 눈치 보임.             훔쳐보는 거 티나나봐요.      2\n",
       "11820              흑기사 해주는 짝남.                    설렜겠어요.      2\n",
       "11821  힘든 연애 좋은 연애라는게 무슨 차이일까?  잘 헤어질 수 있는 사이 여부인 거 같아요.      2\n",
       "11822               힘들어서 결혼할까봐        도피성 결혼은 하지 않길 바라요.      2\n",
       "\n",
       "[11823 rows x 3 columns]"
      ]
     },
     "execution_count": 2,
     "metadata": {},
     "output_type": "execute_result"
    }
   ],
   "source": [
    "csv_path = os.getenv('HOME') + '/aiffel/transformer_chatbot/data/ChatbotData .csv'\n",
    "\n",
    "df= pd.read_csv(csv_path)\n",
    "df"
   ]
  },
  {
   "cell_type": "markdown",
   "id": "22568c21",
   "metadata": {},
   "source": [
    "# Step 2. 데이터 전처리하기\n",
    "\n",
    "영어 데이터와는 전혀 다른 데이터인 만큼 영어 데이터에 사용했던 전처리와 일부 동일한 전처리도 필요하겠지만 전체적으로는 다른 전처리를 수행해야 할 수도 있습니다."
   ]
  },
  {
   "cell_type": "code",
   "execution_count": 3,
   "id": "f46956b7",
   "metadata": {},
   "outputs": [
    {
     "name": "stdout",
     "output_type": "stream",
     "text": [
      "(11823, 3)\n"
     ]
    },
    {
     "data": {
      "text/html": [
       "<div>\n",
       "<style scoped>\n",
       "    .dataframe tbody tr th:only-of-type {\n",
       "        vertical-align: middle;\n",
       "    }\n",
       "\n",
       "    .dataframe tbody tr th {\n",
       "        vertical-align: top;\n",
       "    }\n",
       "\n",
       "    .dataframe thead th {\n",
       "        text-align: right;\n",
       "    }\n",
       "</style>\n",
       "<table border=\"1\" class=\"dataframe\">\n",
       "  <thead>\n",
       "    <tr style=\"text-align: right;\">\n",
       "      <th></th>\n",
       "      <th>index</th>\n",
       "      <th>datatype</th>\n",
       "      <th>null count</th>\n",
       "      <th>null ratio</th>\n",
       "      <th>unique count</th>\n",
       "    </tr>\n",
       "  </thead>\n",
       "  <tbody>\n",
       "    <tr>\n",
       "      <th>0</th>\n",
       "      <td>Q</td>\n",
       "      <td>object</td>\n",
       "      <td>0</td>\n",
       "      <td>0.0</td>\n",
       "      <td>11662</td>\n",
       "    </tr>\n",
       "    <tr>\n",
       "      <th>1</th>\n",
       "      <td>A</td>\n",
       "      <td>object</td>\n",
       "      <td>0</td>\n",
       "      <td>0.0</td>\n",
       "      <td>7779</td>\n",
       "    </tr>\n",
       "    <tr>\n",
       "      <th>2</th>\n",
       "      <td>label</td>\n",
       "      <td>int64</td>\n",
       "      <td>0</td>\n",
       "      <td>0.0</td>\n",
       "      <td>3</td>\n",
       "    </tr>\n",
       "  </tbody>\n",
       "</table>\n",
       "</div>"
      ],
      "text/plain": [
       "   index datatype  null count  null ratio  unique count\n",
       "0      Q   object           0         0.0         11662\n",
       "1      A   object           0         0.0          7779\n",
       "2  label    int64           0         0.0             3"
      ]
     },
     "execution_count": 3,
     "metadata": {},
     "output_type": "execute_result"
    }
   ],
   "source": [
    "# null 확인 >> 없음\n",
    "null = pd.DataFrame(df.dtypes, columns=['datatype'])\n",
    "null = null.reset_index()\n",
    "null['null count'] = df.isnull().sum().values\n",
    "null['null ratio'] = null['null count']/df.shape[0]\n",
    "null['unique count'] = df.nunique().values\n",
    "print(df.shape)\n",
    "null"
   ]
  },
  {
   "cell_type": "code",
   "execution_count": 4,
   "id": "7c303ee0",
   "metadata": {
    "scrolled": true
   },
   "outputs": [
    {
     "name": "stdout",
     "output_type": "stream",
     "text": [
      "{'dupli whole': 0, 'dupli Q columns': 161, 'dupli A columns': 4044}\n"
     ]
    },
    {
     "data": {
      "text/html": [
       "<div>\n",
       "<style scoped>\n",
       "    .dataframe tbody tr th:only-of-type {\n",
       "        vertical-align: middle;\n",
       "    }\n",
       "\n",
       "    .dataframe tbody tr th {\n",
       "        vertical-align: top;\n",
       "    }\n",
       "\n",
       "    .dataframe thead th {\n",
       "        text-align: right;\n",
       "    }\n",
       "</style>\n",
       "<table border=\"1\" class=\"dataframe\">\n",
       "  <thead>\n",
       "    <tr style=\"text-align: right;\">\n",
       "      <th></th>\n",
       "      <th>Q</th>\n",
       "      <th>A</th>\n",
       "      <th>label</th>\n",
       "    </tr>\n",
       "  </thead>\n",
       "  <tbody>\n",
       "    <tr>\n",
       "      <th>196</th>\n",
       "      <td>고양이 키우고 싶어</td>\n",
       "      <td>가족들과 상의해보세요.</td>\n",
       "      <td>0</td>\n",
       "    </tr>\n",
       "    <tr>\n",
       "      <th>235</th>\n",
       "      <td>공시 준비 힘들어</td>\n",
       "      <td>잘 될 거예요.</td>\n",
       "      <td>0</td>\n",
       "    </tr>\n",
       "    <tr>\n",
       "      <th>1294</th>\n",
       "      <td>돈 벌고 싶어</td>\n",
       "      <td>많이 벌수록 좋아요.</td>\n",
       "      <td>0</td>\n",
       "    </tr>\n",
       "    <tr>\n",
       "      <th>1445</th>\n",
       "      <td>로또 번호 알려줘</td>\n",
       "      <td>알면 제가 하죠.</td>\n",
       "      <td>0</td>\n",
       "    </tr>\n",
       "    <tr>\n",
       "      <th>1481</th>\n",
       "      <td>마음이 울적해</td>\n",
       "      <td>거리를 걸어보세요.</td>\n",
       "      <td>0</td>\n",
       "    </tr>\n",
       "    <tr>\n",
       "      <th>...</th>\n",
       "      <td>...</td>\n",
       "      <td>...</td>\n",
       "      <td>...</td>\n",
       "    </tr>\n",
       "    <tr>\n",
       "      <th>11642</th>\n",
       "      <td>착해서 잘해주는 건지 좋아하는 건지</td>\n",
       "      <td>헷갈린다고 말해보세요.</td>\n",
       "      <td>2</td>\n",
       "    </tr>\n",
       "    <tr>\n",
       "      <th>11649</th>\n",
       "      <td>첫 눈에 반하는게 가능해?</td>\n",
       "      <td>당연히 가능하죠.</td>\n",
       "      <td>2</td>\n",
       "    </tr>\n",
       "    <tr>\n",
       "      <th>11658</th>\n",
       "      <td>첫사랑 생각나</td>\n",
       "      <td>지금의 사랑에 충실하세요.</td>\n",
       "      <td>2</td>\n",
       "    </tr>\n",
       "    <tr>\n",
       "      <th>11732</th>\n",
       "      <td>커플여행이 나을까 그냥 우리끼리 갈까?</td>\n",
       "      <td>저는 둘이 가는 게 좋아요.</td>\n",
       "      <td>2</td>\n",
       "    </tr>\n",
       "    <tr>\n",
       "      <th>11819</th>\n",
       "      <td>훔쳐보는 것도 눈치 보임.</td>\n",
       "      <td>훔쳐보는 거 티나나봐요.</td>\n",
       "      <td>2</td>\n",
       "    </tr>\n",
       "  </tbody>\n",
       "</table>\n",
       "<p>161 rows × 3 columns</p>\n",
       "</div>"
      ],
      "text/plain": [
       "                           Q                A  label\n",
       "196               고양이 키우고 싶어     가족들과 상의해보세요.      0\n",
       "235                공시 준비 힘들어         잘 될 거예요.      0\n",
       "1294                 돈 벌고 싶어      많이 벌수록 좋아요.      0\n",
       "1445               로또 번호 알려줘        알면 제가 하죠.      0\n",
       "1481                 마음이 울적해       거리를 걸어보세요.      0\n",
       "...                      ...              ...    ...\n",
       "11642    착해서 잘해주는 건지 좋아하는 건지     헷갈린다고 말해보세요.      2\n",
       "11649         첫 눈에 반하는게 가능해?        당연히 가능하죠.      2\n",
       "11658                첫사랑 생각나   지금의 사랑에 충실하세요.      2\n",
       "11732  커플여행이 나을까 그냥 우리끼리 갈까?  저는 둘이 가는 게 좋아요.      2\n",
       "11819         훔쳐보는 것도 눈치 보임.    훔쳐보는 거 티나나봐요.      2\n",
       "\n",
       "[161 rows x 3 columns]"
      ]
     },
     "execution_count": 4,
     "metadata": {},
     "output_type": "execute_result"
    }
   ],
   "source": [
    "# 중복확인 >> 전체중복 없음, 칼럼중복 : 161, 4044개 >> 중복 드롭 니니함\n",
    "dupli = {}\n",
    "dupli['dupli whole'] = df.duplicated().sum()\n",
    "dupli['dupli Q columns'] = df.duplicated(subset=['Q']).sum()\n",
    "dupli['dupli A columns'] = df.duplicated(subset=['A']).sum()\n",
    "dupli_Q = df[df.duplicated(subset=['Q'])]\n",
    "dupli_A = df[df.duplicated(subset=['A'])]\n",
    "print(dupli)\n",
    "dupli_Q"
   ]
  },
  {
   "cell_type": "code",
   "execution_count": 5,
   "id": "76974f3f",
   "metadata": {},
   "outputs": [
    {
     "data": {
      "text/html": [
       "<div>\n",
       "<style scoped>\n",
       "    .dataframe tbody tr th:only-of-type {\n",
       "        vertical-align: middle;\n",
       "    }\n",
       "\n",
       "    .dataframe tbody tr th {\n",
       "        vertical-align: top;\n",
       "    }\n",
       "\n",
       "    .dataframe thead th {\n",
       "        text-align: right;\n",
       "    }\n",
       "</style>\n",
       "<table border=\"1\" class=\"dataframe\">\n",
       "  <thead>\n",
       "    <tr style=\"text-align: right;\">\n",
       "      <th></th>\n",
       "      <th>Q</th>\n",
       "      <th>A</th>\n",
       "      <th>label</th>\n",
       "    </tr>\n",
       "  </thead>\n",
       "  <tbody>\n",
       "    <tr>\n",
       "      <th>3</th>\n",
       "      <td>3박4일 정도 놀러가고 싶다</td>\n",
       "      <td>여행은 언제나 좋죠.</td>\n",
       "      <td>0</td>\n",
       "    </tr>\n",
       "    <tr>\n",
       "      <th>6</th>\n",
       "      <td>SD카드 안돼</td>\n",
       "      <td>다시 새로 사는 게 마음 편해요.</td>\n",
       "      <td>0</td>\n",
       "    </tr>\n",
       "    <tr>\n",
       "      <th>9</th>\n",
       "      <td>SNS 시간낭비인데 자꾸 보게됨</td>\n",
       "      <td>시간을 정하고 해보세요.</td>\n",
       "      <td>0</td>\n",
       "    </tr>\n",
       "    <tr>\n",
       "      <th>12</th>\n",
       "      <td>가끔 뭐하는지 궁금해</td>\n",
       "      <td>그 사람도 그럴 거예요.</td>\n",
       "      <td>0</td>\n",
       "    </tr>\n",
       "    <tr>\n",
       "      <th>18</th>\n",
       "      <td>가스불 켜놓고 나온거 같아</td>\n",
       "      <td>빨리 집에 돌아가서 끄고 나오세요.</td>\n",
       "      <td>0</td>\n",
       "    </tr>\n",
       "    <tr>\n",
       "      <th>...</th>\n",
       "      <td>...</td>\n",
       "      <td>...</td>\n",
       "      <td>...</td>\n",
       "    </tr>\n",
       "    <tr>\n",
       "      <th>11806</th>\n",
       "      <td>혼자만 설레고 혼자서 끝내는 짝사랑 그만할래.</td>\n",
       "      <td>맘고생 많았어요.</td>\n",
       "      <td>2</td>\n",
       "    </tr>\n",
       "    <tr>\n",
       "      <th>11807</th>\n",
       "      <td>화이트데이에 고백할까요?</td>\n",
       "      <td>선물을 주면서 솔직하고 당당하게 고백해보세요.</td>\n",
       "      <td>2</td>\n",
       "    </tr>\n",
       "    <tr>\n",
       "      <th>11809</th>\n",
       "      <td>확실히 날 좋아하는 걸 아는 남자랑 친구가 될 수 있을까?</td>\n",
       "      <td>그 사람을 위해서는 그러면 안돼요.</td>\n",
       "      <td>2</td>\n",
       "    </tr>\n",
       "    <tr>\n",
       "      <th>11816</th>\n",
       "      <td>회식하는데 나만 챙겨줘. 썸임?</td>\n",
       "      <td>호감이 있을 수도 있어요. 그렇지만 조금 더 상황을 지켜보세요.</td>\n",
       "      <td>2</td>\n",
       "    </tr>\n",
       "    <tr>\n",
       "      <th>11822</th>\n",
       "      <td>힘들어서 결혼할까봐</td>\n",
       "      <td>도피성 결혼은 하지 않길 바라요.</td>\n",
       "      <td>2</td>\n",
       "    </tr>\n",
       "  </tbody>\n",
       "</table>\n",
       "<p>4044 rows × 3 columns</p>\n",
       "</div>"
      ],
      "text/plain": [
       "                                      Q                                    A  \\\n",
       "3                       3박4일 정도 놀러가고 싶다                          여행은 언제나 좋죠.   \n",
       "6                               SD카드 안돼                   다시 새로 사는 게 마음 편해요.   \n",
       "9                     SNS 시간낭비인데 자꾸 보게됨                        시간을 정하고 해보세요.   \n",
       "12                          가끔 뭐하는지 궁금해                        그 사람도 그럴 거예요.   \n",
       "18                       가스불 켜놓고 나온거 같아                  빨리 집에 돌아가서 끄고 나오세요.   \n",
       "...                                 ...                                  ...   \n",
       "11806         혼자만 설레고 혼자서 끝내는 짝사랑 그만할래.                            맘고생 많았어요.   \n",
       "11807                     화이트데이에 고백할까요?            선물을 주면서 솔직하고 당당하게 고백해보세요.   \n",
       "11809  확실히 날 좋아하는 걸 아는 남자랑 친구가 될 수 있을까?                  그 사람을 위해서는 그러면 안돼요.   \n",
       "11816                 회식하는데 나만 챙겨줘. 썸임?  호감이 있을 수도 있어요. 그렇지만 조금 더 상황을 지켜보세요.   \n",
       "11822                        힘들어서 결혼할까봐                   도피성 결혼은 하지 않길 바라요.   \n",
       "\n",
       "       label  \n",
       "3          0  \n",
       "6          0  \n",
       "9          0  \n",
       "12         0  \n",
       "18         0  \n",
       "...      ...  \n",
       "11806      2  \n",
       "11807      2  \n",
       "11809      2  \n",
       "11816      2  \n",
       "11822      2  \n",
       "\n",
       "[4044 rows x 3 columns]"
      ]
     },
     "execution_count": 5,
     "metadata": {},
     "output_type": "execute_result"
    }
   ],
   "source": [
    "dupli_A"
   ]
  },
  {
   "cell_type": "code",
   "execution_count": 6,
   "id": "bbb6e41d",
   "metadata": {},
   "outputs": [
    {
     "name": "stdout",
     "output_type": "stream",
     "text": [
      "11823\n"
     ]
    }
   ],
   "source": [
    "# 샘플 최대갯수 \n",
    "MAX_SAMPLES = df.shape[0]\n",
    "print(MAX_SAMPLES)"
   ]
  },
  {
   "cell_type": "code",
   "execution_count": 7,
   "id": "dbb8d6bb",
   "metadata": {},
   "outputs": [
    {
     "name": "stdout",
     "output_type": "stream",
     "text": [
      "['!!', '.?', \"'\", '.!', ';;;', '~~~~', '.!!', ';;', ';?', ',', '….', '~', '!?', '~!!', '??', '~??', '.', '???', '!!!', '%', '?.', ',.', '~~', '~~~', '..', '?', '!', '…', ',,']\n",
      "['!!', '!', '....', '.-', \"',\", '..', \"'\", '.', ',', '?', '~', '-', '…']\n"
     ]
    }
   ],
   "source": [
    "# 쓰여진 모든 특수문자 찾기\n",
    "\n",
    "def used_special_characters(column):\n",
    "    special_characters = df[column].apply(lambda x: re.findall(r'[^\\w\\s]+', x))\n",
    "    unique_special_characters = list(set([item for sublist in special_characters for item in sublist]))\n",
    "    return unique_special_characters\n",
    "\n",
    "print(used_special_characters('Q'))\n",
    "print(used_special_characters('A'))"
   ]
  },
  {
   "cell_type": "code",
   "execution_count": 8,
   "id": "38a16a2c",
   "metadata": {},
   "outputs": [
    {
     "name": "stdout",
     "output_type": "stream",
     "text": [
      "[';;;', '!', '%', '~~~~', '~~', '~~~', \"'\", ';;', '.', ',', '?', '~', '…']\n",
      "['!', '.-', '..', \"'\", '.', ',', '?', '~', '-', '…']\n"
     ]
    }
   ],
   "source": [
    "# 사용할 특수문자만 남기고 클리닝하기\n",
    "\n",
    "def clean_special_characters(column):\n",
    "    df[column] = df[column].apply(lambda x: re.sub(r'[^\\w\\s](?![,!?.]{2,})[,!?.]', '', x))\n",
    "    return df[column]\n",
    "\n",
    "df['Q'] = clean_special_characters('Q')\n",
    "df['A'] = clean_special_characters('A')\n",
    "print(used_special_characters('Q'))\n",
    "print(used_special_characters('A'))"
   ]
  },
  {
   "cell_type": "code",
   "execution_count": 9,
   "id": "6368e3bf",
   "metadata": {},
   "outputs": [
    {
     "name": "stdout",
     "output_type": "stream",
     "text": [
      "questions shape : (11823,)\n",
      "answers shape : (11823,)\n"
     ]
    }
   ],
   "source": [
    "# inputs, outputs 정하기\n",
    "\n",
    "questions = df['Q'].values\n",
    "answers = df['A'].values\n",
    "\n",
    "print(\"questions shape :\",questions.shape)\n",
    "print(\"answers shape :\",answers.shape)"
   ]
  },
  {
   "cell_type": "code",
   "execution_count": 10,
   "id": "7be7051d",
   "metadata": {},
   "outputs": [
    {
     "name": "stdout",
     "output_type": "stream",
     "text": [
      "전처리 후의 11650번째 질문 샘플: 첫 눈에 반하는게 가능해?\n",
      "전처리 후의 11650번째 답변 샘플: 당연히 가능하죠.\n",
      "챗봇 너무 똑똑이! 난 너한테 반함!\n"
     ]
    }
   ],
   "source": [
    "print('전처리 후의 11650번째 질문 샘플: {}'.format(questions[11649]))\n",
    "print('전처리 후의 11650번째 답변 샘플: {}'.format(answers[11649]))\n",
    "print('챗봇 너무 똑똑이! 난 너한테 반함!')"
   ]
  },
  {
   "cell_type": "code",
   "execution_count": 11,
   "id": "3457beec",
   "metadata": {},
   "outputs": [],
   "source": [
    "def preprocess_sentence(sentence):\n",
    "    sentence = sentence.lower().strip()\n",
    "\n",
    "    # 단어와 구두점(punctuation) 사이의 거리를 만듭니다.\n",
    "    # 예를 들어서 \"I am a student.\" => \"I am a student .\"와 같이\n",
    "    # student와 온점 사이에 거리를 만듭니다.\n",
    "    sentence = re.sub(r\"([?.!,])\", r\" \\1 \", sentence)\n",
    "    sentence = re.sub(r'[\" \"]+', \" \", sentence)\n",
    "\n",
    "    # (a-z, A-Z, \".\", \"?\", \"!\", \",\")를 제외한 모든 문자를 공백인 ' '로 대체합니다.\n",
    "    sentence = re.sub(r\"[^a-zA-Z?.!,]+\", \" \", sentence)\n",
    "    sentence = sentence.strip()\n",
    "    return sentence"
   ]
  },
  {
   "cell_type": "markdown",
   "id": "6937c96e",
   "metadata": {},
   "source": [
    "# Step 3. SubwordTextEncoder 사용하기\n",
    "\n",
    "한국어 데이터는 형태소 분석기를 사용하여 토크나이징을 해야 한다고 많은 분이 알고 있습니다. 하지만 여기서는 형태소 분석기가 아닌 위 실습에서 사용했던 내부 단어 토크나이저인 SubwordTextEncoder를 그대로 사용해보세요.\n",
    "\n",
    "- TensorFlow Datasets SubwordTextEncoder 를 토크나이저로 사용한다. 단어보다 더 작은 단위인 Subword를 기준으로 토크나이징하고, 각 토큰을 고유한 정수로 인코딩 한다.\n",
    "- 각 문장을 토큰화하고 각 문장의 시작과 끝을 나타내는 START_TOKEN 및 END_TOKEN을 추가한다.\n",
    "- 최대 길이 MAX_LENGTH 인 40을 넘는 문장들은 필터링한다.\n",
    "- MAX_LENGTH보다 길이가 짧은 문장들은 40에 맞도록 패딩 한다."
   ]
  },
  {
   "cell_type": "markdown",
   "id": "cd164612",
   "metadata": {},
   "source": [
    ">## 1) 단어장(Vocabulary) 만들기"
   ]
  },
  {
   "cell_type": "code",
   "execution_count": 12,
   "id": "1e79ec3c",
   "metadata": {},
   "outputs": [],
   "source": [
    "# Q, A Vocabulary 생성\n",
    "\n",
    "import tensorflow_datasets as tfds\n",
    "tokenizer = tfds.deprecated.text.SubwordTextEncoder.build_from_corpus(questions + answers, target_vocab_size=8359)"
   ]
  },
  {
   "cell_type": "markdown",
   "id": "c849af44",
   "metadata": {},
   "source": [
    "The purpose of the tokenizer is to convert a string of text into a sequence of tokens, where each token is a numerical representation of a word or subword unit. The SubwordTextEncoder class uses a subword tokenization method, which means it can split words into subword units, making the tokenization process more robust and less prone to out-of-vocabulary (OOV) tokens. The build_from_corpus method trains the tokenizer on the provided text data and creates the vocabulary.  \n",
    "\n",
    "The 2^13 means 2 raised to the power of 13, or 2 to the 13th power. It is used as the target_vocab_size argument for the SubwordTextEncoder.build_from_corpus method.  \n",
    "The target_vocab_size argument is used to determine the number of tokens to be used in the encoding. In this case, a vocabulary size of 2^13 tokens is chosen. The choice of vocabulary size depends on the complexity of the data being processed and the desired balance between compression and accuracy.  \n",
    "By using a smaller vocabulary size, you can reduce the amount of memory required to store the encoding and speed up processing time, but you may also lose information and accuracy in the encoding. Conversely, a larger vocabulary size may provide more accurate encodings but will require more memory and processing time.  \n",
    "In this example, the choice of 2^13 as the vocabulary size is arbitrary and may or may not be appropriate for your specific use case. You may want to experiment with different vocabulary sizes to see what works best for your specific data and requirements. (answered by chatopenai)                "
   ]
  },
  {
   "cell_type": "markdown",
   "id": "25bdfdde",
   "metadata": {},
   "source": [
    "<mark> 2**13 >> 8359로 revised </mark>"
   ]
  },
  {
   "cell_type": "code",
   "execution_count": 13,
   "id": "a34d923f",
   "metadata": {},
   "outputs": [],
   "source": [
    "# 시작 토큰과 종료 토큰에 고유한 정수 부여\n",
    "START_TOKEN, END_TOKEN = [tokenizer.vocab_size], [tokenizer.vocab_size + 1]"
   ]
  },
  {
   "cell_type": "code",
   "execution_count": 14,
   "id": "9d75f174",
   "metadata": {},
   "outputs": [
    {
     "name": "stdout",
     "output_type": "stream",
     "text": [
      "START_TOKEN의 번호 : [8357]\n",
      "END_TOKEN의 번호 : [8358]\n"
     ]
    }
   ],
   "source": [
    "print('START_TOKEN의 번호 :' ,[tokenizer.vocab_size])\n",
    "print('END_TOKEN의 번호 :' ,[tokenizer.vocab_size + 1])"
   ]
  },
  {
   "cell_type": "code",
   "execution_count": 15,
   "id": "266ee331",
   "metadata": {},
   "outputs": [
    {
     "name": "stdout",
     "output_type": "stream",
     "text": [
      "VOCAB_SIZE : 8359\n"
     ]
    }
   ],
   "source": [
    "# 시작 토큰과 종료 토큰을 고려하여 +2 를 하여 VOCAB_SIZE\n",
    "VOCAB_SIZE = tokenizer.vocab_size + 2\n",
    "print('VOCAB_SIZE :',VOCAB_SIZE)"
   ]
  },
  {
   "cell_type": "markdown",
   "id": "a98329af",
   "metadata": {},
   "source": [
    ">## 2. 각 단어를 고유한 정수로 인코딩(Integer encoding) & 패딩(Padding)\n",
    "위에서 tensorflow_datasets의 SubwordTextEncoder를 사용해서 tokenizer를 정의하고 Vocabulary를 만들었다면, tokenizer.encode()로 각 단어를 정수로 변환할 수 있고 또는 tokenizer.decode()를 통해 정수 시퀀스를 단어 시퀀스로 변환할 수 있습니다."
   ]
  },
  {
   "cell_type": "markdown",
   "id": "ba42a93e",
   "metadata": {},
   "source": [
    ">>### 2-1. Encoding"
   ]
  },
  {
   "cell_type": "code",
   "execution_count": 16,
   "id": "630b2be7",
   "metadata": {},
   "outputs": [
    {
     "name": "stdout",
     "output_type": "stream",
     "text": [
      "전처리 후의 11650번째 질문 샘플: 첫 눈에 반하는게 가능해?\n",
      "전처리 후의 11650번째 답변 샘플: 당연히 가능하죠.\n",
      "정수 인코딩 후의 11650번째 질문 샘플: [1604, 1442, 378, 432, 3770, 8164]\n",
      "정수 인코딩 후의 11650번째 답변 샘플: [4481, 8071, 8147]\n"
     ]
    }
   ],
   "source": [
    "# 임의의 11650번째 샘플에 대해서 정수 인코딩 작업을 수행.\n",
    "# 각 토큰을 고유한 정수로 변환\n",
    "print('전처리 후의 11650번째 질문 샘플: {}'.format(questions[11649]))\n",
    "print('전처리 후의 11650번째 답변 샘플: {}'.format(answers[11649]))\n",
    "print('정수 인코딩 후의 11650번째 질문 샘플: {}'.format(tokenizer.encode(questions[11649])))\n",
    "print('정수 인코딩 후의 11650번째 답변 샘플: {}'.format(tokenizer.encode(answers[11649])))"
   ]
  },
  {
   "cell_type": "code",
   "execution_count": 17,
   "id": "97632b3c",
   "metadata": {},
   "outputs": [],
   "source": [
    "# # 인코딩 한 값 디코딩해서 결과 확인해보기\n",
    "\n",
    "# def idx_to_text(element):\n",
    "#     encoded_example = tokenizer.encode(element)\n",
    "#     decoded_example = [tokenizer.decode([token]) for token in encoded_example]\n",
    "#     print(\"해당값 디코딩 결과: \\n\".format(element))\n",
    "#     for i, token in enumerate(encoded_example):\n",
    "#         print(\"{} : {}\".format(token, decoded_example[i]))\n",
    "    \n",
    "# idx_to_text(questions[11649])      \n",
    "# idx_to_text(answers[11649])    "
   ]
  },
  {
   "cell_type": "markdown",
   "id": "8f423ccf",
   "metadata": {},
   "source": [
    ">>### 2-2. Padding"
   ]
  },
  {
   "cell_type": "code",
   "execution_count": 18,
   "id": "5e473938",
   "metadata": {},
   "outputs": [
    {
     "name": "stdout",
     "output_type": "stream",
     "text": [
      "questions 최소 길이 : 1\n",
      "questions 최대 길이 : 15\n",
      "questions 평균 길이 : 3.5872452000338324\n",
      "answers 최소 길이 : 1\n",
      "answers 최대 길이 : 21\n",
      "answers 평균 길이 : 3.6936479742874058\n"
     ]
    },
    {
     "data": {
      "image/png": "[encoded data removed]",
      "text/plain": [
       "<Figure size 432x288 with 2 Axes>"
      ]
     },
     "metadata": {
      "needs_background": "light"
     },
     "output_type": "display_data"
    },
    {
     "data": {
      "image/png": "[encoded data removed]",
      "text/plain": [
       "<Figure size 432x288 with 1 Axes>"
      ]
     },
     "metadata": {
      "needs_background": "light"
     },
     "output_type": "display_data"
    },
    {
     "data": {
      "image/png": "[encoded data removed]",
      "text/plain": [
       "<Figure size 432x288 with 1 Axes>"
      ]
     },
     "metadata": {
      "needs_background": "light"
     },
     "output_type": "display_data"
    }
   ],
   "source": [
    "# 길이 분포 출력\n",
    "import matplotlib.pyplot as plt\n",
    "\n",
    "questions_len = [len(s.split()) for s in df['Q']]\n",
    "answers_len = [len(s.split()) for s in df['A']]\n",
    "\n",
    "print('questions 최소 길이 : {}'.format(np.min(questions_len)))\n",
    "print('questions 최대 길이 : {}'.format(np.max(questions_len)))\n",
    "print('questions 평균 길이 : {}'.format(np.mean(questions_len)))\n",
    "print('answers 최소 길이 : {}'.format(np.min(answers_len)))\n",
    "print('answers 최대 길이 : {}'.format(np.max(answers_len)))\n",
    "print('answers 평균 길이 : {}'.format(np.mean(answers_len)))\n",
    "\n",
    "plt.subplot(1,2,1)\n",
    "plt.boxplot(questions_len)\n",
    "plt.title('questions')\n",
    "plt.subplot(1,2,2)\n",
    "plt.boxplot(answers_len)\n",
    "plt.title('answers')\n",
    "plt.tight_layout()\n",
    "plt.show()\n",
    "\n",
    "plt.title('questions')\n",
    "plt.hist(questions_len, bins = 40)\n",
    "plt.xlabel('length of samples')\n",
    "plt.ylabel('number of samples')\n",
    "plt.show()\n",
    "\n",
    "plt.title('answers')\n",
    "plt.hist(answers_len, bins = 40)\n",
    "plt.xlabel('length of samples')\n",
    "plt.ylabel('number of samples')\n",
    "plt.show()"
   ]
  },
  {
   "cell_type": "code",
   "execution_count": 19,
   "id": "1c5556ca",
   "metadata": {},
   "outputs": [],
   "source": [
    "# 데이터의 몇프로인지 계산하는 함수\n",
    "\n",
    "def below_threshold_len(max_len, nested_list):\n",
    "    cnt = 0\n",
    "    for s in nested_list:\n",
    "        if(len(s.split()) <= max_len):\n",
    "            cnt = cnt + 1\n",
    "    print('전체 샘플 중 길이가 %s 이하인 샘플의 비율: %s'%(max_len, (cnt / len(nested_list))))\n"
   ]
  },
  {
   "cell_type": "code",
   "execution_count": 20,
   "id": "43f63328",
   "metadata": {
    "scrolled": true
   },
   "outputs": [
    {
     "name": "stdout",
     "output_type": "stream",
     "text": [
      "전체 샘플 중 길이가 40 이하인 샘플의 비율: 1.0\n",
      "전체 샘플 중 길이가 40 이하인 샘플의 비율: 1.0\n"
     ]
    }
   ],
   "source": [
    "MAX_LENGTH = 40\n",
    "below_threshold_len(MAX_LENGTH, df['Q'])\n",
    "below_threshold_len(MAX_LENGTH,  df['A'])"
   ]
  },
  {
   "cell_type": "markdown",
   "id": "69ececcd",
   "metadata": {},
   "source": [
    "<mark> 처음에 80% 정도만 하려고 조정을 하다가,, 데이터도 너무 적고, 최대 길이도 얼마되지 않아서 그냥 넉넉한 최대치로 lms와 동일하게 40을 줬다. <\\mark> "
   ]
  },
  {
   "cell_type": "code",
   "execution_count": 21,
   "id": "76a98dd9",
   "metadata": {},
   "outputs": [],
   "source": [
    "# 정수 인코딩, 최대 길이를 초과하는 샘플 제거 & 패딩\n",
    "def tokenize_and_filter(inputs, outputs):\n",
    "    tokenized_inputs, tokenized_outputs = [], []\n",
    "\n",
    "    for (sentence1, sentence2) in zip(inputs, outputs):\n",
    "    # 정수 인코딩 과정에서 시작 토큰과 종료 토큰을 추가\n",
    "        sentence1 = START_TOKEN + tokenizer.encode(sentence1) + END_TOKEN\n",
    "        sentence2 = START_TOKEN + tokenizer.encode(sentence2) + END_TOKEN\n",
    "\n",
    "    # 최대 길이 이하인 경우에만 데이터셋으로 허용\n",
    "        if len(sentence1) <= MAX_LENGTH and len(sentence2) <= MAX_LENGTH:\n",
    "            tokenized_inputs.append(sentence1)\n",
    "            tokenized_outputs.append(sentence2)\n",
    "\n",
    "    # 최대 길이로 모든 데이터셋을 패딩\n",
    "    tokenized_inputs = tf.keras.preprocessing.sequence.pad_sequences(\n",
    "      tokenized_inputs, maxlen=MAX_LENGTH, padding='post')\n",
    "    tokenized_outputs = tf.keras.preprocessing.sequence.pad_sequences(\n",
    "      tokenized_outputs, maxlen=MAX_LENGTH, padding='post')\n",
    "\n",
    "    return tokenized_inputs, tokenized_outputs"
   ]
  },
  {
   "cell_type": "code",
   "execution_count": 22,
   "id": "9088718d",
   "metadata": {},
   "outputs": [],
   "source": [
    "questions, answers = tokenize_and_filter(questions, answers)"
   ]
  },
  {
   "cell_type": "code",
   "execution_count": 23,
   "id": "60f842c6",
   "metadata": {},
   "outputs": [
    {
     "name": "stdout",
     "output_type": "stream",
     "text": [
      "단어장의 크기 : 8359\n",
      "필터링 후의 질문 샘플 개수: 11823\n",
      "필터링 후의 답변 샘플 개수: 11823\n"
     ]
    }
   ],
   "source": [
    "print('단어장의 크기 :',(VOCAB_SIZE))\n",
    "print('필터링 후의 질문 샘플 개수: {}'.format(len(questions)))\n",
    "print('필터링 후의 답변 샘플 개수: {}'.format(len(answers)))"
   ]
  },
  {
   "cell_type": "code",
   "execution_count": 24,
   "id": "780e9b59",
   "metadata": {},
   "outputs": [
    {
     "name": "stdout",
     "output_type": "stream",
     "text": [
      "<class 'numpy.ndarray'>\n",
      "[8357 1604 1442  378  432 3770 8164 8358    0    0    0    0    0    0\n",
      "    0    0    0    0    0    0    0    0    0    0    0    0    0    0\n",
      "    0    0    0    0    0    0    0    0    0    0    0    0]\n"
     ]
    }
   ],
   "source": [
    "print(type(questions))\n",
    "print(questions[11649])"
   ]
  },
  {
   "cell_type": "markdown",
   "id": "bac8e97c",
   "metadata": {},
   "source": [
    ">## 3. 교사 강요(Teacher Forcing)  \n",
    "\n",
    "트랜스포머는 인코더, 디코더 모두 교사 강요(Teacher Forcing) 를 적용합니다.\n",
    "교사 강요를 적용하기 위해서 위 샘플을 디코더의 입력과 레이블로 사용한다고 하였을 때, 각각 어떻게 수정해서 입력과 레이블로 사용해야 할까요?  \n",
    "질문과 답변의 쌍을 tf.data.Dataset API의 입력으로 사용하여 파이프라인을 구성합니다. \n",
    "\n",
    "이때, 교사 강요를 위해서 answers[:, :-1]를 디코더의 입력값, answers[:, 1:]를 디코더의 레이블로 사용합니다.  \n",
    "입력 : \\<START_TOKEN> I AM A STUDENT \\<END_TOKEN> \\<PAD> \\<PAD> \\<PAD>  \n",
    "레이블 : I AM A STUDENT \\<END_TOKEN> \\<PAD> \\<PAD> \\<PAD> \\<PAD>    "
   ]
  },
  {
   "cell_type": "code",
   "execution_count": 25,
   "id": "058a94f9",
   "metadata": {
    "scrolled": true
   },
   "outputs": [
    {
     "name": "stdout",
     "output_type": "stream",
     "text": [
      "[8357 8096 1530 3058 8134 8358    0    0    0    0    0    0    0    0\n",
      "    0    0    0    0    0    0    0    0    0    0    0    0    0    0\n",
      "    0    0    0    0    0    0    0    0    0    0    0    0]\n",
      "(11823, 40)\n"
     ]
    }
   ],
   "source": [
    "# questions 형태 확인하기\n",
    "print(questions[0])\n",
    "print(questions.shape)"
   ]
  },
  {
   "cell_type": "markdown",
   "id": "ebb3ef0f",
   "metadata": {},
   "source": [
    "그 전 모델에서는 model.fit할 때,\n",
    "    \n",
    "    - x : encoder_input_train, decoder_input_train(인코터 어텐션과 인풋 받아서 학습시켜 예측을 통해 예상 타겟값)\n",
    "    - y : decoder_target_train 을 넣어서 그 둘의 accuracy를 비교했다. "
   ]
  },
  {
   "cell_type": "markdown",
   "id": "effe5980",
   "metadata": {},
   "source": [
    "하지만 Transformer decoder 만들 때는,  \n",
    "\n",
    "- 입력 : \\<START_TOKEN> I AM A STUDENT \\<END_TOKEN> \\<PAD> \\<PAD> \\<PAD>  \n",
    "- 레이블 : I AM A STUDENT \\<END_TOKEN> \\<PAD> \\<PAD> \\<PAD> \\<PAD>  \n",
    "\n",
    "이렇게 되어야 하므로,\n",
    "- decoder_input은 뒤에 pad 하나 떼도록 [:,:-1]로 슬라이싱하고,  \n",
    "- decoder_output은 앞에 start_token 떼도록 [:,1:]로 슬라이싱한다."
   ]
  },
  {
   "cell_type": "code",
   "execution_count": 26,
   "id": "6f902fc9",
   "metadata": {},
   "outputs": [
    {
     "name": "stdout",
     "output_type": "stream",
     "text": [
      "[8357 3842   69 8075 8147 8358    0    0    0    0    0    0    0    0\n",
      "    0    0    0    0    0    0    0    0    0    0    0    0    0    0\n",
      "    0    0    0    0    0    0    0    0    0    0    0    0]\n",
      "(11823, 40)\n"
     ]
    }
   ],
   "source": [
    "# 슬라이싱 전에 answers 형태 확인하고\n",
    "print(answers[0])\n",
    "print(answers.shape)"
   ]
  },
  {
   "cell_type": "code",
   "execution_count": 27,
   "id": "0089d71c",
   "metadata": {},
   "outputs": [],
   "source": [
    "# transformer decoder에 쓸 input, output으로 슬라이싱 해주기\n",
    "\n",
    "BATCH_SIZE = 64\n",
    "BUFFER_SIZE = 20000\n",
    "dataset = tf.data.Dataset.from_tensor_slices((\n",
    "    {'inputs': questions,\n",
    "     'dec_inputs': answers[:, :-1]},\n",
    "    \n",
    "    {'outputs': answers[:, 1:]},\n",
    "))\n",
    "\n",
    "dataset = dataset.cache()\n",
    "dataset = dataset.shuffle(BUFFER_SIZE)\n",
    "dataset = dataset.batch(BATCH_SIZE)\n",
    "dataset = dataset.prefetch(tf.data.experimental.AUTOTUNE)"
   ]
  },
  {
   "cell_type": "code",
   "execution_count": 28,
   "id": "6237da0f",
   "metadata": {},
   "outputs": [
    {
     "data": {
      "text/plain": [
       "<PrefetchDataset shapes: ({inputs: (None, 40), dec_inputs: (None, 39)}, {outputs: (None, 39)}), types: ({inputs: tf.int32, dec_inputs: tf.int32}, {outputs: tf.int32})>"
      ]
     },
     "execution_count": 28,
     "metadata": {},
     "output_type": "execute_result"
    }
   ],
   "source": [
    "dataset"
   ]
  },
  {
   "cell_type": "markdown",
   "id": "27a4c223",
   "metadata": {},
   "source": [
    "# Step 4. 모델 구성하기\n",
    "\n",
    "![2.PNG](2.PNG)"
   ]
  },
  {
   "cell_type": "markdown",
   "id": "3be583c4",
   "metadata": {},
   "source": [
    "# Transfer 구현시 만들어야하는 함수들  \n",
    "\n",
    "#### A. Attention layer 만들어 준비하기  \n",
    "1. positional encoding  \n",
    "2. Multi heads Self Attiention   \n",
    "    2-1. Scaled Dot Product   \n",
    "    2-2. Mask 함수 2개  \n",
    "    \n",
    "#### B. 인코더   \n",
    "1. 인코더 한개 블럭 만들기  \n",
    "2. 인코더 블럭 여러개 쌓기  \n",
    "\n",
    "#### C. 디코더  \n",
    "1. 디코더 한개 블럭 만들기  \n",
    "2. 디코더 블럭 여러개 쌓기  \n",
    "\n",
    "#### D. 트랜스포머 구현하기  \n",
    "1. 하이퍼 파라미터  \n",
    "2. 손실함수  \n",
    "3. 학습률  "
   ]
  },
  {
   "cell_type": "markdown",
   "id": "00dba8d0",
   "metadata": {},
   "source": [
    ">## A. Attention layer 만들어 준비하기"
   ]
  },
  {
   "cell_type": "code",
   "execution_count": 29,
   "id": "994fab3e",
   "metadata": {},
   "outputs": [],
   "source": [
    "# 1. positional encoding\n",
    "\n",
    "class PositionalEncoding(tf.keras.layers.Layer):\n",
    "\n",
    "    def __init__(self, position, d_model):\n",
    "        super(PositionalEncoding, self).__init__()\n",
    "        self.pos_encoding = self.positional_encoding(position, d_model)\n",
    "\n",
    "    def get_angles(self, position, i, d_model):\n",
    "        angles = 1 / tf.pow(10000, (2 * (i // 2)) / tf.cast(d_model, tf.float32))\n",
    "        return position * angles\n",
    "\n",
    "    def positional_encoding(self, position, d_model):\n",
    "        # 각도 배열 생성\n",
    "        angle_rads = self.get_angles(\n",
    "            position=tf.range(position, dtype=tf.float32)[:, tf.newaxis],\n",
    "            i=tf.range(d_model, dtype=tf.float32)[tf.newaxis, :],\n",
    "            d_model=d_model)\n",
    "\n",
    "    # 배열의 짝수 인덱스에는 sin 함수 적용\n",
    "        sines = tf.math.sin(angle_rads[:, 0::2])\n",
    "    # 배열의 홀수 인덱스에는 cosine 함수 적용\n",
    "        cosines = tf.math.cos(angle_rads[:, 1::2])\n",
    "\n",
    "    # sin과 cosine이 교차되도록 재배열\n",
    "        pos_encoding = tf.stack([sines, cosines], axis=0)\n",
    "        pos_encoding = tf.transpose(pos_encoding,[1, 2, 0]) \n",
    "        pos_encoding = tf.reshape(pos_encoding, [position, d_model])\n",
    "\n",
    "        pos_encoding = pos_encoding[tf.newaxis, ...]\n",
    "        return tf.cast(pos_encoding, tf.float32)\n",
    "\n",
    "    def call(self, inputs):\n",
    "        return inputs + self.pos_encoding[:, :tf.shape(inputs)[1], :]"
   ]
  },
  {
   "cell_type": "code",
   "execution_count": 30,
   "id": "d16b01ac",
   "metadata": {},
   "outputs": [],
   "source": [
    "# 2-1. in Self Attention layer\n",
    "\n",
    "def scaled_dot_product_attention(query, key, value, mask):\n",
    "    \n",
    "    # 1.어텐션 가중치는 Q와 K의 닷 프로덕트 = 어텐션 스코어 행렬 = 어텐션에너지\n",
    "    matmul_qk = tf.matmul(query, key, transpose_b=True)\n",
    "\n",
    "    # 2.가중치를 정규화 & dk의 루트값으로 나눠준다\n",
    "    depth = tf.cast(tf.shape(key)[-1], tf.float32)\n",
    "    logits = matmul_qk / tf.math.sqrt(depth)\n",
    "\n",
    "    # 2-3.패딩에 마스크 추가\n",
    "    # 어텐션 스코어 행렬의 마스킹 할 위치에 매우 작은 음수값을 넣는다.\n",
    "    # 매우 작은 값이므로 소프트맥스 함수를 지나면 행렬의 해당 위치의 값은 0이 된다.\n",
    "    if mask is not None:\n",
    "        logits += (mask * -1e9)\n",
    "\n",
    "    # 3.softmax적용 마지막 차원인 key의 문장 길이 방향으로 수행된다.\n",
    "    # attention weight : (batch_size, num_heads, query의 문장 길이, key의 문장 길이)\n",
    "    attention_weights = tf.nn.softmax(logits, axis=-1)\n",
    "\n",
    "    # 4.최종 어텐션은 가중치와 V의 닷 프로덕트\n",
    "    # output : (batch_size, num_heads, query의 문장 길이, d_model/num_heads)\n",
    "    output = tf.matmul(attention_weights, value)\n",
    "    return output\n",
    "\n",
    "# output : (batch_size, num_heads, seq_len_q, depth)"
   ]
  },
  {
   "cell_type": "code",
   "execution_count": 31,
   "id": "661956b1",
   "metadata": {},
   "outputs": [],
   "source": [
    "# 2. 멀티헤드 어텐션 함수 (스케일드 닷 프로덕트 어텐션 함수도 안에 포함됨)\n",
    "class MultiHeadAttention(tf.keras.layers.Layer):\n",
    "\n",
    "    def __init__(self, d_model, num_heads, name=\"multi_head_attention\"):\n",
    "        super(MultiHeadAttention, self).__init__(name=name)\n",
    "        self.num_heads = num_heads\n",
    "        self.d_model = d_model\n",
    "\n",
    "        assert d_model % self.num_heads == 0\n",
    "\n",
    "        self.depth = d_model // self.num_heads\n",
    "        \n",
    "        ## 2-3 사이에 멀티헤드할 준비작업들\n",
    "        # Q,K,V 지정 후 d_model 전체차원을 통과시켜서(가중치W 곱해서) WQ,WK,Wv로 정의\n",
    "        self.query_dense = tf.keras.layers.Dense(units=d_model) # Q 지정 \n",
    "        self.key_dense = tf.keras.layers.Dense(units=d_model)   # K 지정\n",
    "        self.value_dense = tf.keras.layers.Dense(units=d_model) # V 지정\n",
    "\n",
    "        self.dense = tf.keras.layers.Dense(units=d_model)\n",
    "\n",
    "        # num_heads 개수만큼 q, k, v를 split하는 함수\n",
    "    def split_heads(self, inputs, batch_size): # 나눌 헤드수와 reshape\n",
    "        inputs = tf.reshape(\n",
    "            inputs, shape=(batch_size, -1, self.num_heads, self.depth))\n",
    "        return tf.transpose(inputs, perm=[0, 2, 1, 3]) # 전치시키는것\n",
    "\n",
    "    def call(self, inputs):\n",
    "        query, key, value, mask = inputs['query'], inputs['key'], inputs[\n",
    "            'value'], inputs['mask']\n",
    "        batch_size = tf.shape(query)[0]\n",
    "        \n",
    "        # 1. WQ, WK, WV에 해당하는 밀집층 지나기 (W : 실질적가중치)\n",
    "        # q : (batch_size, query의 문장 길이, d_model)\n",
    "        # k : (batch_size, key의 문장 길이, d_model)\n",
    "        # v : (batch_size, value의 문장 길이, d_model)\n",
    "        # 참고) 인코더(k, v)-디코더(q) 어텐션에서는 query 길이와 key, value의 길이는 다를 수 있다.\n",
    "\n",
    "        # Q, K, V에 각각 Dense를 적용합니다\n",
    "        query = self.query_dense(query)\n",
    "        key = self.key_dense(key)\n",
    "        value = self.value_dense(value)\n",
    "        \n",
    "#################################################################################\n",
    "        \n",
    "        # 1-2 사이. 헤드 나누기\n",
    "        # q : (batch_size, num_heads, query의 문장 길이, d_model/num_heads)\n",
    "        # k : (batch_size, num_heads, key의 문장 길이, d_model/num_heads)\n",
    "        # v : (batch_size, num_heads, value의 문장 길이, d_model/num_heads)\n",
    "        \n",
    "        # 병렬 연산을 위해 머리만큼 Q,K,V 나눠주기\n",
    "        query = self.split_heads(query, batch_size)\n",
    "        key = self.split_heads(key, batch_size)\n",
    "        value = self.split_heads(value, batch_size)\n",
    "\n",
    " #################################################################################\n",
    "\n",
    "        # 2-4. 스케일드 닷 프로덕트 어텐션. 앞서 구현한 함수 사용.\n",
    "        # 2.일정수로 나눠서 정규화하고,\n",
    "        # 2-3.(필요하면 mask 씌워서 값 무시하게 해주고,)\n",
    "        # 3.Softmax로 0-1사이의 확률값으로 바꾸고\n",
    "        # 4.V 곱해서 최종 어텐션값 구하기\n",
    "        # output = (batch_size, num_heads, query의 문장 길이, d_model/num_heads)\n",
    "        scaled_attention = scaled_dot_product_attention(query, key, value, mask)\n",
    "        \n",
    " #################################################################################\n",
    "\n",
    "        # 5. 행렬곱 전에 순서를 맞춰서 transpose해주기\n",
    "        # (batch_size, query의 문장 길이, num_heads, d_model/num_heads)\n",
    "        scaled_attention = tf.transpose(scaled_attention, perm=[0, 2, 1, 3])\n",
    "\n",
    " #################################################################################\n",
    "    \n",
    "        # 6. 헤드 연결(concatenate)하기\n",
    "        # (batch_size, query의 문장 길이, d_model)\n",
    "        # 어텐션 연산 후에 각 결과를 다시 연결(concatenate)합니다\n",
    "        concat_attention = tf.reshape(scaled_attention,\n",
    "                                      (batch_size, -1, self.d_model))\n",
    "\n",
    "#################################################################################\n",
    "\n",
    "        # 7. WO에 해당하는 dense층 지나기\n",
    "        # (batch_size, query의 문장 길이, d_model)\n",
    "        # 최종 결과에도 Dense를 한 번 더 적용합니다\n",
    "        outputs = self.dense(concat_attention)\n",
    "\n",
    "        return outputs"
   ]
  },
  {
   "cell_type": "code",
   "execution_count": 32,
   "id": "cf0b3bb6",
   "metadata": {},
   "outputs": [],
   "source": [
    "# 2-2. Mask 함수 1\n",
    "\n",
    "def create_padding_mask(x):\n",
    "    mask = tf.cast(tf.math.equal(x, 0), tf.float32)\n",
    "    # (batch_size, 1, 1, sequence length)\n",
    "    return mask[:, tf.newaxis, tf.newaxis, :]"
   ]
  },
  {
   "cell_type": "code",
   "execution_count": 33,
   "id": "ab060675",
   "metadata": {},
   "outputs": [],
   "source": [
    "# 2-2. Mask 함수 2\n",
    "\n",
    "def create_look_ahead_mask(x):\n",
    "    seq_len = tf.shape(x)[1]\n",
    "    look_ahead_mask = 1 - tf.linalg.band_part(tf.ones((seq_len, seq_len)), -1, 0)\n",
    "    padding_mask = create_padding_mask(x)\n",
    "    return tf.maximum(look_ahead_mask, padding_mask)"
   ]
  },
  {
   "cell_type": "markdown",
   "id": "418ce22b",
   "metadata": {},
   "source": [
    ">## B. 인코더"
   ]
  },
  {
   "cell_type": "code",
   "execution_count": 34,
   "id": "9c02a034",
   "metadata": {},
   "outputs": [],
   "source": [
    "# 1. 인코더 한개 블럭 만들기\n",
    "\n",
    "def encoder_layer(units, d_model, num_heads, dropout, name=\"encoder_layer\"):\n",
    "    inputs = tf.keras.Input(shape=(None, d_model), name=\"inputs\")\n",
    "\n",
    "    # 패딩 마스크 사용\n",
    "    # 인코더의 입력으로 들어가는 문장에는 0패딩이 있을 수 있으므로, \n",
    "    # 어텐션 시 패딩 토큰을 제외하도록 패딩 마스크를 사용합니다.\n",
    "    padding_mask = tf.keras.Input(shape=(1, 1, None), name=\"padding_mask\")\n",
    "\n",
    "    # 1. 첫 번째 서브 레이어 : 멀티 헤드 어텐션 수행 (셀프 어텐션)\n",
    "    attention = MultiHeadAttention(\n",
    "      d_model, num_heads, name=\"attention\")({\n",
    "          'query': inputs,\n",
    "          'key': inputs,\n",
    "          'value': inputs,\n",
    "          'mask': padding_mask\n",
    "      })\n",
    "    \n",
    "    # 1-2. 드롭아웃 + 잔차 연결과 층 정규화\n",
    "    # 어텐션의 결과는 Dropout과 Layer Normalization이라는 훈련을 돕는 테크닉을 수행\n",
    "    attention = tf.keras.layers.Dropout(rate=dropout)(attention)\n",
    "    attention = tf.keras.layers.LayerNormalization(\n",
    "      epsilon=1e-6)(inputs + attention)\n",
    "    \n",
    "    # 2. 포지션 와이즈 FFNN 레이어\n",
    "    # 두 번째 서브 레이어 : 2개의 완전연결층\n",
    "    outputs = tf.keras.layers.Dense(units=units, activation='relu')(attention)\n",
    "    outputs = tf.keras.layers.Dense(units=d_model)(outputs)\n",
    "    \n",
    "    # 2-2. 드롭아웃 + 잔차 연결과 층 정규화\n",
    "    # 완전연결층의 결과는 Dropout과 LayerNormalization이라는 훈련을 돕는 테크닉을 수행\n",
    "    outputs = tf.keras.layers.Dropout(rate=dropout)(outputs)\n",
    "    outputs = tf.keras.layers.LayerNormalization(\n",
    "      epsilon=1e-6)(attention + outputs)\n",
    "\n",
    "    return tf.keras.Model(\n",
    "      inputs=[inputs, padding_mask], outputs=outputs, name=name)"
   ]
  },
  {
   "cell_type": "code",
   "execution_count": 35,
   "id": "6f16ba3d",
   "metadata": {},
   "outputs": [],
   "source": [
    "# 2. 인코더 블럭 여러개 쌓기\n",
    "\n",
    "def encoder(vocab_size,\n",
    "            num_layers,\n",
    "            units,\n",
    "            d_model,\n",
    "            num_heads,\n",
    "            dropout,\n",
    "            name=\"encoder\"):\n",
    "    inputs = tf.keras.Input(shape=(None,), name=\"inputs\")\n",
    "\n",
    "    # 패딩 마스크 준비 (디코더와 달리 단순히 0으로 붙은것만 가리는 것)\n",
    "    padding_mask = tf.keras.Input(shape=(1, 1, None), name=\"padding_mask\")\n",
    "\n",
    "    # 0-1. 임베딩 레이어\n",
    "    embeddings = tf.keras.layers.Embedding(vocab_size, d_model)(inputs)\n",
    "    embeddings *= tf.math.sqrt(tf.cast(d_model, tf.float32))\n",
    "\n",
    "    # 0-2. 포지셔널 인코딩 + 드롭아웃\n",
    "    embeddings = PositionalEncoding(vocab_size, d_model)(embeddings) #앞서 만든 클래스\n",
    "    outputs = tf.keras.layers.Dropout(rate=dropout)(embeddings)\n",
    "\n",
    "    # 인코더를 num_layers개 쌓기 (논문에서는 6개)\n",
    "    for i in range(num_layers):\n",
    "        outputs = encoder_layer(\n",
    "            units=units,\n",
    "            d_model=d_model,\n",
    "            num_heads=num_heads,\n",
    "            dropout=dropout,\n",
    "            name=\"encoder_layer_{}\".format(i),\n",
    "        )([outputs, padding_mask])\n",
    "\n",
    "    return tf.keras.Model(\n",
    "      inputs=[inputs, padding_mask], outputs=outputs, name=name)"
   ]
  },
  {
   "cell_type": "markdown",
   "id": "f506bf5d",
   "metadata": {},
   "source": [
    ">## C. 디코더"
   ]
  },
  {
   "cell_type": "code",
   "execution_count": 36,
   "id": "8e67ed9f",
   "metadata": {},
   "outputs": [],
   "source": [
    "# 1. 디코더 한개 블럭 만들기  \n",
    "\n",
    "def decoder_layer(units, d_model, num_heads, dropout, name=\"decoder_layer\"):\n",
    "    inputs = tf.keras.Input(shape=(None, d_model), name=\"inputs\")\n",
    "    enc_outputs = tf.keras.Input(shape=(None, d_model), name=\"encoder_outputs\")\n",
    "    \n",
    "    # 룩어헤드 마스크(첫번째 서브층) 준비\n",
    "    look_ahead_mask = tf.keras.Input(\n",
    "      shape=(1, None, None), name=\"look_ahead_mask\")\n",
    "    # 패딩 마스크(두번째 서브층) 준비\n",
    "    padding_mask = tf.keras.Input(shape=(1, 1, None), name='padding_mask')\n",
    "\n",
    "    # 1. 멀티-헤드 어텐션 (첫번째 서브층 / 마스크드 셀프 어텐션)\n",
    "    attention1 = MultiHeadAttention(\n",
    "      d_model, num_heads, name=\"attention_1\")(inputs={\n",
    "          'query': inputs,\n",
    "          'key': inputs,\n",
    "          'value': inputs,\n",
    "          'mask': look_ahead_mask ## 중요! 룩어헤드 마스크\n",
    "      })\n",
    "\n",
    "    # 1-2. 잔차 연결과 층 정규화\n",
    "    attention1 = tf.keras.layers.LayerNormalization(\n",
    "      epsilon=1e-6)(attention1 + inputs)\n",
    "\n",
    "    # 2. 멀티-헤드 어텐션 (두번째 서브층 / 디코더-인코더 어텐션)\n",
    "    attention2 = MultiHeadAttention(\n",
    "      d_model, num_heads, name=\"attention_2\")(inputs={\n",
    "          'query': attention1,\n",
    "          'key': enc_outputs,\n",
    "          'value': enc_outputs,\n",
    "          'mask': padding_mask  # 패딩 마스크\n",
    "      })\n",
    "\n",
    "    # 2-2. 드롭아웃 + 잔차 연결과 층 정규화\n",
    "    attention2 = tf.keras.layers.Dropout(rate=dropout)(attention2)\n",
    "    attention2 = tf.keras.layers.LayerNormalization(\n",
    "      epsilon=1e-6)(attention2 + attention1)\n",
    "\n",
    "    # 3. 포지션 와이즈 피드 포워드 신경망 (세번째 서브층)\n",
    "    outputs = tf.keras.layers.Dense(units=units, activation='relu')(attention2)\n",
    "    outputs = tf.keras.layers.Dense(units=d_model)(outputs)\n",
    "\n",
    "    # 3-2. 드롭아웃 + 잔차 연결과 층 정규화\n",
    "    outputs = tf.keras.layers.Dropout(rate=dropout)(outputs)\n",
    "    outputs = tf.keras.layers.LayerNormalization(\n",
    "      epsilon=1e-6)(outputs + attention2)\n",
    "\n",
    "    return tf.keras.Model(\n",
    "      inputs=[inputs, enc_outputs, look_ahead_mask, padding_mask],\n",
    "      outputs=outputs,\n",
    "      name=name)"
   ]
  },
  {
   "cell_type": "code",
   "execution_count": 37,
   "id": "12eba4f1",
   "metadata": {},
   "outputs": [],
   "source": [
    "# 2. 디코더 블럭 여러개 쌓기  \n",
    "\n",
    "def decoder(vocab_size,\n",
    "            num_layers,\n",
    "            units,\n",
    "            d_model,\n",
    "            num_heads,\n",
    "            dropout,\n",
    "            name='decoder'):\n",
    "    inputs = tf.keras.Input(shape=(None,), name='inputs')\n",
    "\n",
    "    # 인코더 아웃풋을 인풋으로 넣어주고 (인코더랑 다른점)\n",
    "    enc_outputs = tf.keras.Input(shape=(None, d_model), name='encoder_outputs')\n",
    "    \n",
    "    # 룩어헤드 마스크 준비 (인코더랑 다른점)\n",
    "    look_ahead_mask = tf.keras.Input(\n",
    "      shape=(1, None, None), name='look_ahead_mask')\n",
    "    # 패딩 마스크준비 (인코더는 이것만 썼음)\n",
    "    padding_mask = tf.keras.Input(shape=(1, 1, None), name='padding_mask')\n",
    "\n",
    "    # 0-1. 임베딩 레이어\n",
    "    embeddings = tf.keras.layers.Embedding(vocab_size, d_model)(inputs)\n",
    "    embeddings *= tf.math.sqrt(tf.cast(d_model, tf.float32))\n",
    "\n",
    "    # 0-2. 포지셔널 인코딩 + 드롭아웃\n",
    "    embeddings = PositionalEncoding(vocab_size, d_model)(embeddings)\n",
    "    outputs = tf.keras.layers.Dropout(rate=dropout)(embeddings)\n",
    "\n",
    "    for i in range(num_layers):\n",
    "        outputs = decoder_layer(\n",
    "            units=units,\n",
    "            d_model=d_model,\n",
    "            num_heads=num_heads,\n",
    "            dropout=dropout,\n",
    "            name='decoder_layer_{}'.format(i),\n",
    "        )(inputs=[outputs, enc_outputs, look_ahead_mask, padding_mask])\n",
    "\n",
    "    return tf.keras.Model(\n",
    "      inputs=[inputs, enc_outputs, look_ahead_mask, padding_mask],\n",
    "      outputs=outputs, name=name)"
   ]
  },
  {
   "cell_type": "markdown",
   "id": "463af70a",
   "metadata": {},
   "source": [
    ">## D. 트랜스포머 구현하기  "
   ]
  },
  {
   "cell_type": "code",
   "execution_count": 38,
   "id": "c95ab0e1",
   "metadata": {},
   "outputs": [],
   "source": [
    "def transformer(vocab_size,\n",
    "                num_layers,\n",
    "                units,\n",
    "                d_model,\n",
    "                num_heads,\n",
    "                dropout,\n",
    "                name=\"transformer\"):\n",
    "    \n",
    "    # 인코더의 입력\n",
    "    inputs = tf.keras.Input(shape=(None,), name=\"inputs\")\n",
    "    # 디코더의 입력\n",
    "    dec_inputs = tf.keras.Input(shape=(None,), name=\"dec_inputs\")\n",
    "    \n",
    "#######################################################\n",
    "    \n",
    "    # 인코더의 패딩 마스크 준비\n",
    "    enc_padding_mask = tf.keras.layers.Lambda(\n",
    "      create_padding_mask, output_shape=(1, 1, None),\n",
    "      name='enc_padding_mask')(inputs)\n",
    "    # 디코더의 룩어헤드 마스크(첫번째 서브층) 준비\n",
    "    # 내부적으로 패딩 마스크도 포함되어져 있습니다.\n",
    "    look_ahead_mask = tf.keras.layers.Lambda(\n",
    "      create_look_ahead_mask,\n",
    "      output_shape=(1, None, None),\n",
    "      name='look_ahead_mask')(dec_inputs)\n",
    "    # 디코더의 패딩 마스크(두번째 서브층) 준비\n",
    "    dec_padding_mask = tf.keras.layers.Lambda(\n",
    "      create_padding_mask, output_shape=(1, 1, None),\n",
    "      name='dec_padding_mask')(inputs)\n",
    "\n",
    "#######################################################\n",
    "\n",
    "    # 인코더\n",
    "    # 인코더의 출력은 enc_outputs. 디코더로 전달된다.\n",
    "    enc_outputs = encoder(\n",
    "      vocab_size=vocab_size,\n",
    "      num_layers=num_layers,\n",
    "      units=units,\n",
    "      d_model=d_model,\n",
    "      num_heads=num_heads,\n",
    "      dropout=dropout,\n",
    "    )(inputs=[inputs, enc_padding_mask]) # 인코더의 입력은 입력 문장과 패딩 마스크\n",
    "\n",
    "#######################################################\n",
    "\n",
    "    # 디코더\n",
    "    # 디코더의 출력은 dec_outputs. 출력층으로 전달된다.\n",
    "    dec_outputs = decoder(\n",
    "      vocab_size=vocab_size,\n",
    "      num_layers=num_layers,\n",
    "      units=units,\n",
    "      d_model=d_model,\n",
    "      num_heads=num_heads,\n",
    "      dropout=dropout,\n",
    "    )(inputs=[dec_inputs, enc_outputs, look_ahead_mask, dec_padding_mask])\n",
    "\n",
    "#######################################################\n",
    "\n",
    "    # 완전연결층\n",
    "    outputs = tf.keras.layers.Dense(units=vocab_size, name=\"outputs\")(dec_outputs)\n",
    "\n",
    "    return tf.keras.Model(inputs=[inputs, dec_inputs], outputs=outputs, name=name)\n"
   ]
  },
  {
   "cell_type": "markdown",
   "id": "c4ff9b7b",
   "metadata": {},
   "source": [
    "num_layers, d-Model, units는 전부 사용자가 정할 수 있는 하이퍼파라미터 값입니다.  \n",
    "논문에서 num_layers는 6, d-Model은 512였지만, 빠르고 원활한 훈련을 위해 여기서는 각 하이퍼파라미터를 논문에서보다는 작은 값을 사용합니다."
   ]
  },
  {
   "cell_type": "code",
   "execution_count": 39,
   "id": "0ca6bced",
   "metadata": {},
   "outputs": [
    {
     "name": "stdout",
     "output_type": "stream",
     "text": [
      "Model: \"transformer\"\n",
      "__________________________________________________________________________________________________\n",
      "Layer (type)                    Output Shape         Param #     Connected to                     \n",
      "==================================================================================================\n",
      "inputs (InputLayer)             [(None, None)]       0                                            \n",
      "__________________________________________________________________________________________________\n",
      "dec_inputs (InputLayer)         [(None, None)]       0                                            \n",
      "__________________________________________________________________________________________________\n",
      "enc_padding_mask (Lambda)       (None, 1, 1, None)   0           inputs[0][0]                     \n",
      "__________________________________________________________________________________________________\n",
      "encoder (Functional)            (None, None, 256)    3194112     inputs[0][0]                     \n",
      "                                                                 enc_padding_mask[0][0]           \n",
      "__________________________________________________________________________________________________\n",
      "look_ahead_mask (Lambda)        (None, 1, None, None 0           dec_inputs[0][0]                 \n",
      "__________________________________________________________________________________________________\n",
      "dec_padding_mask (Lambda)       (None, 1, 1, None)   0           inputs[0][0]                     \n",
      "__________________________________________________________________________________________________\n",
      "decoder (Functional)            (None, None, 256)    3721472     dec_inputs[0][0]                 \n",
      "                                                                 encoder[0][0]                    \n",
      "                                                                 look_ahead_mask[0][0]            \n",
      "                                                                 dec_padding_mask[0][0]           \n",
      "__________________________________________________________________________________________________\n",
      "outputs (Dense)                 (None, None, 8359)   2148263     decoder[0][0]                    \n",
      "==================================================================================================\n",
      "Total params: 9,063,847\n",
      "Trainable params: 9,063,847\n",
      "Non-trainable params: 0\n",
      "__________________________________________________________________________________________________\n"
     ]
    }
   ],
   "source": [
    "# 1. 하이퍼 파라미터 \n",
    "\n",
    "tf.keras.backend.clear_session()\n",
    "\n",
    "NUM_LAYERS = 2 # 인코더와 디코더의 층의 개수\n",
    "D_MODEL = 256 # 인코더와 디코더 내부의 입, 출력의 고정 차원\n",
    "NUM_HEADS = 8 # 멀티 헤드 어텐션에서의 헤드 수 \n",
    "UNITS = 512 # 피드 포워드 신경망의 은닉층의 크기\n",
    "DROPOUT = 0.1 # 드롭아웃의 비율\n",
    "\n",
    "model = transformer(\n",
    "    vocab_size=VOCAB_SIZE,\n",
    "    num_layers=NUM_LAYERS,\n",
    "    units=UNITS,\n",
    "    d_model=D_MODEL,\n",
    "    num_heads=NUM_HEADS,\n",
    "    dropout=DROPOUT)\n",
    "\n",
    "model.summary()"
   ]
  },
  {
   "cell_type": "markdown",
   "id": "a6ed76e2",
   "metadata": {},
   "source": [
    "레이블인 시퀀스에 패딩이 되어 있으므로, loss를 계산할 때 패딩 마스크를 적용해야 합니다."
   ]
  },
  {
   "cell_type": "code",
   "execution_count": 40,
   "id": "42834d96",
   "metadata": {},
   "outputs": [],
   "source": [
    "# 2. 손실함수 \n",
    "\n",
    "def loss_function(y_true, y_pred):\n",
    "    y_true = tf.reshape(y_true, shape=(-1, MAX_LENGTH - 1))\n",
    "\n",
    "    loss = tf.keras.losses.SparseCategoricalCrossentropy(\n",
    "      from_logits=True, reduction='none')(y_true, y_pred)\n",
    "\n",
    "    mask = tf.cast(tf.not_equal(y_true, 0), tf.float32)\n",
    "    loss = tf.multiply(loss, mask)\n",
    "\n",
    "    return tf.reduce_mean(loss)"
   ]
  },
  {
   "cell_type": "markdown",
   "id": "a2ab3790",
   "metadata": {},
   "source": [
    "딥러닝 모델학습 시 learning rate는 매우 중요한 하이퍼파라미터입니다. 최근에는 모델학습 초기에 learning rate를 급격히 높였다가, 이후 train step이 진행됨에 따라 서서히 낮추어 가면서 안정적으로 수렴하게 하는 고급 기법을 널리 사용하고 있습니다. 이런 방법을 커스텀 학습률 스케줄링(Custom Learning rate Scheduling)이라고 합니다.  \n",
    "논문에 나온 공식을 참고하여 커스텀 학습률 스케줄러를 통한 아담 옵티마이저를 사용합니다. 논문에 나온 공식은 다음과 같습니다."
   ]
  },
  {
   "cell_type": "code",
   "execution_count": 41,
   "id": "520f3764",
   "metadata": {},
   "outputs": [],
   "source": [
    "# 3. 학습률 \n",
    "\n",
    "class CustomSchedule(tf.keras.optimizers.schedules.LearningRateSchedule):\n",
    "\n",
    "    def __init__(self, d_model, warmup_steps=4000):\n",
    "        super(CustomSchedule, self).__init__()\n",
    "\n",
    "        self.d_model = d_model\n",
    "        self.d_model = tf.cast(self.d_model, tf.float32)\n",
    "\n",
    "        self.warmup_steps = warmup_steps\n",
    "\n",
    "    def __call__(self, step):\n",
    "        arg1 = tf.math.rsqrt(step)\n",
    "        arg2 = step * (self.warmup_steps**-1.5)\n",
    "\n",
    "        return tf.math.rsqrt(self.d_model) * tf.math.minimum(arg1, arg2)"
   ]
  },
  {
   "cell_type": "markdown",
   "id": "d7514a43",
   "metadata": {},
   "source": [
    "그러면 방금 정의한 커스텀 학습률 스케줄링 계획을 시각화해 봅시다. 위에 언급한 수식은 두 부분 중 중 작은 쪽을 택하도록 되어 있습니다. 그래서 학습 초기에는 learning_rate가 step_num에 비례해서 증가하다가 이후로는 감소하는 것을 확인할 수 있습니다."
   ]
  },
  {
   "cell_type": "code",
   "execution_count": 42,
   "id": "3d8de9df",
   "metadata": {},
   "outputs": [
    {
     "data": {
      "text/plain": [
       "Text(0.5, 0, 'Train Step')"
      ]
     },
     "execution_count": 42,
     "metadata": {},
     "output_type": "execute_result"
    },
    {
     "data": {
      "image/png": "[encoded data removed]",
      "text/plain": [
       "<Figure size 432x288 with 1 Axes>"
      ]
     },
     "metadata": {
      "needs_background": "light"
     },
     "output_type": "display_data"
    }
   ],
   "source": [
    "sample_learning_rate = CustomSchedule(d_model=128)\n",
    "\n",
    "plt.plot(sample_learning_rate(tf.range(200000, dtype=tf.float32)))\n",
    "plt.ylabel(\"Learning Rate\")\n",
    "plt.xlabel(\"Train Step\")"
   ]
  },
  {
   "cell_type": "markdown",
   "id": "491cbe9c",
   "metadata": {},
   "source": [
    "# Step 5. 모델 컴파일\n",
    "\n",
    "손실 함수와 커스텀 된 학습률(learning rate)을 사용하여 모델을 컴파일합니다."
   ]
  },
  {
   "cell_type": "code",
   "execution_count": 43,
   "id": "9e65dad9",
   "metadata": {},
   "outputs": [],
   "source": [
    "learning_rate = CustomSchedule(D_MODEL)\n",
    "\n",
    "optimizer = tf.keras.optimizers.Adam(\n",
    "    learning_rate, beta_1=0.9, beta_2=0.98, epsilon=1e-9)\n",
    "\n",
    "def accuracy(y_true, y_pred):\n",
    "    y_true = tf.reshape(y_true, shape=(-1, MAX_LENGTH - 1))\n",
    "    return tf.keras.metrics.sparse_categorical_accuracy(y_true, y_pred)\n",
    "\n",
    "model.compile(optimizer=optimizer, loss=loss_function, metrics=[accuracy])"
   ]
  },
  {
   "cell_type": "markdown",
   "id": "5a3f73c3",
   "metadata": {},
   "source": [
    "# Step 6. 모델 훈련"
   ]
  },
  {
   "cell_type": "code",
   "execution_count": 44,
   "id": "5591a9ed",
   "metadata": {},
   "outputs": [
    {
     "name": "stdout",
     "output_type": "stream",
     "text": [
      "Epoch 1/10\n",
      "185/185 [==============================] - 16s 53ms/step - loss: 1.4619 - accuracy: 0.0245\n",
      "Epoch 2/10\n",
      "185/185 [==============================] - 10s 53ms/step - loss: 1.1818 - accuracy: 0.0496\n",
      "Epoch 3/10\n",
      "185/185 [==============================] - 10s 53ms/step - loss: 1.0054 - accuracy: 0.0507\n",
      "Epoch 4/10\n",
      "185/185 [==============================] - 10s 54ms/step - loss: 0.9292 - accuracy: 0.0546\n",
      "Epoch 5/10\n",
      "185/185 [==============================] - 10s 54ms/step - loss: 0.8707 - accuracy: 0.0576\n",
      "Epoch 6/10\n",
      "185/185 [==============================] - 10s 54ms/step - loss: 0.8132 - accuracy: 0.0614\n",
      "Epoch 7/10\n",
      "185/185 [==============================] - 10s 55ms/step - loss: 0.7482 - accuracy: 0.0675\n",
      "Epoch 8/10\n",
      "185/185 [==============================] - 10s 55ms/step - loss: 0.6764 - accuracy: 0.0752\n",
      "Epoch 9/10\n",
      "185/185 [==============================] - 10s 55ms/step - loss: 0.5973 - accuracy: 0.0838\n",
      "Epoch 10/10\n",
      "185/185 [==============================] - 10s 55ms/step - loss: 0.5148 - accuracy: 0.0932\n"
     ]
    },
    {
     "data": {
      "text/plain": [
       "<keras.callbacks.History at 0x7f5af0345d60>"
      ]
     },
     "execution_count": 44,
     "metadata": {},
     "output_type": "execute_result"
    }
   ],
   "source": [
    "EPOCHS = 10\n",
    "model.fit(dataset, epochs=EPOCHS, verbose=1)"
   ]
  },
  {
   "cell_type": "markdown",
   "id": "c907c006",
   "metadata": {},
   "source": [
    "# Step 7. 예측 모델 (인퍼런스 모델) 만들어 예측하기\n",
    "\n",
    "예측(inference) 단계는 기본적으로 다음과 같은 과정을 거칩니다.\n",
    "\n",
    "1. 새로운 입력 문장에 대해서는 훈련 때와 동일한 전처리를 거친다. \n",
    "2. 입력 문장을 토크나이징하고, START_TOKEN과 END_TOKEN을 추가한다. \n",
    "3. 패딩 마스킹과 룩 어헤드 마스킹을 계산한다. \n",
    "4. 디코더는 입력 시퀀스로부터 다음 단어를 예측한다. \n",
    "5. 디코더는 예측된 다음 단어를 기존의 입력 시퀀스에 추가하여 새로운 입력으로 사용한다. \n",
    "6. END_TOKEN이 예측되거나 문장의 최대 길이에 도달하면 디코더는 동작을 멈춘다."
   ]
  },
  {
   "cell_type": "code",
   "execution_count": 45,
   "id": "3f75b07d",
   "metadata": {},
   "outputs": [],
   "source": [
    "def decoder_inference(sentence):\n",
    "    sentence = preprocess_sentence(sentence)\n",
    "\n",
    "    # 입력된 문장을 정수 인코딩 후, 시작 토큰과 종료 토큰을 앞뒤로 추가.\n",
    "    # ex) Where have you been? → [[8331   86   30    5 1059    7 8332]]\n",
    "    sentence = tf.expand_dims(\n",
    "      START_TOKEN + tokenizer.encode(sentence) + END_TOKEN, axis=0)\n",
    "\n",
    "    # 디코더의 현재까지의 예측한 출력 시퀀스가 지속적으로 저장되는 변수.\n",
    "    # 처음에는 예측한 내용이 없음으로 시작 토큰만 별도 저장. ex) 8331\n",
    "    output_sequence = tf.expand_dims(START_TOKEN, 0)\n",
    "\n",
    "    # 디코더의 인퍼런스 단계\n",
    "    for i in range(MAX_LENGTH):\n",
    "        # 디코더는 최대 MAX_LENGTH의 길이만큼 다음 단어 예측을 반복합니다.\n",
    "        predictions = model(inputs=[sentence, output_sequence], training=False)\n",
    "        predictions = predictions[:, -1:, :]\n",
    "\n",
    "        # 현재 예측한 단어의 정수\n",
    "        predicted_id = tf.cast(tf.argmax(predictions, axis=-1), tf.int32)\n",
    "\n",
    "        # 만약 현재 예측한 단어가 종료 토큰이라면 for문을 종료\n",
    "        if tf.equal(predicted_id, END_TOKEN[0]):\n",
    "            break\n",
    "\n",
    "    # 예측한 단어들은 지속적으로 output_sequence에 추가됩니다.\n",
    "    # 이 output_sequence는 다시 디코더의 입력이 됩니다.\n",
    "        output_sequence = tf.concat([output_sequence, predicted_id], axis=-1)\n",
    "\n",
    "    return tf.squeeze(output_sequence, axis=0)"
   ]
  },
  {
   "cell_type": "markdown",
   "id": "3d6bf10f",
   "metadata": {},
   "source": [
    "# Step 8. 테스트 해보기\n",
    "\n",
    "임의의 입력 문장에 대해서 decoder_inference() 함수를 호출하여 챗봇의 대답을 얻는 sentence_generation() 함수를 만듭니다."
   ]
  },
  {
   "cell_type": "code",
   "execution_count": 46,
   "id": "48185e83",
   "metadata": {},
   "outputs": [],
   "source": [
    "def sentence_generation(sentence):\n",
    "  # 입력 문장에 대해서 디코더를 동작 시켜 예측된 정수 시퀀스를 리턴받습니다.\n",
    "    prediction = decoder_inference(sentence)\n",
    "\n",
    "    # 정수 시퀀스를 다시 텍스트 시퀀스로 변환합니다.\n",
    "    predicted_sentence = tokenizer.decode(\n",
    "      [i for i in prediction if i < tokenizer.vocab_size])\n",
    "\n",
    "    print('입력 : {}'.format(sentence))\n",
    "    print('출력 : {}'.format(predicted_sentence))\n",
    "\n",
    "    return predicted_sentence"
   ]
  },
  {
   "cell_type": "code",
   "execution_count": 47,
   "id": "d175ba68",
   "metadata": {},
   "outputs": [
    {
     "name": "stdout",
     "output_type": "stream",
     "text": [
      "입력 : 이름이 뭐야?\n",
      "출력 : 직접 물어보세요.\n"
     ]
    },
    {
     "data": {
      "text/plain": [
       "'직접 물어보세요.'"
      ]
     },
     "execution_count": 47,
     "metadata": {},
     "output_type": "execute_result"
    }
   ],
   "source": [
    "sentence_generation('이름이 뭐야?')"
   ]
  },
  {
   "cell_type": "code",
   "execution_count": 48,
   "id": "279364c8",
   "metadata": {},
   "outputs": [
    {
     "name": "stdout",
     "output_type": "stream",
     "text": [
      "입력 : 나 돼지야??\n",
      "출력 : 저도 좋아해요.\n"
     ]
    },
    {
     "data": {
      "text/plain": [
       "'저도 좋아해요.'"
      ]
     },
     "execution_count": 48,
     "metadata": {},
     "output_type": "execute_result"
    }
   ],
   "source": [
    "sentence_generation('나 돼지야??')"
   ]
  },
  {
   "cell_type": "code",
   "execution_count": 49,
   "id": "424089c2",
   "metadata": {},
   "outputs": [
    {
     "name": "stdout",
     "output_type": "stream",
     "text": [
      "입력 : 어떻게 하면 너만큼 똑똑해질 수 있니??\n",
      "출력 : 저도 좋아해요.\n"
     ]
    },
    {
     "data": {
      "text/plain": [
       "'저도 좋아해요.'"
      ]
     },
     "execution_count": 49,
     "metadata": {},
     "output_type": "execute_result"
    }
   ],
   "source": [
    "sentence_generation('어떻게 하면 너만큼 똑똑해질 수 있니??')"
   ]
  },
  {
   "cell_type": "code",
   "execution_count": 50,
   "id": "3744294f",
   "metadata": {},
   "outputs": [
    {
     "name": "stdout",
     "output_type": "stream",
     "text": [
      "입력 : 날 왜 좋아한다고 하는거야?\n",
      "출력 : 직접 물어보세요.\n"
     ]
    },
    {
     "data": {
      "text/plain": [
       "'직접 물어보세요.'"
      ]
     },
     "execution_count": 50,
     "metadata": {},
     "output_type": "execute_result"
    }
   ],
   "source": [
    "sentence_generation('날 왜 좋아한다고 하는거야?')"
   ]
  },
  {
   "cell_type": "code",
   "execution_count": 51,
   "id": "336c4800",
   "metadata": {},
   "outputs": [
    {
     "name": "stdout",
     "output_type": "stream",
     "text": [
      "입력 : 속상하다ㅠㅠㅠ 왜 내 말을 못알아듣는거야ㅠㅠ\n",
      "출력 : 잘 지내고 있을 거예요.\n"
     ]
    },
    {
     "data": {
      "text/plain": [
       "'잘 지내고 있을 거예요.'"
      ]
     },
     "execution_count": 51,
     "metadata": {},
     "output_type": "execute_result"
    }
   ],
   "source": [
    "sentence_generation('속상하다ㅠㅠㅠ 왜 내 말을 못알아듣는거야ㅠㅠ')"
   ]
  },
  {
   "cell_type": "code",
   "execution_count": 52,
   "id": "cd207cc2",
   "metadata": {},
   "outputs": [
    {
     "name": "stdout",
     "output_type": "stream",
     "text": [
      "입력 : 쉬운거 물어볼께\n",
      "출력 : 잘 지내고 있을 거예요.\n"
     ]
    },
    {
     "data": {
      "text/plain": [
       "'잘 지내고 있을 거예요.'"
      ]
     },
     "execution_count": 52,
     "metadata": {},
     "output_type": "execute_result"
    }
   ],
   "source": [
    "sentence_generation('쉬운거 물어볼께')"
   ]
  },
  {
   "cell_type": "code",
   "execution_count": 53,
   "id": "6d04b155",
   "metadata": {},
   "outputs": [
    {
     "name": "stdout",
     "output_type": "stream",
     "text": [
      "입력 : 제일 인기있는 한국 음식이 뭐야?\n",
      "출력 : 직접 물어보세요.\n"
     ]
    },
    {
     "data": {
      "text/plain": [
       "'직접 물어보세요.'"
      ]
     },
     "execution_count": 53,
     "metadata": {},
     "output_type": "execute_result"
    }
   ],
   "source": [
    "sentence_generation('제일 인기있는 한국 음식이 뭐야?')"
   ]
  },
  {
   "cell_type": "code",
   "execution_count": 54,
   "id": "f5caacdf",
   "metadata": {},
   "outputs": [
    {
     "name": "stdout",
     "output_type": "stream",
     "text": [
      "입력 : 힝ㅠㅠ 너랑 안놀아!\n",
      "출력 : 마세요.\n"
     ]
    },
    {
     "data": {
      "text/plain": [
       "'마세요.'"
      ]
     },
     "execution_count": 54,
     "metadata": {},
     "output_type": "execute_result"
    }
   ],
   "source": [
    "sentence_generation('힝ㅠㅠ 너랑 안놀아!')"
   ]
  },
  {
   "cell_type": "markdown",
   "id": "c56f43ca",
   "metadata": {},
   "source": [
    "# 회고\n",
    "\n",
    "## 입력 : 힝ㅠㅠ 너랑 안놀아!\n",
    "## 출력 : 마세요.\n",
    "\n",
    "ㅋㅋㅋㅋㅋㅋ  \n",
    "너무 웃겨서 한참 웃었다. 이정도면 훌륭한 챗봇 아닙니까?! ㅋㅋㅋㅋ  \n",
    "seq2seq보다는 오히려 구조가 쉬운것 같다.  \n",
    "제목처럼 Attention all you need 과 확실하다  \n",
    "\n",
    "엄청 어려웠지만 너무 재밌는 과제였다.  \n",
    "이 과제를 하는데 3일을 새벽까지 보고 있었다.  \n",
    "그 덕에 책도 볼 수 있었고, 자료들도 많이 찾아보게 되었다.  \n",
    "내가 상대적으로 약하다고 생각하는 파이썬 코드구현은 openAI가 많이 도와줬고,  \n",
    "조금 더 과정을 견고히 하기 위해 책을 참고하였다.  \n",
    "그리고 케창딥을 하며 조금씩 읽어뒀던 부분들이 생각이 나기도 했다.  \n",
    "점점 재밌어지는 느낌이다.  \n",
    "잠을 못자서 어지럽긴 하지만,,   \n",
    "중수와 하수를 구분하는 기준이 트랜스포머라고 했던 근철님 말씀이 생각나서  \n",
    "그냥 끝까지 해보려 버텼다.  \n",
    "NLP의 주요 모델들을 세 개 정도 구현해 본 것 같은데,  \n",
    "이 기회가 너무 좋았고, 유익한 것 같다.   \n",
    "\n",
    "### 어려웠던 점\n",
    "1. Embedding + Positional vector 만드는 과정  \n",
    "2. Multi head self attention 함수 안에 scaled dot 이 들어갈 때 작업 순서  \n",
    "3. Self attention 작동 순서 이해하는 것\n",
    "4. 정규표현식\n",
    "\n",
    "### 참고  \n",
    "Attention is All You Need https://arxiv.org/abs/1706.03762  \n",
    "https://www.sciencedirect.com/science/article/abs/pii/S092523122100477X  \n",
    "https://lilianweng.github.io/posts/2018-06-24-attention/  \n",
    "https://velog.io/@idj7183/Attention-TransformerSelf-Attention  \n",
    "https://medium.com/platfarm/%EC%96%B4%ED%85%90%EC%85%98-  %EB%A9%94%EC%BB%A4%EB%8B%88%EC%A6%98%EA%B3%BC-transfomer-self-attention-842498fd3225  \n",
    "동빈나 유튜브 https://www.youtube.com/@dongbinna  \n",
    "딥러닝을 이용한 지연어 처리 입문 https://wikidocs.net/book/2155  \n",
    "데싸노트의 실전에서 통하는 머신러닝 (권시현 지음)  \n",
    "머신러닝, 딥러닝 문제해결 전략 (신백균 지음)  \n",
    "데이터 분석가가 반드시 알아야 할 모든것 (황세웅 지음)  \n",
    "\n",
    "\n"
   ]
  },
  {
   "cell_type": "code",
   "execution_count": null,
   "id": "11a06144",
   "metadata": {},
   "outputs": [],
   "source": []
  }
 ],
 "metadata": {
  "kernelspec": {
   "display_name": "Python 3 (ipykernel)",
   "language": "python",
   "name": "python3"
  },
  "language_info": {
   "codemirror_mode": {
    "name": "ipython",
    "version": 3
   },
   "file_extension": ".py",
   "mimetype": "text/x-python",
   "name": "python",
   "nbconvert_exporter": "python",
   "pygments_lexer": "ipython3",
   "version": "3.9.7"
  }
 },
 "nbformat": 4,
 "nbformat_minor": 5
}
