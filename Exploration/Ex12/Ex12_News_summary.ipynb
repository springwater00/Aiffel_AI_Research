{
 "cells": [
  {
   "cell_type": "code",
   "execution_count": 1,
   "id": "1bcd10b7",
   "metadata": {},
   "outputs": [
    {
     "name": "stderr",
     "output_type": "stream",
     "text": [
      "[nltk_data] Downloading package stopwords to /aiffel/nltk_data...\n",
      "[nltk_data]   Package stopwords is already up-to-date!\n"
     ]
    },
    {
     "name": "stdout",
     "output_type": "stream",
     "text": [
      "3.6.5\n",
      "2.6.0\n",
      "1.2.0\n"
     ]
    }
   ],
   "source": [
    "import nltk\n",
    "nltk.download('stopwords')\n",
    "\n",
    "import numpy as np\n",
    "import pandas as pd\n",
    "import os\n",
    "import re\n",
    "import matplotlib.pyplot as plt\n",
    "from nltk.corpus import stopwords\n",
    "from bs4 import BeautifulSoup \n",
    "from tensorflow.keras.preprocessing.text import Tokenizer \n",
    "from tensorflow.keras.preprocessing.sequence import pad_sequences\n",
    "import urllib.request\n",
    "import warnings\n",
    "warnings.filterwarnings(\"ignore\", category=UserWarning, module='bs4')\n",
    "from importlib.metadata import version\n",
    "import nltk\n",
    "import tensorflow\n",
    "import summa\n",
    "\n",
    "print(nltk.__version__)\n",
    "print(tensorflow.__version__)\n",
    "print(version('summa'))"
   ]
  },
  {
   "cell_type": "code",
   "execution_count": 2,
   "id": "3ca8582f",
   "metadata": {},
   "outputs": [
    {
     "data": {
      "text/html": [
       "<div>\n",
       "<style scoped>\n",
       "    .dataframe tbody tr th:only-of-type {\n",
       "        vertical-align: middle;\n",
       "    }\n",
       "\n",
       "    .dataframe tbody tr th {\n",
       "        vertical-align: top;\n",
       "    }\n",
       "\n",
       "    .dataframe thead th {\n",
       "        text-align: right;\n",
       "    }\n",
       "</style>\n",
       "<table border=\"1\" class=\"dataframe\">\n",
       "  <thead>\n",
       "    <tr style=\"text-align: right;\">\n",
       "      <th></th>\n",
       "      <th>headlines</th>\n",
       "      <th>text</th>\n",
       "    </tr>\n",
       "  </thead>\n",
       "  <tbody>\n",
       "    <tr>\n",
       "      <th>81001</th>\n",
       "      <td>Animals thrown into volcano in Indonesia's Kas...</td>\n",
       "      <td>A picture gallery shows live animals being thr...</td>\n",
       "    </tr>\n",
       "    <tr>\n",
       "      <th>26989</th>\n",
       "      <td>England reach World Cup semi-finals for 1st ti...</td>\n",
       "      <td>England defeated Sweden in the quarters on Sat...</td>\n",
       "    </tr>\n",
       "    <tr>\n",
       "      <th>71648</th>\n",
       "      <td>Faced no govt interference as RBI Chief: Raghu...</td>\n",
       "      <td>Raghuram Rajan on Tuesday said that he had no ...</td>\n",
       "    </tr>\n",
       "    <tr>\n",
       "      <th>93283</th>\n",
       "      <td>Court summons Snapdeal Founders for allegedly ...</td>\n",
       "      <td>A Delhi court has summoned Snapdeal Founders K...</td>\n",
       "    </tr>\n",
       "    <tr>\n",
       "      <th>97725</th>\n",
       "      <td>Lalu, Sushil Modi engage in Twitter banter ove...</td>\n",
       "      <td>Taking a dig at Lalu Prasad Yadav, BJP leader ...</td>\n",
       "    </tr>\n",
       "    <tr>\n",
       "      <th>36165</th>\n",
       "      <td>GM directed $2.1-billion fraud: Arrested PNB D...</td>\n",
       "      <td>Former PNB Deputy Manager Gokulnath Shetty has...</td>\n",
       "    </tr>\n",
       "    <tr>\n",
       "      <th>80128</th>\n",
       "      <td>Mumbai man stabs neighbour after marriage prop...</td>\n",
       "      <td>A 27-year-old man was arrested in Bhandup by t...</td>\n",
       "    </tr>\n",
       "    <tr>\n",
       "      <th>82322</th>\n",
       "      <td>HC gives Maha govt 2 weeks to explain Sanjay's...</td>\n",
       "      <td>The Bombay High Court has given two weeks to t...</td>\n",
       "    </tr>\n",
       "    <tr>\n",
       "      <th>47250</th>\n",
       "      <td>Dalit woman live 14 yrs less than upper-caste ...</td>\n",
       "      <td>An average Dalit woman lives 14.6 years less t...</td>\n",
       "    </tr>\n",
       "    <tr>\n",
       "      <th>92473</th>\n",
       "      <td>75-tonne Ramses II statue unveiled in Egypt</td>\n",
       "      <td>Egyptian authorities have unveiled a 75-tonne ...</td>\n",
       "    </tr>\n",
       "  </tbody>\n",
       "</table>\n",
       "</div>"
      ],
      "text/plain": [
       "                                               headlines  \\\n",
       "81001  Animals thrown into volcano in Indonesia's Kas...   \n",
       "26989  England reach World Cup semi-finals for 1st ti...   \n",
       "71648  Faced no govt interference as RBI Chief: Raghu...   \n",
       "93283  Court summons Snapdeal Founders for allegedly ...   \n",
       "97725  Lalu, Sushil Modi engage in Twitter banter ove...   \n",
       "36165  GM directed $2.1-billion fraud: Arrested PNB D...   \n",
       "80128  Mumbai man stabs neighbour after marriage prop...   \n",
       "82322  HC gives Maha govt 2 weeks to explain Sanjay's...   \n",
       "47250  Dalit woman live 14 yrs less than upper-caste ...   \n",
       "92473        75-tonne Ramses II statue unveiled in Egypt   \n",
       "\n",
       "                                                    text  \n",
       "81001  A picture gallery shows live animals being thr...  \n",
       "26989  England defeated Sweden in the quarters on Sat...  \n",
       "71648  Raghuram Rajan on Tuesday said that he had no ...  \n",
       "93283  A Delhi court has summoned Snapdeal Founders K...  \n",
       "97725  Taking a dig at Lalu Prasad Yadav, BJP leader ...  \n",
       "36165  Former PNB Deputy Manager Gokulnath Shetty has...  \n",
       "80128  A 27-year-old man was arrested in Bhandup by t...  \n",
       "82322  The Bombay High Court has given two weeks to t...  \n",
       "47250  An average Dalit woman lives 14.6 years less t...  \n",
       "92473  Egyptian authorities have unveiled a 75-tonne ...  "
      ]
     },
     "execution_count": 2,
     "metadata": {},
     "output_type": "execute_result"
    }
   ],
   "source": [
    "import urllib.request\n",
    "urllib.request.urlretrieve(\"https://raw.githubusercontent.com/sunnysai12345/News_Summary/master/news_summary_more.csv\", filename=\"news_summary_more.csv\")\n",
    "data = pd.read_csv('news_summary_more.csv', encoding='iso-8859-1')\n",
    "data.sample(10)"
   ]
  },
  {
   "cell_type": "markdown",
   "id": "92efbba7",
   "metadata": {},
   "source": [
    "# 1. 데이터 전처리 "
   ]
  },
  {
   "cell_type": "markdown",
   "id": "da0d9e89",
   "metadata": {},
   "source": [
    ">## 1) 데이터 정리 (null, 반복, 텍스트정규화, 불용어제거)"
   ]
  },
  {
   "cell_type": "code",
   "execution_count": 3,
   "id": "63ab375a",
   "metadata": {},
   "outputs": [
    {
     "name": "stdout",
     "output_type": "stream",
     "text": [
      "Text 열에서 중복을 배제한 유일한 샘플의 수 : 98360\n",
      "headlines 열에서 중복을 배제한 유일한 샘플의 수 : 98280\n"
     ]
    }
   ],
   "source": [
    "print('Text 열에서 중복을 배제한 유일한 샘플의 수 :', data['text'].nunique())\n",
    "print('headlines 열에서 중복을 배제한 유일한 샘플의 수 :', data['headlines'].nunique())"
   ]
  },
  {
   "cell_type": "code",
   "execution_count": 4,
   "id": "93a735df",
   "metadata": {},
   "outputs": [
    {
     "name": "stdout",
     "output_type": "stream",
     "text": [
      "전체 샘플수 : 98360\n"
     ]
    }
   ],
   "source": [
    "# 반복 제거 \n",
    "\n",
    "# inplace=True 를 설정하면 DataFrame 타입 값을 return 하지 않고 data 내부를 직접적으로 바꿉니다\n",
    "data.drop_duplicates(subset = ['text'], inplace=True)\n",
    "print('전체 샘플수 :', (len(data)))"
   ]
  },
  {
   "cell_type": "code",
   "execution_count": 5,
   "id": "e1d1f684",
   "metadata": {},
   "outputs": [
    {
     "name": "stdout",
     "output_type": "stream",
     "text": [
      "headlines    0\n",
      "text         0\n",
      "dtype: int64\n",
      "전체 샘플수 : 98360\n"
     ]
    }
   ],
   "source": [
    "# null 제거\n",
    "\n",
    "print(data.isnull().sum())\n",
    "data.dropna(axis=0, inplace=True)\n",
    "print('전체 샘플수 :', (len(data)))"
   ]
  },
  {
   "cell_type": "code",
   "execution_count": 6,
   "id": "a6e8d0e6",
   "metadata": {},
   "outputs": [
    {
     "name": "stdout",
     "output_type": "stream",
     "text": [
      "정규화 사전의 수:  120\n"
     ]
    }
   ],
   "source": [
    "# 텍스트 정규화(text normalization)를 위한 사전 확인\n",
    "\n",
    "contractions = {\"ain't\": \"is not\", \"aren't\": \"are not\",\"can't\": \"cannot\", \"'cause\": \"because\", \"could've\": \"could have\", \"couldn't\": \"could not\",\n",
    "                           \"didn't\": \"did not\",  \"doesn't\": \"does not\", \"don't\": \"do not\", \"hadn't\": \"had not\", \"hasn't\": \"has not\", \"haven't\": \"have not\",\n",
    "                           \"he'd\": \"he would\",\"he'll\": \"he will\", \"he's\": \"he is\", \"how'd\": \"how did\", \"how'd'y\": \"how do you\", \"how'll\": \"how will\", \"how's\": \"how is\",\n",
    "                           \"I'd\": \"I would\", \"I'd've\": \"I would have\", \"I'll\": \"I will\", \"I'll've\": \"I will have\",\"I'm\": \"I am\", \"I've\": \"I have\", \"i'd\": \"i would\",\n",
    "                           \"i'd've\": \"i would have\", \"i'll\": \"i will\",  \"i'll've\": \"i will have\",\"i'm\": \"i am\", \"i've\": \"i have\", \"isn't\": \"is not\", \"it'd\": \"it would\",\n",
    "                           \"it'd've\": \"it would have\", \"it'll\": \"it will\", \"it'll've\": \"it will have\",\"it's\": \"it is\", \"let's\": \"let us\", \"ma'am\": \"madam\",\n",
    "                           \"mayn't\": \"may not\", \"might've\": \"might have\",\"mightn't\": \"might not\",\"mightn't've\": \"might not have\", \"must've\": \"must have\",\n",
    "                           \"mustn't\": \"must not\", \"mustn't've\": \"must not have\", \"needn't\": \"need not\", \"needn't've\": \"need not have\",\"o'clock\": \"of the clock\",\n",
    "                           \"oughtn't\": \"ought not\", \"oughtn't've\": \"ought not have\", \"shan't\": \"shall not\", \"sha'n't\": \"shall not\", \"shan't've\": \"shall not have\",\n",
    "                           \"she'd\": \"she would\", \"she'd've\": \"she would have\", \"she'll\": \"she will\", \"she'll've\": \"she will have\", \"she's\": \"she is\",\n",
    "                           \"should've\": \"should have\", \"shouldn't\": \"should not\", \"shouldn't've\": \"should not have\", \"so've\": \"so have\",\"so's\": \"so as\",\n",
    "                           \"this's\": \"this is\",\"that'd\": \"that would\", \"that'd've\": \"that would have\", \"that's\": \"that is\", \"there'd\": \"there would\",\n",
    "                           \"there'd've\": \"there would have\", \"there's\": \"there is\", \"here's\": \"here is\",\"they'd\": \"they would\", \"they'd've\": \"they would have\",\n",
    "                           \"they'll\": \"they will\", \"they'll've\": \"they will have\", \"they're\": \"they are\", \"they've\": \"they have\", \"to've\": \"to have\",\n",
    "                           \"wasn't\": \"was not\", \"we'd\": \"we would\", \"we'd've\": \"we would have\", \"we'll\": \"we will\", \"we'll've\": \"we will have\", \"we're\": \"we are\",\n",
    "                           \"we've\": \"we have\", \"weren't\": \"were not\", \"what'll\": \"what will\", \"what'll've\": \"what will have\", \"what're\": \"what are\",\n",
    "                           \"what's\": \"what is\", \"what've\": \"what have\", \"when's\": \"when is\", \"when've\": \"when have\", \"where'd\": \"where did\", \"where's\": \"where is\",\n",
    "                           \"where've\": \"where have\", \"who'll\": \"who will\", \"who'll've\": \"who will have\", \"who's\": \"who is\", \"who've\": \"who have\",\n",
    "                           \"why's\": \"why is\", \"why've\": \"why have\", \"will've\": \"will have\", \"won't\": \"will not\", \"won't've\": \"will not have\",\n",
    "                           \"would've\": \"would have\", \"wouldn't\": \"would not\", \"wouldn't've\": \"would not have\", \"y'all\": \"you all\",\n",
    "                           \"y'all'd\": \"you all would\",\"y'all'd've\": \"you all would have\",\"y'all're\": \"you all are\",\"y'all've\": \"you all have\",\n",
    "                           \"you'd\": \"you would\", \"you'd've\": \"you would have\", \"you'll\": \"you will\", \"you'll've\": \"you will have\",\n",
    "                           \"you're\": \"you are\", \"you've\": \"you have\"}\n",
    "\n",
    "print(\"정규화 사전의 수: \", len(contractions))"
   ]
  },
  {
   "cell_type": "code",
   "execution_count": 7,
   "id": "77bfde33",
   "metadata": {},
   "outputs": [
    {
     "name": "stdout",
     "output_type": "stream",
     "text": [
      "불용어 개수 : 179\n",
      "['i', 'me', 'my', 'myself', 'we', 'our', 'ours', 'ourselves', 'you', \"you're\", \"you've\", \"you'll\", \"you'd\", 'your', 'yours', 'yourself', 'yourselves', 'he', 'him', 'his', 'himself', 'she', \"she's\", 'her', 'hers', 'herself', 'it', \"it's\", 'its', 'itself', 'they', 'them', 'their', 'theirs', 'themselves', 'what', 'which', 'who', 'whom', 'this', 'that', \"that'll\", 'these', 'those', 'am', 'is', 'are', 'was', 'were', 'be', 'been', 'being', 'have', 'has', 'had', 'having', 'do', 'does', 'did', 'doing', 'a', 'an', 'the', 'and', 'but', 'if', 'or', 'because', 'as', 'until', 'while', 'of', 'at', 'by', 'for', 'with', 'about', 'against', 'between', 'into', 'through', 'during', 'before', 'after', 'above', 'below', 'to', 'from', 'up', 'down', 'in', 'out', 'on', 'off', 'over', 'under', 'again', 'further', 'then', 'once', 'here', 'there', 'when', 'where', 'why', 'how', 'all', 'any', 'both', 'each', 'few', 'more', 'most', 'other', 'some', 'such', 'no', 'nor', 'not', 'only', 'own', 'same', 'so', 'than', 'too', 'very', 's', 't', 'can', 'will', 'just', 'don', \"don't\", 'should', \"should've\", 'now', 'd', 'll', 'm', 'o', 're', 've', 'y', 'ain', 'aren', \"aren't\", 'couldn', \"couldn't\", 'didn', \"didn't\", 'doesn', \"doesn't\", 'hadn', \"hadn't\", 'hasn', \"hasn't\", 'haven', \"haven't\", 'isn', \"isn't\", 'ma', 'mightn', \"mightn't\", 'mustn', \"mustn't\", 'needn', \"needn't\", 'shan', \"shan't\", 'shouldn', \"shouldn't\", 'wasn', \"wasn't\", 'weren', \"weren't\", 'won', \"won't\", 'wouldn', \"wouldn't\"]\n"
     ]
    }
   ],
   "source": [
    "# NLTK(function name :  stopwords)의 영어(english)불용어 사전 확인\n",
    "print('불용어 개수 :', len(stopwords.words('english') ))\n",
    "print(stopwords.words('english'))"
   ]
  },
  {
   "cell_type": "code",
   "execution_count": 8,
   "id": "94c27c8d",
   "metadata": {},
   "outputs": [
    {
     "name": "stdout",
     "output_type": "stream",
     "text": [
      "=3\n"
     ]
    }
   ],
   "source": [
    "# 확인한 정규화, 불용화 사전을 참고하여,\n",
    "# 소문자변환, 섞여있는 html 제거, 특수문제 제거할 예정.\n",
    "# text는 불용어를 제거하나, target인 headlines는 자연스런 문장을 위해 제거하지 않음.\n",
    "# remove_stopwords 추가하면 가능.\n",
    "\n",
    "# 데이터 전처리 함수\n",
    "def preprocess_sentence(sentence, remove_stopwords=True):\n",
    "    sentence = sentence.lower() # 텍스트 소문자화\n",
    "    sentence = BeautifulSoup(sentence, \"lxml\").text # <br />, <a href = ...> 등의 html 태그 제거\n",
    "    sentence = re.sub(r'\\([^)]*\\)', '', sentence) # 괄호로 닫힌 문자열 (...) 제거 Ex) my husband (and myself!) for => my husband for\n",
    "    sentence = re.sub('\"','', sentence) # 쌍따옴표 \" 제거\n",
    "    sentence = ' '.join([contractions[t] if t in contractions else t for t in sentence.split(\" \")]) # 약어 정규화\n",
    "    sentence = re.sub(r\"'s\\b\",\"\", sentence) # 소유격 제거. Ex) roland's -> roland\n",
    "    sentence = re.sub(\"[^a-zA-Z]\", \" \", sentence) # 영어 외 문자(숫자, 특수문자 등) 공백으로 변환\n",
    "    sentence = re.sub('[m]{2,}', 'mm', sentence) # m이 3개 이상이면 2개로 변경. Ex) ummmmmmm yeah -> umm yeah\n",
    "    \n",
    "    # 불용어 제거 (Text)\n",
    "    if remove_stopwords:\n",
    "        tokens = ' '.join(word for word in sentence.split() if not word in stopwords.words('english') if len(word) > 1)\n",
    "    # 불용어 미제거 (headlines)\n",
    "    else:\n",
    "        tokens = ' '.join(word for word in sentence.split() if len(word) > 1)\n",
    "    return tokens\n",
    "print('=3')"
   ]
  },
  {
   "cell_type": "code",
   "execution_count": 10,
   "id": "3d74f7ea",
   "metadata": {},
   "outputs": [
    {
     "name": "stdout",
     "output_type": "stream",
     "text": [
      "Text 전처리 후 결과:  ['saurav kant alumnus upgrad iiit pg program machine learning artificial intelligence sr systems engineer infosys almost years work experience program upgrad degree career support helped transition data scientist tech mahindra salary hike upgrad online power learning powered lakh careers', 'kunal shah credit card bill payment platform cred gave users chance win free food swiggy one year pranav kaushik delhi techie bagged reward spending cred coins users get one cred coin per rupee bill paid used avail rewards brands like ixigo bookmyshow ubereats cult fit', 'new zealand defeated india wickets fourth odi hamilton thursday win first match five match odi series india lost international match rohit sharma captaincy consecutive victories dating back march match witnessed india getting seventh lowest total odi cricket history', 'aegon life iterm insurance plan customers enjoy tax benefits premiums paid save taxes plan provides life cover age years also customers options insure critical illnesses disability accidental death benefit rider life cover age years', 'speaking sexual harassment allegations rajkumar hirani sonam kapoor said known hirani many years true metoo movement get derailed metoo movement always believe woman case need reserve judgment added hirani accused assistant worked sanju']\n"
     ]
    }
   ],
   "source": [
    "# 훈련 데이터 전체에 대해서 text/headlines 나눠 전처리를 수행\n",
    "\n",
    "# Text : stopword 제거\n",
    "clean_text = []\n",
    "# 전체 Text 데이터에 대한 전처리 : 10분 이상 시간이 걸릴 수 있습니다. \n",
    "for s in data['text']:\n",
    "    clean_text.append(preprocess_sentence(s))\n",
    "\n",
    "# 전처리 후 출력\n",
    "print(\"Text 전처리 후 결과: \", clean_text[:5])"
   ]
  },
  {
   "cell_type": "code",
   "execution_count": 11,
   "id": "897fae0c",
   "metadata": {},
   "outputs": [
    {
     "name": "stdout",
     "output_type": "stream",
     "text": [
      "headlines 전처리 후 결과:  ['upgrad learner switches to career in ml al with salary hike', 'delhi techie wins free food from swiggy for one year on cred', 'new zealand end rohit sharma led india match winning streak', 'aegon life iterm insurance plan helps customers save tax', 'have known hirani for yrs what if metoo claims are not true sonam']\n"
     ]
    }
   ],
   "source": [
    "# headlines : stopword 제거 안함\n",
    "\n",
    "clean_headlines = []\n",
    "# 전체 headlines 데이터에 대한 전처리 : 5분 이상 시간이 걸릴 수 있습니다. \n",
    "for s in data['headlines']:\n",
    "    clean_headlines.append(preprocess_sentence(s, False))\n",
    "\n",
    "print(\"headlines 전처리 후 결과: \", clean_headlines[:5])"
   ]
  },
  {
   "cell_type": "code",
   "execution_count": 12,
   "id": "3a9584e3",
   "metadata": {},
   "outputs": [
    {
     "data": {
      "text/plain": [
       "headlines    0\n",
       "text         0\n",
       "dtype: int64"
      ]
     },
     "execution_count": 12,
     "metadata": {},
     "output_type": "execute_result"
    }
   ],
   "source": [
    "# 정제 후 empty 샘플이 있는지 확인하고, null값으로 대체하여 확인\n",
    "\n",
    "data['text'] = clean_text\n",
    "data['headlines'] = clean_headlines\n",
    "\n",
    "data.replace('', np.nan, inplace=True)\n",
    "data.isnull().sum()"
   ]
  },
  {
   "cell_type": "markdown",
   "id": "b0373396",
   "metadata": {},
   "source": [
    ">## 2) train, test data 나누기"
   ]
  },
  {
   "cell_type": "markdown",
   "id": "82a8b5b5",
   "metadata": {},
   "source": [
    ">>### (1) 샘플 최대길이 정하기"
   ]
  },
  {
   "cell_type": "code",
   "execution_count": 13,
   "id": "03e43b40",
   "metadata": {},
   "outputs": [
    {
     "name": "stdout",
     "output_type": "stream",
     "text": [
      "텍스트의 최소 길이 : 1\n",
      "텍스트의 최대 길이 : 60\n",
      "텍스트의 평균 길이 : 35.09968483123221\n",
      "요약의 최소 길이 : 1\n",
      "요약의 최대 길이 : 16\n",
      "요약의 평균 길이 : 9.299532330215534\n"
     ]
    },
    {
     "data": {
      "image/png": "[encoded data removed]",
      "text/plain": [
       "<Figure size 432x288 with 2 Axes>"
      ]
     },
     "metadata": {
      "needs_background": "light"
     },
     "output_type": "display_data"
    },
    {
     "data": {
      "image/png": "[encoded data removed]",
      "text/plain": [
       "<Figure size 432x288 with 1 Axes>"
      ]
     },
     "metadata": {
      "needs_background": "light"
     },
     "output_type": "display_data"
    },
    {
     "data": {
      "image/png": "[encoded data removed]",
      "text/plain": [
       "<Figure size 432x288 with 1 Axes>"
      ]
     },
     "metadata": {
      "needs_background": "light"
     },
     "output_type": "display_data"
    }
   ],
   "source": [
    "# 길이 분포 출력\n",
    "import matplotlib.pyplot as plt\n",
    "\n",
    "text_len = [len(s.split()) for s in data['text']]\n",
    "headlines_len = [len(s.split()) for s in data['headlines']]\n",
    "\n",
    "print('텍스트의 최소 길이 : {}'.format(np.min(text_len)))\n",
    "print('텍스트의 최대 길이 : {}'.format(np.max(text_len)))\n",
    "print('텍스트의 평균 길이 : {}'.format(np.mean(text_len)))\n",
    "print('요약의 최소 길이 : {}'.format(np.min(headlines_len)))\n",
    "print('요약의 최대 길이 : {}'.format(np.max(headlines_len)))\n",
    "print('요약의 평균 길이 : {}'.format(np.mean(headlines_len)))\n",
    "\n",
    "plt.subplot(1,2,1)\n",
    "plt.boxplot(text_len)\n",
    "plt.title('text')\n",
    "plt.subplot(1,2,2)\n",
    "plt.boxplot(headlines_len)\n",
    "plt.title('headlines')\n",
    "plt.tight_layout()\n",
    "plt.show()\n",
    "\n",
    "plt.title('text')\n",
    "plt.hist(text_len, bins = 40)\n",
    "plt.xlabel('length of samples')\n",
    "plt.ylabel('number of samples')\n",
    "plt.show()\n",
    "\n",
    "plt.title('headlines')\n",
    "plt.hist(headlines_len, bins = 40)\n",
    "plt.xlabel('length of samples')\n",
    "plt.ylabel('number of samples')\n",
    "plt.show()"
   ]
  },
  {
   "cell_type": "code",
   "execution_count": 14,
   "id": "c34e9658",
   "metadata": {},
   "outputs": [],
   "source": [
    "text_max_len = 40\n",
    "headlines_max_len = 11"
   ]
  },
  {
   "cell_type": "code",
   "execution_count": 15,
   "id": "e8a60116",
   "metadata": {},
   "outputs": [],
   "source": [
    "# 데이터의 몇프로인지 계산하는 함수\n",
    "\n",
    "def below_threshold_len(max_len, nested_list):\n",
    "    cnt = 0\n",
    "    for s in nested_list:\n",
    "        if(len(s.split()) <= max_len):\n",
    "            cnt = cnt + 1\n",
    "    print('전체 샘플 중 길이가 %s 이하인 샘플의 비율: %s'%(max_len, (cnt / len(nested_list))))\n"
   ]
  },
  {
   "cell_type": "code",
   "execution_count": 16,
   "id": "d11c93cd",
   "metadata": {},
   "outputs": [
    {
     "name": "stdout",
     "output_type": "stream",
     "text": [
      "전체 샘플 중 길이가 40 이하인 샘플의 비율: 0.9238714924766165\n",
      "전체 샘플 중 길이가 11 이하인 샘플의 비율: 0.9449877999186661\n"
     ]
    }
   ],
   "source": [
    "below_threshold_len(text_max_len, data['text'])\n",
    "below_threshold_len(headlines_max_len,  data['headlines'])"
   ]
  },
  {
   "cell_type": "code",
   "execution_count": 17,
   "id": "0aa6edc8",
   "metadata": {},
   "outputs": [
    {
     "name": "stdout",
     "output_type": "stream",
     "text": [
      "전체 샘플수 : 85843\n"
     ]
    }
   ],
   "source": [
    "# 정해진 길이보다 길면 제외하는 방법으로 정제하기\n",
    "\n",
    "data = data[data['text'].apply(lambda x: len(x.split()) <= text_max_len)]\n",
    "data = data[data['headlines'].apply(lambda x: len(x.split()) <= headlines_max_len)]\n",
    "print('전체 샘플수 :', (len(data)))"
   ]
  },
  {
   "cell_type": "markdown",
   "id": "6b459abc",
   "metadata": {},
   "source": [
    ">>### (2) 디코더에 sos, eos토큰 추가해서 decoder_input, output 나누기"
   ]
  },
  {
   "cell_type": "code",
   "execution_count": 18,
   "id": "67984733",
   "metadata": {},
   "outputs": [
    {
     "data": {
      "text/html": [
       "<div>\n",
       "<style scoped>\n",
       "    .dataframe tbody tr th:only-of-type {\n",
       "        vertical-align: middle;\n",
       "    }\n",
       "\n",
       "    .dataframe tbody tr th {\n",
       "        vertical-align: top;\n",
       "    }\n",
       "\n",
       "    .dataframe thead th {\n",
       "        text-align: right;\n",
       "    }\n",
       "</style>\n",
       "<table border=\"1\" class=\"dataframe\">\n",
       "  <thead>\n",
       "    <tr style=\"text-align: right;\">\n",
       "      <th></th>\n",
       "      <th>headlines</th>\n",
       "      <th>text</th>\n",
       "      <th>decoder_input</th>\n",
       "      <th>decoder_target</th>\n",
       "    </tr>\n",
       "  </thead>\n",
       "  <tbody>\n",
       "    <tr>\n",
       "      <th>0</th>\n",
       "      <td>upgrad learner switches to career in ml al wit...</td>\n",
       "      <td>saurav kant alumnus upgrad iiit pg program mac...</td>\n",
       "      <td>sostoken upgrad learner switches to career in ...</td>\n",
       "      <td>upgrad learner switches to career in ml al wit...</td>\n",
       "    </tr>\n",
       "    <tr>\n",
       "      <th>2</th>\n",
       "      <td>new zealand end rohit sharma led india match w...</td>\n",
       "      <td>new zealand defeated india wickets fourth odi ...</td>\n",
       "      <td>sostoken new zealand end rohit sharma led indi...</td>\n",
       "      <td>new zealand end rohit sharma led india match w...</td>\n",
       "    </tr>\n",
       "    <tr>\n",
       "      <th>3</th>\n",
       "      <td>aegon life iterm insurance plan helps customer...</td>\n",
       "      <td>aegon life iterm insurance plan customers enjo...</td>\n",
       "      <td>sostoken aegon life iterm insurance plan helps...</td>\n",
       "      <td>aegon life iterm insurance plan helps customer...</td>\n",
       "    </tr>\n",
       "    <tr>\n",
       "      <th>5</th>\n",
       "      <td>rahat fateh ali khan denies getting notice for...</td>\n",
       "      <td>pakistani singer rahat fateh ali khan denied r...</td>\n",
       "      <td>sostoken rahat fateh ali khan denies getting n...</td>\n",
       "      <td>rahat fateh ali khan denies getting notice for...</td>\n",
       "    </tr>\n",
       "    <tr>\n",
       "      <th>7</th>\n",
       "      <td>govt directs alok verma to join work day befor...</td>\n",
       "      <td>weeks ex cbi director alok verma told departme...</td>\n",
       "      <td>sostoken govt directs alok verma to join work ...</td>\n",
       "      <td>govt directs alok verma to join work day befor...</td>\n",
       "    </tr>\n",
       "  </tbody>\n",
       "</table>\n",
       "</div>"
      ],
      "text/plain": [
       "                                           headlines  \\\n",
       "0  upgrad learner switches to career in ml al wit...   \n",
       "2  new zealand end rohit sharma led india match w...   \n",
       "3  aegon life iterm insurance plan helps customer...   \n",
       "5  rahat fateh ali khan denies getting notice for...   \n",
       "7  govt directs alok verma to join work day befor...   \n",
       "\n",
       "                                                text  \\\n",
       "0  saurav kant alumnus upgrad iiit pg program mac...   \n",
       "2  new zealand defeated india wickets fourth odi ...   \n",
       "3  aegon life iterm insurance plan customers enjo...   \n",
       "5  pakistani singer rahat fateh ali khan denied r...   \n",
       "7  weeks ex cbi director alok verma told departme...   \n",
       "\n",
       "                                       decoder_input  \\\n",
       "0  sostoken upgrad learner switches to career in ...   \n",
       "2  sostoken new zealand end rohit sharma led indi...   \n",
       "3  sostoken aegon life iterm insurance plan helps...   \n",
       "5  sostoken rahat fateh ali khan denies getting n...   \n",
       "7  sostoken govt directs alok verma to join work ...   \n",
       "\n",
       "                                      decoder_target  \n",
       "0  upgrad learner switches to career in ml al wit...  \n",
       "2  new zealand end rohit sharma led india match w...  \n",
       "3  aegon life iterm insurance plan helps customer...  \n",
       "5  rahat fateh ali khan denies getting notice for...  \n",
       "7  govt directs alok verma to join work day befor...  "
      ]
     },
     "execution_count": 18,
     "metadata": {},
     "output_type": "execute_result"
    }
   ],
   "source": [
    "# 헤드라인 데이터에는 시작 토큰과 종료 토큰을 추가한다.\n",
    "data['decoder_input'] = data['headlines'].apply(lambda x : 'sostoken '+ x)\n",
    "data['decoder_target'] = data['headlines'].apply(lambda x : x + ' eostoken')\n",
    "data.head()"
   ]
  },
  {
   "cell_type": "code",
   "execution_count": 19,
   "id": "cdea276c",
   "metadata": {},
   "outputs": [],
   "source": [
    "# 디코더의 입력과 레이블을 각각 다시 Numpy 타입으로 저장\n",
    "\n",
    "encoder_input = np.array(data['text']) # 인코더의 입력\n",
    "decoder_input = np.array(data['decoder_input']) # 디코더의 입력\n",
    "decoder_target = np.array(data['decoder_target']) # 디코더의 레이블"
   ]
  },
  {
   "cell_type": "code",
   "execution_count": 20,
   "id": "1ac14ea2",
   "metadata": {},
   "outputs": [
    {
     "name": "stdout",
     "output_type": "stream",
     "text": [
      "[18302 74048 37825 ... 14950 15530 19707]\n"
     ]
    }
   ],
   "source": [
    "# encoder_input과 크기와 형태가 같은 순서가 섞인 정수 시퀀스를 만들기\n",
    "\n",
    "indices = np.arange(encoder_input.shape[0])\n",
    "np.random.shuffle(indices)\n",
    "print(indices)"
   ]
  },
  {
   "cell_type": "code",
   "execution_count": 21,
   "id": "f1522ea6",
   "metadata": {},
   "outputs": [],
   "source": [
    "# 랜덤으로 뽑은 정수시퀀스에 데이터를 매칭한 후 정수기준으로 샘플 순서를 정의하여 shuffle된 효과내기\n",
    "\n",
    "encoder_input = encoder_input[indices]\n",
    "decoder_input = decoder_input[indices]\n",
    "decoder_target = decoder_target[indices]"
   ]
  },
  {
   "cell_type": "code",
   "execution_count": 22,
   "id": "1217cd7f",
   "metadata": {},
   "outputs": [
    {
     "name": "stdout",
     "output_type": "stream",
     "text": [
      "테스트 데이터의 수 : 17168\n"
     ]
    }
   ],
   "source": [
    "# 8:2의 비율로 훈련 데이터와 테스트 데이터로 분리\n",
    "\n",
    "n_of_val = int(len(encoder_input)*0.2)\n",
    "print('테스트 데이터의 수 :', n_of_val)"
   ]
  },
  {
   "cell_type": "code",
   "execution_count": 23,
   "id": "9e729db7",
   "metadata": {},
   "outputs": [
    {
     "name": "stdout",
     "output_type": "stream",
     "text": [
      "훈련 데이터의 개수 : 68675\n",
      "훈련 레이블의 개수 : 68675\n",
      "테스트 데이터의 개수 : 17168\n",
      "테스트 레이블의 개수 : 17168\n"
     ]
    }
   ],
   "source": [
    "# train 전체에서 test만큼 슬라이싱\n",
    "\n",
    "encoder_input_train = encoder_input[:-n_of_val]\n",
    "decoder_input_train = decoder_input[:-n_of_val]\n",
    "decoder_target_train = decoder_target[:-n_of_val]\n",
    "\n",
    "encoder_input_test = encoder_input[-n_of_val:]\n",
    "decoder_input_test = decoder_input[-n_of_val:]\n",
    "decoder_target_test = decoder_target[-n_of_val:]\n",
    "\n",
    "print('훈련 데이터의 개수 :', len(encoder_input_train))\n",
    "print('훈련 레이블의 개수 :', len(decoder_input_train))\n",
    "print('테스트 데이터의 개수 :', len(encoder_input_test))\n",
    "print('테스트 레이블의 개수 :', len(decoder_input_test))"
   ]
  },
  {
   "cell_type": "markdown",
   "id": "e9465fef",
   "metadata": {},
   "source": [
    "### 집합\n",
    "\n",
    "encoder_input_train  \n",
    "decoder_input_train  \n",
    "decoder_target_train  \n",
    "\n",
    "encoder_input_test  \n",
    "decoder_input_test  \n",
    "decoder_target_test  \n",
    "모두 다 정수 인코딩 해야함."
   ]
  },
  {
   "cell_type": "markdown",
   "id": "598c4589",
   "metadata": {},
   "source": [
    ">## 3) 정수 인코딩 \n",
    "\n",
    "### 단어 집합(vocabulary) 만들기 및 정수 인코딩"
   ]
  },
  {
   "cell_type": "code",
   "execution_count": 24,
   "id": "eb23c471",
   "metadata": {},
   "outputs": [],
   "source": [
    "# encoder\n",
    "\n",
    "# 정수로 인덱싱하기 (fit_on_texts())\n",
    "src_tokenizer = Tokenizer() # 토크나이저 정의\n",
    "src_tokenizer.fit_on_texts(encoder_input_train) # 입력된 데이터로부터 단어 집합 생성"
   ]
  },
  {
   "cell_type": "code",
   "execution_count": 25,
   "id": "ce2bfdf4",
   "metadata": {},
   "outputs": [
    {
     "name": "stdout",
     "output_type": "stream",
     "text": [
      "단어 집합(vocabulary)의 크기 : 64733\n",
      "등장 빈도가 6번 이하인 희귀 단어의 수: 44148\n",
      "단어 집합에서 희귀 단어를 제외시킬 경우의 단어 집합의 크기 20585\n",
      "단어 집합에서 희귀 단어의 비율: 68.2001452118703\n",
      "전체 등장 빈도에서 희귀 단어 등장 빈도 비율: 3.782304080164795\n"
     ]
    }
   ],
   "source": [
    "# 각단어의 빈도수 체크 (word_counts.items()) 함수 이용하여\n",
    "# 7번 미만 단어가 전체에서 차지하는 비율 확인\n",
    "\n",
    "threshold = 7\n",
    "total_cnt = len(src_tokenizer.word_index) # 단어의 수\n",
    "rare_cnt = 0 # 등장 빈도수가 threshold보다 작은 단어의 개수를 카운트\n",
    "total_freq = 0 # 훈련 데이터의 전체 단어 빈도수 총 합\n",
    "rare_freq = 0 # 등장 빈도수가 threshold보다 작은 단어의 등장 빈도수의 총 합\n",
    "\n",
    "# 단어와 빈도수의 쌍(pair)을 key와 value로 받는다.\n",
    "for key, value in src_tokenizer.word_counts.items():\n",
    "    total_freq = total_freq + value\n",
    "\n",
    "    # 단어의 등장 빈도수가 threshold보다 작으면\n",
    "    if(value < threshold):\n",
    "        rare_cnt = rare_cnt + 1\n",
    "        rare_freq = rare_freq + value\n",
    "\n",
    "print('단어 집합(vocabulary)의 크기 :', total_cnt)\n",
    "print('등장 빈도가 %s번 이하인 희귀 단어의 수: %s'%(threshold - 1, rare_cnt))\n",
    "print('단어 집합에서 희귀 단어를 제외시킬 경우의 단어 집합의 크기 %s'%(total_cnt - rare_cnt))\n",
    "print(\"단어 집합에서 희귀 단어의 비율:\", (rare_cnt / total_cnt)*100)\n",
    "print(\"전체 등장 빈도에서 희귀 단어 등장 빈도 비율:\", (rare_freq / total_freq)*100)"
   ]
  },
  {
   "cell_type": "markdown",
   "id": "06a925ce",
   "metadata": {},
   "source": [
    "7회 미만으로 등장한 단어가 전체의 68%나 되는 44000개이고, 등장빈도도 3.7% 정도이며, 이를 다 제외하면 단어장이 64000 -> 20000으로 줄어듬. 20000은 기다릴 수 없어서 10000으로 줄여보기로 함."
   ]
  },
  {
   "cell_type": "code",
   "execution_count": 26,
   "id": "506b0fd9",
   "metadata": {},
   "outputs": [],
   "source": [
    "# 단어 집합에서 희귀 단어를 제외시킬 경우의 단어 집합의 크기 (8216)와 비슷한 숫자만큼\n",
    "# 단어장 총 단어 갯수를 limit 걸어주기\n",
    "# num_words()의 값을 정해주면 단어집합의 크기 제어 가능\n",
    "\n",
    "src_vocab = 10000\n",
    "src_tokenizer = Tokenizer(num_words=src_vocab) # 단어 집합의 크기를 8,000으로 제한\n",
    "src_tokenizer.fit_on_texts(encoder_input_train) # 단어 집합 재생성"
   ]
  },
  {
   "cell_type": "code",
   "execution_count": 27,
   "id": "bcc276ae",
   "metadata": {},
   "outputs": [
    {
     "name": "stdout",
     "output_type": "stream",
     "text": [
      "[[12, 7169, 1546, 47, 389, 624, 1092, 56, 513, 458, 201, 7, 1, 86, 160, 6399, 421, 1618, 2217, 72, 201, 6399, 7641, 7386, 1482, 47], [37, 522, 9195, 78, 57, 573, 62, 273, 410, 156, 683, 103, 7, 1941, 884, 37, 574, 16, 231, 139, 6, 78, 29, 179, 234, 2875, 1417, 402, 190, 1303, 756, 683, 1040], [5736, 2448, 7170, 2176, 793, 1247, 1437, 692, 810, 1126, 68, 604, 44, 27, 233, 22, 450, 830, 2176, 68, 24, 720, 4567, 635, 679, 810, 24, 527, 10, 461, 250, 2, 14, 32]]\n"
     ]
    }
   ],
   "source": [
    "# texts_to_sequences()로 단어장을 참조하여 주어진 단어를 모두 정수로 변환\n",
    "\n",
    "# 텍스트 시퀀스를 정수 시퀀스로 변환\n",
    "encoder_input_train = src_tokenizer.texts_to_sequences(encoder_input_train) \n",
    "encoder_input_test = src_tokenizer.texts_to_sequences(encoder_input_test)\n",
    "\n",
    "# 잘 진행되었는지 샘플 출력\n",
    "print(encoder_input_train[:3])"
   ]
  },
  {
   "cell_type": "code",
   "execution_count": 28,
   "id": "15bd5f28",
   "metadata": {},
   "outputs": [],
   "source": [
    "# decoder\n",
    "\n",
    "tar_tokenizer = Tokenizer()\n",
    "tar_tokenizer.fit_on_texts(decoder_input_train)"
   ]
  },
  {
   "cell_type": "code",
   "execution_count": 29,
   "id": "c722de6a",
   "metadata": {},
   "outputs": [
    {
     "name": "stdout",
     "output_type": "stream",
     "text": [
      "단어 집합(vocabulary)의 크기 : 28530\n",
      "등장 빈도가 6번 이하인 희귀 단어의 수: 19646\n",
      "단어 집합에서 희귀 단어를 제외시킬 경우의 단어 집합의 크기 8884\n",
      "단어 집합에서 희귀 단어의 비율: 68.8608482299334\n",
      "전체 등장 빈도에서 희귀 단어 등장 빈도 비율: 5.893481189075274\n"
     ]
    }
   ],
   "source": [
    "# 7회 미만\n",
    "\n",
    "threshold = 7\n",
    "total_cnt = len(tar_tokenizer.word_index) # 단어의 수\n",
    "rare_cnt = 0 # 등장 빈도수가 threshold보다 작은 단어의 개수를 카운트\n",
    "total_freq = 0 # 훈련 데이터의 전체 단어 빈도수 총 합\n",
    "rare_freq = 0 # 등장 빈도수가 threshold보다 작은 단어의 등장 빈도수의 총 합\n",
    "\n",
    "# 단어와 빈도수의 쌍(pair)을 key와 value로 받는다.\n",
    "for key, value in tar_tokenizer.word_counts.items():\n",
    "    total_freq = total_freq + value\n",
    "\n",
    "    # 단어의 등장 빈도수가 threshold보다 작으면\n",
    "    if(value < threshold):\n",
    "        rare_cnt = rare_cnt + 1\n",
    "        rare_freq = rare_freq + value\n",
    "\n",
    "print('단어 집합(vocabulary)의 크기 :', total_cnt)\n",
    "print('등장 빈도가 %s번 이하인 희귀 단어의 수: %s'%(threshold - 1, rare_cnt))\n",
    "print('단어 집합에서 희귀 단어를 제외시킬 경우의 단어 집합의 크기 %s'%(total_cnt - rare_cnt))\n",
    "print(\"단어 집합에서 희귀 단어의 비율:\", (rare_cnt / total_cnt)*100)\n",
    "print(\"전체 등장 빈도에서 희귀 단어 등장 빈도 비율:\", (rare_freq / total_freq)*100)"
   ]
  },
  {
   "cell_type": "markdown",
   "id": "5bc18fa9",
   "metadata": {},
   "source": [
    "7회미만인 단어는 전체중 56% 정도 되는 16000개 정도이고, 3.53% 정도의 빈도로 사용되고 있음. 이를 다빼면 단어장 크기가 28000->12000 정도로 줄어듬. 2500정도로 줄여보려함,"
   ]
  },
  {
   "cell_type": "code",
   "execution_count": 30,
   "id": "729d8462",
   "metadata": {},
   "outputs": [
    {
     "name": "stdout",
     "output_type": "stream",
     "text": [
      "input\n",
      "input  [[1, 9, 2300, 418, 89, 79, 4, 416], [1, 73, 7, 44, 808, 3, 111, 613, 179], [1, 1160, 4, 472, 3, 842, 24, 3, 177, 33], [1, 1135, 230, 6, 15, 1385, 1237, 11, 18, 209, 1979], [1, 1251, 512, 297, 9, 380, 371]]\n",
      "target\n",
      "decoder  [[9, 2300, 418, 89, 79, 4, 416, 2], [73, 7, 44, 808, 3, 111, 613, 179, 2], [1160, 4, 472, 3, 842, 24, 3, 177, 33, 2], [1135, 230, 6, 15, 1385, 1237, 11, 18, 209, 1979, 2], [1251, 512, 297, 9, 380, 371, 2]]\n"
     ]
    }
   ],
   "source": [
    "# 변환\n",
    "# decoder의 train,test의 input, target 모두다.\n",
    "\n",
    "tar_vocab = 2500\n",
    "tar_tokenizer = Tokenizer(num_words=tar_vocab) \n",
    "tar_tokenizer.fit_on_texts(decoder_input_train)\n",
    "tar_tokenizer.fit_on_texts(decoder_target_train)\n",
    "\n",
    "# 텍스트 시퀀스를 정수 시퀀스로 변환\n",
    "decoder_input_train = tar_tokenizer.texts_to_sequences(decoder_input_train) \n",
    "decoder_target_train = tar_tokenizer.texts_to_sequences(decoder_target_train)\n",
    "decoder_input_test = tar_tokenizer.texts_to_sequences(decoder_input_test)\n",
    "decoder_target_test = tar_tokenizer.texts_to_sequences(decoder_target_test)\n",
    "\n",
    "# 잘 변환되었는지 확인\n",
    "print('input')\n",
    "print('input ',decoder_input_train[:5])\n",
    "print('target')\n",
    "print('decoder ',decoder_target_train[:5])"
   ]
  },
  {
   "cell_type": "markdown",
   "id": "a5baea47",
   "metadata": {},
   "source": [
    ">## 4) 최종 데이터셋 6개 정리하기 \n",
    "\n",
    ">>### (1) 희귀단어제외 후 null값 제거하기"
   ]
  },
  {
   "cell_type": "code",
   "execution_count": 31,
   "id": "d11a5b5d",
   "metadata": {},
   "outputs": [
    {
     "name": "stdout",
     "output_type": "stream",
     "text": [
      "삭제할 훈련 데이터의 개수 : 5\n",
      "삭제할 테스트 데이터의 개수 : 1\n",
      "훈련 데이터의 개수 : 68670\n",
      "훈련 레이블의 개수 : 68670\n",
      "테스트 데이터의 개수 : 17167\n",
      "테스트 레이블의 개수 : 17167\n"
     ]
    }
   ],
   "source": [
    "drop_train = [index for index, sentence in enumerate(decoder_input_train) if len(sentence) == 1]\n",
    "drop_test = [index for index, sentence in enumerate(decoder_input_test) if len(sentence) == 1]\n",
    "\n",
    "print('삭제할 훈련 데이터의 개수 :', len(drop_train))\n",
    "print('삭제할 테스트 데이터의 개수 :', len(drop_test))\n",
    "\n",
    "encoder_input_train = [sentence for index, sentence in enumerate(encoder_input_train) if index not in drop_train]\n",
    "decoder_input_train = [sentence for index, sentence in enumerate(decoder_input_train) if index not in drop_train]\n",
    "decoder_target_train = [sentence for index, sentence in enumerate(decoder_target_train) if index not in drop_train]\n",
    "\n",
    "encoder_input_test = [sentence for index, sentence in enumerate(encoder_input_test) if index not in drop_test]\n",
    "decoder_input_test = [sentence for index, sentence in enumerate(decoder_input_test) if index not in drop_test]\n",
    "decoder_target_test = [sentence for index, sentence in enumerate(decoder_target_test) if index not in drop_test]\n",
    "\n",
    "print('훈련 데이터의 개수 :', len(encoder_input_train))\n",
    "print('훈련 레이블의 개수 :', len(decoder_input_train))\n",
    "print('테스트 데이터의 개수 :', len(encoder_input_test))\n",
    "print('테스트 레이블의 개수 :', len(decoder_input_test))"
   ]
  },
  {
   "cell_type": "markdown",
   "id": "937f9769",
   "metadata": {},
   "source": [
    ">>### (2) 패딩하기"
   ]
  },
  {
   "cell_type": "code",
   "execution_count": 32,
   "id": "f70c1d13",
   "metadata": {},
   "outputs": [],
   "source": [
    "# 아까 정한 최대 길이로 뒤에 0붙여 패딩\n",
    "\n",
    "encoder_input_train = pad_sequences(encoder_input_train, maxlen=text_max_len, padding='post')\n",
    "encoder_input_test = pad_sequences(encoder_input_test, maxlen=text_max_len, padding='post')\n",
    "decoder_input_train = pad_sequences(decoder_input_train, maxlen=headlines_max_len, padding='post')\n",
    "decoder_target_train = pad_sequences(decoder_target_train, maxlen=headlines_max_len, padding='post')\n",
    "decoder_input_test = pad_sequences(decoder_input_test, maxlen=headlines_max_len, padding='post')\n",
    "decoder_target_test = pad_sequences(decoder_target_test, maxlen=headlines_max_len, padding='post')"
   ]
  },
  {
   "cell_type": "markdown",
   "id": "4de4c166",
   "metadata": {},
   "source": [
    "# 2. 모델 설계\n",
    "\n",
    "Batchnormalization 추가, dim 늘렸음"
   ]
  },
  {
   "cell_type": "markdown",
   "id": "bfa80a3c",
   "metadata": {},
   "source": [
    ">## 1. Encoder (함수형 API)"
   ]
  },
  {
   "cell_type": "code",
   "execution_count": 74,
   "id": "dd776dfe",
   "metadata": {},
   "outputs": [],
   "source": [
    "from tensorflow.keras.layers import Input, LSTM, Embedding, Dense, Concatenate, TimeDistributed, BatchNormalization\n",
    "from tensorflow.keras.models import Model\n",
    "from tensorflow.keras.callbacks import EarlyStopping, ModelCheckpoint\n",
    "\n",
    "\n",
    "# 인코더 설계 시작\n",
    "embedding_dim = 256 #128(None)\n",
    "hidden_size = 256\n",
    "\n",
    "# 인코더\n",
    "encoder_inputs = Input(shape=(text_max_len,))\n",
    "\n",
    "# 인코더의 임베딩 층 (src_vocab=단어장총수=10000, 256)\n",
    "enc_emb = Embedding(src_vocab, embedding_dim)(encoder_inputs)\n",
    "\n",
    "\n",
    "# 인코더의 LSTM 1\n",
    "# encoder_lstm1 = LSTM(hidden_size, return_sequences=True, return_state=True ,dropout = 0.4, recurrent_dropout = 0.4)\n",
    "encoder_lstm1 = LSTM(hidden_size, return_sequences=True, return_state=True ,dropout = 0.4)\n",
    "encoder_output1, state_h1, state_c1 = encoder_lstm1(enc_emb)\n",
    "\n",
    "\n",
    "# 인코더의 LSTM 2\n",
    "# encoder_lstm2 = LSTM(hidden_size, return_sequences=True, return_state=True, dropout=0.4, recurrent_dropout=0.4)\n",
    "encoder_lstm2 = LSTM(hidden_size, return_sequences=True, return_state=True, dropout=0.4)\n",
    "encoder_output2, state_h2, state_c2 = encoder_lstm2(encoder_output1)\n",
    "\n",
    "\n",
    "# 인코더의 LSTM 3\n",
    "# encoder_lstm3 = LSTM(hidden_size, return_state=True, return_sequences=True, dropout=0.4, recurrent_dropout=0.4)\n",
    "encoder_lstm3 = LSTM(hidden_size, return_state=True, return_sequences=True, dropout=0.4)\n",
    "encoder_outputs, state_h, state_c= encoder_lstm3(encoder_output2)"
   ]
  },
  {
   "cell_type": "markdown",
   "id": "86884024",
   "metadata": {},
   "source": [
    ">## 2. Decoder"
   ]
  },
  {
   "cell_type": "code",
   "execution_count": 75,
   "id": "9eb88cc9",
   "metadata": {},
   "outputs": [],
   "source": [
    "# 디코더 설계\n",
    "decoder_inputs = Input(shape=(None,))\n",
    "\n",
    "# 디코더의 임베딩 층\n",
    "dec_emb_layer = Embedding(tar_vocab, embedding_dim)\n",
    "dec_emb = dec_emb_layer(decoder_inputs)\n",
    "\n",
    "\n",
    "# 디코더의 LSTM\n",
    "# decoder_lstm = LSTM(hidden_size, return_sequences=True, return_state=True, dropout=0.4, recurrent_dropout=0.2)\n",
    "decoder_lstm = LSTM(hidden_size, return_sequences=True, return_state=True, dropout=0.4)\n",
    "decoder_outputs, _, _ = decoder_lstm(dec_emb, initial_state=[state_h, state_c])\n"
   ]
  },
  {
   "cell_type": "code",
   "execution_count": 76,
   "id": "3d923662",
   "metadata": {},
   "outputs": [
    {
     "name": "stdout",
     "output_type": "stream",
     "text": [
      "Model: \"model_10\"\n",
      "__________________________________________________________________________________________________\n",
      "Layer (type)                    Output Shape         Param #     Connected to                     \n",
      "==================================================================================================\n",
      "input_17 (InputLayer)           [(None, 40)]         0                                            \n",
      "__________________________________________________________________________________________________\n",
      "embedding_10 (Embedding)        (None, 40, 256)      2560000     input_17[0][0]                   \n",
      "__________________________________________________________________________________________________\n",
      "lstm_19 (LSTM)                  [(None, 40, 256), (N 525312      embedding_10[0][0]               \n",
      "__________________________________________________________________________________________________\n",
      "input_18 (InputLayer)           [(None, None)]       0                                            \n",
      "__________________________________________________________________________________________________\n",
      "lstm_20 (LSTM)                  [(None, 40, 256), (N 525312      lstm_19[0][0]                    \n",
      "__________________________________________________________________________________________________\n",
      "embedding_11 (Embedding)        (None, None, 256)    640000      input_18[0][0]                   \n",
      "__________________________________________________________________________________________________\n",
      "lstm_21 (LSTM)                  [(None, 40, 256), (N 525312      lstm_20[0][0]                    \n",
      "__________________________________________________________________________________________________\n",
      "lstm_22 (LSTM)                  [(None, None, 256),  525312      embedding_11[0][0]               \n",
      "                                                                 lstm_21[0][1]                    \n",
      "                                                                 lstm_21[0][2]                    \n",
      "__________________________________________________________________________________________________\n",
      "dense_6 (Dense)                 (None, None, 2500)   642500      lstm_22[0][0]                    \n",
      "==================================================================================================\n",
      "Total params: 5,943,748\n",
      "Trainable params: 5,943,748\n",
      "Non-trainable params: 0\n",
      "__________________________________________________________________________________________________\n"
     ]
    }
   ],
   "source": [
    "# 디코더의 출력층\n",
    "decoder_softmax_layer = Dense(tar_vocab, activation='softmax')\n",
    "decoder_softmax_outputs = decoder_softmax_layer(decoder_outputs) \n",
    "\n",
    "# 모델 정의\n",
    "model = Model([encoder_inputs, decoder_inputs], decoder_softmax_outputs)\n",
    "model.summary()"
   ]
  },
  {
   "cell_type": "markdown",
   "id": "19b872b8",
   "metadata": {},
   "source": [
    ">## 3. Attention 메커니즘"
   ]
  },
  {
   "cell_type": "code",
   "execution_count": 77,
   "id": "fd12a42f",
   "metadata": {},
   "outputs": [
    {
     "name": "stdout",
     "output_type": "stream",
     "text": [
      "Model: \"model_11\"\n",
      "__________________________________________________________________________________________________\n",
      "Layer (type)                    Output Shape         Param #     Connected to                     \n",
      "==================================================================================================\n",
      "input_17 (InputLayer)           [(None, 40)]         0                                            \n",
      "__________________________________________________________________________________________________\n",
      "embedding_10 (Embedding)        (None, 40, 256)      2560000     input_17[0][0]                   \n",
      "__________________________________________________________________________________________________\n",
      "lstm_19 (LSTM)                  [(None, 40, 256), (N 525312      embedding_10[0][0]               \n",
      "__________________________________________________________________________________________________\n",
      "input_18 (InputLayer)           [(None, None)]       0                                            \n",
      "__________________________________________________________________________________________________\n",
      "lstm_20 (LSTM)                  [(None, 40, 256), (N 525312      lstm_19[0][0]                    \n",
      "__________________________________________________________________________________________________\n",
      "embedding_11 (Embedding)        (None, None, 256)    640000      input_18[0][0]                   \n",
      "__________________________________________________________________________________________________\n",
      "lstm_21 (LSTM)                  [(None, 40, 256), (N 525312      lstm_20[0][0]                    \n",
      "__________________________________________________________________________________________________\n",
      "lstm_22 (LSTM)                  [(None, None, 256),  525312      embedding_11[0][0]               \n",
      "                                                                 lstm_21[0][1]                    \n",
      "                                                                 lstm_21[0][2]                    \n",
      "__________________________________________________________________________________________________\n",
      "attention_layer (AdditiveAttent (None, None, 256)    256         lstm_22[0][0]                    \n",
      "                                                                 lstm_21[0][0]                    \n",
      "__________________________________________________________________________________________________\n",
      "concat_layer (Concatenate)      (None, None, 512)    0           lstm_22[0][0]                    \n",
      "                                                                 attention_layer[0][0]            \n",
      "__________________________________________________________________________________________________\n",
      "dense_7 (Dense)                 (None, None, 2500)   1282500     concat_layer[0][0]               \n",
      "==================================================================================================\n",
      "Total params: 6,584,004\n",
      "Trainable params: 6,584,004\n",
      "Non-trainable params: 0\n",
      "__________________________________________________________________________________________________\n"
     ]
    }
   ],
   "source": [
    "from tensorflow.keras.layers import AdditiveAttention\n",
    "\n",
    "# 어텐션 층(어텐션 함수)\n",
    "attn_layer = AdditiveAttention(name='attention_layer')\n",
    "\n",
    "# 인코더와 디코더의 모든 time step의 hidden state를 어텐션 층에 전달하고 결과를 리턴\n",
    "attn_out = attn_layer([decoder_outputs, encoder_outputs])\n",
    "\n",
    "\n",
    "# 어텐션의 결과와 디코더의 hidden state들을 연결\n",
    "decoder_concat_input = Concatenate(axis=-1, name='concat_layer')([decoder_outputs, attn_out])\n",
    "\n",
    "# 디코더의 출력층\n",
    "decoder_softmax_layer = Dense(tar_vocab, activation='softmax')\n",
    "decoder_softmax_outputs = decoder_softmax_layer(decoder_concat_input)\n",
    "\n",
    "# 모델 정의\n",
    "model = Model([encoder_inputs, decoder_inputs], decoder_softmax_outputs)\n",
    "model.summary()\n",
    "\n",
    "# 상위와 비교해보기\n",
    "# # 디코더의 출력층\n",
    "# decoder_softmax_layer = Dense(tar_vocab, activation='softmax')\n",
    "# decoder_softmax_outputs = decoder_softmax_layer(decoder_outputs) \n",
    "\n",
    "# # 모델 정의\n",
    "# model = Model([encoder_inputs, decoder_inputs], decoder_softmax_outputs)\n",
    "# model.summary()"
   ]
  },
  {
   "cell_type": "markdown",
   "id": "125db28e",
   "metadata": {},
   "source": [
    "# 3. 모델 훈련"
   ]
  },
  {
   "cell_type": "code",
   "execution_count": 78,
   "id": "150807ac",
   "metadata": {},
   "outputs": [
    {
     "name": "stdout",
     "output_type": "stream",
     "text": [
      "Epoch 1/50\n",
      "269/269 [==============================] - 25s 75ms/step - loss: 4.4317 - val_loss: 4.0707\n",
      "Epoch 2/50\n",
      "269/269 [==============================] - 19s 72ms/step - loss: 3.8812 - val_loss: 3.7140\n",
      "Epoch 3/50\n",
      "269/269 [==============================] - 19s 70ms/step - loss: 3.5625 - val_loss: 3.4653\n",
      "Epoch 4/50\n",
      "269/269 [==============================] - 19s 70ms/step - loss: 3.3342 - val_loss: 3.3055\n",
      "Epoch 5/50\n",
      "269/269 [==============================] - 19s 70ms/step - loss: 3.1598 - val_loss: 3.1845\n",
      "Epoch 6/50\n",
      "269/269 [==============================] - 19s 70ms/step - loss: 3.0207 - val_loss: 3.1005\n",
      "Epoch 7/50\n",
      "269/269 [==============================] - 19s 70ms/step - loss: 2.9049 - val_loss: 3.0284\n",
      "Epoch 8/50\n",
      "269/269 [==============================] - 19s 70ms/step - loss: 2.8049 - val_loss: 2.9765\n",
      "Epoch 9/50\n",
      "269/269 [==============================] - 19s 70ms/step - loss: 2.7179 - val_loss: 2.9348\n",
      "Epoch 10/50\n",
      "269/269 [==============================] - 19s 70ms/step - loss: 2.6396 - val_loss: 2.9027\n",
      "Epoch 11/50\n",
      "269/269 [==============================] - 19s 70ms/step - loss: 2.5690 - val_loss: 2.8667\n",
      "Epoch 12/50\n",
      "269/269 [==============================] - 19s 70ms/step - loss: 2.5048 - val_loss: 2.8546\n",
      "Epoch 13/50\n",
      "269/269 [==============================] - 19s 70ms/step - loss: 2.4446 - val_loss: 2.8297\n",
      "Epoch 14/50\n",
      "269/269 [==============================] - 19s 70ms/step - loss: 2.3900 - val_loss: 2.8245\n",
      "Epoch 15/50\n",
      "269/269 [==============================] - 19s 70ms/step - loss: 2.3369 - val_loss: 2.8150\n",
      "Epoch 16/50\n",
      "269/269 [==============================] - 19s 70ms/step - loss: 2.2886 - val_loss: 2.8055\n",
      "Epoch 17/50\n",
      "269/269 [==============================] - 19s 70ms/step - loss: 2.2433 - val_loss: 2.7987\n",
      "Epoch 18/50\n",
      "269/269 [==============================] - 19s 70ms/step - loss: 2.2003 - val_loss: 2.8008\n",
      "Epoch 19/50\n",
      "269/269 [==============================] - 19s 70ms/step - loss: 2.1604 - val_loss: 2.8009\n",
      "Epoch 00019: early stopping\n"
     ]
    }
   ],
   "source": [
    "model.compile(optimizer='rmsprop', loss='sparse_categorical_crossentropy')\n",
    "es = EarlyStopping(monitor='val_loss', patience=2, verbose=1)\n",
    "history = model.fit(x=[encoder_input_train, decoder_input_train], y=decoder_target_train, \\\n",
    "          validation_data=([encoder_input_test, decoder_input_test], decoder_target_test), \\\n",
    "          batch_size=256, callbacks=[es], epochs=50)"
   ]
  },
  {
   "cell_type": "code",
   "execution_count": 79,
   "id": "8da5f2e4",
   "metadata": {},
   "outputs": [
    {
     "data": {
      "image/png": "[encoded data removed]",
      "text/plain": [
       "<Figure size 432x288 with 1 Axes>"
      ]
     },
     "metadata": {
      "needs_background": "light"
     },
     "output_type": "display_data"
    }
   ],
   "source": [
    "plt.plot(history.history['loss'], label='train')\n",
    "plt.plot(history.history['val_loss'], label='test')\n",
    "plt.legend()\n",
    "plt.show()"
   ]
  },
  {
   "cell_type": "markdown",
   "id": "34b267c6",
   "metadata": {},
   "source": [
    "# 4. 인퍼런스 모델 구현"
   ]
  },
  {
   "cell_type": "code",
   "execution_count": 80,
   "id": "f6e8fa35",
   "metadata": {},
   "outputs": [],
   "source": [
    "# 정수 -> 문자로 복원, 미리 준비\n",
    "src_index_to_word = src_tokenizer.index_word # 원문 단어 집합에서 정수 -> 단어를 얻음\n",
    "tar_word_to_index = tar_tokenizer.word_index # 요약 단어 집합에서 단어 -> 정수를 얻음\n",
    "tar_index_to_word = tar_tokenizer.index_word # 요약 단어 집합에서 정수 -> 단어를 얻음"
   ]
  },
  {
   "cell_type": "code",
   "execution_count": 81,
   "id": "c1c39a27",
   "metadata": {},
   "outputs": [],
   "source": [
    "# 인코더 설계\n",
    "encoder_model = Model(inputs=encoder_inputs, outputs=[encoder_outputs, state_h, state_c])\n",
    "\n",
    "# 이전 시점의 상태들을 저장하는 텐서\n",
    "decoder_state_input_h = Input(shape=(hidden_size,))\n",
    "decoder_state_input_c = Input(shape=(hidden_size,))\n",
    "\n",
    "dec_emb2 = dec_emb_layer(decoder_inputs)\n",
    "\n",
    "# 문장의 다음 단어를 예측하기 위해서 초기 상태(initial_state)를 이전 시점의 상태로 사용. 이는 뒤의 함수 decode_sequence()에 구현\n",
    "# 훈련 과정에서와 달리 LSTM의 리턴하는 은닉 상태와 셀 상태인 state_h와 state_c를 버리지 않음.\n",
    "decoder_outputs2, state_h2, state_c2 = decoder_lstm(dec_emb2, initial_state=[decoder_state_input_h, decoder_state_input_c])\n"
   ]
  },
  {
   "cell_type": "code",
   "execution_count": 82,
   "id": "abc63865",
   "metadata": {},
   "outputs": [],
   "source": [
    "# 어텐션으로 출력층 설계\n",
    "\n",
    "# 어텐션 함수\n",
    "decoder_hidden_state_input = Input(shape=(text_max_len, hidden_size))\n",
    "attn_out_inf = attn_layer([decoder_outputs2, decoder_hidden_state_input])\n",
    "decoder_inf_concat = Concatenate(axis=-1, name='concat')([decoder_outputs2, attn_out_inf])\n",
    "\n",
    "# 디코더의 출력층\n",
    "decoder_outputs2 = decoder_softmax_layer(decoder_inf_concat) \n",
    "\n",
    "# 최종 디코더 모델\n",
    "decoder_model = Model(\n",
    "    [decoder_inputs] + [decoder_hidden_state_input,decoder_state_input_h, decoder_state_input_c],\n",
    "    [decoder_outputs2] + [state_h2, state_c2])"
   ]
  },
  {
   "cell_type": "code",
   "execution_count": 83,
   "id": "cc5f1830",
   "metadata": {},
   "outputs": [],
   "source": [
    "# 인퍼런스 단계에서 단어 시퀀스를 완성하는 함수\n",
    "\n",
    "def decode_sequence(input_seq):\n",
    "    # 입력으로부터 인코더의 상태를 얻음\n",
    "    e_out, e_h, e_c = encoder_model.predict(input_seq)\n",
    "\n",
    "     # <SOS>에 해당하는 토큰 생성\n",
    "    target_seq = np.zeros((1,1))\n",
    "    target_seq[0, 0] = tar_word_to_index['sostoken']\n",
    "\n",
    "    stop_condition = False\n",
    "    decoded_sentence = ''\n",
    "    while not stop_condition: # stop_condition이 True가 될 때까지 루프 반복\n",
    "\n",
    "        output_tokens, h, c = decoder_model.predict([target_seq] + [e_out, e_h, e_c])\n",
    "        sampled_token_index = np.argmax(output_tokens[0, -1, :])\n",
    "        sampled_token = tar_index_to_word[sampled_token_index]\n",
    "\n",
    "        if (sampled_token!='eostoken'):\n",
    "            decoded_sentence += ' '+sampled_token\n",
    "\n",
    "        #  <eos>에 도달하거나 최대 길이를 넘으면 중단.\n",
    "        if (sampled_token == 'eostoken'  or len(decoded_sentence.split()) >= (headlines_max_len-1)):\n",
    "            stop_condition = True\n",
    "\n",
    "        # 길이가 1인 타겟 시퀀스를 업데이트\n",
    "        target_seq = np.zeros((1,1))\n",
    "        target_seq[0, 0] = sampled_token_index\n",
    "\n",
    "        # 상태를 업데이트 합니다.\n",
    "        e_h, e_c = h, c\n",
    "    return decoded_sentence\n"
   ]
  },
  {
   "cell_type": "markdown",
   "id": "bde93ebe",
   "metadata": {},
   "source": [
    "# 5. 모델 테스트"
   ]
  },
  {
   "cell_type": "code",
   "execution_count": 84,
   "id": "b46ea064",
   "metadata": {},
   "outputs": [
    {
     "name": "stdout",
     "output_type": "stream",
     "text": [
      "=3\n"
     ]
    }
   ],
   "source": [
    "# 원문의 정수 시퀀스를 텍스트 시퀀스로 변환\n",
    "def seq2text(input_seq):\n",
    "    temp=''\n",
    "    for i in input_seq:\n",
    "        if (i!=0):\n",
    "            temp = temp + src_index_to_word[i]+' '\n",
    "    return temp\n",
    "\n",
    "# 요약문의 정수 시퀀스를 텍스트 시퀀스로 변환\n",
    "def seq2summary(input_seq):\n",
    "    temp=''\n",
    "    for i in input_seq:\n",
    "        if ((i!=0 and i!=tar_word_to_index['sostoken']) and i!=tar_word_to_index['eostoken']):\n",
    "            temp = temp + tar_index_to_word[i] + ' '\n",
    "    return temp\n",
    "\n",
    "print('=3')"
   ]
  },
  {
   "cell_type": "code",
   "execution_count": 85,
   "id": "c18a4a61",
   "metadata": {},
   "outputs": [
    {
     "name": "stdout",
     "output_type": "stream",
     "text": [
      "원문 : indian army soon deploy built robots capable delivering ammunition intended locations fight terrorism jammu kashmir army proposal requirement robots approved centre robots several surveillance cameras transmission systems range metres \n",
      "실제 요약 : army to robots to fight terror in jammu and kashmir \n",
      "예측 요약 :  army to launch robot to\n",
      "\n",
      "\n",
      "원문 : us removed least indian products list items eligible duty free treatment system india largest largest oldest us trade preference programme india duty free exports us programme tune billion \n",
      "실제 요약 : us duty free on of indian products \n",
      "예측 요약 :  us to give billion to\n",
      "\n",
      "\n",
      "원문 : pakistan tuesday placed former pm nawaz sharif daughter name exit control list following conviction reference corruption case per reports placed list barred leaving country sharif may return pakistan london later week \n",
      "실제 요약 : pak puts ex pm sharif daughter on exit control list \n",
      "예측 요약 :  ex pak pm sharif to be in jail\n",
      "\n",
      "\n",
      "원문 : rashtriya sahara journalist pankaj mishra shot bihar thursday two men case personal superintendent police dilip kumar said duo shot mishra attempting rob lakh withdrawn bank one accused arrested police \n",
      "실제 요약 : bihar journalist mishra shot at by two men \n",
      "예측 요약 :  journalist shot at bihar home in bihar\n",
      "\n",
      "\n",
      "원문 : american technology company unveiled jewellery made gold recovered computer collected programs collection unveiled ces designed collaboration american actress nikki gold process less harmful environment mining gold earth claimed \n",
      "실제 요약 : makes jewellery using gold from \n",
      "예측 요약 :  unveils gold at\n",
      "\n",
      "\n",
      "원문 : american tennis star serena williams play first match becoming mother world tennis championship event organisers confirmed williams played since winning record rd grand slam singles title australian open january gave birth first child alexis jr september \n",
      "실제 요약 : serena to return to tennis at ship \n",
      "예측 요약 :  st player to win st time title after years\n",
      "\n",
      "\n",
      "원문 : protesting government official advice avoid outfits protect sexual harassment popular water festival women thailand started social media campaign hashtag women using campaign share stories harassment water festival previous years thai american model bishop started campaign \n",
      "실제 요약 : thai women protest over govt advice to dress less \n",
      "예측 요약 :  govt to dress code for\n",
      "\n",
      "\n",
      "원문 : year old rape victim moved shelter home parents reportedly refused keep pregnancy could terminated victim six months pregnant allegedly raped relative repeatedly months accused arrested girl provided proper rehabilitation officials said \n",
      "실제 요약 : parents to keep minor rape victim over pregnancy \n",
      "예측 요약 :  rape accused to marry her parents\n",
      "\n",
      "\n",
      "원문 : tennis player serena williams uploaded video shows playing tennis pregnancy final serena seen playing rally opponent visible video serena revealed news pregnancy april winning australian open pregnant \n",
      "실제 요약 : video shows months pregnant serena playing tennis \n",
      "예측 요약 :  serena shares video of serena\n",
      "\n",
      "\n",
      "원문 : talking india victory third test south africa losing first two coach ravi shastri said players always believed could win sometimes feel people happy lose added two throw knockout punch south africa tremendous said \n",
      "실제 요약 : people in india are happy when we lose ravi shastri \n",
      "예측 요약 :  have been the best sachin to win shastri\n",
      "\n",
      "\n",
      "원문 : italian capital city rome witnessed snow first time six years monday cold winds moved across europe schools closed public transportation affected meanwhile priests st peter square vatican took part fight nuns built \n",
      "실제 요약 : for first time in years \n",
      "예측 요약 :  sweden to be st time in yrs\n",
      "\n",
      "\n",
      "원문 : tibetan spiritual leader dalai lama saturday said warm welcome received arrival arunachal pradesh years ago moment freedom days prior arrival india filled tension concern safety added dalai lama escaped tibet \n",
      "실제 요약 : to india was of freedom dalai lama \n",
      "예측 요약 :  dalai lama to visit india for\n",
      "\n",
      "\n",
      "원문 : black death th century wiped around one third europe population spread rats carried humans norway based study suggested researchers created model nine european cities suggested would spread fast rats human influence \n",
      "실제 요약 : black death in th century by humans not study \n",
      "예측 요약 :  black hole in germany\n",
      "\n",
      "\n",
      "원문 : ahead us president donald trump daughter ivanka visit hyderabad residents living near palace asked allow relatives friends come houses period ivanka visiting country global entrepreneurship summit expected dinner international taj palace \n",
      "실제 요약 : on hyd residents before ivanka visit \n",
      "예측 요약 :  us woman to give to attend father birthday\n",
      "\n",
      "\n",
      "원문 : actor tiger shroff said never called comes tiger said recent interview care around film reporter completely process asked okay cast opposite said matter added tiger \n",
      "실제 요약 : never called my tiger \n",
      "예측 요약 :  tiger is not tiger on tiger\n",
      "\n",
      "\n",
      "원문 : addressing media mumbai congress president rahul gandhi wednesday said people politics whole nation united rss bjp added congress president slammed central government common man bringing fuel gst \n",
      "실제 요약 : grand alliance in people not just politics rahul \n",
      "예측 요약 :  rahul gandhi is rss\n",
      "\n",
      "\n",
      "원문 : american economist woman ever awarded nobel memorial prize economic sciences since inception shared million prize another american economist analysis economic governance especially studied small local communities manage shared natural resources \n",
      "실제 요약 : only woman has won nobel in economic in years \n",
      "예측 요약 :  wins nobel prize prize for\n",
      "\n",
      "\n",
      "원문 : priyanka chopra shared video instagram seen dance school girls assam captioned video part enjoy joining fun young ladies put amazing performance priyanka assam tourism ambassador state promotional activities \n",
      "실제 요약 : priyanka shares video of dance in assam \n",
      "예측 요약 :  priyanka chopra dance to protect him\n",
      "\n",
      "\n",
      "원문 : telecom body said expects mobile services become owing absence government said mobile tower expected coming fiscal tax sought extension tax benefits granted non telecom infrastructure firms amendments gst \n",
      "실제 요약 : services cost may rise in of tax relief \n",
      "예측 요약 :  to make all revenue from\n",
      "\n",
      "\n",
      "원문 : opposition vice presidential candidate mahatma gandhi grandson gandhi tuesday expressed stand death penalty capital calling practices gandhi said death penalty wrong principle notably shiv sena criticised letter wrote president seeking mumbai blasts accused \n",
      "실제 요약 : death penalty to gandhi \n",
      "예측 요약 :  gandhi death penalty for prez kovind\n",
      "\n",
      "\n",
      "원문 : thousands people saturday took streets london protest uk decision leave european union demanding benefits remaining eu protesters said voted remain eu referendum brexit process initiated march \n",
      "실제 요약 : march in london in protest against brexit \n",
      "예측 요약 :  to protest against parliament\n",
      "\n",
      "\n",
      "원문 : least people killed several others injured tuesday twin suicide attacks around mosque nigeria police said one suicide bomber detonated explosives mosque second bomber exploded device metres away fled group yet claimed responsibility attack \n",
      "실제 요약 : killed in suicide attacks in \n",
      "예측 요약 :  killed in suicide attack in\n",
      "\n",
      "\n",
      "원문 : rishi kapoor taapsee pannu starrer mulk released today hard hitting talks burning issues country wrote bollywood hungama mulk light people fall prey political said times india ndtv called rishi taapsee performances outstanding rated \n",
      "실제 요약 : rishi kapoor taapsee starrer hits the theatres \n",
      "예측 요약 :  rishi kapoor starrer hits the theatres\n",
      "\n",
      "\n",
      "원문 : bse ceo ashish chauhan said companies list four years smaller firms become tax compliant due gst scheduled implementation july would want go public anything hide notably companies raised billion first time share sales bse last fiscal highest since \n",
      "실제 요약 : gst will bring in new says ceo \n",
      "예측 요약 :  to be up in india for years\n",
      "\n",
      "\n",
      "원문 : tamil nadu cm palaniswami sunday met farmers protesting delhi month demand drought relief fund waiver loans take pm demands put forward farmers urge farmers end protest said palaniswami \n",
      "실제 요약 : tn cm meets farmers in delhi action \n",
      "예측 요약 :  tn farmers to farmers relief for farmers\n",
      "\n",
      "\n",
      "원문 : addressing bharatiya monday foreign minister sushma swaraj said countries like us japan china rapidly ageing india getting younger india world largest working population offers unprecedented edge help building new young india added \n",
      "실제 요약 : us and china india getting swaraj \n",
      "예측 요약 :  india is for india china\n",
      "\n",
      "\n",
      "원문 : bjp mp booked assaulting policeman violating orders section tried enter constituency west bengal barred police entering witnessed violence ram said duty stand people times trouble \n",
      "실제 요약 : bjp mp booked for cop order \n",
      "예측 요약 :  bjp mp booked for in\n",
      "\n",
      "\n",
      "원문 : sunil gavaskar called term scrapped cricketing claiming puts indian cricketing legend bad light term first used ran australia bill brown non striker end bowling gavaskar suggested media fans instead call \n",
      "실제 요약 : sunil gavaskar calls for the term \n",
      "예측 요약 :  gavaskar once for\n",
      "\n",
      "\n",
      "원문 : queen elizabeth ii prince philip gift members staff traditional christmas occasion christmas according palace officials grandfather george began tradition although earlier royal household believed prefer due lower costs \n",
      "실제 요약 : what does queen gift for christmas \n",
      "예측 요약 :  queen queen to be at queen\n",
      "\n",
      "\n",
      "원문 : according reports samsung may introduce display fingerprint sensors galaxy note switch display sensor reportedly increase price device times technology increase cost production earlier reports suggested apple also planned include display sensor iphones galaxy note estimated release \n",
      "실제 요약 : samsung may have in display in note \n",
      "예측 요약 :  samsung to launch smartphone in\n",
      "\n",
      "\n",
      "원문 : us president donald trump tuesday claimed google search results rigged show bad news stories added search results term trump news left wing outlets accused search engine voices hiding information news good \n",
      "실제 요약 : google search results with bad news about me trump \n",
      "예측 요약 :  google trump calls for\n",
      "\n",
      "\n",
      "원문 : donald dating app us president donald trump supporters leaked personal information users launch monday according media report app users reportedly leaked data including users names profile pictures device type private messages data later pulled offline \n",
      "실제 요약 : dating app for trump users data report \n",
      "예측 요약 :  trump sued for us over fake news\n",
      "\n",
      "\n",
      "원문 : bombay high court directed lower court trial actor pancholi khan suicide case accused suicide girlfriend hc also posted mother petition sought appoint advocate dinesh tiwari special public prosecutor hearing september \n",
      "실제 요약 : bombay hc court to with trial against \n",
      "예측 요약 :  bombay hc stays suicide case against father\n",
      "\n",
      "\n",
      "원문 : benchmark index nse nifty lost around trillion market value year index market capitalisation currently around trillion biggest market valuation bharti airtel sbi tata motors top hdfc tcs infosys nifty ended points lower last trading day fiscal \n",
      "실제 요약 : has lost tn in market value so this year \n",
      "예측 요약 :  sensex crosses for first time in weeks\n",
      "\n",
      "\n",
      "원문 : centre cut prices petrol diesel per litre across india congress called panic reaction ahead assembly polls four states said centre withdrawn excise hike petrol diesel since may instead throwing one two rupees citizens \n",
      "실제 요약 : before polls says congress on fuel price cut \n",
      "예측 요약 :  govt to fuel prices by petrol in delhi\n",
      "\n",
      "\n",
      "원문 : indian captain virat kohli wrestler great sri lanka posted pictures meeting sunday kohli posted two pictures one shows two standing side side kohli reaching wrestler shoulder great meet great guy kohli captioned photos \n",
      "실제 요약 : virat kohli meets the great posts picture on twitter \n",
      "예측 요약 :  kohli posts photo of sri lanka after day\n",
      "\n",
      "\n",
      "원문 : case huawei cfo meng arrested canada us request fraud banks relationship huawei subsidiary huawei allegedly used business iran breaching us sanctions meng allegedly told banks separate companies banks know clearing transactions involving iran \n",
      "실제 요약 : why was cfo arrested in canada at us request \n",
      "예측 요약 :  ex bank to us for fraud\n",
      "\n",
      "\n",
      "원문 : pune university announced new rules vegetarian students considered eligible receiving gold medals criteria includes students following indian culture participation blood donation environment protection reacting news nationalist congress party mp said please focus fair quality education \n",
      "실제 요약 : pune university to give gold only to \n",
      "예측 요약 :  pune university to give to\n",
      "\n",
      "\n",
      "원문 : zimbabwe cricket team former captain set return professional cricket six years quit sport focus lord work became test cricket youngest captain signed sports club sri lanka first class team play maiden game outfit later month \n",
      "실제 요약 : ex zimbabwe captain to return to cricket at age \n",
      "예측 요약 :  named best captain of india best cricket\n",
      "\n",
      "\n",
      "원문 : us president donald trump saturday said european union put take advantage united states claiming trade deals said blame past presidents past leaders country comes ahead trump deadline warning eu reduce exports us face tariffs \n",
      "실제 요약 : eu was created to take of us donald trump \n",
      "예측 요약 :  us will not be to stop trump\n",
      "\n",
      "\n",
      "원문 : bombay stock exchange said secured trademark iconic building towers street mumbai bse founded started small group tree street floor building took nearly years build completed \n",
      "실제 요약 : building at street in mumbai gets \n",
      "예측 요약 :  to be auctioned for lakh\n",
      "\n",
      "\n",
      "원문 : prime minister narendra modi radio address mann ki baat generated revenue nearly crore india radio last two revenue crore crore notably radio broadcast mann ki baat platforms like live streaming \n",
      "실제 요약 : air earned crore from pm modi ki in yrs \n",
      "예측 요약 :  pm modi announces cr for india\n",
      "\n",
      "\n",
      "원문 : producer kapoor sharing picture sister sonam kapoor kareena kapoor sonam wedding wrote say actresses cannot friends real bride happy girls strong independent crazy talented also crazy added sonam got married may kareena seen portraying bride veere di wedding \n",
      "실제 요약 : they say cannot be friends on sonam kareena \n",
      "예측 요약 :  sonam kapoor slams sonam for sonam wedding\n",
      "\n",
      "\n",
      "원문 : kareena kapoor akshay kumar paired together upcoming film produced karan johar dharma reportedly playing married couple trying child raj mehta directorial reports added younger couple also star film \n",
      "실제 요약 : kareena akshay to star in johar production reports \n",
      "예측 요약 :  akshay to star in upcoming film reports\n",
      "\n",
      "\n",
      "원문 : model actress lisa shared picture son instagram story born may lisa first child husband lisa got married october announced pregnancy instagram january year \n",
      "실제 요약 : shares picture with her son online \n",
      "예측 요약 :  shares pic with daughter\n",
      "\n",
      "\n",
      "원문 : actor shahid kapoor joked past actress kareena kapoor really secret rather world secret joked asked secret past woman recent event shahid told woman spying cannot secret past \n",
      "실제 요약 : my past with kareena kapoor is world secret jokes shahid \n",
      "예측 요약 :  shahid and are not shahid on shahid\n",
      "\n",
      "\n",
      "원문 : us southwest airlines giving compensation travel worth passengers flight made emergency landing due engine explosion female passenger died result accident letter passengers airline expressed accident \n",
      "실제 요약 : airline gives compensation after plane engine \n",
      "예측 요약 :  us airlines flight after flight\n",
      "\n",
      "\n",
      "원문 : india requested pakistan allow kulbhushan jadhav mother accompany wife meet pakistan earlier month pakistan offered arrange meeting jadhav wife humanitarian grounds jadhav captured security forces march sentenced death military court allegedly spying pakistan \n",
      "실제 요약 : india asks pak to allow jadhav to meet his mother \n",
      "예측 요약 :  jadhav to jadhav for jadhav\n",
      "\n",
      "\n",
      "원문 : baby girl delivered two male police officers van woman went labour old delhi railway station recently taking hospital water broke get baby delivered van inspector said mother daughter declared good health \n",
      "실제 요약 : baby girl by two delhi policemen in van \n",
      "예측 요약 :  baby girl in delhi after being denied\n",
      "\n",
      "\n",
      "원문 : swimmer michael supposed swim metres alongside great white shark said fault people thought would racing real animal slammed competing computer said clarified earlier would water time shark \n",
      "실제 요약 : not my if people thought would race real \n",
      "예측 요약 :  people are not white house\n",
      "\n",
      "\n"
     ]
    }
   ],
   "source": [
    "for i in range(50, 100):\n",
    "    print(\"원문 :\", seq2text(encoder_input_test[i]))\n",
    "    print(\"실제 요약 :\", seq2summary(decoder_input_test[i]))\n",
    "    print(\"예측 요약 :\", decode_sequence(encoder_input_test[i].reshape(1, text_max_len)))\n",
    "    print(\"\\n\")"
   ]
  },
  {
   "cell_type": "markdown",
   "id": "0e813e69",
   "metadata": {},
   "source": [
    "# 6. 추출적 요약 실행해보기"
   ]
  },
  {
   "cell_type": "code",
   "execution_count": 230,
   "id": "726406b3",
   "metadata": {},
   "outputs": [
    {
     "name": "stdout",
     "output_type": "stream",
     "text": [
      "원문:\n",
      " Two minor cousins in Uttar Pradesh's Gorakhpur were allegedly repeatedly burnt with tongs and forced to eat human excreta by their family for being friends with two boys from the same school. The cousins revealed their ordeal to the police and Child Welfare Committee after being brought back to Gorakhpur from Nepal, where they had fled to escape the torture.\n",
      "\n",
      "\n",
      "추론적요약 결과:\n",
      " up cousins fed human excreta for friendship with boys\n",
      "\n",
      "\n",
      "추상적요약 결과:\n",
      " Two minor cousins in Uttar Pradesh's Gorakhpur were allegedly repeatedly burnt with tongs and forced to eat human excreta by their family for being friends with two boys from the same school.\n"
     ]
    }
   ],
   "source": [
    "from summa.summarizer import summarize\n",
    "\n",
    "df = pd.read_csv('news_summary_more.csv', encoding='iso-8859-1')\n",
    "df = df['text']\n",
    "type(df)\n",
    "print('원문:\\n',df.values.tolist()[10])\n",
    "# print(data[data['text'].str.contains('two minor cousins')])\n",
    "print('\\n')\n",
    "print('추론적요약 결과:\\n',data['headlines'].loc[10])\n",
    "print('\\n')\n",
    "print('추상적요약 결과:\\n',summarize(text, ratio = 0.5))"
   ]
  },
  {
   "cell_type": "markdown",
   "id": "f6dad6e0",
   "metadata": {},
   "source": [
    "# 회고\n",
    "\n",
    "역시 nlp는 전처리가 어렵다. 오늘은 단계별로 정말 이해하려고 노력했다.\n",
    "seq2seq를 다시 한 번 하니까 조금 나은 것 같았다. 일단 전처리에서 내가 임의값을 잡아야 했던 것 정리해두기.\n",
    "1. max_len\n",
    "2. 희귀단어 threshold\n",
    "3. vocab_size\n",
    "4. model의 dimension은 256으로 늘림\n",
    "5. 모델에 이미 dropout이 0.4씩 되어있었기 때문에 혹시 과적합을 위해 추가한다면 BatchNormalization을 해도 좋았을 듯.\n",
    "\n",
    "추상 과 추출의 결과를 비교했는데, 둘 다 만족스럽지 못했다.\n",
    "\n",
    "문법적으로는 추출이 훨씬 좋았다. 그 이유는 추상에서 수동태를 잡아내지 못했기 때문이다. 내가 고른 원문이 왜 이런내용인지는 모르겠으나,, 원문에 의하면 같은 학교를 다니던 네팔의 두 명의 사촌이 가족으로부터 인분을 먹길 강요받았고, 경찰서로 고문을 피해 도망쳤다는 내용인데, 추상에서는 사촌들이 인분을 먹이줬다라고 했기 때문이다.\n",
    "\n",
    "\n",
    "하지만 핵심단어는 추상이 훨씬 정확했다. 반면 추출은 ratio 0.5 이하이거나 word를 적은수로 주면 아예 summary가 되지 않았고, 결과값도 두 문장 중 한문장을 그대로 가져왔기 때문에 아주 고차원적이라고 할 수 없을 듯 하다. \n",
    "\n",
    "과제수행 실행순서 정리한 것 : https://kolazzing.com/entry/Ex12-%EB%89%B4%EC%8A%A4-%EC%9A%94%EC%95%BD%EB%B4%87\n"
   ]
  },
  {
   "cell_type": "markdown",
   "id": "399e2a90",
   "metadata": {},
   "source": [
    "루브릭\n",
    "\n",
    "아래의 기준을 바탕으로 프로젝트를 평가합니다.\n",
    "\n",
    "평가문항\t상세기준\n",
    "1. Abstractive 모델 구성을 위한 텍스트 전처리 단계가 체계적으로 진행되었다.\n",
    "- 분석단계, 정제단계, 정규화와 불용어 제거, 데이터셋 분리, 인코딩 과정이 빠짐없이 체계적으로 진행되었다.\n",
    "\n",
    "2. 텍스트 요약모델이 성공적으로 학습되었음을 확인하였다.\n",
    "- 모델 학습이 진행되면서 train loss와 validation loss가 감소하는 경향을 그래프를 통해 확인했으며, 실제 요약문에 있는 핵심 단어들이 요약 문장 안에 포함되었다.\n",
    "\n",
    "3. Extractive 요약을 시도해 보고 Abstractive 요약 결과과 함께 비교해 보았다.\n",
    "- 두 요약 결과를 문법완성도 측면과 핵심단어 포함 측면으로 나누어 비교하고 분석 결과를 표로 정리하여 제시하였다."
   ]
  }
 ],
 "metadata": {
  "kernelspec": {
   "display_name": "Python 3 (ipykernel)",
   "language": "python",
   "name": "python3"
  },
  "language_info": {
   "codemirror_mode": {
    "name": "ipython",
    "version": 3
   },
   "file_extension": ".py",
   "mimetype": "text/x-python",
   "name": "python",
   "nbconvert_exporter": "python",
   "pygments_lexer": "ipython3",
   "version": "3.9.12"
  }
 },
 "nbformat": 4,
 "nbformat_minor": 5
}
