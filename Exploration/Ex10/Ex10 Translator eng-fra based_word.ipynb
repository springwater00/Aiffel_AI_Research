{
 "cells": [
  {
   "cell_type": "code",
   "execution_count": 1,
   "id": "f6e720e4",
   "metadata": {},
   "outputs": [],
   "source": [
    "import os\n",
    "import re\n",
    "import shutil\n",
    "import zipfile\n",
    "\n",
    "import numpy as np\n",
    "import pandas as pd\n",
    "import tensorflow as tf\n",
    "import unicodedata\n",
    "import urllib3\n",
    "from tensorflow.keras.layers import Embedding, GRU, Dense\n",
    "from tensorflow.keras.preprocessing.sequence import pad_sequences\n",
    "from tensorflow.keras.preprocessing.text import Tokenizer"
   ]
  },
  {
   "cell_type": "code",
   "execution_count": 2,
   "id": "1847007f",
   "metadata": {},
   "outputs": [],
   "source": [
    "num_samples = 33000"
   ]
  },
  {
   "cell_type": "markdown",
   "id": "22ac00e2",
   "metadata": {},
   "source": [
    "# 1. 정제, 정규화, 전처리 "
   ]
  },
  {
   "cell_type": "code",
   "execution_count": 3,
   "id": "dbf199e9",
   "metadata": {},
   "outputs": [],
   "source": [
    "def unicode_to_ascii(s):\n",
    "    return ''.join(c for c in unicodedata.normalize('NFD', s)\n",
    "      if unicodedata.category(c) != 'Mn')"
   ]
  },
  {
   "cell_type": "code",
   "execution_count": 4,
   "id": "e2160cab",
   "metadata": {},
   "outputs": [],
   "source": [
    "def preprocess_sentence(sent):\n",
    "    # 위에서 구현한 함수를 내부적으로 호출\n",
    "    sent = unicode_to_ascii(sent.lower())\n",
    "\n",
    "    # 단어와 구두점 사이에 공백을 만듭니다.\n",
    "    # Ex) \"he is a boy.\" => \"he is a boy .\"\n",
    "    sent = re.sub(r\"([?.!,¿])\", r\" \\1\", sent)\n",
    "\n",
    "    # (a-z, A-Z, \".\", \"?\", \"!\", \",\") 이들을 제외하고는 전부 공백으로 변환합니다.\n",
    "    sent = re.sub(r\"[^a-zA-Z!.?]+\", r\" \", sent)\n",
    "\n",
    "    sent = re.sub(r\"\\s+\", \" \", sent)\n",
    "    return sent"
   ]
  },
  {
   "cell_type": "code",
   "execution_count": 5,
   "id": "df945003",
   "metadata": {},
   "outputs": [],
   "source": [
    "def load_preprocessed_data():\n",
    "    encoder_input, decoder_input, decoder_target = [], [], []\n",
    "\n",
    "    file_path = os.getenv('HOME') + '/aiffel/translator_seq2seq/data/fra.txt'\n",
    "\n",
    "    with open(file_path, \"r\") as lines:\n",
    "        for i, line in enumerate(lines):\n",
    "\n",
    "            # source 데이터와 target 데이터 분리\n",
    "            src_line, tar_line, _ = line.strip().split('\\t')\n",
    "\n",
    "            # source 데이터 전처리\n",
    "            src_line_input = [w for w in preprocess_sentence(src_line).split()]\n",
    "\n",
    "            # target 데이터 전처리\n",
    "            tar_line = preprocess_sentence(tar_line)\n",
    "            # 시작, 종료 토큰 넣기\n",
    "            tar_line_input = [w for w in (\"<sos> \" + tar_line).split()]\n",
    "            tar_line_target = [w for w in (tar_line + \" <eos>\").split()]\n",
    "\n",
    "            encoder_input.append(src_line_input)\n",
    "            decoder_input.append(tar_line_input)\n",
    "            decoder_target.append(tar_line_target)\n",
    "\n",
    "            if i == num_samples - 1:\n",
    "                break\n",
    "\n",
    "    return encoder_input, decoder_input, decoder_target"
   ]
  },
  {
   "cell_type": "code",
   "execution_count": 6,
   "id": "1377e24a",
   "metadata": {},
   "outputs": [
    {
     "name": "stdout",
     "output_type": "stream",
     "text": [
      "[['go', '.'], ['go', '.'], ['go', '.'], ['go', '.'], ['hi', '.']]\n",
      "[['<sos>', 'va', '!'], ['<sos>', 'marche', '.'], ['<sos>', 'en', 'route', '!'], ['<sos>', 'bouge', '!'], ['<sos>', 'salut', '!']]\n",
      "[['va', '!', '<eos>'], ['marche', '.', '<eos>'], ['en', 'route', '!', '<eos>'], ['bouge', '!', '<eos>'], ['salut', '!', '<eos>']]\n"
     ]
    }
   ],
   "source": [
    "sents_en_in, sents_fra_in, sents_fra_out = load_preprocessed_data()\n",
    "print(sents_en_in[:5])\n",
    "print(sents_fra_in[:5])\n",
    "print(sents_fra_out[:5])"
   ]
  },
  {
   "cell_type": "markdown",
   "id": "a2932bd5",
   "metadata": {},
   "source": [
    "# 2. 토크나이저 (word to index)"
   ]
  },
  {
   "cell_type": "code",
   "execution_count": 7,
   "id": "1b4138ad",
   "metadata": {},
   "outputs": [],
   "source": [
    "tokenizer_en = Tokenizer(filters=\"\", lower=False)\n",
    "tokenizer_en.fit_on_texts(sents_en_in)\n",
    "encoder_input = tokenizer_en.texts_to_sequences(sents_en_in)\n",
    "\n",
    "tokenizer_fra = Tokenizer(filters=\"\", lower=False)\n",
    "tokenizer_fra.fit_on_texts(sents_fra_in)\n",
    "tokenizer_fra.fit_on_texts(sents_fra_out)\n",
    "decoder_input = tokenizer_fra.texts_to_sequences(sents_fra_in)\n",
    "decoder_target = tokenizer_fra.texts_to_sequences(sents_fra_out)"
   ]
  },
  {
   "cell_type": "code",
   "execution_count": 8,
   "id": "d94415fe",
   "metadata": {},
   "outputs": [],
   "source": [
    "encoder_input = pad_sequences(encoder_input, padding=\"post\")\n",
    "decoder_input = pad_sequences(decoder_input, padding=\"post\")\n",
    "decoder_target = pad_sequences(decoder_target, padding=\"post\")"
   ]
  },
  {
   "cell_type": "code",
   "execution_count": 10,
   "id": "43f442bd",
   "metadata": {},
   "outputs": [
    {
     "name": "stdout",
     "output_type": "stream",
     "text": [
      "영어 단어 집합의 크기 : 4672, 프랑스어 단어 집합의 크기 : 8137\n"
     ]
    }
   ],
   "source": [
    "src_vocab_size = len(tokenizer_en.word_index) + 1\n",
    "tar_vocab_size = len(tokenizer_fra.word_index) + 1\n",
    "print(\"영어 단어 집합의 크기 : {:d}, 프랑스어 단어 집합의 크기 : {:d}\".format(src_vocab_size, tar_vocab_size))"
   ]
  },
  {
   "cell_type": "code",
   "execution_count": 11,
   "id": "6ceacf60",
   "metadata": {},
   "outputs": [],
   "source": [
    "src_to_index = tokenizer_en.word_index\n",
    "index_to_src = tokenizer_en.index_word # 훈련 후 결과 비교할 때 사용\n",
    "\n",
    "tar_to_index = tokenizer_fra.word_index # 훈련 후 예측 과정에서 사용\n",
    "index_to_tar = tokenizer_fra.index_word # 훈련 후 결과 비교할 때 사용"
   ]
  },
  {
   "cell_type": "code",
   "execution_count": 12,
   "id": "980c08a3",
   "metadata": {},
   "outputs": [
    {
     "name": "stdout",
     "output_type": "stream",
     "text": [
      "[ 9320 12232 25453 ... 12268 31402  7778]\n"
     ]
    }
   ],
   "source": [
    "indices = np.arange(encoder_input.shape[0])\n",
    "np.random.shuffle(indices)\n",
    "print(indices)"
   ]
  },
  {
   "cell_type": "code",
   "execution_count": 13,
   "id": "bdd3c1ab",
   "metadata": {},
   "outputs": [],
   "source": [
    "encoder_input = encoder_input[indices]\n",
    "decoder_input = decoder_input[indices]\n",
    "decoder_target = decoder_target[indices]"
   ]
  },
  {
   "cell_type": "code",
   "execution_count": 14,
   "id": "36eb68e7",
   "metadata": {},
   "outputs": [],
   "source": [
    "n_of_val = 3000 #33000개 중 3000개를 테스트 데이터로 분리"
   ]
  },
  {
   "cell_type": "code",
   "execution_count": 15,
   "id": "2095a720",
   "metadata": {},
   "outputs": [],
   "source": [
    "encoder_input_train = encoder_input[:-n_of_val]\n",
    "decoder_input_train = decoder_input[:-n_of_val]\n",
    "decoder_target_train = decoder_target[:-n_of_val]\n",
    "\n",
    "encoder_input_test = encoder_input[-n_of_val:]\n",
    "decoder_input_test = decoder_input[-n_of_val:]\n",
    "decoder_target_test = decoder_target[-n_of_val:]"
   ]
  },
  {
   "cell_type": "code",
   "execution_count": 16,
   "id": "2bdd4904",
   "metadata": {},
   "outputs": [
    {
     "name": "stdout",
     "output_type": "stream",
     "text": [
      "(30000, 8)\n",
      "(30000, 16)\n",
      "(30000, 16)\n",
      "(3000, 8)\n",
      "(3000, 16)\n",
      "(3000, 16)\n"
     ]
    }
   ],
   "source": [
    "print(encoder_input_train.shape)\n",
    "print(decoder_input_train.shape)\n",
    "print(decoder_target_train.shape)\n",
    "print(encoder_input_test.shape)\n",
    "print(decoder_input_test.shape)\n",
    "print(decoder_target_test.shape)"
   ]
  },
  {
   "cell_type": "code",
   "execution_count": 17,
   "id": "7399bfbf",
   "metadata": {},
   "outputs": [],
   "source": [
    "latent_dim = 50"
   ]
  },
  {
   "cell_type": "markdown",
   "id": "1bd7011c",
   "metadata": {},
   "source": [
    "# 3. Embedding layer, Modeling"
   ]
  },
  {
   "cell_type": "code",
   "execution_count": 19,
   "id": "b5ed5675",
   "metadata": {},
   "outputs": [],
   "source": [
    "from tensorflow.keras.layers import Input, LSTM, Embedding, Dense, Masking\n",
    "from tensorflow.keras.models import Model\n",
    "\n",
    "# 인코더\n",
    "encoder_inputs = Input(shape=(None,))\n",
    "enc_emb =  Embedding(src_vocab_size, latent_dim)(encoder_inputs) # 임베딩 층\n",
    "enc_masking = Masking(mask_value=0.0)(enc_emb) # 패딩 0은 연산에서 제외\n",
    "encoder_lstm = LSTM(latent_dim, return_state=True) # 상태값 리턴을 위해 return_state는 True\n",
    "encoder_outputs, state_h, state_c = encoder_lstm(enc_masking) # 은닉 상태와 셀 상태를 리턴\n",
    "encoder_states = [state_h, state_c] # 인코더의 은닉 상태와 셀 상태를 저장"
   ]
  },
  {
   "cell_type": "code",
   "execution_count": 20,
   "id": "9a23bf34",
   "metadata": {},
   "outputs": [],
   "source": [
    "# 디코더\n",
    "decoder_inputs = Input(shape=(None,))\n",
    "dec_emb_layer = Embedding(tar_vocab_size, latent_dim) # 임베딩 층\n",
    "dec_emb = dec_emb_layer(decoder_inputs) # 패딩 0은 연산에서 제외\n",
    "dec_masking = Masking(mask_value=0.0)(dec_emb)\n",
    "\n",
    "# 상태값 리턴을 위해 return_state는 True, 모든 시점에 대해서 단어를 예측하기 위해 return_sequences는 True\n",
    "decoder_lstm = LSTM(latent_dim, return_sequences=True, return_state=True) \n",
    "\n",
    "# 인코더의 은닉 상태를 초기 은닉 상태(initial_state)로 사용\n",
    "decoder_outputs, _, _ = decoder_lstm(dec_masking,\n",
    "                                     initial_state=encoder_states)\n",
    "\n",
    "# 모든 시점의 결과에 대해서 소프트맥스 함수를 사용한 출력층을 통해 단어 예측\n",
    "decoder_dense = Dense(tar_vocab_size, activation='softmax')\n",
    "decoder_outputs = decoder_dense(decoder_outputs)"
   ]
  },
  {
   "cell_type": "code",
   "execution_count": 21,
   "id": "fb1adf59",
   "metadata": {},
   "outputs": [],
   "source": [
    "model = Model([encoder_inputs, decoder_inputs], decoder_outputs)"
   ]
  },
  {
   "cell_type": "code",
   "execution_count": 22,
   "id": "9ee9aa74",
   "metadata": {},
   "outputs": [],
   "source": [
    "model.compile(optimizer='rmsprop', loss='sparse_categorical_crossentropy', metrics=['acc'])"
   ]
  },
  {
   "cell_type": "code",
   "execution_count": 23,
   "id": "975cd702",
   "metadata": {},
   "outputs": [
    {
     "name": "stdout",
     "output_type": "stream",
     "text": [
      "Model: \"model\"\n",
      "__________________________________________________________________________________________________\n",
      "Layer (type)                    Output Shape         Param #     Connected to                     \n",
      "==================================================================================================\n",
      "input_1 (InputLayer)            [(None, None)]       0                                            \n",
      "__________________________________________________________________________________________________\n",
      "input_2 (InputLayer)            [(None, None)]       0                                            \n",
      "__________________________________________________________________________________________________\n",
      "embedding (Embedding)           (None, None, 50)     233600      input_1[0][0]                    \n",
      "__________________________________________________________________________________________________\n",
      "embedding_1 (Embedding)         (None, None, 50)     406850      input_2[0][0]                    \n",
      "__________________________________________________________________________________________________\n",
      "masking (Masking)               (None, None, 50)     0           embedding[0][0]                  \n",
      "__________________________________________________________________________________________________\n",
      "masking_1 (Masking)             (None, None, 50)     0           embedding_1[0][0]                \n",
      "__________________________________________________________________________________________________\n",
      "lstm (LSTM)                     [(None, 50), (None,  20200       masking[0][0]                    \n",
      "__________________________________________________________________________________________________\n",
      "lstm_1 (LSTM)                   [(None, None, 50), ( 20200       masking_1[0][0]                  \n",
      "                                                                 lstm[0][1]                       \n",
      "                                                                 lstm[0][2]                       \n",
      "__________________________________________________________________________________________________\n",
      "dense (Dense)                   (None, None, 8137)   414987      lstm_1[0][0]                     \n",
      "==================================================================================================\n",
      "Total params: 1,095,837\n",
      "Trainable params: 1,095,837\n",
      "Non-trainable params: 0\n",
      "__________________________________________________________________________________________________\n"
     ]
    }
   ],
   "source": [
    "model.summary()"
   ]
  },
  {
   "cell_type": "code",
   "execution_count": 30,
   "id": "c0652aca",
   "metadata": {},
   "outputs": [
    {
     "name": "stdout",
     "output_type": "stream",
     "text": [
      "Epoch 1/50\n",
      "235/235 [==============================] - 6s 27ms/step - loss: 0.6163 - acc: 0.8946 - val_loss: 0.8386 - val_acc: 0.8642\n",
      "Epoch 2/50\n",
      "235/235 [==============================] - 6s 26ms/step - loss: 0.6115 - acc: 0.8951 - val_loss: 0.8366 - val_acc: 0.8656\n",
      "Epoch 3/50\n",
      "235/235 [==============================] - 6s 26ms/step - loss: 0.6076 - acc: 0.8960 - val_loss: 0.8354 - val_acc: 0.8657\n",
      "Epoch 4/50\n",
      "235/235 [==============================] - 6s 26ms/step - loss: 0.6037 - acc: 0.8968 - val_loss: 0.8350 - val_acc: 0.8661\n",
      "Epoch 5/50\n",
      "235/235 [==============================] - 6s 26ms/step - loss: 0.6000 - acc: 0.8975 - val_loss: 0.8372 - val_acc: 0.8650\n",
      "Epoch 6/50\n",
      "235/235 [==============================] - 6s 26ms/step - loss: 0.5968 - acc: 0.8982 - val_loss: 0.8347 - val_acc: 0.8661\n",
      "Epoch 7/50\n",
      "235/235 [==============================] - 6s 26ms/step - loss: 0.5933 - acc: 0.8989 - val_loss: 0.8333 - val_acc: 0.8662\n",
      "Epoch 8/50\n",
      "235/235 [==============================] - 6s 26ms/step - loss: 0.5903 - acc: 0.8996 - val_loss: 0.8332 - val_acc: 0.8660\n",
      "Epoch 9/50\n",
      "235/235 [==============================] - 6s 26ms/step - loss: 0.5870 - acc: 0.9003 - val_loss: 0.8311 - val_acc: 0.8669\n",
      "Epoch 10/50\n",
      "235/235 [==============================] - 6s 26ms/step - loss: 0.5840 - acc: 0.9009 - val_loss: 0.8297 - val_acc: 0.8677\n",
      "Epoch 11/50\n",
      "235/235 [==============================] - 6s 26ms/step - loss: 0.5807 - acc: 0.9016 - val_loss: 0.8299 - val_acc: 0.8673\n",
      "Epoch 12/50\n",
      "235/235 [==============================] - 6s 26ms/step - loss: 0.5776 - acc: 0.9022 - val_loss: 0.8333 - val_acc: 0.8665\n",
      "Epoch 13/50\n",
      "235/235 [==============================] - 6s 26ms/step - loss: 0.5742 - acc: 0.9027 - val_loss: 0.8339 - val_acc: 0.8663\n",
      "Epoch 14/50\n",
      "235/235 [==============================] - 6s 26ms/step - loss: 0.5711 - acc: 0.9034 - val_loss: 0.8317 - val_acc: 0.8666\n",
      "Epoch 15/50\n",
      "235/235 [==============================] - 6s 26ms/step - loss: 0.5682 - acc: 0.9036 - val_loss: 0.8282 - val_acc: 0.8662\n",
      "Epoch 16/50\n",
      "235/235 [==============================] - 6s 26ms/step - loss: 0.5652 - acc: 0.9045 - val_loss: 0.8291 - val_acc: 0.8670\n",
      "Epoch 17/50\n",
      "235/235 [==============================] - 6s 26ms/step - loss: 0.5620 - acc: 0.9049 - val_loss: 0.8308 - val_acc: 0.8658\n",
      "Epoch 18/50\n",
      "235/235 [==============================] - 6s 26ms/step - loss: 0.5592 - acc: 0.9053 - val_loss: 0.8305 - val_acc: 0.8667\n",
      "Epoch 19/50\n",
      "235/235 [==============================] - 6s 26ms/step - loss: 0.5568 - acc: 0.9060 - val_loss: 0.8252 - val_acc: 0.8678\n",
      "Epoch 20/50\n",
      "235/235 [==============================] - 6s 26ms/step - loss: 0.5542 - acc: 0.9065 - val_loss: 0.8272 - val_acc: 0.8673\n",
      "Epoch 21/50\n",
      "235/235 [==============================] - 6s 26ms/step - loss: 0.5517 - acc: 0.9070 - val_loss: 0.8271 - val_acc: 0.8670\n",
      "Epoch 22/50\n",
      "235/235 [==============================] - 6s 26ms/step - loss: 0.5492 - acc: 0.9077 - val_loss: 0.8311 - val_acc: 0.8671\n",
      "Epoch 23/50\n",
      "235/235 [==============================] - 6s 26ms/step - loss: 0.5471 - acc: 0.9080 - val_loss: 0.8302 - val_acc: 0.8669\n",
      "Epoch 24/50\n",
      "235/235 [==============================] - 6s 26ms/step - loss: 0.5451 - acc: 0.9085 - val_loss: 0.8313 - val_acc: 0.8674\n",
      "Epoch 25/50\n",
      "235/235 [==============================] - 6s 26ms/step - loss: 0.5429 - acc: 0.9090 - val_loss: 0.8289 - val_acc: 0.8679\n",
      "Epoch 26/50\n",
      "235/235 [==============================] - 6s 26ms/step - loss: 0.5410 - acc: 0.9094 - val_loss: 0.8271 - val_acc: 0.8677\n",
      "Epoch 27/50\n",
      "235/235 [==============================] - 6s 26ms/step - loss: 0.5389 - acc: 0.9098 - val_loss: 0.8267 - val_acc: 0.8673\n",
      "Epoch 28/50\n",
      "235/235 [==============================] - 6s 26ms/step - loss: 0.5372 - acc: 0.9103 - val_loss: 0.8310 - val_acc: 0.8673\n",
      "Epoch 29/50\n",
      "235/235 [==============================] - 6s 26ms/step - loss: 0.5352 - acc: 0.9104 - val_loss: 0.8269 - val_acc: 0.8674\n",
      "Epoch 30/50\n",
      "235/235 [==============================] - 6s 26ms/step - loss: 0.5335 - acc: 0.9108 - val_loss: 0.8299 - val_acc: 0.8663\n",
      "Epoch 31/50\n",
      "235/235 [==============================] - 6s 26ms/step - loss: 0.5316 - acc: 0.9112 - val_loss: 0.8299 - val_acc: 0.8673\n",
      "Epoch 32/50\n",
      "235/235 [==============================] - 6s 26ms/step - loss: 0.5297 - acc: 0.9116 - val_loss: 0.8266 - val_acc: 0.8676\n",
      "Epoch 33/50\n",
      "235/235 [==============================] - 6s 26ms/step - loss: 0.5277 - acc: 0.9117 - val_loss: 0.8314 - val_acc: 0.8668\n",
      "Epoch 34/50\n",
      "235/235 [==============================] - 6s 26ms/step - loss: 0.5259 - acc: 0.9124 - val_loss: 0.8313 - val_acc: 0.8661\n",
      "Epoch 35/50\n",
      "235/235 [==============================] - 6s 26ms/step - loss: 0.5241 - acc: 0.9125 - val_loss: 0.8282 - val_acc: 0.8674\n",
      "Epoch 36/50\n",
      "235/235 [==============================] - 6s 26ms/step - loss: 0.5226 - acc: 0.9128 - val_loss: 0.8293 - val_acc: 0.8674\n",
      "Epoch 37/50\n",
      "235/235 [==============================] - 6s 26ms/step - loss: 0.5208 - acc: 0.9133 - val_loss: 0.8296 - val_acc: 0.8668\n",
      "Epoch 38/50\n",
      "235/235 [==============================] - 6s 26ms/step - loss: 0.5190 - acc: 0.9135 - val_loss: 0.8313 - val_acc: 0.8669\n",
      "Epoch 39/50\n",
      "235/235 [==============================] - 6s 26ms/step - loss: 0.5173 - acc: 0.9138 - val_loss: 0.8287 - val_acc: 0.8671\n",
      "Epoch 40/50\n",
      "235/235 [==============================] - 6s 26ms/step - loss: 0.5155 - acc: 0.9141 - val_loss: 0.8301 - val_acc: 0.8664\n",
      "Epoch 41/50\n",
      "235/235 [==============================] - 6s 26ms/step - loss: 0.5139 - acc: 0.9145 - val_loss: 0.8345 - val_acc: 0.8664\n",
      "Epoch 42/50\n",
      "235/235 [==============================] - 6s 26ms/step - loss: 0.5121 - acc: 0.9148 - val_loss: 0.8330 - val_acc: 0.8667\n",
      "Epoch 43/50\n",
      "235/235 [==============================] - 6s 26ms/step - loss: 0.5105 - acc: 0.9150 - val_loss: 0.8389 - val_acc: 0.8653\n",
      "Epoch 44/50\n",
      "235/235 [==============================] - 6s 27ms/step - loss: 0.5089 - acc: 0.9152 - val_loss: 0.8391 - val_acc: 0.8661\n",
      "Epoch 45/50\n",
      "235/235 [==============================] - 6s 26ms/step - loss: 0.5073 - acc: 0.9154 - val_loss: 0.8326 - val_acc: 0.8671\n",
      "Epoch 46/50\n",
      "235/235 [==============================] - 6s 26ms/step - loss: 0.5058 - acc: 0.9157 - val_loss: 0.8316 - val_acc: 0.8666\n",
      "Epoch 47/50\n",
      "235/235 [==============================] - 6s 26ms/step - loss: 0.5045 - acc: 0.9160 - val_loss: 0.8316 - val_acc: 0.8664\n",
      "Epoch 48/50\n",
      "235/235 [==============================] - 6s 26ms/step - loss: 0.5030 - acc: 0.9162 - val_loss: 0.8363 - val_acc: 0.8661\n",
      "Epoch 49/50\n",
      "235/235 [==============================] - 6s 26ms/step - loss: 0.5016 - acc: 0.9165 - val_loss: 0.8318 - val_acc: 0.8663\n",
      "Epoch 50/50\n",
      "235/235 [==============================] - 6s 26ms/step - loss: 0.5004 - acc: 0.9167 - val_loss: 0.8384 - val_acc: 0.8659\n"
     ]
    }
   ],
   "source": [
    "history = model.fit(x = [encoder_input_train, decoder_input_train], y = decoder_target_train, \\\n",
    "          validation_data = ([encoder_input_test, decoder_input_test], decoder_target_test),\n",
    "          batch_size = 128, epochs = 50)"
   ]
  },
  {
   "cell_type": "code",
   "execution_count": 31,
   "id": "a54199c6",
   "metadata": {},
   "outputs": [],
   "source": [
    "# 인코더\n",
    "encoder_model = Model(encoder_inputs, encoder_states)"
   ]
  },
  {
   "cell_type": "code",
   "execution_count": 32,
   "id": "2aec6678",
   "metadata": {},
   "outputs": [],
   "source": [
    "# 디코더\n",
    "# 이전 시점의 상태를 보관할 텐서\n",
    "decoder_state_input_h = Input(shape=(latent_dim,))\n",
    "decoder_state_input_c = Input(shape=(latent_dim,))\n",
    "decoder_states_inputs = [decoder_state_input_h, decoder_state_input_c]\n",
    "\n",
    "# 훈련 때 사용했던 임베딩 층을 재사용\n",
    "dec_emb2= dec_emb_layer(decoder_inputs)\n",
    "\n",
    "# 다음 단어 예측을 위해 이전 시점의 상태를 현 시점의 초기 상태로 사용\n",
    "decoder_outputs2, state_h2, state_c2 = decoder_lstm(dec_emb2, initial_state=decoder_states_inputs)\n",
    "decoder_states2 = [state_h2, state_c2]\n",
    "\n",
    "# 모든 시점에 대해서 단어 예측\n",
    "decoder_outputs2 = decoder_dense(decoder_outputs2)"
   ]
  },
  {
   "cell_type": "code",
   "execution_count": 33,
   "id": "e762d5e3",
   "metadata": {},
   "outputs": [],
   "source": [
    "decoder_model = Model(\n",
    "    [decoder_inputs] + decoder_states_inputs,\n",
    "    [decoder_outputs2] + decoder_states2)"
   ]
  },
  {
   "cell_type": "code",
   "execution_count": 34,
   "id": "d4a913c6",
   "metadata": {},
   "outputs": [],
   "source": [
    "def decode_sequence(input_seq):\n",
    "    # 입력으로부터 인코더의 상태를 얻음\n",
    "    states_value = encoder_model.predict(input_seq)\n",
    "\n",
    "    # <SOS>에 해당하는 정수 생성\n",
    "    target_seq = np.zeros((1,1))\n",
    "    target_seq[0, 0] = tar_to_index['<sos>']\n",
    "\n",
    "    stop_condition = False\n",
    "    decoded_sentence = ''\n",
    "\n",
    "    # stop_condition이 True가 될 때까지 루프 반복\n",
    "    # 구현의 간소화를 위해서 이 함수는 배치 크기를 1로 가정합니다.\n",
    "    while not stop_condition:\n",
    "        # 이점 시점의 상태 states_value를 현 시점의 초기 상태로 사용\n",
    "        output_tokens, h, c = decoder_model.predict([target_seq] + states_value)\n",
    "\n",
    "        # 예측 결과를 단어로 변환\n",
    "        sampled_token_index = np.argmax(output_tokens[0, -1, :])\n",
    "        sampled_char = index_to_tar[sampled_token_index]\n",
    "\n",
    "         # 현재 시점의 예측 단어를 예측 문장에 추가\n",
    "        decoded_sentence += ' '+sampled_char\n",
    "\n",
    "        # <eos>에 도달하거나 정해진 길이를 넘으면 중단.\n",
    "        if (sampled_char == '<eos>' or\n",
    "           len(decoded_sentence) > 50):\n",
    "            stop_condition = True\n",
    "\n",
    "        # 현재 시점의 예측 결과를 다음 시점의 입력으로 사용하기 위해 저장\n",
    "        target_seq = np.zeros((1,1))\n",
    "        target_seq[0, 0] = sampled_token_index\n",
    "\n",
    "        # 현재 시점의 상태를 다음 시점의 상태로 사용하기 위해 저장\n",
    "        states_value = [h, c]\n",
    "\n",
    "    return decoded_sentence"
   ]
  },
  {
   "cell_type": "code",
   "execution_count": 35,
   "id": "3b6ba58e",
   "metadata": {},
   "outputs": [],
   "source": [
    "# 원문의 정수 시퀀스를 텍스트 시퀀스로 변환\n",
    "def seq2src(input_seq):\n",
    "    temp=''\n",
    "    for i in input_seq:\n",
    "        if(i!=0):\n",
    "            temp = temp + index_to_src[i]+' '\n",
    "    return temp\n",
    "\n",
    "# 번역문의 정수 시퀀스를 텍스트 시퀀스로 변환\n",
    "def seq2tar(input_seq):\n",
    "    temp=''\n",
    "    for i in input_seq:\n",
    "        if((i!=0 and i!=tar_to_index['<sos>']) and i!=tar_to_index['<eos>']):\n",
    "            temp = temp + index_to_tar[i] + ' '\n",
    "    return temp"
   ]
  },
  {
   "cell_type": "markdown",
   "id": "1965db8c",
   "metadata": {},
   "source": [
    "# 4. 모델평가"
   ]
  },
  {
   "cell_type": "code",
   "execution_count": 41,
   "id": "69a86663",
   "metadata": {},
   "outputs": [
    {
     "name": "stdout",
     "output_type": "stream",
     "text": [
      "원문 :  i was late . \n",
      "번역 : j etais en retard . \n",
      "예측 :  j etais en retard . \n",
      "\n",
      "\n",
      "원문 :  he s love struck . \n",
      "번역 : il a le coup de foudre . \n",
      "예측 :  il le chapeau . \n",
      "\n",
      "\n",
      "원문 :  does tom smoke ? \n",
      "번역 : tom fume t il ? \n",
      "예측 :  est ce que tom a mange ? \n",
      "\n",
      "\n",
      "원문 :  they re all guilty . \n",
      "번역 : ils sont tous coupables . \n",
      "예측 :  ils sont toutes froid . \n",
      "\n",
      "\n",
      "원문 :  it looks nice . \n",
      "번역 : ca a l air bien . \n",
      "예측 :  ca a l air bien . \n",
      "\n",
      "\n"
     ]
    }
   ],
   "source": [
    "for seq_index in [3,50,100,300,1001]:\n",
    "    input_seq = encoder_input_train[seq_index: seq_index + 1]\n",
    "    decoded_sentence = decode_sequence(input_seq)\n",
    "\n",
    "    print(\"원문 : \",seq2src(encoder_input_train[seq_index]))\n",
    "    print(\"번역 :\",seq2tar(decoder_input_train[seq_index]))\n",
    "    print(\"예측 :\",decoded_sentence[:-5])\n",
    "    print(\"\\n\")"
   ]
  },
  {
   "cell_type": "code",
   "execution_count": 39,
   "id": "b08a744a",
   "metadata": {},
   "outputs": [
    {
     "name": "stdout",
     "output_type": "stream",
     "text": [
      "원문 :  it s not right . \n",
      "번역 : c est inexact . \n",
      "예측 :  ce n est pas a la raison . \n",
      "\n",
      "\n",
      "원문 :  what s your wish ? \n",
      "번역 : quel est votre souhait ? \n",
      "예측 :  quel est votre fils ? \n",
      "\n",
      "\n",
      "원문 :  thanks a lot . \n",
      "번역 : merci mille fois ! \n",
      "예측 :  merci bien . \n",
      "\n",
      "\n",
      "원문 :  we count on you . \n",
      "번역 : nous comptons sur vous . \n",
      "예측 :  nous ne pouvons pas en . \n",
      "\n",
      "\n",
      "원문 :  take it easy ! \n",
      "번역 : relaxe max ! \n",
      "예측 :  ne votre calme ! \n",
      "\n",
      "\n"
     ]
    }
   ],
   "source": [
    "for seq_index in [3,50,100,300,1001]:\n",
    "    input_seq = encoder_input_test[seq_index: seq_index + 1]\n",
    "    decoded_sentence = decode_sequence(input_seq)\n",
    "\n",
    "    print(\"원문 : \",seq2src(encoder_input_test[seq_index]))\n",
    "    print(\"번역 :\",seq2tar(decoder_input_test[seq_index]))\n",
    "    print(\"예측 :\",decoded_sentence[:-5])\n",
    "    print(\"\\n\")"
   ]
  },
  {
   "cell_type": "code",
   "execution_count": 48,
   "id": "cc5e9a2b",
   "metadata": {
    "scrolled": true
   },
   "outputs": [
    {
     "data": {
      "image/png": "[encoded data removed]",
      "text/plain": [
       "<Figure size 432x288 with 1 Axes>"
      ]
     },
     "metadata": {
      "needs_background": "light"
     },
     "output_type": "display_data"
    }
   ],
   "source": [
    "import matplotlib.pyplot as plt\n",
    "\n",
    "plt.plot(history.history['loss'])\n",
    "plt.plot(history.history['val_loss'])\n",
    "plt.title('Model loss')\n",
    "plt.xlabel('Epoch')\n",
    "plt.ylabel('Loss')\n",
    "plt.legend(['Val', 'Test'], loc='upper left')\n",
    "plt.show()"
   ]
  },
  {
   "cell_type": "markdown",
   "id": "79fc3929",
   "metadata": {},
   "source": [
    "# 5. 회고\n",
    "\n",
    "세상 제일 어려웠던 노드.. 여러자료를 찾아보고 개념은 이해했지만, 코드에서 막혔다. character로 토큰한것을 파라미터값만 지우면 word로 쉽사리 될 것이라고 생각했는데, 중간중간 에러가 떠서 해결이 힘들었다. 참고자료를 보며 복붙하기밖에 안된 것 같아 속상 ㅠㅠㅠㅠ\n",
    "그래프계형은 test에서 loss 가 train보다는 훨씬 높았지만 번역결과는 잘나왔다.\n",
    "참고 : https://wikidocs.net/86900"
   ]
  },
  {
   "cell_type": "markdown",
   "id": "1e7fda72",
   "metadata": {},
   "source": [
    "#### 결과 해석값\n",
    "\n",
    "it s not right  / ce n est pas a la raison. / 그것은 논리가 아니다\n",
    "\n",
    "what s your wish ? / quel est votre fils ? / 당신의 아들은 무엇입니까?\n",
    "\n",
    "thanks a lot . / merci bien . / 감사합니다.\n",
    "\n",
    "we count on you ./ nous ne pouvons pas en ./ 우리는 할 수 없습니다.\n",
    "\n",
    "take it easy ! / ne votre calme ! / 진정하세요!"
   ]
  },
  {
   "cell_type": "code",
   "execution_count": null,
   "id": "e57e173c",
   "metadata": {},
   "outputs": [],
   "source": []
  }
 ],
 "metadata": {
  "kernelspec": {
   "display_name": "Python 3 (ipykernel)",
   "language": "python",
   "name": "python3"
  },
  "language_info": {
   "codemirror_mode": {
    "name": "ipython",
    "version": 3
   },
   "file_extension": ".py",
   "mimetype": "text/x-python",
   "name": "python",
   "nbconvert_exporter": "python",
   "pygments_lexer": "ipython3",
   "version": "3.9.7"
  }
 },
 "nbformat": 4,
 "nbformat_minor": 5
}
