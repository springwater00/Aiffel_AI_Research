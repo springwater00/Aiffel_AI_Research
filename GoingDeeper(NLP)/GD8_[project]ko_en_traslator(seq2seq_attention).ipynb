{
 "cells": [
  {
   "cell_type": "markdown",
   "id": "64b819a7",
   "metadata": {},
   "source": [
    "# 8-7. 프로젝트: 한영 번역기 만들기"
   ]
  },
  {
   "cell_type": "code",
   "execution_count": 1,
   "id": "a426e39b",
   "metadata": {},
   "outputs": [],
   "source": [
    "import pandas as pd\n",
    "import tensorflow as tf\n",
    "import matplotlib.pyplot as plt\n",
    "import os\n",
    "import numpy as np\n",
    "import re\n",
    "import urllib.request\n",
    "import warnings\n",
    "warnings.filterwarnings('ignore')"
   ]
  },
  {
   "cell_type": "code",
   "execution_count": 2,
   "id": "a23a2a6b",
   "metadata": {},
   "outputs": [
    {
     "data": {
      "text/plain": [
       "'/device:GPU:0'"
      ]
     },
     "execution_count": 2,
     "metadata": {},
     "output_type": "execute_result"
    }
   ],
   "source": [
    "tf.test.gpu_device_name()"
   ]
  },
  {
   "cell_type": "markdown",
   "id": "b8f28405",
   "metadata": {},
   "source": [
    "# 0. 데이터 확인"
   ]
  },
  {
   "cell_type": "code",
   "execution_count": 3,
   "id": "88e5ed03",
   "metadata": {},
   "outputs": [],
   "source": [
    "en_train = os.getenv('HOME')+'/aiffel/Going_Deeper_NLP/korean-english-park.train.en'\n",
    "ko_train = os.getenv('HOME')+'/aiffel/Going_Deeper_NLP/korean-english-park.train.ko'\n",
    "en_val = os.getenv('HOME')+'/aiffel/Going_Deeper_NLP/korean-english-park.test.en'\n",
    "ko_val = os.getenv('HOME')+'/aiffel/Going_Deeper_NLP/korean-english-park.test.ko'\n",
    "\n",
    "def read_text(file_name) :\n",
    "    with open(file_name, 'r', encoding = 'UTF-8') as f:\n",
    "        s = f.read().splitlines()\n",
    "    return s\n",
    "\n",
    "ko_enc_data = read_text(ko_train)\n",
    "en_dec_data = read_text(en_train)\n",
    "ko_val_data = read_text(ko_val)\n",
    "en_val_data = read_text(en_val)"
   ]
  },
  {
   "cell_type": "code",
   "execution_count": 4,
   "id": "0f40f76c",
   "metadata": {},
   "outputs": [
    {
     "name": "stdout",
     "output_type": "stream",
     "text": [
      "94123\n",
      "['개인용 컴퓨터 사용의 상당 부분은 \"이것보다 뛰어날 수 있느냐?\"', '모든 광마우스와 마찬가지 로 이 광마우스도 책상 위에 놓는 마우스 패드를 필요로 하지 않는다.', '그러나 이것은 또한 책상도 필요로 하지 않는다.']\n",
      "94123\n",
      "['Much of personal computing is about \"can you top this?\"', 'so a mention a few weeks ago about a rechargeable wireless optical mouse brought in another rechargeable, wireless mouse.', \"Like all optical mice, But it also doesn't need a desk.\"]\n",
      "2000\n",
      "['토론에 참여한 사람들은 법 집행과 국가 안전보장에 대한 우려를 표명해야 할 필요성을 진지하게 받아 들이고 있습니다.', '또한 새로운 기술 개발이 어떤 해결책을 제공해 주는데 도움이 될 것이고, 동시 에 통신망 사용자들이 보다 안전하게 통신을 할 수 있도록 도움을 주게 되리라는 희망도 있습니다.', '그래서 클리퍼 칩에 대한 개인적인 해결책은 서서히 자취를 감출 것입니다. 그러나 이 문제는 계속 우리 곁에 존재할 것이며, 당분간은 심각한 상태로 존재할 것입니다.']\n",
      "2000\n",
      "['Those involved in the discussions do take seriously the need to address concerns of law enforcement and national security.', 'There is also some hope that new technology developments will help to provide some solutions and at the same time helping to make users of the networks more secure in their communications.', 'So the individual solution of the clipper chip may fade from sight, but the questions will be with us and will remain serious for some time.']\n"
     ]
    }
   ],
   "source": [
    "dataset = [ko_enc_data,en_dec_data,ko_val_data,en_val_data]\n",
    "\n",
    "for data in dataset:\n",
    "    print(len(data))\n",
    "    print(data[:3]) \n",
    "    "
   ]
  },
  {
   "cell_type": "code",
   "execution_count": 5,
   "id": "cf1a89a1",
   "metadata": {},
   "outputs": [
    {
     "data": {
      "text/html": [
       "<div>\n",
       "<style scoped>\n",
       "    .dataframe tbody tr th:only-of-type {\n",
       "        vertical-align: middle;\n",
       "    }\n",
       "\n",
       "    .dataframe tbody tr th {\n",
       "        vertical-align: top;\n",
       "    }\n",
       "\n",
       "    .dataframe thead th {\n",
       "        text-align: right;\n",
       "    }\n",
       "</style>\n",
       "<table border=\"1\" class=\"dataframe\">\n",
       "  <thead>\n",
       "    <tr style=\"text-align: right;\">\n",
       "      <th></th>\n",
       "      <th>ko</th>\n",
       "      <th>en</th>\n",
       "    </tr>\n",
       "  </thead>\n",
       "  <tbody>\n",
       "    <tr>\n",
       "      <th>0</th>\n",
       "      <td>개인용 컴퓨터 사용의 상당 부분은 \"이것보다 뛰어날 수 있느냐?\"</td>\n",
       "      <td>Much of personal computing is about \"can you t...</td>\n",
       "    </tr>\n",
       "    <tr>\n",
       "      <th>1</th>\n",
       "      <td>모든 광마우스와 마찬가지 로 이 광마우스도 책상 위에 놓는 마우스 패드를 필요로 하...</td>\n",
       "      <td>so a mention a few weeks ago about a rechargea...</td>\n",
       "    </tr>\n",
       "    <tr>\n",
       "      <th>2</th>\n",
       "      <td>그러나 이것은 또한 책상도 필요로 하지 않는다.</td>\n",
       "      <td>Like all optical mice, But it also doesn't nee...</td>\n",
       "    </tr>\n",
       "    <tr>\n",
       "      <th>3</th>\n",
       "      <td>79.95달러하는 이 최첨단 무선 광마우스는 허공에서 팔목, 팔, 그외에 어떤 부분...</td>\n",
       "      <td>uses gyroscopic sensors to control the cursor ...</td>\n",
       "    </tr>\n",
       "    <tr>\n",
       "      <th>4</th>\n",
       "      <td>정보 관리들은 동남 아시아에서의 선박들에 대한 많은 (테러) 계획들이 실패로 돌아갔...</td>\n",
       "      <td>Intelligence officials have revealed a spate o...</td>\n",
       "    </tr>\n",
       "  </tbody>\n",
       "</table>\n",
       "</div>"
      ],
      "text/plain": [
       "                                                  ko  \\\n",
       "0               개인용 컴퓨터 사용의 상당 부분은 \"이것보다 뛰어날 수 있느냐?\"   \n",
       "1  모든 광마우스와 마찬가지 로 이 광마우스도 책상 위에 놓는 마우스 패드를 필요로 하...   \n",
       "2                         그러나 이것은 또한 책상도 필요로 하지 않는다.   \n",
       "3  79.95달러하는 이 최첨단 무선 광마우스는 허공에서 팔목, 팔, 그외에 어떤 부분...   \n",
       "4  정보 관리들은 동남 아시아에서의 선박들에 대한 많은 (테러) 계획들이 실패로 돌아갔...   \n",
       "\n",
       "                                                  en  \n",
       "0  Much of personal computing is about \"can you t...  \n",
       "1  so a mention a few weeks ago about a rechargea...  \n",
       "2  Like all optical mice, But it also doesn't nee...  \n",
       "3  uses gyroscopic sensors to control the cursor ...  \n",
       "4  Intelligence officials have revealed a spate o...  "
      ]
     },
     "execution_count": 5,
     "metadata": {},
     "output_type": "execute_result"
    }
   ],
   "source": [
    "train_data = pd.DataFrame({'ko':ko_enc_data,'en':en_dec_data})\n",
    "val_data = pd.DataFrame({'ko':ko_val_data,'en':en_val_data})\n",
    "train_data.head()"
   ]
  },
  {
   "cell_type": "markdown",
   "id": "e5bca3f3",
   "metadata": {},
   "source": [
    "# 1. 데이터 정제"
   ]
  },
  {
   "cell_type": "code",
   "execution_count": 6,
   "id": "2dfc1cca",
   "metadata": {},
   "outputs": [
    {
     "name": "stdout",
     "output_type": "stream",
     "text": [
      "train 전처리전 shape :  (94123, 2)\n",
      "train 전처리후 shape :  (77487, 2)\n"
     ]
    },
    {
     "data": {
      "text/html": [
       "<div>\n",
       "<style scoped>\n",
       "    .dataframe tbody tr th:only-of-type {\n",
       "        vertical-align: middle;\n",
       "    }\n",
       "\n",
       "    .dataframe tbody tr th {\n",
       "        vertical-align: top;\n",
       "    }\n",
       "\n",
       "    .dataframe thead th {\n",
       "        text-align: right;\n",
       "    }\n",
       "</style>\n",
       "<table border=\"1\" class=\"dataframe\">\n",
       "  <thead>\n",
       "    <tr style=\"text-align: right;\">\n",
       "      <th></th>\n",
       "      <th>ko</th>\n",
       "      <th>en</th>\n",
       "    </tr>\n",
       "  </thead>\n",
       "  <tbody>\n",
       "    <tr>\n",
       "      <th>0</th>\n",
       "      <td>개인용 컴퓨터 사용의 상당 부분은 이것보다 뛰어날 수 있느냐</td>\n",
       "      <td>much of personal computing is about can you to...</td>\n",
       "    </tr>\n",
       "    <tr>\n",
       "      <th>1</th>\n",
       "      <td>모든 광마우스와 마찬가지 로 이 광마우스도 책상 위에 놓는 마우스 패드를 필요로 하...</td>\n",
       "      <td>so a mention a few weeks ago about a rechargea...</td>\n",
       "    </tr>\n",
       "    <tr>\n",
       "      <th>2</th>\n",
       "      <td>그러나 이것은 또한 책상도 필요로 하지 않는다</td>\n",
       "      <td>like all optical mice, but it also doesn t nee...</td>\n",
       "    </tr>\n",
       "  </tbody>\n",
       "</table>\n",
       "</div>"
      ],
      "text/plain": [
       "                                                  ko  \\\n",
       "0                  개인용 컴퓨터 사용의 상당 부분은 이것보다 뛰어날 수 있느냐   \n",
       "1  모든 광마우스와 마찬가지 로 이 광마우스도 책상 위에 놓는 마우스 패드를 필요로 하...   \n",
       "2                          그러나 이것은 또한 책상도 필요로 하지 않는다   \n",
       "\n",
       "                                                  en  \n",
       "0  much of personal computing is about can you to...  \n",
       "1  so a mention a few weeks ago about a rechargea...  \n",
       "2  like all optical mice, but it also doesn t nee...  "
      ]
     },
     "execution_count": 6,
     "metadata": {},
     "output_type": "execute_result"
    }
   ],
   "source": [
    "# train_data 전처리\n",
    "\n",
    "print(\"train 전처리전 shape : \",train_data.shape)\n",
    "\n",
    "# 중복 제외\n",
    "train_data.drop_duplicates(subset=['ko'], inplace = True )\n",
    "# null값 제외\n",
    "train_data = train_data.dropna(how='any')\n",
    "\n",
    "# 한글, 영어 전처리\n",
    "train_data['ko'] = train_data['ko'].str.replace(\"[^ㄱ-ㅎㅏ-ㅣ가-힣 ]\", \"\").str.strip()\n",
    "train_data['en'] = train_data['en'].astype(str).str.lower()\n",
    "train_data['en'] = train_data['en'].str.replace(\"[^a-zA-Z?.!,]+\", \" \").str.strip()\n",
    "\n",
    "\n",
    "# 공백 제외\n",
    "train_data['ko'].replace('', np.nan, inplace=True)\n",
    "# null값 제외\n",
    "train_data = train_data.dropna(how='any')\n",
    "print(\"train 전처리후 shape : \",train_data.shape)\n",
    "\n",
    "train_data.head(3)"
   ]
  },
  {
   "cell_type": "code",
   "execution_count": 7,
   "id": "80add150",
   "metadata": {
    "scrolled": true
   },
   "outputs": [
    {
     "name": "stdout",
     "output_type": "stream",
     "text": [
      "val 전처리전 shape :  (2000, 2)\n",
      "val 전처리후 shape :  (1992, 2)\n"
     ]
    },
    {
     "data": {
      "text/html": [
       "<div>\n",
       "<style scoped>\n",
       "    .dataframe tbody tr th:only-of-type {\n",
       "        vertical-align: middle;\n",
       "    }\n",
       "\n",
       "    .dataframe tbody tr th {\n",
       "        vertical-align: top;\n",
       "    }\n",
       "\n",
       "    .dataframe thead th {\n",
       "        text-align: right;\n",
       "    }\n",
       "</style>\n",
       "<table border=\"1\" class=\"dataframe\">\n",
       "  <thead>\n",
       "    <tr style=\"text-align: right;\">\n",
       "      <th></th>\n",
       "      <th>ko</th>\n",
       "      <th>en</th>\n",
       "    </tr>\n",
       "  </thead>\n",
       "  <tbody>\n",
       "    <tr>\n",
       "      <th>0</th>\n",
       "      <td>토론에 참여한 사람들은 법 집행과 국가 안전보장에 대한 우려를 표명해야 할 필요성을...</td>\n",
       "      <td>those involved in the discussions do take seri...</td>\n",
       "    </tr>\n",
       "    <tr>\n",
       "      <th>1</th>\n",
       "      <td>또한 새로운 기술 개발이 어떤 해결책을 제공해 주는데 도움이 될 것이고 동시 에 통...</td>\n",
       "      <td>there is also some hope that new technology de...</td>\n",
       "    </tr>\n",
       "    <tr>\n",
       "      <th>2</th>\n",
       "      <td>그래서 클리퍼 칩에 대한 개인적인 해결책은 서서히 자취를 감출 것입니다 그러나 이 ...</td>\n",
       "      <td>so the individual solution of the clipper chip...</td>\n",
       "    </tr>\n",
       "  </tbody>\n",
       "</table>\n",
       "</div>"
      ],
      "text/plain": [
       "                                                  ko  \\\n",
       "0  토론에 참여한 사람들은 법 집행과 국가 안전보장에 대한 우려를 표명해야 할 필요성을...   \n",
       "1  또한 새로운 기술 개발이 어떤 해결책을 제공해 주는데 도움이 될 것이고 동시 에 통...   \n",
       "2  그래서 클리퍼 칩에 대한 개인적인 해결책은 서서히 자취를 감출 것입니다 그러나 이 ...   \n",
       "\n",
       "                                                  en  \n",
       "0  those involved in the discussions do take seri...  \n",
       "1  there is also some hope that new technology de...  \n",
       "2  so the individual solution of the clipper chip...  "
      ]
     },
     "execution_count": 7,
     "metadata": {},
     "output_type": "execute_result"
    }
   ],
   "source": [
    "# val_data 전처리\n",
    "\n",
    "print(\"val 전처리전 shape : \",val_data.shape)\n",
    "\n",
    "# 중복 제외\n",
    "val_data.drop_duplicates(subset=['ko'], inplace = True )\n",
    "# null값 제외\n",
    "val_data = val_data.dropna(how='any')\n",
    "\n",
    "# 한글, 영어 전처리\n",
    "val_data['ko'] = val_data['ko'].str.replace(\"[^ㄱ-ㅎㅏ-ㅣ가-힣 ]\", \"\").str.strip()\n",
    "val_data['en'] = val_data['en'].astype(str).str.lower()\n",
    "val_data['en'] = val_data['en'].str.replace(\"[^a-zA-Z?.!,]+\", \" \").str.strip()\n",
    "\n",
    "# 공백 제외\n",
    "val_data['ko'].replace('', np.nan, inplace=True)\n",
    "# null값 제외\n",
    "val_data = val_data.dropna(how='any')\n",
    "print(\"val 전처리후 shape : \",val_data.shape)\n",
    "\n",
    "val_data.head(3)"
   ]
  },
  {
   "cell_type": "code",
   "execution_count": 8,
   "id": "52a8af9c",
   "metadata": {},
   "outputs": [
    {
     "name": "stdout",
     "output_type": "stream",
     "text": [
      "27 어휘\n",
      "3098 번역\n",
      "3777 흑색선전\n",
      "3867 선서하다\n",
      "4059 보증하다\n",
      "4377 단장\n",
      "4503 인기\n",
      "4593 외딴 곳\n",
      "4795 월 안경\n",
      "5135 사기\n",
      "6661 이수지\n",
      "7156 이수지\n",
      "7906 소물리에\n",
      "8247 면접\n",
      "8248 지각\n",
      "8340 남자들\n",
      "8345 가족\n",
      "8679 판매원\n",
      "8682 구조대원\n",
      "8882 음식\n",
      "8888 햇빛\n",
      "8892 보조식품\n",
      "9477 권성근\n",
      "9768 권성근\n",
      "9854 장소\n",
      "10006 과일\n",
      "10011 견과류\n",
      "10014 양파\n",
      "10070 코브\n",
      "10112 산부인과\n",
      "10116 심장질환\n",
      "10122 유방암\n",
      "10418 바리백스\n",
      "10424 대상포진\n",
      "10438 형간염\n",
      "12566 자원봉사\n",
      "12582 지압\n",
      "12594 숙면\n",
      "12793 첫인상\n",
      "12801 세부사항\n",
      "12802 웹사이트\n",
      "12824 웹사이트\n",
      "14865 이수지\n",
      "15166 신생아\n",
      "15244 권성근\n",
      "15391 권성근\n",
      "15769 권성근\n",
      "16291 이수지\n",
      "16364 이수지\n",
      "18042 이정인\n",
      "18231 권성근\n",
      "18368 배신자\n",
      "18655 권성근\n",
      "18872 자유\n",
      "19303 권성근\n",
      "20701 이수지\n",
      "20953 버뮤다\n",
      "20963 나\n",
      "20967 연락처\n",
      "21151 이수지\n",
      "22394 레스토랑\n",
      "22400 쇼핑\n",
      "22403 버스투어\n",
      "22828 이수지\n",
      "24060 권성근\n",
      "24713 이수지\n",
      "25103 이수지\n",
      "25735 이수지\n",
      "26561 첫째날\n",
      "26568 둘째날\n",
      "26836 계란\n",
      "26842 커피\n",
      "26846 아보카도\n",
      "26851 버섯\n",
      "26930 이수지\n",
      "27067 권성근\n",
      "28219 이수지\n",
      "29272 이수지\n",
      "29284 이수지\n",
      "29715 버스요금\n",
      "29727 택시요금\n",
      "29731 서핑스쿨\n",
      "30563 이수지\n",
      "31019 권성근\n",
      "31597 이수지\n",
      "31947 권성근\n",
      "32136 퀴노네스\n",
      "32142 테이블\n",
      "32149 크로그바\n",
      "32644 교훈\n",
      "33126 나중에\n",
      "33318 요한슨\n",
      "33838 권성근\n",
      "34283 첫번째\n",
      "35337 권성근\n",
      "35561 권성근\n",
      "35906 권성근\n",
      "37988 권성근\n",
      "38107 권성근\n",
      "38981 박주영\n",
      "39257 권성근\n",
      "40469 박신원\n",
      "40770 권성근\n",
      "40840 사와야\n",
      "41293 박신원\n",
      "41703 권성근\n",
      "41952 박신원\n",
      "42487 박신원\n",
      "42524 권성근\n",
      "42913 박신원\n",
      "43032 권성근\n",
      "43114 권성근\n",
      "43142 권성근\n",
      "43417 박신원\n",
      "43987 박신원\n",
      "44106 박신원\n",
      "44485 권성근\n",
      "44524 권성근\n",
      "44749 박신원\n",
      "44815 박주영\n",
      "45534 이수지\n",
      "45654 박주영\n",
      "45696 이수지\n",
      "45857 박주영\n",
      "45881 박주영\n",
      "45895 박주영\n",
      "45963 이수지\n",
      "45980 이수지\n",
      "46070 이수지\n",
      "46128 박주영\n",
      "46202 이수지\n",
      "46280 이수지\n",
      "46305 이수지\n",
      "46375 이수지\n",
      "46423 이수지\n",
      "46457 이수지\n",
      "46554 이수지\n",
      "46619 이수지\n",
      "46725 이수지\n",
      "47101 이수지\n",
      "47150 나를 봐\n",
      "47186 송완영\n",
      "47235 김양희\n",
      "47279 김양희\n",
      "47393 김양희\n",
      "47549 송완영\n",
      "47859 송완영\n",
      "47913 김양희\n",
      "47949 김양희\n",
      "48024 김양희\n",
      "48033 송완영\n",
      "48412 김양희\n",
      "48596 송완영\n",
      "48627 송완영\n",
      "48842 송완영\n",
      "48930 김양희\n",
      "49004 김양희\n",
      "49023 송완영\n",
      "49109 송완영\n",
      "49247 송완영\n",
      "49277 김양희\n",
      "49305 송완영\n",
      "49323 김양희\n",
      "49605 한글뉴스\n",
      "49679 이수지\n",
      "49750 기사공유\n",
      "49764 이수지\n",
      "49806 한글뉴스\n",
      "49858 원문기사\n",
      "50240 한글뉴스\n",
      "50328 이수지\n",
      "50556 이수지\n",
      "50557 한글판\n",
      "50599 이수지\n",
      "50957 이수지\n",
      "50964 이수지\n",
      "51664 이수지\n",
      "51787 이수지\n",
      "51921 문화연예\n",
      "52067 이수지\n",
      "52478 이수지\n",
      "52644 이정인\n",
      "52720 이수지\n",
      "53139 이수지\n",
      "53840 이수지\n",
      "54047 이벤트\n",
      "54261 이수지\n",
      "54346 이수지\n",
      "54382 이수지\n",
      "54420 이수지\n",
      "54818 비행기니\n",
      "54952 프린트\n",
      "55312 이수지\n",
      "55567 이수지\n",
      "55614 이수지\n",
      "55636 이수지\n",
      "56164 이수지\n",
      "56246 원제\n",
      "56487 이수지\n",
      "56686 이수지\n",
      "56792 독해\n",
      "56939 중산층\n",
      "56940 사퇴하다\n",
      "57176 흡입\n",
      "57324 대결하다\n",
      "57492 재벌그룹\n",
      "57511 결장암\n",
      "57559 전시체제\n",
      "57574 항복하다\n",
      "57683 국어사전\n",
      "57831 전임자\n",
      "57850 임명\n",
      "57897 주가\n",
      "58072 결의\n",
      "58201 사전\n",
      "58408 달러지폐\n",
      "58473 비관적인\n",
      "58486 준결승의\n",
      "58574 영주자격\n",
      "58676 시청\n",
      "58796 국방부\n",
      "58836 현장에\n",
      "58943 영어사전\n",
      "59120 발표하다\n",
      "59144 특파원\n",
      "59219 우파\n",
      "59639 합병증\n",
      "59812 확인요망\n",
      "59962 참패\n",
      "59972 및\n",
      "60017 언어공격\n",
      "60158 매춘\n",
      "60172 위기\n",
      "60285 한자사전\n",
      "60332 소매상인\n",
      "60722 주주\n",
      "61027 영사관\n",
      "61143 양보\n",
      "61236 정상회담\n",
      "61326 위성사진\n",
      "61442 슬픈 일\n",
      "61486 자본주의\n",
      "61519 청문회\n",
      "61645 투\n",
      "61670 취임식\n",
      "61718 착취하다\n",
      "61731 박격포\n",
      "61845 마약밀수\n",
      "61954 표준\n",
      "61979 공안위원\n",
      "61988 확인요망\n",
      "62243 서약하다\n",
      "62627 위협하다\n",
      "62818 예배당\n",
      "62995 명백한\n",
      "63149 이자율\n",
      "63476 중령\n",
      "63517 의회\n",
      "63724 목적으로\n",
      "63880 통계청\n",
      "63961 인수합병\n",
      "64002 현직의\n",
      "64033 재무장관\n",
      "64286 방화\n",
      "64321 최고기록\n",
      "64322 투성인\n",
      "64382 처형하다\n",
      "64424 단결하다\n",
      "64576 업계\n",
      "64700 상무부\n",
      "64701 단독주택\n",
      "64845 외교상의\n",
      "64965 쥐어뜯다\n",
      "65087 견디다\n",
      "65182 조사하다\n",
      "65273 독설\n",
      "65424 적자지출\n",
      "65620 실업수당\n",
      "65646 기자회견\n",
      "65863 폭발하다\n",
      "66087 호흡의\n",
      "66129 합참의장\n",
      "66372 실직\n",
      "66760 유죄선고\n",
      "67046 기자회견\n",
      "67115 사무국장\n",
      "67181 입법상의\n",
      "67198 연합군\n",
      "67733 세금환급\n",
      "67912 평화유지\n",
      "68082 자발적인\n",
      "68195 용어사전\n",
      "68331 특파원\n",
      "68507 세부계획\n",
      "68601 헬리콥터\n",
      "68721 핵사찰단\n",
      "68896 법정\n",
      "68997 꼭 하다\n",
      "69194 활용\n",
      "69199 한편\n",
      "69210 격전지\n",
      "69260 재 기둥\n",
      "69487 통합사전\n",
      "69693 보호주의\n",
      "69839 비서실장\n",
      "69904 교통기관\n",
      "69972 통일부\n",
      "70127 국방부\n",
      "70152 변호사\n",
      "70300 연두교서\n",
      "70550 성관계\n",
      "70872 기상학자\n",
      "70923 의 결핍\n",
      "71168 전제조건\n",
      "71294 통계청\n",
      "71316 인권\n",
      "71416 폭풍우\n",
      "71665 빼야함\n",
      "71692 취임하다\n",
      "71720 한나라당\n",
      "71794 결정하다\n",
      "71861 청문회\n",
      "72015 선거운동\n",
      "72052 감사원\n",
      "72124 대자연\n",
      "72244 현행범의\n",
      "72263 바닷가재\n",
      "72290 초등학교\n",
      "72344 흰돌고래\n",
      "72576 분만 중\n",
      "72634 그렇죠\n",
      "72737 고용주\n",
      "72976 농업의\n",
      "73141 자살하다\n",
      "73284 검토하다\n",
      "73285 하윈의장\n",
      "73311 상선\n",
      "73524 자궁암\n",
      "73608 탑승수속\n",
      "73698 지중해\n",
      "73732 철도청\n",
      "73781 동성애\n",
      "73844 연예인\n",
      "74074 상징적인\n",
      "74243 우울증\n",
      "74337 대타협\n",
      "74429 수도관\n",
      "75086 인질\n",
      "75087 최후통첩\n",
      "75527 사무직의\n",
      "75714 고가품\n",
      "75975 단어장\n",
      "76002 일어사전\n",
      "76036 제방 둑\n",
      "76478 결선투표\n",
      "76772 진행중에\n",
      "76832 실업수당\n",
      "76982 국무장관\n",
      "77018 교감\n",
      "77272 시행되다\n",
      "77344 검찰총장\n",
      "0.004658845999974189\n"
     ]
    }
   ],
   "source": [
    "less_list=[]\n",
    "\n",
    "min=0\n",
    "max=5\n",
    "for i, sentence in enumerate(train_data['ko']):\n",
    "    if len(sentence)>min and len(sentence)<max:\n",
    "        less_list.append(sentence)\n",
    "        print(i,sentence)\n",
    "        \n",
    "print(len(less_list)/len(train_data['ko']))"
   ]
  },
  {
   "cell_type": "code",
   "execution_count": 9,
   "id": "c0c15adb",
   "metadata": {},
   "outputs": [
    {
     "name": "stdout",
     "output_type": "stream",
     "text": [
      "ko                도 받지 않았다\n",
      "en    doesn t have an mba.\n",
      "Name: 1258, dtype: object\n"
     ]
    }
   ],
   "source": [
    "print(train_data.iloc[1256])"
   ]
  },
  {
   "cell_type": "code",
   "execution_count": 10,
   "id": "55457081",
   "metadata": {},
   "outputs": [
    {
     "name": "stdout",
     "output_type": "stream",
     "text": [
      "train_ko_len min/max/mean :  1 / 59 / 22.66960909571928\n",
      "train_en_len min/max/mean :  0 / 94 / 22.66960909571928\n",
      "val_ko_len min/max/mean :  1 / 55 / 15.107429718875501\n",
      "val_en_len min/max/mean :  1 / 70 / 23.183734939759034\n"
     ]
    },
    {
     "data": {
      "image/png": "[encoded data removed]",
      "text/plain": [
       "<Figure size 432x288 with 1 Axes>"
      ]
     },
     "metadata": {
      "needs_background": "light"
     },
     "output_type": "display_data"
    },
    {
     "data": {
      "image/png": "[encoded data removed]",
      "text/plain": [
       "<Figure size 432x288 with 1 Axes>"
      ]
     },
     "metadata": {
      "needs_background": "light"
     },
     "output_type": "display_data"
    },
    {
     "data": {
      "image/png": "[encoded data removed]",
      "text/plain": [
       "<Figure size 432x288 with 1 Axes>"
      ]
     },
     "metadata": {
      "needs_background": "light"
     },
     "output_type": "display_data"
    },
    {
     "data": {
      "image/png": "[encoded data removed]",
      "text/plain": [
       "<Figure size 432x288 with 1 Axes>"
      ]
     },
     "metadata": {
      "needs_background": "light"
     },
     "output_type": "display_data"
    }
   ],
   "source": [
    "# 길이 분포 출력\n",
    "import matplotlib.pyplot as plt\n",
    "\n",
    "train_ko_len = [len(s.split()) for s in train_data['ko']]\n",
    "train_en_len = [len(s.split()) for s in train_data['en']]\n",
    "val_ko_len = [len(s.split()) for s in val_data['ko']]\n",
    "val_en_len = [len(s.split()) for s in val_data['en']]\n",
    "\n",
    "print('train_ko_len min/max/mean : ',np.min(train_ko_len),'/',np.max(train_ko_len),'/',np.mean(train_en_len))\n",
    "print('train_en_len min/max/mean : ',np.min(train_en_len),'/',np.max(train_en_len),'/',np.mean(train_en_len))\n",
    "print('val_ko_len min/max/mean : ',np.min(val_ko_len),'/',np.max(val_ko_len),'/',np.mean(val_ko_len))\n",
    "print('val_en_len min/max/mean : ',np.min(val_en_len),'/',np.max(val_en_len),'/',np.mean(val_en_len))\n",
    "\n",
    "plt.title('train_ko_len')\n",
    "plt.hist(train_ko_len, bins = 40)\n",
    "plt.xlabel('length of samples')\n",
    "plt.ylabel('number of samples')\n",
    "plt.show()\n",
    "\n",
    "plt.title('train_en_len')\n",
    "plt.hist(train_en_len, bins = 40)\n",
    "plt.xlabel('length of samples')\n",
    "plt.ylabel('number of samples')\n",
    "plt.show()\n",
    "\n",
    "plt.title('val_ko_len')\n",
    "plt.hist(val_ko_len, bins = 40)\n",
    "plt.xlabel('length of samples')\n",
    "plt.ylabel('number of samples')\n",
    "plt.show()\n",
    "\n",
    "plt.title('val_en_len')\n",
    "plt.hist(val_en_len, bins = 40)\n",
    "plt.xlabel('length of samples')\n",
    "plt.ylabel('number of samples')\n",
    "plt.show()"
   ]
  },
  {
   "cell_type": "code",
   "execution_count": 11,
   "id": "ec63a4d8",
   "metadata": {},
   "outputs": [],
   "source": [
    "# 해당 길이 몇프로인지 확인하는 함수\n",
    "\n",
    "def below_threshold_len(max_len, nested_list):\n",
    "    count = 0\n",
    "    for sentence in nested_list:\n",
    "        if(len(sentence) <= max_len):\n",
    "            count = count + 1\n",
    "    print('전체 샘플 중 길이가 %s 이하인 샘플의 비율: %s'%(max_len, (count / len(nested_list)) * 100)) "
   ]
  },
  {
   "cell_type": "code",
   "execution_count": 12,
   "id": "bd88c0e7",
   "metadata": {},
   "outputs": [
    {
     "name": "stdout",
     "output_type": "stream",
     "text": [
      "전체 샘플 중 길이가 5 이하인 샘플의 비율: 0.6710803102455896\n",
      "전체 샘플 중 길이가 5 이하인 샘플의 비율: 0.853413654618474\n"
     ]
    }
   ],
   "source": [
    "below_threshold_len(5, train_data['ko'])\n",
    "below_threshold_len(5, val_data['ko'])"
   ]
  },
  {
   "cell_type": "code",
   "execution_count": 13,
   "id": "db28b4a4",
   "metadata": {},
   "outputs": [],
   "source": [
    "# 해당 데이터 쌍으로 지우기\n",
    "\n",
    "max_len = 60 #40\n",
    "min_len = 5 #8\n",
    "\n",
    "# train_data\n",
    "train_data = train_data[(train_data['ko'].apply(len) < max_len) & (train_data['ko'].apply(len) > min_len)]\n",
    "# val_data\n",
    "val_data = val_data[(val_data['en'].apply(len) < max_len) & (val_data['en'].apply(len) > min_len)]"
   ]
  },
  {
   "cell_type": "code",
   "execution_count": 14,
   "id": "346bb510",
   "metadata": {},
   "outputs": [
    {
     "name": "stdout",
     "output_type": "stream",
     "text": [
      "42267\n",
      "['개인용 컴퓨터 사용의 상당 부분은 이것보다 뛰어날 수 있느냐']\n",
      "42267\n",
      "['much of personal computing is about can you top this?']\n",
      "170\n",
      "['컴퓨터에 의한 전자 거래에서 미국의 원유 선물 가격이 배럴 당 달러로 최고치를 기록한 이후에 달러로 센트 급등했다']\n",
      "170\n",
      "['jumped cents to . a barrel after setting a high of . .']\n"
     ]
    }
   ],
   "source": [
    "# 각 열별로 list data 정렬\n",
    "\n",
    "enc_data = train_data['ko'].tolist()\n",
    "dec_data = train_data['en'].tolist()\n",
    "enc_val_data = val_data['ko'].tolist()\n",
    "dec_val_data = val_data['en'].tolist()\n",
    "\n",
    "dataset = [enc_data, dec_data, enc_val_data, dec_val_data]\n",
    "for data in dataset:\n",
    "    print(len(data))\n",
    "    print(data[:1])\n"
   ]
  },
  {
   "cell_type": "markdown",
   "id": "82a01e1f",
   "metadata": {},
   "source": [
    "# 2. 토크나이저"
   ]
  },
  {
   "cell_type": "code",
   "execution_count": 15,
   "id": "f252522a",
   "metadata": {},
   "outputs": [],
   "source": [
    "from konlpy.tag import Mecab\n",
    "from tensorflow.keras.preprocessing.text import Tokenizer\n",
    "from tensorflow.keras.preprocessing.sequence import pad_sequences\n",
    "\n",
    "def tokenize(corpus):\n",
    "    tokenizer = tf.keras.preprocessing.text.Tokenizer(filters='')\n",
    "    tokenizer.fit_on_texts(corpus)\n",
    "\n",
    "    tensor = tokenizer.texts_to_sequences(corpus)\n",
    "\n",
    "    tensor = tf.keras.preprocessing.sequence.pad_sequences(tensor, padding='post')\n",
    "\n",
    "    return tensor, tokenizer"
   ]
  },
  {
   "cell_type": "code",
   "execution_count": 16,
   "id": "1e6ce19f",
   "metadata": {},
   "outputs": [
    {
     "name": "stdout",
     "output_type": "stream",
     "text": [
      "[[  667   609   483   167  1290   844   468   136 18123    24     5  3796\n",
      "      0     0     0     0     0     0     0     0     0     0     0     0\n",
      "      0     0     0     0     0     0]]\n",
      "[[    2   238     5  1132 11801    12    42    85    78   196 10276     3\n",
      "      0     0     0     0     0     0     0     0     0     0     0     0\n",
      "      0     0     0     0     0     0     0     0     0     0     0     0\n",
      "      0     0     0     0     0     0     0     0     0     0     0     0\n",
      "      0     0     0     0     0     0     0     0     0     0     0     0\n",
      "      0     0     0     0     0     0     0     0     0     0     0     0]]\n"
     ]
    }
   ],
   "source": [
    "from konlpy.tag import Mecab\n",
    "from tensorflow.keras.preprocessing.text import Tokenizer\n",
    "from tensorflow.keras.preprocessing.sequence import pad_sequences\n",
    "\n",
    "# train_data\n",
    "\n",
    "# 한글 토큰화\n",
    "stopwords = ['의','가','이','은','들','는','좀','잘','걍','과','도','를','으로','자','에','와','한','하다']\n",
    "mecab = Mecab()\n",
    "enc_list=[]\n",
    "for sentences in enc_data:  \n",
    "    enc_list.append([word for word in mecab.morphs(sentences) if not word in stopwords])\n",
    "    \n",
    "enc_tensor,enc_tokenizer=tokenize(enc_list)\n",
    "print(enc_tensor[:1])    \n",
    "\n",
    "# 영어 토큰화\n",
    "\n",
    "dec_list=[]\n",
    "for sentences in dec_data: \n",
    "    sentence = sentences.split()\n",
    "    sentence = ['<start>'] + sentence + ['<end>']\n",
    "    dec_list.append(sentence)\n",
    "    \n",
    "dec_tensor,dec_tokenizer=tokenize(dec_list)\n",
    "print(dec_tensor[:1]) "
   ]
  },
  {
   "cell_type": "code",
   "execution_count": 17,
   "id": "5d415e55",
   "metadata": {},
   "outputs": [
    {
     "name": "stdout",
     "output_type": "stream",
     "text": [
      "[[  667   609   483   167  1290   844   468   136 18123    24     5  3796\n",
      "      0     0     0     0     0     0     0     0     0     0     0     0\n",
      "      0     0     0     0     0     0]]\n",
      "[[    2   238     5  1132 11801    12    42    85    78   196 10276     3\n",
      "      0     0     0     0     0     0     0     0     0     0     0     0\n",
      "      0     0     0     0     0     0     0     0     0     0     0     0\n",
      "      0     0     0     0     0     0     0     0     0     0     0     0\n",
      "      0     0     0     0     0     0     0     0     0     0     0     0\n",
      "      0     0     0     0     0     0     0     0     0     0     0     0]]\n"
     ]
    }
   ],
   "source": [
    "# val_data\n",
    "\n",
    "# 한글 토큰화\n",
    "enc_val_list=[]\n",
    "for sentences in enc_data:  \n",
    "    enc_val_list.append([word for word in mecab.morphs(sentences) if not word in stopwords])\n",
    "    \n",
    "enc_val_tensor,enc_val_tokenizer=tokenize(enc_val_list)\n",
    "print(enc_val_tensor[:1])    \n",
    "\n",
    "# 영어 토큰화\n",
    "\n",
    "dec_val_list=[]\n",
    "for sentences in dec_data: \n",
    "    sentence = sentences.split()\n",
    "    sentence = ['<start>'] + sentence + ['<end>']\n",
    "    dec_val_list.append(sentence)\n",
    "    \n",
    "dec_val_tensor,dec_val_tokenizer=tokenize(dec_val_list)\n",
    "print(dec_val_tensor[:1]) "
   ]
  },
  {
   "cell_type": "code",
   "execution_count": 18,
   "id": "55c30071",
   "metadata": {},
   "outputs": [
    {
     "name": "stdout",
     "output_type": "stream",
     "text": [
      "ko word>>idx Vocab Size: 29737\n",
      "en word>>idx Vocab Size: 46690\n",
      "ko idx>>word Vocab Size: 29737\n",
      "en idx>>word Vocab Size: 46690\n"
     ]
    }
   ],
   "source": [
    "print(\"ko word>>idx Vocab Size:\", len(enc_tokenizer.word_index))\n",
    "print(\"en word>>idx Vocab Size:\", len(dec_tokenizer.word_index))\n",
    "\n",
    "print(\"ko idx>>word Vocab Size:\", len(enc_tokenizer.index_word))\n",
    "print(\"en idx>>word Vocab Size:\", len(dec_tokenizer.index_word))"
   ]
  },
  {
   "cell_type": "markdown",
   "id": "a655f6a1",
   "metadata": {},
   "source": [
    "![8-1](8-1.PNG)"
   ]
  },
  {
   "cell_type": "markdown",
   "id": "59f5db1f",
   "metadata": {},
   "source": [
    "# 3. Seq2seq 모델 설계"
   ]
  },
  {
   "cell_type": "code",
   "execution_count": 19,
   "id": "cf766258",
   "metadata": {},
   "outputs": [],
   "source": [
    "class BahdanauAttention(tf.keras.layers.Layer):\n",
    "    def __init__(self, units):\n",
    "        super(BahdanauAttention, self).__init__()\n",
    "        self.w_dec = tf.keras.layers.Dense(units) # weight of encoder. h_enc받아 units크기의 outpput을 반환\n",
    "        self.w_enc = tf.keras.layers.Dense(units) # weight of decoder\n",
    "        self.w_com = tf.keras.layers.Dense(1)  # 두개의 weight로 score 계산하는 층\n",
    "    \n",
    "    def call(self, h_enc, h_dec):\n",
    "        # h_enc shape: [batch x length x units]\n",
    "        # h_dec shape: [batch x units]\n",
    "\n",
    "        h_enc = self.w_enc(h_enc) # encoder의 h_state를 w_enc 층에 통과시키고\n",
    "        h_dec = tf.expand_dims(h_dec, 1) # decoder의 h_state는 encoder의 h_state와 차원을 맞춰\n",
    "        h_dec = self.w_dec(h_dec) # w_dec층에 통과시키고\n",
    "\n",
    "        score = self.w_com(tf.nn.tanh(h_dec + h_enc)) # 형태가 맞는 이 둘을 concat후 tanh을 통과시켜 attention score를 뽑고\n",
    "        \n",
    "        attn = tf.nn.softmax(score, axis=1) # time step마다 온 attention score들의 총합이 1이 되는 확률형태로 바꿈\n",
    "\n",
    "        context_vec = attn * h_enc # encoder의 h와 decoder의 최종출력정보인 h까지 반영된 score에 현재시점 enc의 단어를 곱해 context vector 형성\n",
    "        context_vec = tf.reduce_sum(context_vec, axis=1) # 행방향으로 sum한 값만 남겨 차원 축소\n",
    "\n",
    "        return context_vec, attn"
   ]
  },
  {
   "cell_type": "markdown",
   "id": "7269926c",
   "metadata": {},
   "source": [
    "인코더의 출력인 h_enc와 디코더의 출력인 h_dec를 받아서 어텐션 가중치를 계산하고, 이를 사용하여 가중합을 계산하는 함수 call을 제공"
   ]
  },
  {
   "cell_type": "code",
   "execution_count": 20,
   "id": "ac4e904a",
   "metadata": {},
   "outputs": [],
   "source": [
    "class Encoder(tf.keras.Model):\n",
    "    def __init__(self, vocab_size, embedding_dim, enc_units):\n",
    "        super(Encoder, self).__init__()\n",
    "        \n",
    "        self.enc_units = enc_units\n",
    "        self.embedding = tf.keras.layers.Embedding(vocab_size, embedding_dim)\n",
    "        self.gru = tf.keras.layers.GRU(enc_units,\n",
    "                                       return_sequences=True)\n",
    "        \n",
    "    def call(self, x):\n",
    "        out = self.embedding(x)\n",
    "        out = self.gru(out)\n",
    "        \n",
    "        return out"
   ]
  },
  {
   "cell_type": "code",
   "execution_count": 21,
   "id": "46739552",
   "metadata": {},
   "outputs": [],
   "source": [
    "class Decoder(tf.keras.Model):\n",
    "    def __init__(self, vocab_size, embedding_dim, dec_units):\n",
    "        super(Decoder, self).__init__()\n",
    "        self.dec_units = dec_units\n",
    "        self.embedding = tf.keras.layers.Embedding(vocab_size, embedding_dim)\n",
    "        self.gru = tf.keras.layers.GRU(dec_units,\n",
    "                                       return_sequences=True,\n",
    "                                       return_state=True)\n",
    "        self.fc = tf.keras.layers.Dense(vocab_size)\n",
    "\n",
    "        self.attention = BahdanauAttention(self.dec_units)\n",
    "\n",
    "    def call(self, x, h_dec, enc_out):\n",
    "        context_vec, attn = self.attention(enc_out, h_dec)\n",
    "\n",
    "        out = self.embedding(x)\n",
    "        out = tf.concat([tf.expand_dims(context_vec, 1), out], axis=-1)\n",
    "        \n",
    "        out, h_dec = self.gru(out)\n",
    "        out = tf.reshape(out, (-1, out.shape[2]))\n",
    "        out = self.fc(out)\n",
    "\n",
    "        return out, h_dec, attn"
   ]
  },
  {
   "cell_type": "code",
   "execution_count": 22,
   "id": "5e820280",
   "metadata": {},
   "outputs": [],
   "source": [
    "BATCH_SIZE     = 64 #256\n",
    "SRC_VOCAB_SIZE = len(enc_tokenizer.index_word) + 1\n",
    "TGT_VOCAB_SIZE = len(dec_tokenizer.index_word) + 1\n",
    "\n",
    "units         = 512 #512 #128\n",
    "embedding_dim = 256\n",
    "\n",
    "encoder = Encoder(SRC_VOCAB_SIZE, embedding_dim, units)\n",
    "decoder = Decoder(TGT_VOCAB_SIZE, embedding_dim, units)\n",
    "\n"
   ]
  },
  {
   "cell_type": "code",
   "execution_count": 23,
   "id": "a16997e7",
   "metadata": {},
   "outputs": [],
   "source": [
    "optimizer = tf.keras.optimizers.Adam()\n",
    "loss_object = tf.keras.losses.SparseCategoricalCrossentropy(\n",
    "    from_logits=True, reduction='none')\n",
    "\n",
    "def loss_function(real, pred):\n",
    "    mask = tf.math.logical_not(tf.math.equal(real, 0)) # 패딩 0 너무 많으니깐 가려서\n",
    "    loss = loss_object(real, pred) # 실제값과 예측값의 loss 계산하고\n",
    "    \n",
    "    mask = tf.cast(mask, dtype=loss.dtype) # 패딩된 부분에 해당하는 손실값을 0으로\n",
    "    loss *= mask\n",
    "    \n",
    "    return tf.reduce_mean(loss) # 손실값의 평균을 리턴"
   ]
  },
  {
   "cell_type": "code",
   "execution_count": 24,
   "id": "7ecb1764",
   "metadata": {},
   "outputs": [],
   "source": [
    "# train fit \n",
    "\n",
    "@tf.function\n",
    "def train_step(src, tgt, encoder, decoder, optimizer, dec_tok):\n",
    "    bsz = src.shape[0] # = 배치사이즈\n",
    "    loss = 0\n",
    "    with tf.GradientTape() as tape:\n",
    "        enc_out = encoder(src) # encoder의 결과물 (bsz,max_len,h_size)\n",
    "        h_dec = enc_out[:, -1] # h_size = 모든 시점의 h_state\n",
    "        \n",
    "        dec_src = tf.expand_dims([dec_tok.word_index['<start>']] * bsz, 1)\n",
    "\n",
    "        for t in range(1, tgt.shape[1]):\n",
    "            pred, h_dec, _ = decoder(dec_src, h_dec, enc_out)\n",
    "\n",
    "            loss += loss_function(tgt[:, t], pred)\n",
    "            dec_src = tf.expand_dims(tgt[:, t], 1)\n",
    "        \n",
    "    batch_loss = (loss / int(tgt.shape[1]))\n",
    "\n",
    "    variables = encoder.trainable_variables + decoder.trainable_variables\n",
    "    gradients = tape.gradient(loss, variables)\n",
    "    optimizer.apply_gradients(zip(gradients, variables))\n",
    "    \n",
    "    return batch_loss\n",
    "\n",
    "# validation fit \n",
    "\n",
    "@tf.function\n",
    "def eval_step(src, tgt, encoder, decoder, dec_tok):\n",
    "    bsz = src.shape[0]\n",
    "    loss = 0\n",
    "    enc_out = encoder(src)\n",
    "    h_dec = enc_out[:, -1]\n",
    "    \n",
    "    dec_src = tf.expand_dims([dec_tok.word_index['<start>']] * bsz, 1)\n",
    "\n",
    "    for t in range(1, tgt.shape[1]):\n",
    "        pred, h_dec, _ = decoder(dec_src, h_dec, enc_out)\n",
    "\n",
    "        loss += loss_function(tgt[:, t], pred)\n",
    "        dec_src = tf.expand_dims(tgt[:, t], 1)\n",
    "        \n",
    "    batch_loss = (loss / int(tgt.shape[1]))\n",
    "    \n",
    "    return batch_loss\n"
   ]
  },
  {
   "cell_type": "code",
   "execution_count": 25,
   "id": "466ef51d",
   "metadata": {},
   "outputs": [
    {
     "name": "stderr",
     "output_type": "stream",
     "text": [
      "Epoch  1: 100%|██████████| 661/661 [07:13<00:00,  1.52it/s, Loss 2.0224] \n",
      "Test Epoch  1: 100%|██████████| 661/661 [02:32<00:00,  4.33it/s, Test Loss 1.9646]\n",
      "Epoch  2: 100%|██████████| 661/661 [05:08<00:00,  2.15it/s, Loss 1.9878]\n",
      "Test Epoch  2: 100%|██████████| 661/661 [01:49<00:00,  6.05it/s, Test Loss 1.9703]\n",
      "Epoch  3: 100%|██████████| 661/661 [05:07<00:00,  2.15it/s, Loss 1.9893]\n",
      "Test Epoch  3: 100%|██████████| 661/661 [01:49<00:00,  6.05it/s, Test Loss 1.9725]\n",
      "Epoch  4: 100%|██████████| 661/661 [05:08<00:00,  2.15it/s, Loss 1.9889]\n",
      "Test Epoch  4: 100%|██████████| 661/661 [01:49<00:00,  6.04it/s, Test Loss 1.9752]\n",
      "Epoch  5: 100%|██████████| 661/661 [05:07<00:00,  2.15it/s, Loss 1.9893]\n",
      "Test Epoch  5: 100%|██████████| 661/661 [01:49<00:00,  6.06it/s, Test Loss 1.9801]\n",
      "Epoch  6: 100%|██████████| 661/661 [05:07<00:00,  2.15it/s, Loss 1.9897]\n",
      "Test Epoch  6: 100%|██████████| 661/661 [01:48<00:00,  6.07it/s, Test Loss 1.9770]\n",
      "Epoch  7: 100%|██████████| 661/661 [05:07<00:00,  2.15it/s, Loss 1.9895]\n",
      "Test Epoch  7: 100%|██████████| 661/661 [01:49<00:00,  6.06it/s, Test Loss 1.9723]\n",
      "Epoch  8: 100%|██████████| 661/661 [05:07<00:00,  2.15it/s, Loss 1.9896]\n",
      "Test Epoch  8: 100%|██████████| 661/661 [01:49<00:00,  6.05it/s, Test Loss 1.9765]\n",
      "Epoch  9: 100%|██████████| 661/661 [05:07<00:00,  2.15it/s, Loss 1.9901]\n",
      "Test Epoch  9: 100%|██████████| 661/661 [01:48<00:00,  6.07it/s, Test Loss 1.9739]\n",
      "Epoch 10: 100%|██████████| 661/661 [05:07<00:00,  2.15it/s, Loss 1.9896]\n",
      "Test Epoch 10: 100%|██████████| 661/661 [01:49<00:00,  6.06it/s, Test Loss 1.9778]\n",
      "Epoch 11: 100%|██████████| 661/661 [05:07<00:00,  2.15it/s, Loss 1.9897]\n",
      "Test Epoch 11: 100%|██████████| 661/661 [01:49<00:00,  6.06it/s, Test Loss 1.9771]\n",
      "Epoch 12: 100%|██████████| 661/661 [05:07<00:00,  2.15it/s, Loss 1.9895]\n",
      "Test Epoch 12: 100%|██████████| 661/661 [01:49<00:00,  6.06it/s, Test Loss 1.9750]\n",
      "Epoch 13: 100%|██████████| 661/661 [05:07<00:00,  2.15it/s, Loss 1.9888]\n",
      "Test Epoch 13: 100%|██████████| 661/661 [01:49<00:00,  6.06it/s, Test Loss 1.9720]\n",
      "Epoch 14: 100%|██████████| 661/661 [05:07<00:00,  2.15it/s, Loss 1.9897]\n",
      "Test Epoch 14: 100%|██████████| 661/661 [01:49<00:00,  6.06it/s, Test Loss 1.9766]\n",
      "Epoch 15: 100%|██████████| 661/661 [05:07<00:00,  2.15it/s, Loss 1.9894]\n",
      "Test Epoch 15: 100%|██████████| 661/661 [01:48<00:00,  6.07it/s, Test Loss 1.9815]\n",
      "Epoch 16: 100%|██████████| 661/661 [05:07<00:00,  2.15it/s, Loss 1.9895]\n",
      "Test Epoch 16: 100%|██████████| 661/661 [01:48<00:00,  6.07it/s, Test Loss 1.9741]\n",
      "Epoch 17: 100%|██████████| 661/661 [05:07<00:00,  2.15it/s, Loss 1.9891]\n",
      "Test Epoch 17: 100%|██████████| 661/661 [01:48<00:00,  6.07it/s, Test Loss 1.9769]\n",
      "Epoch 18: 100%|██████████| 661/661 [05:07<00:00,  2.15it/s, Loss 1.9895]\n",
      "Test Epoch 18: 100%|██████████| 661/661 [01:48<00:00,  6.07it/s, Test Loss 1.9752]\n",
      "Epoch 19: 100%|██████████| 661/661 [05:07<00:00,  2.15it/s, Loss 1.9898]\n",
      "Test Epoch 19: 100%|██████████| 661/661 [01:49<00:00,  6.06it/s, Test Loss 1.9757]\n",
      "Epoch 20: 100%|██████████| 661/661 [05:07<00:00,  2.15it/s, Loss 1.9895]\n",
      "Test Epoch 20: 100%|██████████| 661/661 [01:48<00:00,  6.08it/s, Test Loss 1.9766]\n",
      "Epoch 21: 100%|██████████| 661/661 [05:07<00:00,  2.15it/s, Loss 1.9892]\n",
      "Test Epoch 21: 100%|██████████| 661/661 [01:48<00:00,  6.07it/s, Test Loss 1.9745]\n",
      "Epoch 22: 100%|██████████| 661/661 [05:07<00:00,  2.15it/s, Loss 1.9896]\n",
      "Test Epoch 22: 100%|██████████| 661/661 [01:48<00:00,  6.07it/s, Test Loss 1.9743]\n",
      "Epoch 23: 100%|██████████| 661/661 [05:07<00:00,  2.15it/s, Loss 1.9900]\n",
      "Test Epoch 23: 100%|██████████| 661/661 [01:48<00:00,  6.07it/s, Test Loss 1.9747]\n",
      "Epoch 24: 100%|██████████| 661/661 [05:07<00:00,  2.15it/s, Loss 1.9892]\n",
      "Test Epoch 24: 100%|██████████| 661/661 [01:48<00:00,  6.07it/s, Test Loss 1.9740]\n",
      "Epoch 25: 100%|██████████| 661/661 [05:07<00:00,  2.15it/s, Loss 1.9900]\n",
      "Test Epoch 25: 100%|██████████| 661/661 [01:48<00:00,  6.06it/s, Test Loss 1.9740]\n",
      "Epoch 26: 100%|██████████| 661/661 [05:07<00:00,  2.15it/s, Loss 1.9899]\n",
      "Test Epoch 26: 100%|██████████| 661/661 [01:48<00:00,  6.08it/s, Test Loss 1.9742]\n",
      "Epoch 27: 100%|██████████| 661/661 [05:07<00:00,  2.15it/s, Loss 1.9896]\n",
      "Test Epoch 27: 100%|██████████| 661/661 [01:48<00:00,  6.07it/s, Test Loss 1.9734]\n",
      "Epoch 28: 100%|██████████| 661/661 [05:07<00:00,  2.15it/s, Loss 1.9893]\n",
      "Test Epoch 28: 100%|██████████| 661/661 [01:48<00:00,  6.07it/s, Test Loss 1.9750]\n",
      "Epoch 29: 100%|██████████| 661/661 [05:07<00:00,  2.15it/s, Loss 1.9895]\n",
      "Test Epoch 29: 100%|██████████| 661/661 [01:48<00:00,  6.08it/s, Test Loss 1.9731]\n",
      "Epoch 30: 100%|██████████| 661/661 [05:07<00:00,  2.15it/s, Loss 1.9896]\n",
      "Test Epoch 30: 100%|██████████| 661/661 [01:48<00:00,  6.07it/s, Test Loss 1.9723]\n",
      "Epoch 31: 100%|██████████| 661/661 [05:07<00:00,  2.15it/s, Loss 1.9895]\n",
      "Test Epoch 31: 100%|██████████| 661/661 [01:48<00:00,  6.07it/s, Test Loss 1.9758]\n",
      "Epoch 32: 100%|██████████| 661/661 [05:07<00:00,  2.15it/s, Loss 1.9896]\n",
      "Test Epoch 32: 100%|██████████| 661/661 [01:48<00:00,  6.07it/s, Test Loss 1.9747]\n",
      "Epoch 33: 100%|██████████| 661/661 [05:07<00:00,  2.15it/s, Loss 1.9900]\n",
      "Test Epoch 33: 100%|██████████| 661/661 [01:49<00:00,  6.06it/s, Test Loss 1.9805]\n",
      "Epoch 34: 100%|██████████| 661/661 [05:07<00:00,  2.15it/s, Loss 1.9896]\n",
      "Test Epoch 34: 100%|██████████| 661/661 [01:48<00:00,  6.07it/s, Test Loss 1.9800]\n",
      "Epoch 35: 100%|██████████| 661/661 [05:07<00:00,  2.15it/s, Loss 1.9891]\n",
      "Test Epoch 35: 100%|██████████| 661/661 [01:48<00:00,  6.07it/s, Test Loss 1.9736]\n",
      "Epoch 36: 100%|██████████| 661/661 [05:07<00:00,  2.15it/s, Loss 1.9897]\n",
      "Test Epoch 36: 100%|██████████| 661/661 [01:48<00:00,  6.07it/s, Test Loss 1.9755]\n",
      "Epoch 37: 100%|██████████| 661/661 [05:07<00:00,  2.15it/s, Loss 1.9892]\n",
      "Test Epoch 37: 100%|██████████| 661/661 [01:48<00:00,  6.07it/s, Test Loss 1.9761]\n",
      "Epoch 38: 100%|██████████| 661/661 [05:07<00:00,  2.15it/s, Loss 1.9897]\n",
      "Test Epoch 38: 100%|██████████| 661/661 [01:48<00:00,  6.07it/s, Test Loss 1.9764]\n",
      "Epoch 39: 100%|██████████| 661/661 [05:07<00:00,  2.15it/s, Loss 1.9895]\n",
      "Test Epoch 39: 100%|██████████| 661/661 [01:48<00:00,  6.07it/s, Test Loss 1.9764]\n",
      "Epoch 40: 100%|██████████| 661/661 [05:07<00:00,  2.15it/s, Loss 1.9894]\n",
      "Test Epoch 40: 100%|██████████| 661/661 [01:48<00:00,  6.07it/s, Test Loss 1.9784]\n",
      "Epoch 41: 100%|██████████| 661/661 [05:07<00:00,  2.15it/s, Loss 1.9894]\n",
      "Test Epoch 41: 100%|██████████| 661/661 [01:48<00:00,  6.07it/s, Test Loss 1.9789]\n",
      "Epoch 42: 100%|██████████| 661/661 [05:07<00:00,  2.15it/s, Loss 1.9899]\n",
      "Test Epoch 42: 100%|██████████| 661/661 [01:48<00:00,  6.07it/s, Test Loss 1.9772]\n",
      "Epoch 43: 100%|██████████| 661/661 [05:07<00:00,  2.15it/s, Loss 1.9896]\n",
      "Test Epoch 43: 100%|██████████| 661/661 [01:48<00:00,  6.08it/s, Test Loss 1.9725]\n",
      "Epoch 44: 100%|██████████| 661/661 [05:07<00:00,  2.15it/s, Loss 1.9893]\n",
      "Test Epoch 44: 100%|██████████| 661/661 [01:48<00:00,  6.07it/s, Test Loss 1.9745]\n",
      "Epoch 45: 100%|██████████| 661/661 [05:07<00:00,  2.15it/s, Loss 1.9902]\n",
      "Test Epoch 45: 100%|██████████| 661/661 [01:48<00:00,  6.08it/s, Test Loss 1.9729]\n",
      "Epoch 46: 100%|██████████| 661/661 [05:07<00:00,  2.15it/s, Loss 1.9894]\n",
      "Test Epoch 46: 100%|██████████| 661/661 [01:48<00:00,  6.08it/s, Test Loss 1.9720]\n",
      "Epoch 47: 100%|██████████| 661/661 [05:07<00:00,  2.15it/s, Loss 1.9897]\n",
      "Test Epoch 47: 100%|██████████| 661/661 [01:48<00:00,  6.08it/s, Test Loss 1.9777]\n",
      "Epoch 48: 100%|██████████| 661/661 [05:07<00:00,  2.15it/s, Loss 1.9894]\n",
      "Test Epoch 48: 100%|██████████| 661/661 [01:48<00:00,  6.08it/s, Test Loss 1.9783]\n",
      "Epoch 49: 100%|██████████| 661/661 [05:07<00:00,  2.15it/s, Loss 1.9898]\n",
      "Test Epoch 49: 100%|██████████| 661/661 [01:48<00:00,  6.08it/s, Test Loss 1.9743]\n",
      "Epoch 50: 100%|██████████| 661/661 [05:07<00:00,  2.15it/s, Loss 1.9901]\n",
      "Test Epoch 50: 100%|██████████| 661/661 [01:48<00:00,  6.07it/s, Test Loss 1.9723]\n"
     ]
    }
   ],
   "source": [
    "# Training start\n",
    "\n",
    "from tqdm import tqdm\n",
    "import random\n",
    "\n",
    "train_loss_history = []\n",
    "test_loss_history = []\n",
    "\n",
    "EPOCHS = 50\n",
    "\n",
    "for epoch in range(EPOCHS):\n",
    "    total_loss = 0\n",
    "    \n",
    "    idx_list = list(range(0, enc_tensor.shape[0], BATCH_SIZE))\n",
    "    random.shuffle(idx_list)\n",
    "    t = tqdm(idx_list)\n",
    "\n",
    "    for (batch, idx) in enumerate(t):\n",
    "        batch_loss = train_step(enc_tensor[idx:idx+BATCH_SIZE],\n",
    "                                dec_tensor[idx:idx+BATCH_SIZE],\n",
    "                                encoder,\n",
    "                                decoder,\n",
    "                                optimizer,\n",
    "                                dec_tokenizer)\n",
    "    \n",
    "        total_loss += batch_loss\n",
    "        train_loss_history.append((total_loss.numpy() / (batch + 1)))\n",
    "        \n",
    "        t.set_description_str('Epoch %2d' % (epoch + 1))\n",
    "        t.set_postfix_str('Loss %.4f' % (total_loss.numpy() / (batch + 1)))\n",
    "    \n",
    "    test_loss = 0\n",
    "    \n",
    "    idx_list = list(range(0, enc_val_tensor.shape[0], BATCH_SIZE))\n",
    "    random.shuffle(idx_list)\n",
    "    t = tqdm(idx_list)\n",
    "\n",
    "    for (test_batch, idx) in enumerate(t):\n",
    "        test_batch_loss = eval_step(enc_val_tensor[idx:idx+BATCH_SIZE],\n",
    "                                    dec_val_tensor[idx:idx+BATCH_SIZE],\n",
    "                                    encoder,\n",
    "                                    decoder,\n",
    "                                    dec_tokenizer)\n",
    "    \n",
    "        test_loss += test_batch_loss\n",
    "        test_loss_history.append((total_loss.numpy() / (batch + 1)))\n",
    "        \n",
    "        t.set_description_str('Test Epoch %2d' % (epoch + 1))\n",
    "        t.set_postfix_str('Test Loss %.4f' % (test_loss.numpy() / (test_batch + 1)))"
   ]
  },
  {
   "cell_type": "code",
   "execution_count": 26,
   "id": "c12961e8",
   "metadata": {},
   "outputs": [
    {
     "data": {
      "image/png": "[encoded data removed]",
      "text/plain": [
       "<Figure size 432x288 with 1 Axes>"
      ]
     },
     "metadata": {
      "needs_background": "light"
     },
     "output_type": "display_data"
    },
    {
     "data": {
      "image/png": "[encoded data removed]",
      "text/plain": [
       "<Figure size 432x288 with 1 Axes>"
      ]
     },
     "metadata": {
      "needs_background": "light"
     },
     "output_type": "display_data"
    }
   ],
   "source": [
    "plt.plot(train_loss_history)\n",
    "plt.title(\"train loss\")\n",
    "plt.show()\n",
    "\n",
    "plt.plot(test_loss_history)\n",
    "plt.title(\"val loss\")\n",
    "plt.show()"
   ]
  },
  {
   "cell_type": "code",
   "execution_count": 27,
   "id": "79b8d1c6",
   "metadata": {},
   "outputs": [],
   "source": [
    "import matplotlib as mpl\n",
    "import matplotlib.pyplot as plt\n",
    "%config InlineBackend.figure_format = 'retina'\n",
    "import matplotlib.font_manager as fm\n",
    "fontpath = '/usr/share/fonts/truetype/nanum/NanumBarunGothic.ttf'\n",
    "font = fm.FontProperties(fname=fontpath, size=9)\n",
    "plt.rc('font', family='NanumBarunGothic') \n",
    "mpl.font_manager.findfont(font)\n",
    "import matplotlib.ticker as ticker\n",
    "\n",
    "def preprocess_sentence(sentence):\n",
    "    sentence = re.sub(\"[^ㄱ-ㅎㅏ-ㅣ가-힣 ]\", \"\", sentence).strip()\n",
    "    return sentence\n",
    "\n",
    "def evaluate(sentence, encoder, decoder):\n",
    "    attention = np.zeros((dec_tensor.shape[-1], enc_tensor.shape[-1]))\n",
    "\n",
    "    sentence = preprocess_sentence(sentence)  \n",
    "    tokenizer = Mecab()\n",
    "    sentence = tokenizer.morphs(sentence)      \n",
    "        \n",
    "    inputs = enc_tokenizer.texts_to_sequences([sentence])\n",
    "    inputs = tf.keras.preprocessing.sequence.pad_sequences(inputs,\n",
    "                                                           maxlen=enc_tensor.shape[-1],\n",
    "                                                           padding='post')\n",
    "\n",
    "    result = ''\n",
    "\n",
    "    enc_out = encoder(inputs)\n",
    "\n",
    "    dec_hidden = enc_out[:, -1]\n",
    "    dec_input = tf.expand_dims([dec_tokenizer.word_index['<start>']], 0)\n",
    "\n",
    "    for t in range(dec_tensor.shape[-1]):\n",
    "        predictions, dec_hidden, attention_weights = decoder(dec_input,\n",
    "                                                             dec_hidden,\n",
    "                                                             enc_out)\n",
    "\n",
    "        attention_weights = tf.reshape(attention_weights, (-1, ))\n",
    "        attention[t] = attention_weights.numpy()\n",
    "\n",
    "        predicted_id = \\\n",
    "        tf.argmax(tf.math.softmax(predictions, axis=-1)[0]).numpy()\n",
    "\n",
    "        result += dec_tokenizer.index_word[predicted_id] + ' '\n",
    "\n",
    "        if dec_tokenizer.index_word[predicted_id] == '<end>':\n",
    "            return result, sentence, attention\n",
    "\n",
    "        dec_input = tf.expand_dims([predicted_id], 0)\n",
    "\n",
    "    return result, sentence, attention\n",
    "\n",
    "\n",
    "def plot_attention(attention, sentence, predicted_sentence):\n",
    "    fig = plt.figure(figsize=(10,10))\n",
    "    ax = fig.add_subplot(1, 1, 1)\n",
    "    ax.matshow(attention, cmap='viridis')\n",
    "\n",
    "    fontdict = {'fontsize': 14}\n",
    "\n",
    "    ax.set_xticklabels([''] + sentence, fontdict=fontdict, rotation=90)\n",
    "    ax.set_yticklabels([''] + predicted_sentence, fontdict=fontdict)\n",
    "\n",
    "    ax.xaxis.set_major_locator(ticker.MultipleLocator(1))\n",
    "    ax.yaxis.set_major_locator(ticker.MultipleLocator(1))\n",
    "\n",
    "    plt.show()\n",
    "\n",
    "\n",
    "def translate(sentence, encoder, decoder):\n",
    "    result, sentence, attention = evaluate(sentence, encoder, decoder)\n",
    "\n",
    "    print('Input: %s' % (sentence))\n",
    "    print('Predicted translation: {}'.format(result))\n",
    "    \n",
    "    attention = attention[:len(result.split()), :len(sentence)]\n",
    "    plot_attention(attention, sentence, result.split(' '))"
   ]
  },
  {
   "cell_type": "code",
   "execution_count": 28,
   "id": "da10f6a3",
   "metadata": {},
   "outputs": [
    {
     "name": "stdout",
     "output_type": "stream",
     "text": [
      "Input: ['오바마', '는', '대통령', '이', '다']\n",
      "Predicted translation: the the the the the the the the the the the the the the the the the the the the the the the the the the the the the the the the the the the the the the the the the the the the the the the the the the the the the the the the the the the the the the the the the the the the the the the the \n"
     ]
    },
    {
     "data": {
      "image/png": "[encoded data removed]",
      "text/plain": [
       "<Figure size 720x720 with 1 Axes>"
      ]
     },
     "metadata": {
      "image/png": {
       "height": 608,
       "width": 83
      },
      "needs_background": "light"
     },
     "output_type": "display_data"
    },
    {
     "name": "stdout",
     "output_type": "stream",
     "text": [
      "Input: ['시민', '들', '은', '도시', '속', '에', '산다']\n",
      "Predicted translation: the the the the the the the the the the the the the the the the the the the the the the the the the the the the the the the the the the the the the the the the the the the the the the the the the the the the the the the the the the the the the the the the the the the the the the the the \n"
     ]
    },
    {
     "data": {
      "image/png": "[encoded data removed]",
      "text/plain": [
       "<Figure size 720x720 with 1 Axes>"
      ]
     },
     "metadata": {
      "image/png": {
       "height": 595,
       "width": 99
      },
      "needs_background": "light"
     },
     "output_type": "display_data"
    },
    {
     "name": "stdout",
     "output_type": "stream",
     "text": [
      "Input: ['커피', '는', '필요', '없', '다']\n",
      "Predicted translation: the the the the the the the the the the the the the the the the the the the the the the the the the the the the the the the the the the the the the the the the the the the the the the the the the the the the the the the the the the the the the the the the the the the the the the the the \n"
     ]
    },
    {
     "data": {
      "image/png": "[encoded data removed]",
      "text/plain": [
       "<Figure size 720x720 with 1 Axes>"
      ]
     },
     "metadata": {
      "image/png": {
       "height": 595,
       "width": 83
      },
      "needs_background": "light"
     },
     "output_type": "display_data"
    },
    {
     "name": "stdout",
     "output_type": "stream",
     "text": [
      "Input: ['일곱', '명', '의', '사망자', '가', '발생', '했', '다']\n",
      "Predicted translation: the the the the the the the the the the the the the the the the the the the the the the the the the the the the the the the the the the the the the the the the the the the the the the the the the the the the the the the the the the the the the the the the the the the the the the the the \n"
     ]
    },
    {
     "data": {
      "image/png": "[encoded data removed]",
      "text/plain": [
       "<Figure size 720x720 with 1 Axes>"
      ]
     },
     "metadata": {
      "image/png": {
       "height": 608,
       "width": 106
      },
      "needs_background": "light"
     },
     "output_type": "display_data"
    }
   ],
   "source": [
    "translate(\"오바마는 대통령이다.\", encoder, decoder)\n",
    "translate(\"시민들은 도시 속에 산다.\", encoder, decoder)\n",
    "translate(\"커피는 필요 없다.\", encoder, decoder)\n",
    "translate(\"일곱 명의 사망자가 발생했다.\", encoder, decoder)"
   ]
  },
  {
   "cell_type": "markdown",
   "id": "edc48cfa",
   "metadata": {},
   "source": [
    "# 회고\n",
    "\n",
    "결과가 잘 안나와서 속상하지만, 트랜스포머로 비교하겠음.\n",
    "\n",
    "시도해보기는 하이퍼파라미터를 (배치사이즈, 임베딩디멘션, 유닛사이즈) 여러모로 조절해보았으나 그닥 성능이 뛰어난 것 같지 않음.\n",
    "\n",
    "seq2seq는 힘들고 재미가 없음.. transformer는 힘들고 재미가 조금 있음ㅋ"
   ]
  },
  {
   "attachments": {
    "image.png": {
     "image/png": "[encoded data removed]"
    }
   },
   "cell_type": "markdown",
   "id": "d8863fd4",
   "metadata": {},
   "source": [
    "![image.png](attachment:image.png)\n"
   ]
  },
  {
   "cell_type": "code",
   "execution_count": null,
   "id": "043142a4",
   "metadata": {},
   "outputs": [],
   "source": []
  }
 ],
 "metadata": {
  "kernelspec": {
   "display_name": "Python 3 (ipykernel)",
   "language": "python",
   "name": "python3"
  },
  "language_info": {
   "codemirror_mode": {
    "name": "ipython",
    "version": 3
   },
   "file_extension": ".py",
   "mimetype": "text/x-python",
   "name": "python",
   "nbconvert_exporter": "python",
   "pygments_lexer": "ipython3",
   "version": "3.9.7"
  }
 },
 "nbformat": 4,
 "nbformat_minor": 5
}
