{
 "cells": [
  {
   "cell_type": "markdown",
   "id": "829036bc",
   "metadata": {},
   "source": [
    "# 네이버 영화 리뷰"
   ]
  },
  {
   "cell_type": "code",
   "execution_count": 1,
   "id": "2b0ce278",
   "metadata": {},
   "outputs": [],
   "source": [
    "import re\n",
    "import urllib.request\n",
    "import numpy as np\n",
    "import pandas as pd\n",
    "import matplotlib.pyplot as plt\n",
    "import tensorflow as tf\n",
    "plt.style.use('seaborn-white')\n",
    "import warnings\n",
    "warnings.filterwarnings('ignore')\n",
    "\n",
    "from konlpy.tag import Mecab\n",
    "from tensorflow.keras.preprocessing.text import Tokenizer\n",
    "from tensorflow.keras.preprocessing.sequence import pad_sequences"
   ]
  },
  {
   "cell_type": "code",
   "execution_count": 2,
   "id": "f036b755",
   "metadata": {},
   "outputs": [
    {
     "data": {
      "text/html": [
       "<div>\n",
       "<style scoped>\n",
       "    .dataframe tbody tr th:only-of-type {\n",
       "        vertical-align: middle;\n",
       "    }\n",
       "\n",
       "    .dataframe tbody tr th {\n",
       "        vertical-align: top;\n",
       "    }\n",
       "\n",
       "    .dataframe thead th {\n",
       "        text-align: right;\n",
       "    }\n",
       "</style>\n",
       "<table border=\"1\" class=\"dataframe\">\n",
       "  <thead>\n",
       "    <tr style=\"text-align: right;\">\n",
       "      <th></th>\n",
       "      <th>id</th>\n",
       "      <th>document</th>\n",
       "      <th>label</th>\n",
       "    </tr>\n",
       "  </thead>\n",
       "  <tbody>\n",
       "    <tr>\n",
       "      <th>0</th>\n",
       "      <td>9976970</td>\n",
       "      <td>아 더빙.. 진짜 짜증나네요 목소리</td>\n",
       "      <td>0</td>\n",
       "    </tr>\n",
       "    <tr>\n",
       "      <th>1</th>\n",
       "      <td>3819312</td>\n",
       "      <td>흠...포스터보고 초딩영화줄....오버연기조차 가볍지 않구나</td>\n",
       "      <td>1</td>\n",
       "    </tr>\n",
       "    <tr>\n",
       "      <th>2</th>\n",
       "      <td>10265843</td>\n",
       "      <td>너무재밓었다그래서보는것을추천한다</td>\n",
       "      <td>0</td>\n",
       "    </tr>\n",
       "    <tr>\n",
       "      <th>3</th>\n",
       "      <td>9045019</td>\n",
       "      <td>교도소 이야기구먼 ..솔직히 재미는 없다..평점 조정</td>\n",
       "      <td>0</td>\n",
       "    </tr>\n",
       "    <tr>\n",
       "      <th>4</th>\n",
       "      <td>6483659</td>\n",
       "      <td>사이몬페그의 익살스런 연기가 돋보였던 영화!스파이더맨에서 늙어보이기만 했던 커스틴 ...</td>\n",
       "      <td>1</td>\n",
       "    </tr>\n",
       "    <tr>\n",
       "      <th>5</th>\n",
       "      <td>5403919</td>\n",
       "      <td>막 걸음마 뗀 3세부터 초등학교 1학년생인 8살용영화.ㅋㅋㅋ...별반개도 아까움.</td>\n",
       "      <td>0</td>\n",
       "    </tr>\n",
       "    <tr>\n",
       "      <th>6</th>\n",
       "      <td>7797314</td>\n",
       "      <td>원작의 긴장감을 제대로 살려내지못했다.</td>\n",
       "      <td>0</td>\n",
       "    </tr>\n",
       "    <tr>\n",
       "      <th>7</th>\n",
       "      <td>9443947</td>\n",
       "      <td>별 반개도 아깝다 욕나온다 이응경 길용우 연기생활이몇년인지..정말 발로해도 그것보단...</td>\n",
       "      <td>0</td>\n",
       "    </tr>\n",
       "    <tr>\n",
       "      <th>8</th>\n",
       "      <td>7156791</td>\n",
       "      <td>액션이 없는데도 재미 있는 몇안되는 영화</td>\n",
       "      <td>1</td>\n",
       "    </tr>\n",
       "    <tr>\n",
       "      <th>9</th>\n",
       "      <td>5912145</td>\n",
       "      <td>왜케 평점이 낮은건데? 꽤 볼만한데.. 헐리우드식 화려함에만 너무 길들여져 있나?</td>\n",
       "      <td>1</td>\n",
       "    </tr>\n",
       "  </tbody>\n",
       "</table>\n",
       "</div>"
      ],
      "text/plain": [
       "         id                                           document  label\n",
       "0   9976970                                아 더빙.. 진짜 짜증나네요 목소리      0\n",
       "1   3819312                  흠...포스터보고 초딩영화줄....오버연기조차 가볍지 않구나      1\n",
       "2  10265843                                  너무재밓었다그래서보는것을추천한다      0\n",
       "3   9045019                      교도소 이야기구먼 ..솔직히 재미는 없다..평점 조정      0\n",
       "4   6483659  사이몬페그의 익살스런 연기가 돋보였던 영화!스파이더맨에서 늙어보이기만 했던 커스틴 ...      1\n",
       "5   5403919      막 걸음마 뗀 3세부터 초등학교 1학년생인 8살용영화.ㅋㅋㅋ...별반개도 아까움.      0\n",
       "6   7797314                              원작의 긴장감을 제대로 살려내지못했다.      0\n",
       "7   9443947  별 반개도 아깝다 욕나온다 이응경 길용우 연기생활이몇년인지..정말 발로해도 그것보단...      0\n",
       "8   7156791                             액션이 없는데도 재미 있는 몇안되는 영화      1\n",
       "9   5912145      왜케 평점이 낮은건데? 꽤 볼만한데.. 헐리우드식 화려함에만 너무 길들여져 있나?      1"
      ]
     },
     "execution_count": 2,
     "metadata": {},
     "output_type": "execute_result"
    }
   ],
   "source": [
    "train_file = urllib.request.urlopen(\"https://raw.githubusercontent.com/e9t/nsmc/master/ratings_train.txt\")\n",
    "test_file = urllib.request.urlopen(\"https://raw.githubusercontent.com/e9t/nsmc/master/ratings_test.txt\")\n",
    "\n",
    "train_data = pd.read_table(train_file)\n",
    "test_data = pd.read_table(test_file)\n",
    "train_data[:10]"
   ]
  },
  {
   "cell_type": "markdown",
   "id": "f3a98c44",
   "metadata": {},
   "source": [
    "## 1. 데이터 전처리"
   ]
  },
  {
   "cell_type": "code",
   "execution_count": 3,
   "id": "c4ca7799",
   "metadata": {},
   "outputs": [
    {
     "name": "stdout",
     "output_type": "stream",
     "text": [
      "==== train ====\n",
      "shape :  (150000, 3)\n",
      "document열 nunique:  146182\n",
      "label열 nunique:  2\n",
      "==== test ====\n",
      "shape :  (50000, 3)\n",
      "document열 nunique:  49157\n",
      "label열 nunique:  2\n"
     ]
    }
   ],
   "source": [
    "# 전처리 하기 전 \n",
    "print(\"==== train ====\")\n",
    "print(\"shape : \",train_data.shape)\n",
    "print(\"document열 nunique: \",train_data['document'].nunique())\n",
    "print(\"label열 nunique: \",train_data['label'].nunique())\n",
    "print(\"==== test ====\")\n",
    "print(\"shape : \",test_data.shape)\n",
    "print(\"document열 nunique: \",test_data['document'].nunique())\n",
    "print(\"label열 nunique: \",test_data['label'].nunique())"
   ]
  },
  {
   "cell_type": "code",
   "execution_count": 4,
   "id": "f11d4c9a",
   "metadata": {},
   "outputs": [
    {
     "name": "stdout",
     "output_type": "stream",
     "text": [
      "id          0\n",
      "document    1\n",
      "label       0\n",
      "dtype: int64\n",
      "==== 1차 확인 train ====\n",
      "shape :  (146182, 3)\n",
      "document열 nunique:  146182\n",
      "label열 nunique:  2\n",
      "========================\n",
      "id            0\n",
      "document    391\n",
      "label         0\n",
      "dtype: int64\n",
      "==== 2차 확인 train ====\n",
      "shape :  (145791, 3)\n",
      "document열 nunique:  143681\n",
      "label열 nunique:  2\n",
      "========================\n"
     ]
    }
   ],
   "source": [
    "# train_data 전처리\n",
    "\n",
    "# 중복 제외\n",
    "train_data.drop_duplicates(subset=['document'], inplace = True )\n",
    "# null값 제외\n",
    "print(train_data.isnull().sum())\n",
    "train_data = train_data.dropna(how='any')\n",
    "# 확인\n",
    "print(\"==== 1차 확인 train ====\")\n",
    "print(\"shape : \",train_data.shape)\n",
    "print(\"document열 nunique: \",train_data['document'].nunique())\n",
    "print(\"label열 nunique: \",train_data['label'].nunique())\n",
    "print(\"========================\")\n",
    "# 한글만 남기기\n",
    "train_data['document'] = train_data['document'].str.replace(\"[^ㄱ-ㅎㅏ-ㅣ가-힣 ]\", \"\")\n",
    "# 공백 제외\n",
    "train_data['document'].replace('', np.nan, inplace=True)\n",
    "# null값 제외\n",
    "print(train_data.isnull().sum())\n",
    "train_data = train_data.dropna(how='any')\n",
    "# 확인\n",
    "print(\"==== 2차 확인 train ====\")\n",
    "print(\"shape : \",train_data.shape)\n",
    "print(\"document열 nunique: \",train_data['document'].nunique())\n",
    "print(\"label열 nunique: \",train_data['label'].nunique())\n",
    "print(\"========================\")"
   ]
  },
  {
   "cell_type": "code",
   "execution_count": 5,
   "id": "18b3c981",
   "metadata": {
    "scrolled": true
   },
   "outputs": [
    {
     "name": "stdout",
     "output_type": "stream",
     "text": [
      "id          0\n",
      "document    1\n",
      "label       0\n",
      "dtype: int64\n",
      "==== 1차 확인 test ====\n",
      "shape :  (49157, 3)\n",
      "document열 nunique:  49157\n",
      "label열 nunique:  2\n",
      "========================\n",
      "id            0\n",
      "document    162\n",
      "label         0\n",
      "dtype: int64\n",
      "==== 2차 확인 test ====\n",
      "shape :  (48995, 3)\n",
      "document열 nunique:  48417\n",
      "label열 nunique:  2\n",
      "========================\n"
     ]
    }
   ],
   "source": [
    "# test_data 전처리\n",
    "\n",
    "# 중복 제외\n",
    "test_data.drop_duplicates(subset=['document'], inplace = True )\n",
    "# null값 제외\n",
    "print(test_data.isnull().sum())\n",
    "test_data = test_data.dropna(how='any')\n",
    "# 확인\n",
    "print(\"==== 1차 확인 test ====\")\n",
    "print(\"shape : \",test_data.shape)\n",
    "print(\"document열 nunique: \",test_data['document'].nunique())\n",
    "print(\"label열 nunique: \",test_data['label'].nunique())\n",
    "print(\"========================\")\n",
    "# 한글만 남기기\n",
    "test_data['document'] = test_data['document'].str.replace(\"[^ㄱ-ㅎㅏ-ㅣ가-힣 ]\", \"\")\n",
    "# 공백 제외\n",
    "test_data['document'].replace('', np.nan, inplace=True)\n",
    "# null값 제외\n",
    "print(test_data.isnull().sum())\n",
    "test_data = test_data.dropna(how='any')\n",
    "# 확인\n",
    "print(\"==== 2차 확인 test ====\")\n",
    "print(\"shape : \",test_data.shape)\n",
    "print(\"document열 nunique: \",test_data['document'].nunique())\n",
    "print(\"label열 nunique: \",test_data['label'].nunique())\n",
    "print(\"========================\")"
   ]
  },
  {
   "cell_type": "code",
   "execution_count": 6,
   "id": "c669c812",
   "metadata": {},
   "outputs": [],
   "source": [
    "# 불용어 \n",
    "\n",
    "stopwords = ['의','가','이','은','들','는','좀','잘','걍','과','도','를','으로','자','에','와','한','하다']"
   ]
  },
  {
   "cell_type": "markdown",
   "id": "6e7e1f50",
   "metadata": {},
   "source": [
    "## 토큰화"
   ]
  },
  {
   "cell_type": "markdown",
   "id": "f2ef8ec4",
   "metadata": {},
   "source": [
    ">## 1. Mecab 형태소파싱 >> keras로 토큰화"
   ]
  },
  {
   "cell_type": "code",
   "execution_count": 7,
   "id": "3eeb4ef6",
   "metadata": {},
   "outputs": [],
   "source": [
    "mecab = Mecab()"
   ]
  },
  {
   "cell_type": "code",
   "execution_count": 8,
   "id": "24f1246b",
   "metadata": {},
   "outputs": [],
   "source": [
    "# 데이터셋 정리\n",
    "\n",
    "X_train = []\n",
    "for sentences in train_data['document']:  \n",
    "    X_train.append([word for word in mecab.morphs(sentences) if not word in stopwords])\n",
    "\n",
    "X_test = []\n",
    "for sentences in test_data['document']: \n",
    "    X_test.append([word for word in mecab.morphs(sentences) if not word in stopwords]) \n",
    "    \n",
    "y_train = np.array(train_data['label'])\n",
    "\n",
    "y_test = np.array(test_data['label'])"
   ]
  },
  {
   "cell_type": "code",
   "execution_count": 9,
   "id": "7d01d0b2",
   "metadata": {},
   "outputs": [
    {
     "data": {
      "text/plain": [
       "[['아', '더', '빙', '진짜', '짜증', '나', '네요', '목소리'],\n",
       " ['흠', '포스터', '보고', '초딩', '영화', '줄', '오버', '연기', '조차', '가볍', '지', '않', '구나'],\n",
       " ['너무', '재', '밓었다그래서보는것을추천한다']]"
      ]
     },
     "execution_count": 9,
     "metadata": {},
     "output_type": "execute_result"
    }
   ],
   "source": [
    "X_train[:3] # morphs parsing"
   ]
  },
  {
   "cell_type": "code",
   "execution_count": 10,
   "id": "aa2da3ba",
   "metadata": {},
   "outputs": [
    {
     "name": "stdout",
     "output_type": "stream",
     "text": [
      "[[24, 64, 892, 30, 211, 12, 25, 696], [974, 478, 488, 633, 1, 107, 1551, 45, 863, 946, 8, 35, 361], [16, 189, 28634]]\n",
      "[[785, 125], [74, 105, 49, 895, 311, 35, 28, 36, 594, 3398, 61, 852], [85, 4, 8, 35, 214, 122, 325, 116, 135, 46, 3, 6, 33]]\n",
      "X_train len : 145791\n",
      "y_train len : 145791\n",
      "X_test len : 48995\n",
      "y_test len : 48995\n"
     ]
    }
   ],
   "source": [
    "# 토크나이징 \n",
    "\n",
    "tokenizer = Tokenizer()\n",
    "tokenizer.fit_on_texts(X_train)\n",
    "\n",
    "X_train = tokenizer.texts_to_sequences(X_train)\n",
    "X_test = tokenizer.texts_to_sequences(X_test)\n",
    "print(X_train[:3])\n",
    "print(X_test[:3])\n",
    "print(\"X_train len :\",len(X_train))\n",
    "print(\"y_train len :\",len(y_train))\n",
    "print(\"X_test len :\",len(X_test))\n",
    "print(\"y_test len :\",len(y_test))"
   ]
  },
  {
   "cell_type": "code",
   "execution_count": 11,
   "id": "e1dbe1e4",
   "metadata": {},
   "outputs": [
    {
     "name": "stdout",
     "output_type": "stream",
     "text": [
      "145380\n",
      "145380\n"
     ]
    }
   ],
   "source": [
    "# 길이 1이하 제거\n",
    "\n",
    "drop_train = [index for index, sentence in enumerate(X_train) if len(sentence) < 1]\n",
    "X_train = np.delete(X_train, drop_train, axis=0)\n",
    "y_train = np.delete(y_train, drop_train, axis=0)\n",
    "print(len(X_train))\n",
    "print(len(y_train))"
   ]
  },
  {
   "cell_type": "code",
   "execution_count": 12,
   "id": "af0ce4b0",
   "metadata": {},
   "outputs": [
    {
     "name": "stdout",
     "output_type": "stream",
     "text": [
      "max_len: 83\n",
      "everage_len: 13.801382583574082\n"
     ]
    },
    {
     "data": {
      "text/plain": [
       "Text(0.5, 0, 'Number')"
      ]
     },
     "execution_count": 12,
     "metadata": {},
     "output_type": "execute_result"
    },
    {
     "data": {
      "image/png": "[encoded data removed]",
      "text/plain": [
       "<Figure size 432x288 with 1 Axes>"
      ]
     },
     "metadata": {},
     "output_type": "display_data"
    }
   ],
   "source": [
    "# 길이 분포 확인\n",
    "\n",
    "print('max_len:', max(len(l) for l in X_train))\n",
    "print('everage_len:', sum(map(len,X_train)) / len(X_train))\n",
    "\n",
    "plt.hist([len(l) for l in X_train], bins=50)\n",
    "plt.xlabel('Length')\n",
    "plt.xlabel('Number')"
   ]
  },
  {
   "cell_type": "code",
   "execution_count": 13,
   "id": "788ee0b3",
   "metadata": {},
   "outputs": [],
   "source": [
    "# 해당 길이 몇프로인지 확인하는 함수\n",
    "\n",
    "def below_threshold_len(max_len, nested_list):\n",
    "    count = 0\n",
    "    for sentence in nested_list:\n",
    "        if(len(sentence) <= max_len):\n",
    "            count = count + 1\n",
    "    print('전체 샘플 중 길이가 %s 이하인 샘플의 비율: %s'%(max_len, (count / len(nested_list)) * 100)) "
   ]
  },
  {
   "cell_type": "code",
   "execution_count": 14,
   "id": "762de13f",
   "metadata": {},
   "outputs": [
    {
     "name": "stdout",
     "output_type": "stream",
     "text": [
      "전체 샘플 중 길이가 50 이하인 샘플의 비율: 97.91305544091347\n"
     ]
    }
   ],
   "source": [
    "# max_len\n",
    "\n",
    "max_len = 50\n",
    "below_threshold_len(max_len, X_train)"
   ]
  },
  {
   "cell_type": "code",
   "execution_count": 15,
   "id": "68678d69",
   "metadata": {},
   "outputs": [],
   "source": [
    "# 패딩하기\n",
    "\n",
    "X_train = pad_sequences(X_train,maxlen=max_len)\n",
    "X_test = pad_sequences(X_test,maxlen=max_len)"
   ]
  },
  {
   "cell_type": "markdown",
   "id": "7ccdc0a7",
   "metadata": {},
   "source": [
    "## LSTM 모델링"
   ]
  },
  {
   "cell_type": "code",
   "execution_count": 16,
   "id": "405e4abd",
   "metadata": {},
   "outputs": [],
   "source": [
    "from tensorflow.keras.layers import Embedding, Dense, LSTM\n",
    "from tensorflow.keras.models import Sequential\n",
    "from tensorflow.keras.models import load_model\n",
    "from tensorflow.keras.callbacks import EarlyStopping, ModelCheckpoint"
   ]
  },
  {
   "cell_type": "code",
   "execution_count": 17,
   "id": "4ba054dc",
   "metadata": {},
   "outputs": [
    {
     "name": "stdout",
     "output_type": "stream",
     "text": [
      "Model: \"sequential\"\n",
      "_________________________________________________________________\n",
      "Layer (type)                 Output Shape              Param #   \n",
      "=================================================================\n",
      "embedding (Embedding)        (None, None, 100)         800000    \n",
      "_________________________________________________________________\n",
      "lstm (LSTM)                  (None, 128)               117248    \n",
      "_________________________________________________________________\n",
      "dense (Dense)                (None, 1)                 129       \n",
      "=================================================================\n",
      "Total params: 917,377\n",
      "Trainable params: 917,377\n",
      "Non-trainable params: 0\n",
      "_________________________________________________________________\n",
      "Epoch 1/15\n",
      "1818/1818 [==============================] - 15s 6ms/step - loss: 0.3873 - acc: 0.8235 - val_loss: 0.3500 - val_acc: 0.8446\n",
      "Epoch 2/15\n",
      "1818/1818 [==============================] - 11s 6ms/step - loss: 0.3254 - acc: 0.8580 - val_loss: 0.3409 - val_acc: 0.8496\n",
      "Epoch 3/15\n",
      "1818/1818 [==============================] - 11s 6ms/step - loss: 0.3026 - acc: 0.8702 - val_loss: 0.3252 - val_acc: 0.8568\n",
      "Epoch 4/15\n",
      "1818/1818 [==============================] - 11s 6ms/step - loss: 0.2878 - acc: 0.8779 - val_loss: 0.3146 - val_acc: 0.8648\n",
      "Epoch 5/15\n",
      "1818/1818 [==============================] - 11s 6ms/step - loss: 0.2753 - acc: 0.8847 - val_loss: 0.3158 - val_acc: 0.8649\n",
      "Epoch 6/15\n",
      "1818/1818 [==============================] - 11s 6ms/step - loss: 0.2643 - acc: 0.8897 - val_loss: 0.3203 - val_acc: 0.8658\n",
      "Epoch 7/15\n",
      "1818/1818 [==============================] - 11s 6ms/step - loss: 0.2534 - acc: 0.8956 - val_loss: 0.3108 - val_acc: 0.8670\n",
      "Epoch 8/15\n",
      "1818/1818 [==============================] - 11s 6ms/step - loss: 0.2426 - acc: 0.9009 - val_loss: 0.3149 - val_acc: 0.8656\n",
      "Epoch 9/15\n",
      "1818/1818 [==============================] - 11s 6ms/step - loss: 0.2300 - acc: 0.9062 - val_loss: 0.3167 - val_acc: 0.8658\n",
      "Epoch 10/15\n",
      "1818/1818 [==============================] - 11s 6ms/step - loss: 0.2178 - acc: 0.9127 - val_loss: 0.3353 - val_acc: 0.8630\n",
      "1532/1532 [==============================] - 4s 3ms/step - loss: 0.3464 - acc: 0.8580\n",
      "Test accuracy: 0.858005940914154\n"
     ]
    }
   ],
   "source": [
    "from keras.callbacks import EarlyStopping\n",
    "\n",
    "embedding_dim = 100\n",
    "hidden_units = 128\n",
    "vocab_size = 8000\n",
    "\n",
    "model = Sequential()\n",
    "model.add(Embedding(vocab_size,embedding_dim))\n",
    "model.add(LSTM(hidden_units))\n",
    "model.add(Dense(1, activation = 'sigmoid'))\n",
    "\n",
    "model.compile(optimizer='rmsprop',\n",
    "              loss = \"binary_crossentropy\",\n",
    "              metrics = ['acc'])\n",
    "model.summary()\n",
    "\n",
    "# Early stopping\n",
    "early_stop = EarlyStopping(monitor='val_loss', patience=3)\n",
    "\n",
    "# Fit\n",
    "history = model.fit(X_train, y_train, epochs=15, batch_size=64, validation_split=0.2, callbacks=[early_stop])\n",
    "\n",
    "# Evaluate\n",
    "test_loss, test_acc = model.evaluate(X_test, y_test)\n",
    "print('Test accuracy:', test_acc)"
   ]
  },
  {
   "cell_type": "code",
   "execution_count": 18,
   "id": "49ca3910",
   "metadata": {},
   "outputs": [
    {
     "data": {
      "image/png": "[encoded data removed]",
      "text/plain": [
       "<Figure size 432x288 with 1 Axes>"
      ]
     },
     "metadata": {},
     "output_type": "display_data"
    },
    {
     "data": {
      "image/png": "[encoded data removed]",
      "text/plain": [
       "<Figure size 432x288 with 1 Axes>"
      ]
     },
     "metadata": {},
     "output_type": "display_data"
    }
   ],
   "source": [
    "hist_dict = history.history\n",
    "loss = hist_dict['loss']\n",
    "val_loss = hist_dict['val_loss']\n",
    "acc = hist_dict['acc']\n",
    "val_acc = hist_dict['val_acc']\n",
    "\n",
    "plt.plot(loss,'b--', label = 'training loss')\n",
    "plt.plot(val_loss,'r--', label = 'validation loss')\n",
    "plt.legend()\n",
    "plt.grid()\n",
    "\n",
    "plt.figure()\n",
    "plt.plot(acc,'b--', label = 'training acc')\n",
    "plt.plot(val_acc,'r--', label = 'validation acc')\n",
    "plt.legend()\n",
    "plt.grid()"
   ]
  },
  {
   "cell_type": "markdown",
   "id": "24cb4c6b",
   "metadata": {},
   "source": [
    ">## 2. Okt 형태소파싱 >> keras로 토큰화"
   ]
  },
  {
   "cell_type": "code",
   "execution_count": 19,
   "id": "2e50634d",
   "metadata": {},
   "outputs": [],
   "source": [
    "from konlpy.tag import Okt\n",
    "okt = Okt()"
   ]
  },
  {
   "cell_type": "code",
   "execution_count": 20,
   "id": "f69f40e6",
   "metadata": {},
   "outputs": [],
   "source": [
    "# 데이터셋 정리\n",
    "\n",
    "X_train = []\n",
    "for sentences in train_data['document']:  \n",
    "    X_train.append([word for word in okt.morphs(sentences) if not word in stopwords])\n",
    "\n",
    "X_test = []\n",
    "for sentences in test_data['document']: \n",
    "    X_test.append([word for word in okt.morphs(sentences) if not word in stopwords]) \n",
    "    \n",
    "y_train = np.array(train_data['label'])\n",
    "\n",
    "y_test = np.array(test_data['label'])\n",
    "\n"
   ]
  },
  {
   "cell_type": "code",
   "execution_count": 21,
   "id": "f1f71909",
   "metadata": {},
   "outputs": [
    {
     "data": {
      "text/plain": [
       "[['아', '더빙', '진짜', '짜증나네요', '목소리'],\n",
       " ['흠', '포스터', '보고', '초딩', '영화', '줄', '오버', '연기', '조차', '가볍지', '않구나'],\n",
       " ['너', '무재', '밓었', '다그', '래서', '보는것을', '추천', '다']]"
      ]
     },
     "execution_count": 21,
     "metadata": {},
     "output_type": "execute_result"
    }
   ],
   "source": [
    "X_train[:3] # morphs parsing"
   ]
  },
  {
   "cell_type": "code",
   "execution_count": 22,
   "id": "d9ac8bc1",
   "metadata": {},
   "outputs": [
    {
     "name": "stdout",
     "output_type": "stream",
     "text": [
      "[[40, 417, 8, 6598, 624], [905, 419, 31, 567, 1, 182, 1521, 12, 939, 6036, 25784], [357, 2813, 45383, 2646, 7326, 12028, 189, 4]]\n",
      "[[784, 75], [50, 143, 14, 4668, 1406, 10, 946, 847, 36, 757, 3696], [14620, 2449, 72, 307, 94, 88, 371, 130, 237]]\n",
      "X_train len : 145791\n",
      "y_train len : 145791\n",
      "X_test len : 48995\n",
      "y_test len : 48995\n"
     ]
    }
   ],
   "source": [
    "# 토크나이징 \n",
    "\n",
    "tokenizer = Tokenizer()\n",
    "tokenizer.fit_on_texts(X_train)\n",
    "\n",
    "X_train = tokenizer.texts_to_sequences(X_train)\n",
    "X_test = tokenizer.texts_to_sequences(X_test)\n",
    "print(X_train[:3])\n",
    "print(X_test[:3])\n",
    "print(\"X_train len :\",len(X_train))\n",
    "print(\"y_train len :\",len(y_train))\n",
    "print(\"X_test len :\",len(X_test))\n",
    "print(\"y_test len :\",len(y_test))"
   ]
  },
  {
   "cell_type": "code",
   "execution_count": 23,
   "id": "f3321aa3",
   "metadata": {},
   "outputs": [
    {
     "name": "stdout",
     "output_type": "stream",
     "text": [
      "145383\n",
      "145383\n"
     ]
    }
   ],
   "source": [
    "# 길이 1이하 제거\n",
    "\n",
    "drop_train = [index for index, sentence in enumerate(X_train) if len(sentence) < 1]\n",
    "X_train = np.delete(X_train, drop_train, axis=0)\n",
    "y_train = np.delete(y_train, drop_train, axis=0)\n",
    "print(len(X_train))\n",
    "print(len(y_train))"
   ]
  },
  {
   "cell_type": "code",
   "execution_count": 24,
   "id": "6562561c",
   "metadata": {},
   "outputs": [
    {
     "name": "stdout",
     "output_type": "stream",
     "text": [
      "max_len: 72\n",
      "everage_len: 11.22376068728806\n"
     ]
    },
    {
     "data": {
      "text/plain": [
       "Text(0.5, 0, 'Number')"
      ]
     },
     "execution_count": 24,
     "metadata": {},
     "output_type": "execute_result"
    },
    {
     "data": {
      "image/png": "[encoded data removed]",
      "text/plain": [
       "<Figure size 432x288 with 1 Axes>"
      ]
     },
     "metadata": {},
     "output_type": "display_data"
    }
   ],
   "source": [
    "# 길이 분포 확인\n",
    "\n",
    "print('max_len:', max(len(l) for l in X_train))\n",
    "print('everage_len:', sum(map(len,X_train)) / len(X_train))\n",
    "\n",
    "plt.hist([len(l) for l in X_train], bins=50)\n",
    "plt.xlabel('Length')\n",
    "plt.xlabel('Number')"
   ]
  },
  {
   "cell_type": "code",
   "execution_count": 25,
   "id": "f0cb3727",
   "metadata": {},
   "outputs": [],
   "source": [
    "# 해당 길이 몇프로인지 확인하는 함수\n",
    "\n",
    "def below_threshold_len(max_len, nested_list):\n",
    "    count = 0\n",
    "    for sentence in nested_list:\n",
    "        if(len(sentence) <= max_len):\n",
    "            count = count + 1\n",
    "    print('전체 샘플 중 길이가 %s 이하인 샘플의 비율: %s'%(max_len, (count / len(nested_list)) * 100)) "
   ]
  },
  {
   "cell_type": "code",
   "execution_count": 26,
   "id": "288ff0d1",
   "metadata": {},
   "outputs": [
    {
     "name": "stdout",
     "output_type": "stream",
     "text": [
      "전체 샘플 중 길이가 40 이하인 샘플의 비율: 97.6276455981786\n"
     ]
    }
   ],
   "source": [
    "# max_len\n",
    "\n",
    "max_len = 40\n",
    "below_threshold_len(max_len, X_train)"
   ]
  },
  {
   "cell_type": "code",
   "execution_count": 27,
   "id": "956e7399",
   "metadata": {},
   "outputs": [],
   "source": [
    "# 패딩하기\n",
    "\n",
    "X_train = pad_sequences(X_train,maxlen=max_len)\n",
    "X_test = pad_sequences(X_test,maxlen=max_len)"
   ]
  },
  {
   "cell_type": "markdown",
   "id": "489db600",
   "metadata": {},
   "source": [
    "## LSTM 모델링"
   ]
  },
  {
   "cell_type": "code",
   "execution_count": 28,
   "id": "c7b646e7",
   "metadata": {},
   "outputs": [
    {
     "name": "stdout",
     "output_type": "stream",
     "text": [
      "Model: \"sequential_1\"\n",
      "_________________________________________________________________\n",
      "Layer (type)                 Output Shape              Param #   \n",
      "=================================================================\n",
      "embedding_1 (Embedding)      (None, None, 100)         800000    \n",
      "_________________________________________________________________\n",
      "lstm_1 (LSTM)                (None, 128)               117248    \n",
      "_________________________________________________________________\n",
      "dense_1 (Dense)              (None, 1)                 129       \n",
      "=================================================================\n",
      "Total params: 917,377\n",
      "Trainable params: 917,377\n",
      "Non-trainable params: 0\n",
      "_________________________________________________________________\n",
      "Epoch 1/15\n",
      "1818/1818 [==============================] - 14s 6ms/step - loss: 0.4004 - acc: 0.8137 - val_loss: 0.3785 - val_acc: 0.8368\n",
      "Epoch 2/15\n",
      "1818/1818 [==============================] - 10s 6ms/step - loss: 0.3401 - acc: 0.8490 - val_loss: 0.3487 - val_acc: 0.8431\n",
      "Epoch 3/15\n",
      "1818/1818 [==============================] - 10s 6ms/step - loss: 0.3228 - acc: 0.8574 - val_loss: 0.3388 - val_acc: 0.8500\n",
      "Epoch 4/15\n",
      "1818/1818 [==============================] - 11s 6ms/step - loss: 0.3100 - acc: 0.8646 - val_loss: 0.3355 - val_acc: 0.8516\n",
      "Epoch 5/15\n",
      "1818/1818 [==============================] - 10s 6ms/step - loss: 0.3000 - acc: 0.8701 - val_loss: 0.3362 - val_acc: 0.8518\n",
      "Epoch 6/15\n",
      "1818/1818 [==============================] - 11s 6ms/step - loss: 0.2892 - acc: 0.8747 - val_loss: 0.3379 - val_acc: 0.8492\n",
      "Epoch 7/15\n",
      "1818/1818 [==============================] - 11s 6ms/step - loss: 0.2788 - acc: 0.8801 - val_loss: 0.3489 - val_acc: 0.8457\n",
      "1532/1532 [==============================] - 4s 2ms/step - loss: 0.3590 - acc: 0.8399\n",
      "Test accuracy: 0.8399224281311035\n"
     ]
    }
   ],
   "source": [
    "from keras.callbacks import EarlyStopping\n",
    "\n",
    "embedding_dim = 100\n",
    "hidden_units = 128\n",
    "vocab_size = 8000\n",
    "\n",
    "model = Sequential()\n",
    "model.add(Embedding(vocab_size,embedding_dim))\n",
    "model.add(LSTM(hidden_units))\n",
    "model.add(Dense(1, activation = 'sigmoid'))\n",
    "\n",
    "model.compile(optimizer='rmsprop',\n",
    "              loss = \"binary_crossentropy\",\n",
    "              metrics = ['acc'])\n",
    "model.summary()\n",
    "\n",
    "# Early stopping\n",
    "early_stop = EarlyStopping(monitor='val_loss', patience=3)\n",
    "\n",
    "# Fit\n",
    "history = model.fit(X_train, y_train, epochs=15, batch_size=64, validation_split=0.2, callbacks=[early_stop])\n",
    "\n",
    "# Evaluate\n",
    "test_loss, test_acc = model.evaluate(X_test, y_test)\n",
    "print('Test accuracy:', test_acc)"
   ]
  },
  {
   "cell_type": "code",
   "execution_count": 29,
   "id": "9fc82c7d",
   "metadata": {},
   "outputs": [
    {
     "data": {
      "image/png": "[encoded data removed]",
      "text/plain": [
       "<Figure size 432x288 with 1 Axes>"
      ]
     },
     "metadata": {},
     "output_type": "display_data"
    },
    {
     "data": {
      "image/png": "[encoded data removed]",
      "text/plain": [
       "<Figure size 432x288 with 1 Axes>"
      ]
     },
     "metadata": {},
     "output_type": "display_data"
    }
   ],
   "source": [
    "hist_dict = history.history\n",
    "loss = hist_dict['loss']\n",
    "val_loss = hist_dict['val_loss']\n",
    "acc = hist_dict['acc']\n",
    "val_acc = hist_dict['val_acc']\n",
    "\n",
    "plt.plot(loss,'b--', label = 'training loss')\n",
    "plt.plot(val_loss,'r--', label = 'validation loss')\n",
    "plt.legend()\n",
    "plt.grid()\n",
    "\n",
    "plt.figure()\n",
    "plt.plot(acc,'b--', label = 'training acc')\n",
    "plt.plot(val_acc,'r--', label = 'validation acc')\n",
    "plt.legend()\n",
    "plt.grid()"
   ]
  },
  {
   "cell_type": "markdown",
   "id": "77978520",
   "metadata": {},
   "source": [
    ">## 3. Sentencepiece"
   ]
  },
  {
   "cell_type": "code",
   "execution_count": 30,
   "id": "5ae81573",
   "metadata": {},
   "outputs": [],
   "source": [
    "examples = train_data['document']"
   ]
  },
  {
   "cell_type": "code",
   "execution_count": 31,
   "id": "2059da4f",
   "metadata": {},
   "outputs": [
    {
     "name": "stderr",
     "output_type": "stream",
     "text": [
      "sentencepiece_trainer.cc(177) LOG(INFO) Running command: --input=/aiffel/aiffel/sp_tokenizer/data/korean-english-park.train.ko.temp --model_prefix=korean_spm --vocab_size=8000\n",
      "sentencepiece_trainer.cc(77) LOG(INFO) Starts training with : \n",
      "trainer_spec {\n",
      "  input: /aiffel/aiffel/sp_tokenizer/data/korean-english-park.train.ko.temp\n",
      "  input_format: \n",
      "  model_prefix: korean_spm\n",
      "  model_type: UNIGRAM\n",
      "  vocab_size: 8000\n",
      "  self_test_sample_size: 0\n",
      "  character_coverage: 0.9995\n",
      "  input_sentence_size: 0\n",
      "  shuffle_input_sentence: 1\n",
      "  seed_sentencepiece_size: 1000000\n",
      "  shrinking_factor: 0.75\n",
      "  max_sentence_length: 4192\n",
      "  num_threads: 16\n",
      "  num_sub_iterations: 2\n",
      "  max_sentencepiece_length: 16\n",
      "  split_by_unicode_script: 1\n",
      "  split_by_number: 1\n",
      "  split_by_whitespace: 1\n",
      "  split_digits: 0\n",
      "  treat_whitespace_as_suffix: 0\n",
      "  allow_whitespace_only_pieces: 0\n",
      "  required_chars: \n",
      "  byte_fallback: 0\n",
      "  vocabulary_output_piece_score: 1\n",
      "  train_extremely_large_corpus: 0\n",
      "  hard_vocab_limit: 1\n",
      "  use_all_vocab: 0\n",
      "  unk_id: 0\n",
      "  bos_id: 1\n",
      "  eos_id: 2\n",
      "  pad_id: -1\n",
      "  unk_piece: <unk>\n",
      "  bos_piece: <s>\n",
      "  eos_piece: </s>\n",
      "  pad_piece: <pad>\n",
      "  unk_surface:  ⁇ \n",
      "}\n",
      "normalizer_spec {\n",
      "  name: nmt_nfkc\n",
      "  add_dummy_prefix: 1\n",
      "  remove_extra_whitespaces: 1\n",
      "  escape_whitespaces: 1\n",
      "  normalization_rule_tsv: \n",
      "}\n",
      "denormalizer_spec {}\n",
      "trainer_interface.cc(329) LOG(INFO) SentenceIterator is not specified. Using MultiFileSentenceIterator.\n",
      "trainer_interface.cc(178) LOG(INFO) Loading corpus: /aiffel/aiffel/sp_tokenizer/data/korean-english-park.train.ko.temp\n",
      "trainer_interface.cc(385) LOG(INFO) Loaded all 145791 sentences\n",
      "trainer_interface.cc(400) LOG(INFO) Adding meta_piece: <unk>\n",
      "trainer_interface.cc(400) LOG(INFO) Adding meta_piece: <s>\n",
      "trainer_interface.cc(400) LOG(INFO) Adding meta_piece: </s>\n",
      "trainer_interface.cc(405) LOG(INFO) Normalizing sentences...\n",
      "trainer_interface.cc(466) LOG(INFO) all chars count=4944911\n",
      "trainer_interface.cc(477) LOG(INFO) Done: 99.95% characters are covered.\n",
      "trainer_interface.cc(487) LOG(INFO) Alphabet size=1550\n",
      "trainer_interface.cc(488) LOG(INFO) Final character coverage=0.9995\n",
      "trainer_interface.cc(520) LOG(INFO) Done! preprocessed 145395 sentences.\n",
      "unigram_model_trainer.cc(139) LOG(INFO) Making suffix array...\n",
      "unigram_model_trainer.cc(143) LOG(INFO) Extracting frequent sub strings...\n",
      "unigram_model_trainer.cc(194) LOG(INFO) Initialized 317695 seed sentencepieces\n",
      "trainer_interface.cc(526) LOG(INFO) Tokenizing input sentences with whitespace: 145395\n",
      "trainer_interface.cc(537) LOG(INFO) Done! 299292\n",
      "unigram_model_trainer.cc(489) LOG(INFO) Using 299292 sentences for EM training\n",
      "unigram_model_trainer.cc(505) LOG(INFO) EM sub_iter=0 size=154308 obj=13.9864 num_tokens=624105 num_tokens/piece=4.04454\n",
      "unigram_model_trainer.cc(505) LOG(INFO) EM sub_iter=1 size=142006 obj=13.0761 num_tokens=627169 num_tokens/piece=4.4165\n",
      "unigram_model_trainer.cc(505) LOG(INFO) EM sub_iter=0 size=106439 obj=13.1581 num_tokens=658989 num_tokens/piece=6.19124\n",
      "unigram_model_trainer.cc(505) LOG(INFO) EM sub_iter=1 size=106198 obj=13.1042 num_tokens=659398 num_tokens/piece=6.20914\n",
      "unigram_model_trainer.cc(505) LOG(INFO) EM sub_iter=0 size=79643 obj=13.3211 num_tokens=698587 num_tokens/piece=8.77148\n",
      "unigram_model_trainer.cc(505) LOG(INFO) EM sub_iter=1 size=79634 obj=13.2608 num_tokens=698754 num_tokens/piece=8.77457\n",
      "unigram_model_trainer.cc(505) LOG(INFO) EM sub_iter=0 size=59725 obj=13.498 num_tokens=735665 num_tokens/piece=12.3175\n",
      "unigram_model_trainer.cc(505) LOG(INFO) EM sub_iter=1 size=59725 obj=13.4376 num_tokens=735673 num_tokens/piece=12.3177\n",
      "unigram_model_trainer.cc(505) LOG(INFO) EM sub_iter=0 size=44793 obj=13.7112 num_tokens=774873 num_tokens/piece=17.299\n",
      "unigram_model_trainer.cc(505) LOG(INFO) EM sub_iter=1 size=44793 obj=13.6487 num_tokens=774896 num_tokens/piece=17.2995\n",
      "unigram_model_trainer.cc(505) LOG(INFO) EM sub_iter=0 size=33594 obj=13.9502 num_tokens=814972 num_tokens/piece=24.2595\n",
      "unigram_model_trainer.cc(505) LOG(INFO) EM sub_iter=1 size=33594 obj=13.8865 num_tokens=814956 num_tokens/piece=24.259\n",
      "unigram_model_trainer.cc(505) LOG(INFO) EM sub_iter=0 size=25195 obj=14.2185 num_tokens=855998 num_tokens/piece=33.9749\n",
      "unigram_model_trainer.cc(505) LOG(INFO) EM sub_iter=1 size=25195 obj=14.1493 num_tokens=856090 num_tokens/piece=33.9786\n",
      "unigram_model_trainer.cc(505) LOG(INFO) EM sub_iter=0 size=18896 obj=14.5122 num_tokens=899658 num_tokens/piece=47.611\n",
      "unigram_model_trainer.cc(505) LOG(INFO) EM sub_iter=1 size=18896 obj=14.4347 num_tokens=899747 num_tokens/piece=47.6157\n",
      "unigram_model_trainer.cc(505) LOG(INFO) EM sub_iter=0 size=14172 obj=14.8297 num_tokens=944864 num_tokens/piece=66.6712\n",
      "unigram_model_trainer.cc(505) LOG(INFO) EM sub_iter=1 size=14172 obj=14.7422 num_tokens=944875 num_tokens/piece=66.672\n",
      "unigram_model_trainer.cc(505) LOG(INFO) EM sub_iter=0 size=10629 obj=15.1831 num_tokens=993298 num_tokens/piece=93.4517\n",
      "unigram_model_trainer.cc(505) LOG(INFO) EM sub_iter=1 size=10629 obj=15.0777 num_tokens=993452 num_tokens/piece=93.4662\n",
      "unigram_model_trainer.cc(505) LOG(INFO) EM sub_iter=0 size=8800 obj=15.3793 num_tokens=1025495 num_tokens/piece=116.534\n",
      "unigram_model_trainer.cc(505) LOG(INFO) EM sub_iter=1 size=8800 obj=15.3119 num_tokens=1025685 num_tokens/piece=116.555\n",
      "trainer_interface.cc(615) LOG(INFO) Saving model: korean_spm.model\n",
      "trainer_interface.cc(626) LOG(INFO) Saving vocabs: korean_spm.vocab\n"
     ]
    },
    {
     "name": "stdout",
     "output_type": "stream",
     "text": [
      "-rw-r--r-- 1 root root 377815 Feb 16 05:57 korean_spm.model\r\n",
      "-rw-r--r-- 1 root root 147291 Feb 16 05:57 korean_spm.vocab\r\n"
     ]
    }
   ],
   "source": [
    "import sentencepiece as spm\n",
    "import os\n",
    "temp_file = os.getenv('HOME')+'/aiffel/sp_tokenizer/data/korean-english-park.train.ko.temp'\n",
    "\n",
    "vocab_size = 8000\n",
    "\n",
    "with open(temp_file, 'w') as f:\n",
    "    for row in examples:   # 이전 스텝에서 정제했던 corpus를 활용합니다.\n",
    "        f.write(str(row) + '\\n') # 줄별로 불러오고\n",
    "        \n",
    "spm.SentencePieceTrainer.Train(\n",
    "    '--input={} --model_prefix=korean_spm --vocab_size={}'.format(temp_file, vocab_size)    \n",
    ")\n",
    "#위 Train에서  --model_type = unigram이 디폴트 적용되어 있습니다. --model_type = bpe로 옵션을 주어 변경할 수 있습니다.\n",
    "\n",
    "!ls -l korean_spm*   "
   ]
  },
  {
   "cell_type": "code",
   "execution_count": 32,
   "id": "1beb7650",
   "metadata": {},
   "outputs": [
    {
     "data": {
      "text/plain": [
       "True"
      ]
     },
     "execution_count": 32,
     "metadata": {},
     "output_type": "execute_result"
    }
   ],
   "source": [
    "import sentencepiece as spm\n",
    "\n",
    "s = spm.SentencePieceProcessor()\n",
    "s.Load('korean_spm.model')  # load the pre-trained SentencePiece model\n"
   ]
  },
  {
   "cell_type": "code",
   "execution_count": 33,
   "id": "5dc76f7f",
   "metadata": {},
   "outputs": [
    {
     "data": {
      "text/plain": [
       "[['▁아', '▁더빙', '▁진짜', '▁짜증나', '네요', '▁목소리']]"
      ]
     },
     "execution_count": 33,
     "metadata": {},
     "output_type": "execute_result"
    }
   ],
   "source": [
    "# 1. prefix로 parsing 어떻게 했나 확인하기\n",
    "\n",
    "def texts_to_pieces(sentences):\n",
    "    pieces = []\n",
    "    for sen  in sentences:\n",
    "        token_pieces = s.EncodeAsPieces(sen)\n",
    "        pieces.append(token_pieces)\n",
    "    return pieces\n",
    "\n",
    "texts_to_pieces(examples[:1])"
   ]
  },
  {
   "cell_type": "code",
   "execution_count": 34,
   "id": "d3341cbb",
   "metadata": {},
   "outputs": [],
   "source": [
    "# 2. 인코딩, 디코딩해보기\n",
    "\n",
    "def encoded_decoded(sentences):\n",
    "    sequences = []\n",
    "    for sen in sentences:\n",
    "        token_ids = s.EncodeAsIds(sen)\n",
    "        sequences.append(token_ids)\n",
    "    \n",
    "    texts = []\n",
    "    for seq in sequences:\n",
    "        text_pieces = s.DecodeIds(seq)\n",
    "        texts.append(text_pieces)\n",
    "    return sequences, texts"
   ]
  },
  {
   "cell_type": "code",
   "execution_count": 35,
   "id": "9dc89c9c",
   "metadata": {},
   "outputs": [
    {
     "name": "stdout",
     "output_type": "stream",
     "text": [
      "[[55, 792, 25, 2028, 54, 1717]]\n",
      "['아 더빙 진짜 짜증나네요 목소리']\n"
     ]
    }
   ],
   "source": [
    "encoded_output, decoded_output = encoded_decoded(examples)\n",
    "print(encoded_output[:1])\n",
    "print(decoded_output[:1])"
   ]
  },
  {
   "cell_type": "code",
   "execution_count": 36,
   "id": "b65010c3",
   "metadata": {},
   "outputs": [
    {
     "name": "stdout",
     "output_type": "stream",
     "text": [
      "max_len: 140\n",
      "everage_len: 33.013999492424084\n"
     ]
    },
    {
     "data": {
      "text/plain": [
       "Text(0.5, 0, 'Number')"
      ]
     },
     "execution_count": 36,
     "metadata": {},
     "output_type": "execute_result"
    },
    {
     "data": {
      "image/png": "[encoded data removed]",
      "text/plain": [
       "<Figure size 432x288 with 1 Axes>"
      ]
     },
     "metadata": {},
     "output_type": "display_data"
    }
   ],
   "source": [
    "# 길이 분포 확인\n",
    "\n",
    "print('max_len:', max(len(l) for l in examples))\n",
    "print('everage_len:', sum(map(len,examples)) / len(examples))\n",
    "\n",
    "plt.hist([len(l) for l in examples], bins=50)\n",
    "plt.xlabel('Length')\n",
    "plt.xlabel('Number')"
   ]
  },
  {
   "cell_type": "code",
   "execution_count": 37,
   "id": "930f9459",
   "metadata": {},
   "outputs": [],
   "source": [
    "# 해당 길이 몇프로인지 확인하는 함수\n",
    "\n",
    "def below_threshold_len(max_len, nested_list):\n",
    "    count = 0\n",
    "    for sentence in nested_list:\n",
    "        if(len(sentence) <= max_len):\n",
    "            count = count + 1\n",
    "    print('전체 샘플 중 길이가 %s 이하인 샘플의 비율: %s'%(max_len, (count / len(nested_list)) * 100)) "
   ]
  },
  {
   "cell_type": "code",
   "execution_count": 38,
   "id": "18fc139d",
   "metadata": {},
   "outputs": [
    {
     "name": "stdout",
     "output_type": "stream",
     "text": [
      "전체 샘플 중 길이가 120 이하인 샘플의 비율: 97.15894671138821\n"
     ]
    }
   ],
   "source": [
    "# max_len\n",
    "\n",
    "max_len = 120\n",
    "below_threshold_len(max_len, examples)"
   ]
  },
  {
   "cell_type": "code",
   "execution_count": 39,
   "id": "baef72a3",
   "metadata": {},
   "outputs": [],
   "source": [
    "# 3. 단어사전 & 패딩하기\n",
    "\n",
    "def dictionary(sentences):\n",
    "    # 1. text_to_pieces 파싱\n",
    "    pieces = []\n",
    "    for sen in sentences:\n",
    "        token_pieces = s.EncodeAsPieces(sen)\n",
    "        pieces.append(token_pieces)\n",
    "    \n",
    "    # 2의 toatl_vocab 지정하기위해 전체 데이터셋을 한번 더 불러와 len셈.\n",
    "    with open(\"./korean_spm.vocab\", 'r') as f:\n",
    "        total_vocab = f.readlines()\n",
    "    \n",
    "    # 2. 단어사전 두가지 리스트 만들기\n",
    "    word_index = {}\n",
    "    index_word = {}\n",
    "\n",
    "    for idx, line in enumerate(total_vocab):\n",
    "        word = line.split(\"\\t\")[0]\n",
    "\n",
    "        word_index.update({word:idx})\n",
    "        index_word.update({idx:word})\n",
    "    \n",
    "    # 3. 패딩하기\n",
    "    tensor = []\n",
    "    for sen in sentences:\n",
    "        tensor.append(s.EncodeAsIds(sen))\n",
    "    tensor = tf.keras.preprocessing.sequence.pad_sequences(tensor, padding='post')\n",
    "    \n",
    "    return tensor, word_index, index_word"
   ]
  },
  {
   "cell_type": "code",
   "execution_count": 40,
   "id": "68f68c80",
   "metadata": {},
   "outputs": [
    {
     "name": "stdout",
     "output_type": "stream",
     "text": [
      "[[  55  792   25 2028   54 1717    0    0    0    0    0    0    0    0\n",
      "     0    0    0    0    0    0    0    0    0    0    0    0    0    0\n",
      "     0    0    0    0    0    0    0    0    0    0    0    0    0    0\n",
      "     0    0    0    0    0    0    0    0    0    0    0    0    0    0\n",
      "     0    0    0    0    0    0    0    0    0    0    0    0    0    0\n",
      "     0    0    0    0    0    0    0    0    0    0    0    0    0    0\n",
      "     0    0    0    0    0    0    0    0    0    0    0    0    0    0\n",
      "     0    0    0    0    0    0    0    0    0    0    0    0    0    0\n",
      "     0    0    0    0]]\n",
      "(145791, 116)\n"
     ]
    }
   ],
   "source": [
    "tensor, word_index, index_word = dictionary(examples)\n",
    "print(tensor[:1])\n",
    "# print(word_index)\n",
    "# print(index_word)\n",
    "print(tensor.shape)"
   ]
  },
  {
   "cell_type": "code",
   "execution_count": 41,
   "id": "194158df",
   "metadata": {},
   "outputs": [
    {
     "name": "stdout",
     "output_type": "stream",
     "text": [
      "(145383, 40)\n"
     ]
    }
   ],
   "source": [
    "print(X_train.shape)"
   ]
  },
  {
   "cell_type": "code",
   "execution_count": 42,
   "id": "1e2f7ea7",
   "metadata": {},
   "outputs": [
    {
     "name": "stdout",
     "output_type": "stream",
     "text": [
      "Model: \"sequential_2\"\n",
      "_________________________________________________________________\n",
      "Layer (type)                 Output Shape              Param #   \n",
      "=================================================================\n",
      "embedding_2 (Embedding)      (None, None, 100)         800000    \n",
      "_________________________________________________________________\n",
      "lstm_2 (LSTM)                (None, 128)               117248    \n",
      "_________________________________________________________________\n",
      "dense_2 (Dense)              (None, 1)                 129       \n",
      "=================================================================\n",
      "Total params: 917,377\n",
      "Trainable params: 917,377\n",
      "Non-trainable params: 0\n",
      "_________________________________________________________________\n",
      "Epoch 1/15\n",
      "1818/1818 [==============================] - 13s 6ms/step - loss: 0.4032 - acc: 0.8139 - val_loss: 0.3620 - val_acc: 0.8373\n",
      "Epoch 2/15\n",
      "1818/1818 [==============================] - 10s 6ms/step - loss: 0.3407 - acc: 0.8482 - val_loss: 0.3471 - val_acc: 0.8441\n",
      "Epoch 3/15\n",
      "1818/1818 [==============================] - 11s 6ms/step - loss: 0.3233 - acc: 0.8575 - val_loss: 0.3514 - val_acc: 0.8414\n",
      "Epoch 4/15\n",
      "1818/1818 [==============================] - 11s 6ms/step - loss: 0.3116 - acc: 0.8635 - val_loss: 0.3372 - val_acc: 0.8508\n",
      "Epoch 5/15\n",
      "1818/1818 [==============================] - 10s 6ms/step - loss: 0.3009 - acc: 0.8695 - val_loss: 0.3409 - val_acc: 0.8482\n",
      "Epoch 6/15\n",
      "1818/1818 [==============================] - 11s 6ms/step - loss: 0.2911 - acc: 0.8744 - val_loss: 0.3366 - val_acc: 0.8524\n",
      "Epoch 7/15\n",
      "1818/1818 [==============================] - 10s 6ms/step - loss: 0.2815 - acc: 0.8799 - val_loss: 0.3367 - val_acc: 0.8508\n",
      "Epoch 8/15\n",
      "1818/1818 [==============================] - 10s 6ms/step - loss: 0.2715 - acc: 0.8838 - val_loss: 0.3425 - val_acc: 0.8486\n",
      "Epoch 9/15\n",
      "1818/1818 [==============================] - 10s 6ms/step - loss: 0.2604 - acc: 0.8892 - val_loss: 0.3500 - val_acc: 0.8488\n",
      "1532/1532 [==============================] - 4s 2ms/step - loss: 0.3629 - acc: 0.8408\n",
      "Test accuracy: 0.8408204913139343\n"
     ]
    }
   ],
   "source": [
    "from keras.callbacks import EarlyStopping\n",
    "\n",
    "embedding_dim = 100\n",
    "hidden_units = 128\n",
    "vocab_size = 8000\n",
    "\n",
    "model = Sequential()\n",
    "model.add(Embedding(vocab_size,embedding_dim))\n",
    "model.add(LSTM(hidden_units))\n",
    "model.add(Dense(1, activation = 'sigmoid'))\n",
    "\n",
    "model.compile(optimizer='rmsprop',\n",
    "              loss = \"binary_crossentropy\",\n",
    "              metrics = ['acc'])\n",
    "model.summary()\n",
    "\n",
    "# Early stopping\n",
    "early_stop = EarlyStopping(monitor='val_loss', patience=3)\n",
    "\n",
    "# Fit\n",
    "history = model.fit(X_train, y_train, epochs=15, batch_size=64, validation_split=0.2, callbacks=[early_stop])\n",
    "\n",
    "# Evaluate\n",
    "test_loss, test_acc = model.evaluate(X_test, y_test)\n",
    "print('Test accuracy:', test_acc)"
   ]
  },
  {
   "cell_type": "code",
   "execution_count": 43,
   "id": "715408ff",
   "metadata": {},
   "outputs": [
    {
     "data": {
      "image/png": "[encoded data removed]",
      "text/plain": [
       "<Figure size 432x288 with 1 Axes>"
      ]
     },
     "metadata": {},
     "output_type": "display_data"
    },
    {
     "data": {
      "image/png": "[encoded data removed]",
      "text/plain": [
       "<Figure size 432x288 with 1 Axes>"
      ]
     },
     "metadata": {},
     "output_type": "display_data"
    }
   ],
   "source": [
    "hist_dict = history.history\n",
    "loss = hist_dict['loss']\n",
    "val_loss = hist_dict['val_loss']\n",
    "acc = hist_dict['acc']\n",
    "val_acc = hist_dict['val_acc']\n",
    "\n",
    "plt.plot(loss,'b--', label = 'training loss')\n",
    "plt.plot(val_loss,'r--', label = 'validation loss')\n",
    "plt.legend()\n",
    "plt.grid()\n",
    "\n",
    "plt.figure()\n",
    "plt.plot(acc,'b--', label = 'training acc')\n",
    "plt.plot(val_acc,'r--', label = 'validation acc')\n",
    "plt.legend()\n",
    "plt.grid()"
   ]
  },
  {
   "cell_type": "markdown",
   "id": "8834f52e",
   "metadata": {},
   "source": [
    "평가문항\t상세기준\n",
    "1. SentencePiece를 이용하여 모델을 만들기까지의 과정이 정상적으로 진행되었는가?\n",
    "\n",
    "코퍼스 분석, 전처리, SentencePiece 적용, 토크나이저 구현 및 동작이 빠짐없이 진행되었는가?\n",
    "2. SentencePiece를 통해 만든 Tokenizer가 자연어처리 모델과 결합하여 동작하는가?\n",
    "\n",
    "SentencePiece 토크나이저가 적용된 Text Classifier 모델이 정상적으로 수렴하여 80% 이상의 test accuracy가 확인되었다.\n",
    "3. SentencePiece의 성능을 다각도로 비교분석하였는가?\n",
    "\n",
    "SentencePiece 토크나이저를 활용했을 때의 성능을 다른 토크나이저 혹은 SentencePiece의 다른 옵션의 경우와 비교하여 분석을 체계적으로 진행하였다."
   ]
  },
  {
   "cell_type": "markdown",
   "id": "6f35e329",
   "metadata": {},
   "source": [
    "\n",
    "데이터는 97% 정도로 맞춰 자름"
   ]
  },
  {
   "cell_type": "markdown",
   "id": "7c57d0d4",
   "metadata": {},
   "source": [
    "# 회고  \n",
    "## 1. mecab > Tokenizer  \n",
    "[['아', '더', '빙', '진짜', '짜증', '나', '네요', '목소리']  \n",
    "Test accuracy: 0.8602102398872375  \n",
    "## 2. okt > Tokenizer\n",
    "['아', '더빙', '진짜', '짜증나네요', '목소리'],  \n",
    "Test accuracy: 0.8399224281311035  \n",
    "## 3. Sentencepiece\n",
    "[['▁아', '▁더빙', '▁진짜', '▁짜증나', '네요', '▁목소리']]  \n",
    "Test accuracy: 0.8408204913139343  \n",
    "\n",
    "데이터는 각각 정제 후 97% 수준이 되도록 끊었고, \n",
    "vocab size, layer conditions 등은 모두 동일하게 줬다.\n",
    "결과가 mecab이 sentencepiece 보다 좋게 나왔는데,\n",
    "예제 문장을 split 한 것을 보면 더빙을 더 빙으로 끊으면서 사실상 그렇게 자연스럽지 않아 결과에 의문이 남기는 한다. \n",
    "노드학습때에도 형태소 분석기 간의 결과를 보고 가장 한국어같이 끊어내던 mecab과 okt가 원픽이라 함께 해봤는데,\n",
    "사실 끊기는 okt가 훨씬 자연스러워도 test acc는 mecab이 더 좋았다.\n",
    "\n",
    "끊은 것이 자연스럽기로는 okt보다 sentencepiece가 훨씬 자연스럽다. 나중에 다른문장이 많아져도 조사정도를 따로 분리해뒀기 때문에 단어사전의 갯수가 폭발적으로 많아지는 것도 줄일 수 있을 것 같다.\n",
    "\n",
    "연산속도는 확실히 okt가 많이 느렸다..\n",
    "\n",
    "\n",
    "시간이 더 있었으면\n",
    "sentencepiece에 사전학습시켰던 korean-english-park.train.ko.temp 말고 다른 것을 시도해보고 싶다.\n"
   ]
  },
  {
   "cell_type": "code",
   "execution_count": null,
   "id": "a5102b96",
   "metadata": {},
   "outputs": [],
   "source": []
  }
 ],
 "metadata": {
  "kernelspec": {
   "display_name": "Python 3 (ipykernel)",
   "language": "python",
   "name": "python3"
  },
  "language_info": {
   "codemirror_mode": {
    "name": "ipython",
    "version": 3
   },
   "file_extension": ".py",
   "mimetype": "text/x-python",
   "name": "python",
   "nbconvert_exporter": "python",
   "pygments_lexer": "ipython3",
   "version": "3.9.7"
  }
 },
 "nbformat": 4,
 "nbformat_minor": 5
}
