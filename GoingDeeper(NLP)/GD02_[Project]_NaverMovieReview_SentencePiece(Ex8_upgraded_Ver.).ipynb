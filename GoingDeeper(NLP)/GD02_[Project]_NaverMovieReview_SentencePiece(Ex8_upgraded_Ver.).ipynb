{
 "cells": [
  {
   "cell_type": "markdown",
   "id": "9490f6aa",
   "metadata": {},
   "source": [
    "# 네이버 영화 리뷰"
   ]
  },
  {
   "cell_type": "code",
   "execution_count": 1,
   "id": "fb8c0362",
   "metadata": {},
   "outputs": [],
   "source": [
    "import re\n",
    "import urllib.request\n",
    "import numpy as np\n",
    "import pandas as pd\n",
    "import matplotlib.pyplot as plt\n",
    "import tensorflow as tf\n",
    "plt.style.use('seaborn-white')\n",
    "import warnings\n",
    "warnings.filterwarnings('ignore')\n",
    "\n",
    "from konlpy.tag import Mecab\n",
    "from tensorflow.keras.preprocessing.text import Tokenizer\n",
    "from tensorflow.keras.preprocessing.sequence import pad_sequences"
   ]
  },
  {
   "cell_type": "code",
   "execution_count": 2,
   "id": "a45de82e",
   "metadata": {},
   "outputs": [
    {
     "data": {
      "text/html": [
       "<div>\n",
       "<style scoped>\n",
       "    .dataframe tbody tr th:only-of-type {\n",
       "        vertical-align: middle;\n",
       "    }\n",
       "\n",
       "    .dataframe tbody tr th {\n",
       "        vertical-align: top;\n",
       "    }\n",
       "\n",
       "    .dataframe thead th {\n",
       "        text-align: right;\n",
       "    }\n",
       "</style>\n",
       "<table border=\"1\" class=\"dataframe\">\n",
       "  <thead>\n",
       "    <tr style=\"text-align: right;\">\n",
       "      <th></th>\n",
       "      <th>id</th>\n",
       "      <th>document</th>\n",
       "      <th>label</th>\n",
       "    </tr>\n",
       "  </thead>\n",
       "  <tbody>\n",
       "    <tr>\n",
       "      <th>0</th>\n",
       "      <td>9976970</td>\n",
       "      <td>아 더빙.. 진짜 짜증나네요 목소리</td>\n",
       "      <td>0</td>\n",
       "    </tr>\n",
       "    <tr>\n",
       "      <th>1</th>\n",
       "      <td>3819312</td>\n",
       "      <td>흠...포스터보고 초딩영화줄....오버연기조차 가볍지 않구나</td>\n",
       "      <td>1</td>\n",
       "    </tr>\n",
       "    <tr>\n",
       "      <th>2</th>\n",
       "      <td>10265843</td>\n",
       "      <td>너무재밓었다그래서보는것을추천한다</td>\n",
       "      <td>0</td>\n",
       "    </tr>\n",
       "    <tr>\n",
       "      <th>3</th>\n",
       "      <td>9045019</td>\n",
       "      <td>교도소 이야기구먼 ..솔직히 재미는 없다..평점 조정</td>\n",
       "      <td>0</td>\n",
       "    </tr>\n",
       "    <tr>\n",
       "      <th>4</th>\n",
       "      <td>6483659</td>\n",
       "      <td>사이몬페그의 익살스런 연기가 돋보였던 영화!스파이더맨에서 늙어보이기만 했던 커스틴 ...</td>\n",
       "      <td>1</td>\n",
       "    </tr>\n",
       "    <tr>\n",
       "      <th>5</th>\n",
       "      <td>5403919</td>\n",
       "      <td>막 걸음마 뗀 3세부터 초등학교 1학년생인 8살용영화.ㅋㅋㅋ...별반개도 아까움.</td>\n",
       "      <td>0</td>\n",
       "    </tr>\n",
       "    <tr>\n",
       "      <th>6</th>\n",
       "      <td>7797314</td>\n",
       "      <td>원작의 긴장감을 제대로 살려내지못했다.</td>\n",
       "      <td>0</td>\n",
       "    </tr>\n",
       "    <tr>\n",
       "      <th>7</th>\n",
       "      <td>9443947</td>\n",
       "      <td>별 반개도 아깝다 욕나온다 이응경 길용우 연기생활이몇년인지..정말 발로해도 그것보단...</td>\n",
       "      <td>0</td>\n",
       "    </tr>\n",
       "    <tr>\n",
       "      <th>8</th>\n",
       "      <td>7156791</td>\n",
       "      <td>액션이 없는데도 재미 있는 몇안되는 영화</td>\n",
       "      <td>1</td>\n",
       "    </tr>\n",
       "    <tr>\n",
       "      <th>9</th>\n",
       "      <td>5912145</td>\n",
       "      <td>왜케 평점이 낮은건데? 꽤 볼만한데.. 헐리우드식 화려함에만 너무 길들여져 있나?</td>\n",
       "      <td>1</td>\n",
       "    </tr>\n",
       "  </tbody>\n",
       "</table>\n",
       "</div>"
      ],
      "text/plain": [
       "         id                                           document  label\n",
       "0   9976970                                아 더빙.. 진짜 짜증나네요 목소리      0\n",
       "1   3819312                  흠...포스터보고 초딩영화줄....오버연기조차 가볍지 않구나      1\n",
       "2  10265843                                  너무재밓었다그래서보는것을추천한다      0\n",
       "3   9045019                      교도소 이야기구먼 ..솔직히 재미는 없다..평점 조정      0\n",
       "4   6483659  사이몬페그의 익살스런 연기가 돋보였던 영화!스파이더맨에서 늙어보이기만 했던 커스틴 ...      1\n",
       "5   5403919      막 걸음마 뗀 3세부터 초등학교 1학년생인 8살용영화.ㅋㅋㅋ...별반개도 아까움.      0\n",
       "6   7797314                              원작의 긴장감을 제대로 살려내지못했다.      0\n",
       "7   9443947  별 반개도 아깝다 욕나온다 이응경 길용우 연기생활이몇년인지..정말 발로해도 그것보단...      0\n",
       "8   7156791                             액션이 없는데도 재미 있는 몇안되는 영화      1\n",
       "9   5912145      왜케 평점이 낮은건데? 꽤 볼만한데.. 헐리우드식 화려함에만 너무 길들여져 있나?      1"
      ]
     },
     "execution_count": 2,
     "metadata": {},
     "output_type": "execute_result"
    }
   ],
   "source": [
    "train_file = urllib.request.urlopen(\"https://raw.githubusercontent.com/e9t/nsmc/master/ratings_train.txt\")\n",
    "test_file = urllib.request.urlopen(\"https://raw.githubusercontent.com/e9t/nsmc/master/ratings_test.txt\")\n",
    "\n",
    "train_data = pd.read_table(train_file)\n",
    "test_data = pd.read_table(test_file)\n",
    "train_data[:10]"
   ]
  },
  {
   "cell_type": "markdown",
   "id": "c2c6aff9",
   "metadata": {},
   "source": [
    "## 1. 데이터 전처리"
   ]
  },
  {
   "cell_type": "code",
   "execution_count": 3,
   "id": "c84e64db",
   "metadata": {},
   "outputs": [
    {
     "name": "stdout",
     "output_type": "stream",
     "text": [
      "==== train ====\n",
      "shape :  (150000, 3)\n",
      "document열 nunique:  146182\n",
      "label열 nunique:  2\n",
      "==== test ====\n",
      "shape :  (50000, 3)\n",
      "document열 nunique:  49157\n",
      "label열 nunique:  2\n"
     ]
    }
   ],
   "source": [
    "# 전처리 하기 전 \n",
    "print(\"==== train ====\")\n",
    "print(\"shape : \",train_data.shape)\n",
    "print(\"document열 nunique: \",train_data['document'].nunique())\n",
    "print(\"label열 nunique: \",train_data['label'].nunique())\n",
    "print(\"==== test ====\")\n",
    "print(\"shape : \",test_data.shape)\n",
    "print(\"document열 nunique: \",test_data['document'].nunique())\n",
    "print(\"label열 nunique: \",test_data['label'].nunique())"
   ]
  },
  {
   "cell_type": "code",
   "execution_count": 4,
   "id": "890bb148",
   "metadata": {},
   "outputs": [
    {
     "name": "stdout",
     "output_type": "stream",
     "text": [
      "id          0\n",
      "document    1\n",
      "label       0\n",
      "dtype: int64\n",
      "==== 1차 확인 train ====\n",
      "shape :  (146182, 3)\n",
      "document열 nunique:  146182\n",
      "label열 nunique:  2\n",
      "========================\n",
      "id            0\n",
      "document    391\n",
      "label         0\n",
      "dtype: int64\n",
      "==== 2차 확인 train ====\n",
      "shape :  (145791, 3)\n",
      "document열 nunique:  143681\n",
      "label열 nunique:  2\n",
      "========================\n"
     ]
    }
   ],
   "source": [
    "# train_data 전처리\n",
    "\n",
    "# 중복 제외\n",
    "train_data.drop_duplicates(subset=['document'], inplace = True )\n",
    "# null값 제외\n",
    "print(train_data.isnull().sum())\n",
    "train_data = train_data.dropna(how='any')\n",
    "# 확인\n",
    "print(\"==== 1차 확인 train ====\")\n",
    "print(\"shape : \",train_data.shape)\n",
    "print(\"document열 nunique: \",train_data['document'].nunique())\n",
    "print(\"label열 nunique: \",train_data['label'].nunique())\n",
    "print(\"========================\")\n",
    "# 한글만 남기기\n",
    "train_data['document'] = train_data['document'].str.replace(\"[^ㄱ-ㅎㅏ-ㅣ가-힣 ]\", \"\")\n",
    "# 공백 제외\n",
    "train_data['document'].replace('', np.nan, inplace=True)\n",
    "# null값 제외\n",
    "print(train_data.isnull().sum())\n",
    "train_data = train_data.dropna(how='any')\n",
    "# 확인\n",
    "print(\"==== 2차 확인 train ====\")\n",
    "print(\"shape : \",train_data.shape)\n",
    "print(\"document열 nunique: \",train_data['document'].nunique())\n",
    "print(\"label열 nunique: \",train_data['label'].nunique())\n",
    "print(\"========================\")"
   ]
  },
  {
   "cell_type": "code",
   "execution_count": 5,
   "id": "76b0672f",
   "metadata": {
    "scrolled": true
   },
   "outputs": [
    {
     "name": "stdout",
     "output_type": "stream",
     "text": [
      "id          0\n",
      "document    1\n",
      "label       0\n",
      "dtype: int64\n",
      "==== 1차 확인 test ====\n",
      "shape :  (49157, 3)\n",
      "document열 nunique:  49157\n",
      "label열 nunique:  2\n",
      "========================\n",
      "id            0\n",
      "document    162\n",
      "label         0\n",
      "dtype: int64\n",
      "==== 2차 확인 test ====\n",
      "shape :  (48995, 3)\n",
      "document열 nunique:  48417\n",
      "label열 nunique:  2\n",
      "========================\n"
     ]
    }
   ],
   "source": [
    "# test_data 전처리\n",
    "\n",
    "# 중복 제외\n",
    "test_data.drop_duplicates(subset=['document'], inplace = True )\n",
    "# null값 제외\n",
    "print(test_data.isnull().sum())\n",
    "test_data = test_data.dropna(how='any')\n",
    "# 확인\n",
    "print(\"==== 1차 확인 test ====\")\n",
    "print(\"shape : \",test_data.shape)\n",
    "print(\"document열 nunique: \",test_data['document'].nunique())\n",
    "print(\"label열 nunique: \",test_data['label'].nunique())\n",
    "print(\"========================\")\n",
    "# 한글만 남기기\n",
    "test_data['document'] = test_data['document'].str.replace(\"[^ㄱ-ㅎㅏ-ㅣ가-힣 ]\", \"\")\n",
    "# 공백 제외\n",
    "test_data['document'].replace('', np.nan, inplace=True)\n",
    "# null값 제외\n",
    "print(test_data.isnull().sum())\n",
    "test_data = test_data.dropna(how='any')\n",
    "# 확인\n",
    "print(\"==== 2차 확인 test ====\")\n",
    "print(\"shape : \",test_data.shape)\n",
    "print(\"document열 nunique: \",test_data['document'].nunique())\n",
    "print(\"label열 nunique: \",test_data['label'].nunique())\n",
    "print(\"========================\")"
   ]
  },
  {
   "cell_type": "code",
   "execution_count": 6,
   "id": "1c13659a",
   "metadata": {},
   "outputs": [],
   "source": [
    "# 불용어 \n",
    "\n",
    "stopwords = ['의','가','이','은','들','는','좀','잘','걍','과','도','를','으로','자','에','와','한','하다']"
   ]
  },
  {
   "cell_type": "markdown",
   "id": "4e13fbba",
   "metadata": {},
   "source": [
    "## 토큰화"
   ]
  },
  {
   "cell_type": "markdown",
   "id": "df76f3c1",
   "metadata": {},
   "source": [
    ">## 1. Mecab 형태소파싱 >> keras로 토큰화"
   ]
  },
  {
   "cell_type": "code",
   "execution_count": 7,
   "id": "c54e92f1",
   "metadata": {},
   "outputs": [],
   "source": [
    "mecab = Mecab()"
   ]
  },
  {
   "cell_type": "code",
   "execution_count": 8,
   "id": "b9d15ff9",
   "metadata": {},
   "outputs": [],
   "source": [
    "# 데이터셋 정리\n",
    "\n",
    "X_train = []\n",
    "for sentences in train_data['document']:  \n",
    "    X_train.append([word for word in mecab.morphs(sentences) if not word in stopwords])\n",
    "\n",
    "X_test = []\n",
    "for sentences in test_data['document']: \n",
    "    X_test.append([word for word in mecab.morphs(sentences) if not word in stopwords]) \n",
    "    \n",
    "y_train = np.array(train_data['label'])\n",
    "\n",
    "y_test = np.array(test_data['label'])"
   ]
  },
  {
   "cell_type": "code",
   "execution_count": 9,
   "id": "64fbbdef",
   "metadata": {},
   "outputs": [
    {
     "data": {
      "text/plain": [
       "[['아', '더', '빙', '진짜', '짜증', '나', '네요', '목소리'],\n",
       " ['흠', '포스터', '보고', '초딩', '영화', '줄', '오버', '연기', '조차', '가볍', '지', '않', '구나'],\n",
       " ['너무', '재', '밓었다그래서보는것을추천한다']]"
      ]
     },
     "execution_count": 9,
     "metadata": {},
     "output_type": "execute_result"
    }
   ],
   "source": [
    "X_train[:3] # morphs parsing"
   ]
  },
  {
   "cell_type": "code",
   "execution_count": 10,
   "id": "9ac6b1d6",
   "metadata": {},
   "outputs": [
    {
     "name": "stdout",
     "output_type": "stream",
     "text": [
      "[[24, 64, 892, 30, 211, 12, 25, 696], [974, 478, 488, 633, 1, 107, 1551, 45, 863, 946, 8, 35, 361], [16, 189, 28634]]\n",
      "[[785, 125], [74, 105, 49, 895, 311, 35, 28, 36, 594, 3398, 61, 852], [85, 4, 8, 35, 214, 122, 325, 116, 135, 46, 3, 6, 33]]\n",
      "X_train len : 145791\n",
      "y_train len : 145791\n",
      "X_test len : 48995\n",
      "y_test len : 48995\n"
     ]
    }
   ],
   "source": [
    "# 토크나이징 \n",
    "\n",
    "tokenizer = Tokenizer()\n",
    "tokenizer.fit_on_texts(X_train)\n",
    "\n",
    "X_train = tokenizer.texts_to_sequences(X_train)\n",
    "X_test = tokenizer.texts_to_sequences(X_test)\n",
    "print(X_train[:3])\n",
    "print(X_test[:3])\n",
    "print(\"X_train len :\",len(X_train))\n",
    "print(\"y_train len :\",len(y_train))\n",
    "print(\"X_test len :\",len(X_test))\n",
    "print(\"y_test len :\",len(y_test))"
   ]
  },
  {
   "cell_type": "code",
   "execution_count": 11,
   "id": "e9ab402a",
   "metadata": {},
   "outputs": [
    {
     "name": "stdout",
     "output_type": "stream",
     "text": [
      "145380\n",
      "145380\n"
     ]
    }
   ],
   "source": [
    "# 길이 1이하 제거\n",
    "\n",
    "drop_train = [index for index, sentence in enumerate(X_train) if len(sentence) < 1]\n",
    "X_train = np.delete(X_train, drop_train, axis=0)\n",
    "y_train = np.delete(y_train, drop_train, axis=0)\n",
    "print(len(X_train))\n",
    "print(len(y_train))"
   ]
  },
  {
   "cell_type": "code",
   "execution_count": 12,
   "id": "3b75b1dd",
   "metadata": {},
   "outputs": [
    {
     "name": "stdout",
     "output_type": "stream",
     "text": [
      "max_len: 83\n",
      "everage_len: 13.801382583574082\n"
     ]
    },
    {
     "data": {
      "text/plain": [
       "Text(0.5, 0, 'Number')"
      ]
     },
     "execution_count": 12,
     "metadata": {},
     "output_type": "execute_result"
    },
    {
     "data": {
      "image/png": "[encoded data removed]",
      "text/plain": [
       "<Figure size 432x288 with 1 Axes>"
      ]
     },
     "metadata": {},
     "output_type": "display_data"
    }
   ],
   "source": [
    "# 길이 분포 확인\n",
    "\n",
    "print('max_len:', max(len(l) for l in X_train))\n",
    "print('everage_len:', sum(map(len,X_train)) / len(X_train))\n",
    "\n",
    "plt.hist([len(l) for l in X_train], bins=50)\n",
    "plt.xlabel('Length')\n",
    "plt.xlabel('Number')"
   ]
  },
  {
   "cell_type": "code",
   "execution_count": 13,
   "id": "1fab2553",
   "metadata": {},
   "outputs": [],
   "source": [
    "# 해당 길이 몇프로인지 확인하는 함수\n",
    "\n",
    "def below_threshold_len(max_len, nested_list):\n",
    "    count = 0\n",
    "    for sentence in nested_list:\n",
    "        if(len(sentence) <= max_len):\n",
    "            count = count + 1\n",
    "    print('전체 샘플 중 길이가 %s 이하인 샘플의 비율: %s'%(max_len, (count / len(nested_list)) * 100)) "
   ]
  },
  {
   "cell_type": "code",
   "execution_count": 14,
   "id": "119faad9",
   "metadata": {},
   "outputs": [
    {
     "name": "stdout",
     "output_type": "stream",
     "text": [
      "전체 샘플 중 길이가 50 이하인 샘플의 비율: 97.91305544091347\n"
     ]
    }
   ],
   "source": [
    "# max_len\n",
    "\n",
    "max_len = 50\n",
    "below_threshold_len(max_len, X_train)"
   ]
  },
  {
   "cell_type": "code",
   "execution_count": 15,
   "id": "630b2ad4",
   "metadata": {},
   "outputs": [],
   "source": [
    "# 패딩하기\n",
    "\n",
    "X_train = pad_sequences(X_train,maxlen=max_len)\n",
    "X_test = pad_sequences(X_test,maxlen=max_len)"
   ]
  },
  {
   "cell_type": "markdown",
   "id": "5bdb6e2b",
   "metadata": {},
   "source": [
    "## LSTM 모델링"
   ]
  },
  {
   "cell_type": "code",
   "execution_count": 16,
   "id": "81ea93ac",
   "metadata": {},
   "outputs": [],
   "source": [
    "from tensorflow.keras.layers import Embedding, Dense, LSTM\n",
    "from tensorflow.keras.models import Sequential\n",
    "from tensorflow.keras.models import load_model\n",
    "from tensorflow.keras.callbacks import EarlyStopping, ModelCheckpoint"
   ]
  },
  {
   "cell_type": "code",
   "execution_count": 17,
   "id": "f84ecd0a",
   "metadata": {},
   "outputs": [
    {
     "name": "stdout",
     "output_type": "stream",
     "text": [
      "Model: \"sequential\"\n",
      "_________________________________________________________________\n",
      "Layer (type)                 Output Shape              Param #   \n",
      "=================================================================\n",
      "embedding (Embedding)        (None, None, 100)         800000    \n",
      "_________________________________________________________________\n",
      "lstm (LSTM)                  (None, 128)               117248    \n",
      "_________________________________________________________________\n",
      "dense (Dense)                (None, 1)                 129       \n",
      "=================================================================\n",
      "Total params: 917,377\n",
      "Trainable params: 917,377\n",
      "Non-trainable params: 0\n",
      "_________________________________________________________________\n",
      "Epoch 1/15\n",
      "1818/1818 [==============================] - 41s 17ms/step - loss: 0.3891 - acc: 0.8231 - val_loss: 0.3486 - val_acc: 0.8452\n",
      "Epoch 2/15\n",
      "1818/1818 [==============================] - 29s 16ms/step - loss: 0.3245 - acc: 0.8588 - val_loss: 0.3262 - val_acc: 0.8583\n",
      "Epoch 3/15\n",
      "1818/1818 [==============================] - 28s 16ms/step - loss: 0.3021 - acc: 0.8710 - val_loss: 0.3249 - val_acc: 0.8599\n",
      "Epoch 4/15\n",
      "1818/1818 [==============================] - 29s 16ms/step - loss: 0.2876 - acc: 0.8782 - val_loss: 0.3157 - val_acc: 0.8649\n",
      "Epoch 5/15\n",
      "1818/1818 [==============================] - 29s 16ms/step - loss: 0.2752 - acc: 0.8845 - val_loss: 0.3194 - val_acc: 0.8621\n",
      "Epoch 6/15\n",
      "1818/1818 [==============================] - 29s 16ms/step - loss: 0.2645 - acc: 0.8904 - val_loss: 0.3206 - val_acc: 0.8664\n",
      "Epoch 7/15\n",
      "1818/1818 [==============================] - 29s 16ms/step - loss: 0.2536 - acc: 0.8957 - val_loss: 0.3252 - val_acc: 0.8636\n",
      "1532/1532 [==============================] - 10s 6ms/step - loss: 0.3343 - acc: 0.8587\n",
      "Test accuracy: 0.8586998581886292\n"
     ]
    }
   ],
   "source": [
    "from keras.callbacks import EarlyStopping\n",
    "\n",
    "embedding_dim = 100\n",
    "hidden_units = 128\n",
    "vocab_size = 8000\n",
    "\n",
    "model = Sequential()\n",
    "model.add(Embedding(vocab_size,embedding_dim))\n",
    "model.add(LSTM(hidden_units))\n",
    "model.add(Dense(1, activation = 'sigmoid'))\n",
    "\n",
    "model.compile(optimizer='rmsprop',\n",
    "              loss = \"binary_crossentropy\",\n",
    "              metrics = ['acc'])\n",
    "model.summary()\n",
    "\n",
    "# Early stopping\n",
    "early_stop = EarlyStopping(monitor='val_loss', patience=3)\n",
    "\n",
    "# Fit\n",
    "history = model.fit(X_train, y_train, epochs=15, batch_size=64, validation_split=0.2, callbacks=[early_stop])\n",
    "\n",
    "# Evaluate\n",
    "test_loss, test_acc = model.evaluate(X_test, y_test)\n",
    "print('Test accuracy:', test_acc)"
   ]
  },
  {
   "cell_type": "code",
   "execution_count": 18,
   "id": "d6680893",
   "metadata": {},
   "outputs": [
    {
     "data": {
      "image/png": "[encoded data removed]",
      "text/plain": [
       "<Figure size 432x288 with 1 Axes>"
      ]
     },
     "metadata": {},
     "output_type": "display_data"
    },
    {
     "data": {
      "image/png": "[encoded data removed]",
      "text/plain": [
       "<Figure size 432x288 with 1 Axes>"
      ]
     },
     "metadata": {},
     "output_type": "display_data"
    }
   ],
   "source": [
    "hist_dict = history.history\n",
    "loss = hist_dict['loss']\n",
    "val_loss = hist_dict['val_loss']\n",
    "acc = hist_dict['acc']\n",
    "val_acc = hist_dict['val_acc']\n",
    "\n",
    "plt.plot(loss,'b--', label = 'training loss')\n",
    "plt.plot(val_loss,'r--', label = 'validation loss')\n",
    "plt.legend()\n",
    "plt.grid()\n",
    "\n",
    "plt.figure()\n",
    "plt.plot(acc,'b--', label = 'training acc')\n",
    "plt.plot(val_acc,'r--', label = 'validation acc')\n",
    "plt.legend()\n",
    "plt.grid()"
   ]
  },
  {
   "cell_type": "markdown",
   "id": "7327c910",
   "metadata": {},
   "source": [
    ">## 2. Okt 형태소파싱 >> keras로 토큰화"
   ]
  },
  {
   "cell_type": "code",
   "execution_count": 19,
   "id": "dd66445b",
   "metadata": {},
   "outputs": [],
   "source": [
    "from konlpy.tag import Okt\n",
    "okt = Okt()"
   ]
  },
  {
   "cell_type": "code",
   "execution_count": 20,
   "id": "e9c75313",
   "metadata": {},
   "outputs": [],
   "source": [
    "# 데이터셋 정리\n",
    "\n",
    "X_train = []\n",
    "for sentences in train_data['document']:  \n",
    "    X_train.append([word for word in okt.morphs(sentences) if not word in stopwords])\n",
    "\n",
    "X_test = []\n",
    "for sentences in test_data['document']: \n",
    "    X_test.append([word for word in okt.morphs(sentences) if not word in stopwords]) \n",
    "    \n",
    "y_train = np.array(train_data['label'])\n",
    "\n",
    "y_test = np.array(test_data['label'])\n",
    "\n"
   ]
  },
  {
   "cell_type": "code",
   "execution_count": 21,
   "id": "2372cca8",
   "metadata": {},
   "outputs": [
    {
     "data": {
      "text/plain": [
       "[['아', '더빙', '진짜', '짜증나네요', '목소리'],\n",
       " ['흠', '포스터', '보고', '초딩', '영화', '줄', '오버', '연기', '조차', '가볍지', '않구나'],\n",
       " ['너', '무재', '밓었', '다그', '래서', '보는것을', '추천', '다']]"
      ]
     },
     "execution_count": 21,
     "metadata": {},
     "output_type": "execute_result"
    }
   ],
   "source": [
    "X_train[:3] # morphs parsing"
   ]
  },
  {
   "cell_type": "code",
   "execution_count": 22,
   "id": "d9b3c410",
   "metadata": {},
   "outputs": [
    {
     "name": "stdout",
     "output_type": "stream",
     "text": [
      "[[40, 417, 8, 6598, 624], [905, 419, 31, 567, 1, 182, 1521, 12, 939, 6036, 25784], [357, 2813, 45383, 2646, 7326, 12028, 189, 4]]\n",
      "[[784, 75], [50, 143, 14, 4668, 1406, 10, 946, 847, 36, 757, 3696], [14620, 2449, 72, 307, 94, 88, 371, 130, 237]]\n",
      "X_train len : 145791\n",
      "y_train len : 145791\n",
      "X_test len : 48995\n",
      "y_test len : 48995\n"
     ]
    }
   ],
   "source": [
    "# 토크나이징 \n",
    "\n",
    "tokenizer = Tokenizer()\n",
    "tokenizer.fit_on_texts(X_train)\n",
    "\n",
    "X_train = tokenizer.texts_to_sequences(X_train)\n",
    "X_test = tokenizer.texts_to_sequences(X_test)\n",
    "print(X_train[:3])\n",
    "print(X_test[:3])\n",
    "print(\"X_train len :\",len(X_train))\n",
    "print(\"y_train len :\",len(y_train))\n",
    "print(\"X_test len :\",len(X_test))\n",
    "print(\"y_test len :\",len(y_test))"
   ]
  },
  {
   "cell_type": "code",
   "execution_count": 23,
   "id": "2dbbb438",
   "metadata": {},
   "outputs": [
    {
     "name": "stdout",
     "output_type": "stream",
     "text": [
      "145383\n",
      "145383\n"
     ]
    }
   ],
   "source": [
    "# 길이 1이하 제거\n",
    "\n",
    "drop_train = [index for index, sentence in enumerate(X_train) if len(sentence) < 1]\n",
    "X_train = np.delete(X_train, drop_train, axis=0)\n",
    "y_train = np.delete(y_train, drop_train, axis=0)\n",
    "print(len(X_train))\n",
    "print(len(y_train))"
   ]
  },
  {
   "cell_type": "code",
   "execution_count": 24,
   "id": "5b85e300",
   "metadata": {},
   "outputs": [
    {
     "name": "stdout",
     "output_type": "stream",
     "text": [
      "max_len: 72\n",
      "everage_len: 11.22376068728806\n"
     ]
    },
    {
     "data": {
      "text/plain": [
       "Text(0.5, 0, 'Number')"
      ]
     },
     "execution_count": 24,
     "metadata": {},
     "output_type": "execute_result"
    },
    {
     "data": {
      "image/png": "[encoded data removed]",
      "text/plain": [
       "<Figure size 432x288 with 1 Axes>"
      ]
     },
     "metadata": {},
     "output_type": "display_data"
    }
   ],
   "source": [
    "# 길이 분포 확인\n",
    "\n",
    "print('max_len:', max(len(l) for l in X_train))\n",
    "print('everage_len:', sum(map(len,X_train)) / len(X_train))\n",
    "\n",
    "plt.hist([len(l) for l in X_train], bins=50)\n",
    "plt.xlabel('Length')\n",
    "plt.xlabel('Number')"
   ]
  },
  {
   "cell_type": "code",
   "execution_count": 25,
   "id": "9f0ce87e",
   "metadata": {},
   "outputs": [],
   "source": [
    "# 해당 길이 몇프로인지 확인하는 함수\n",
    "\n",
    "def below_threshold_len(max_len, nested_list):\n",
    "    count = 0\n",
    "    for sentence in nested_list:\n",
    "        if(len(sentence) <= max_len):\n",
    "            count = count + 1\n",
    "    print('전체 샘플 중 길이가 %s 이하인 샘플의 비율: %s'%(max_len, (count / len(nested_list)) * 100)) "
   ]
  },
  {
   "cell_type": "code",
   "execution_count": 26,
   "id": "56831abd",
   "metadata": {},
   "outputs": [
    {
     "name": "stdout",
     "output_type": "stream",
     "text": [
      "전체 샘플 중 길이가 40 이하인 샘플의 비율: 97.6276455981786\n"
     ]
    }
   ],
   "source": [
    "# max_len\n",
    "\n",
    "max_len = 40\n",
    "below_threshold_len(max_len, X_train)"
   ]
  },
  {
   "cell_type": "code",
   "execution_count": 27,
   "id": "99390476",
   "metadata": {},
   "outputs": [],
   "source": [
    "# 패딩하기\n",
    "\n",
    "X_train = pad_sequences(X_train,maxlen=max_len)\n",
    "X_test = pad_sequences(X_test,maxlen=max_len)"
   ]
  },
  {
   "cell_type": "markdown",
   "id": "75ca2d3b",
   "metadata": {},
   "source": [
    "## LSTM 모델링"
   ]
  },
  {
   "cell_type": "code",
   "execution_count": 28,
   "id": "d6dcd8e3",
   "metadata": {},
   "outputs": [
    {
     "name": "stdout",
     "output_type": "stream",
     "text": [
      "Model: \"sequential_1\"\n",
      "_________________________________________________________________\n",
      "Layer (type)                 Output Shape              Param #   \n",
      "=================================================================\n",
      "embedding_1 (Embedding)      (None, None, 100)         800000    \n",
      "_________________________________________________________________\n",
      "lstm_1 (LSTM)                (None, 128)               117248    \n",
      "_________________________________________________________________\n",
      "dense_1 (Dense)              (None, 1)                 129       \n",
      "=================================================================\n",
      "Total params: 917,377\n",
      "Trainable params: 917,377\n",
      "Non-trainable params: 0\n",
      "_________________________________________________________________\n",
      "Epoch 1/15\n",
      "1818/1818 [==============================] - 16s 8ms/step - loss: 0.4021 - acc: 0.8143 - val_loss: 0.3687 - val_acc: 0.8335\n",
      "Epoch 2/15\n",
      "1818/1818 [==============================] - 13s 7ms/step - loss: 0.3416 - acc: 0.8487 - val_loss: 0.3508 - val_acc: 0.8408\n",
      "Epoch 3/15\n",
      "1818/1818 [==============================] - 13s 7ms/step - loss: 0.3238 - acc: 0.8572 - val_loss: 0.3385 - val_acc: 0.8490\n",
      "Epoch 4/15\n",
      "1818/1818 [==============================] - 12s 7ms/step - loss: 0.3117 - acc: 0.8638 - val_loss: 0.3360 - val_acc: 0.8520\n",
      "Epoch 5/15\n",
      "1818/1818 [==============================] - 13s 7ms/step - loss: 0.3007 - acc: 0.8695 - val_loss: 0.3340 - val_acc: 0.8533\n",
      "Epoch 6/15\n",
      "1818/1818 [==============================] - 12s 7ms/step - loss: 0.2911 - acc: 0.8742 - val_loss: 0.3360 - val_acc: 0.8523\n",
      "Epoch 7/15\n",
      "1818/1818 [==============================] - 13s 7ms/step - loss: 0.2815 - acc: 0.8783 - val_loss: 0.3401 - val_acc: 0.8522\n",
      "Epoch 8/15\n",
      "1818/1818 [==============================] - 13s 7ms/step - loss: 0.2717 - acc: 0.8828 - val_loss: 0.3396 - val_acc: 0.8514\n",
      "1532/1532 [==============================] - 4s 3ms/step - loss: 0.3534 - acc: 0.8451\n",
      "Test accuracy: 0.8450658321380615\n"
     ]
    }
   ],
   "source": [
    "from keras.callbacks import EarlyStopping\n",
    "\n",
    "embedding_dim = 100\n",
    "hidden_units = 128\n",
    "vocab_size = 8000\n",
    "\n",
    "model = Sequential()\n",
    "model.add(Embedding(vocab_size,embedding_dim))\n",
    "model.add(LSTM(hidden_units))\n",
    "model.add(Dense(1, activation = 'sigmoid'))\n",
    "\n",
    "model.compile(optimizer='rmsprop',\n",
    "              loss = \"binary_crossentropy\",\n",
    "              metrics = ['acc'])\n",
    "model.summary()\n",
    "\n",
    "# Early stopping\n",
    "early_stop = EarlyStopping(monitor='val_loss', patience=3)\n",
    "\n",
    "# Fit\n",
    "history = model.fit(X_train, y_train, epochs=15, batch_size=64, validation_split=0.2, callbacks=[early_stop])\n",
    "\n",
    "# Evaluate\n",
    "test_loss, test_acc = model.evaluate(X_test, y_test)\n",
    "print('Test accuracy:', test_acc)"
   ]
  },
  {
   "cell_type": "code",
   "execution_count": 29,
   "id": "8d7a06b8",
   "metadata": {},
   "outputs": [
    {
     "data": {
      "image/png": "[encoded data removed]",
      "text/plain": [
       "<Figure size 432x288 with 1 Axes>"
      ]
     },
     "metadata": {},
     "output_type": "display_data"
    },
    {
     "data": {
      "image/png": "[encoded data removed]",
      "text/plain": [
       "<Figure size 432x288 with 1 Axes>"
      ]
     },
     "metadata": {},
     "output_type": "display_data"
    }
   ],
   "source": [
    "hist_dict = history.history\n",
    "loss = hist_dict['loss']\n",
    "val_loss = hist_dict['val_loss']\n",
    "acc = hist_dict['acc']\n",
    "val_acc = hist_dict['val_acc']\n",
    "\n",
    "plt.plot(loss,'b--', label = 'training loss')\n",
    "plt.plot(val_loss,'r--', label = 'validation loss')\n",
    "plt.legend()\n",
    "plt.grid()\n",
    "\n",
    "plt.figure()\n",
    "plt.plot(acc,'b--', label = 'training acc')\n",
    "plt.plot(val_acc,'r--', label = 'validation acc')\n",
    "plt.legend()\n",
    "plt.grid()"
   ]
  },
  {
   "cell_type": "markdown",
   "id": "9adac44e",
   "metadata": {},
   "source": [
    ">## 3. Sentencepiece\n",
    "\n",
    "    1. 매개변수로 토큰화된 문장의 list를 전달하는 대신 온전한 문장의 list 를 전달합니다.\n",
    "\n",
    "    2. 생성된 vocab 파일을 읽어와 { <word> : <idx> } 형태를 가지는 word_index 사전과 { <idx> : <word>} 형태를 가지는 index_word 사전을 생성하고 함께 반환합니다.\n",
    "\n",
    "    3. 리턴값인 tensor 는 앞의 함수와 동일하게 토큰화한 후 Encoding된 문장입니다. 바로 학습에 사용할 수 있게 Padding은 당연히 해야겠죠?"
   ]
  },
  {
   "cell_type": "code",
   "execution_count": 30,
   "id": "8e282758",
   "metadata": {},
   "outputs": [],
   "source": [
    "examples = train_data['document']"
   ]
  },
  {
   "cell_type": "code",
   "execution_count": 31,
   "id": "b2f8f74f",
   "metadata": {},
   "outputs": [
    {
     "name": "stderr",
     "output_type": "stream",
     "text": [
      "sentencepiece_trainer.cc(177) LOG(INFO) Running command: --input=/aiffel/aiffel/sp_tokenizer/data/korean-english-park.train.ko.temp --model_prefix=korean_spm --vocab_size=8000\n",
      "sentencepiece_trainer.cc(77) LOG(INFO) Starts training with : \n",
      "trainer_spec {\n",
      "  input: /aiffel/aiffel/sp_tokenizer/data/korean-english-park.train.ko.temp\n",
      "  input_format: \n",
      "  model_prefix: korean_spm\n",
      "  model_type: UNIGRAM\n",
      "  vocab_size: 8000\n",
      "  self_test_sample_size: 0\n",
      "  character_coverage: 0.9995\n",
      "  input_sentence_size: 0\n",
      "  shuffle_input_sentence: 1\n",
      "  seed_sentencepiece_size: 1000000\n",
      "  shrinking_factor: 0.75\n",
      "  max_sentence_length: 4192\n",
      "  num_threads: 16\n",
      "  num_sub_iterations: 2\n",
      "  max_sentencepiece_length: 16\n",
      "  split_by_unicode_script: 1\n",
      "  split_by_number: 1\n",
      "  split_by_whitespace: 1\n",
      "  split_digits: 0\n",
      "  treat_whitespace_as_suffix: 0\n",
      "  allow_whitespace_only_pieces: 0\n",
      "  required_chars: \n",
      "  byte_fallback: 0\n",
      "  vocabulary_output_piece_score: 1\n",
      "  train_extremely_large_corpus: 0\n",
      "  hard_vocab_limit: 1\n",
      "  use_all_vocab: 0\n",
      "  unk_id: 0\n",
      "  bos_id: 1\n",
      "  eos_id: 2\n",
      "  pad_id: -1\n",
      "  unk_piece: <unk>\n",
      "  bos_piece: <s>\n",
      "  eos_piece: </s>\n",
      "  pad_piece: <pad>\n",
      "  unk_surface:  ⁇ \n",
      "}\n",
      "normalizer_spec {\n",
      "  name: nmt_nfkc\n",
      "  add_dummy_prefix: 1\n",
      "  remove_extra_whitespaces: 1\n",
      "  escape_whitespaces: 1\n",
      "  normalization_rule_tsv: \n",
      "}\n",
      "denormalizer_spec {}\n",
      "trainer_interface.cc(329) LOG(INFO) SentenceIterator is not specified. Using MultiFileSentenceIterator.\n",
      "trainer_interface.cc(178) LOG(INFO) Loading corpus: /aiffel/aiffel/sp_tokenizer/data/korean-english-park.train.ko.temp\n",
      "trainer_interface.cc(385) LOG(INFO) Loaded all 145791 sentences\n",
      "trainer_interface.cc(400) LOG(INFO) Adding meta_piece: <unk>\n",
      "trainer_interface.cc(400) LOG(INFO) Adding meta_piece: <s>\n",
      "trainer_interface.cc(400) LOG(INFO) Adding meta_piece: </s>\n",
      "trainer_interface.cc(405) LOG(INFO) Normalizing sentences...\n",
      "trainer_interface.cc(466) LOG(INFO) all chars count=4944911\n",
      "trainer_interface.cc(477) LOG(INFO) Done: 99.95% characters are covered.\n",
      "trainer_interface.cc(487) LOG(INFO) Alphabet size=1550\n",
      "trainer_interface.cc(488) LOG(INFO) Final character coverage=0.9995\n",
      "trainer_interface.cc(520) LOG(INFO) Done! preprocessed 145395 sentences.\n",
      "unigram_model_trainer.cc(139) LOG(INFO) Making suffix array...\n",
      "unigram_model_trainer.cc(143) LOG(INFO) Extracting frequent sub strings...\n",
      "unigram_model_trainer.cc(194) LOG(INFO) Initialized 317695 seed sentencepieces\n",
      "trainer_interface.cc(526) LOG(INFO) Tokenizing input sentences with whitespace: 145395\n",
      "trainer_interface.cc(537) LOG(INFO) Done! 299292\n",
      "unigram_model_trainer.cc(489) LOG(INFO) Using 299292 sentences for EM training\n",
      "unigram_model_trainer.cc(505) LOG(INFO) EM sub_iter=0 size=154308 obj=13.9864 num_tokens=624105 num_tokens/piece=4.04454\n",
      "unigram_model_trainer.cc(505) LOG(INFO) EM sub_iter=1 size=142006 obj=13.0761 num_tokens=627169 num_tokens/piece=4.4165\n",
      "unigram_model_trainer.cc(505) LOG(INFO) EM sub_iter=0 size=106439 obj=13.1581 num_tokens=658989 num_tokens/piece=6.19124\n",
      "unigram_model_trainer.cc(505) LOG(INFO) EM sub_iter=1 size=106198 obj=13.1042 num_tokens=659398 num_tokens/piece=6.20914\n",
      "unigram_model_trainer.cc(505) LOG(INFO) EM sub_iter=0 size=79643 obj=13.3211 num_tokens=698587 num_tokens/piece=8.77148\n",
      "unigram_model_trainer.cc(505) LOG(INFO) EM sub_iter=1 size=79634 obj=13.2608 num_tokens=698754 num_tokens/piece=8.77457\n",
      "unigram_model_trainer.cc(505) LOG(INFO) EM sub_iter=0 size=59725 obj=13.498 num_tokens=735665 num_tokens/piece=12.3175\n",
      "unigram_model_trainer.cc(505) LOG(INFO) EM sub_iter=1 size=59725 obj=13.4376 num_tokens=735673 num_tokens/piece=12.3177\n",
      "unigram_model_trainer.cc(505) LOG(INFO) EM sub_iter=0 size=44793 obj=13.7112 num_tokens=774873 num_tokens/piece=17.299\n",
      "unigram_model_trainer.cc(505) LOG(INFO) EM sub_iter=1 size=44793 obj=13.6487 num_tokens=774896 num_tokens/piece=17.2995\n",
      "unigram_model_trainer.cc(505) LOG(INFO) EM sub_iter=0 size=33594 obj=13.9502 num_tokens=814972 num_tokens/piece=24.2595\n",
      "unigram_model_trainer.cc(505) LOG(INFO) EM sub_iter=1 size=33594 obj=13.8865 num_tokens=814956 num_tokens/piece=24.259\n",
      "unigram_model_trainer.cc(505) LOG(INFO) EM sub_iter=0 size=25195 obj=14.2185 num_tokens=855998 num_tokens/piece=33.9749\n",
      "unigram_model_trainer.cc(505) LOG(INFO) EM sub_iter=1 size=25195 obj=14.1493 num_tokens=856090 num_tokens/piece=33.9786\n",
      "unigram_model_trainer.cc(505) LOG(INFO) EM sub_iter=0 size=18896 obj=14.5122 num_tokens=899658 num_tokens/piece=47.611\n",
      "unigram_model_trainer.cc(505) LOG(INFO) EM sub_iter=1 size=18896 obj=14.4347 num_tokens=899747 num_tokens/piece=47.6157\n",
      "unigram_model_trainer.cc(505) LOG(INFO) EM sub_iter=0 size=14172 obj=14.8297 num_tokens=944864 num_tokens/piece=66.6712\n",
      "unigram_model_trainer.cc(505) LOG(INFO) EM sub_iter=1 size=14172 obj=14.7422 num_tokens=944875 num_tokens/piece=66.672\n",
      "unigram_model_trainer.cc(505) LOG(INFO) EM sub_iter=0 size=10629 obj=15.1831 num_tokens=993298 num_tokens/piece=93.4517\n",
      "unigram_model_trainer.cc(505) LOG(INFO) EM sub_iter=1 size=10629 obj=15.0777 num_tokens=993452 num_tokens/piece=93.4662\n",
      "unigram_model_trainer.cc(505) LOG(INFO) EM sub_iter=0 size=8800 obj=15.3793 num_tokens=1025495 num_tokens/piece=116.534\n",
      "unigram_model_trainer.cc(505) LOG(INFO) EM sub_iter=1 size=8800 obj=15.3119 num_tokens=1025685 num_tokens/piece=116.555\n",
      "trainer_interface.cc(615) LOG(INFO) Saving model: korean_spm.model\n",
      "trainer_interface.cc(626) LOG(INFO) Saving vocabs: korean_spm.vocab\n"
     ]
    },
    {
     "name": "stdout",
     "output_type": "stream",
     "text": [
      "-rw-r--r-- 1 root root 377815 Feb 21 17:15 korean_spm.model\r\n",
      "-rw-r--r-- 1 root root 147291 Feb 21 17:15 korean_spm.vocab\r\n"
     ]
    }
   ],
   "source": [
    "import sentencepiece as spm\n",
    "import os\n",
    "temp_file = os.getenv('HOME')+'/aiffel/sp_tokenizer/data/korean-english-park.train.ko.temp'\n",
    "\n",
    "vocab_size = 8000\n",
    "\n",
    "with open(temp_file, 'w') as f:\n",
    "    for row in examples:   # 이전 스텝에서 정제했던 corpus를 활용합니다.\n",
    "        f.write(str(row) + '\\n') # 줄별로 불러오고\n",
    "        \n",
    "spm.SentencePieceTrainer.Train(\n",
    "    '--input={} --model_prefix=korean_spm --vocab_size={}'.format(temp_file, vocab_size)    \n",
    ")\n",
    "#위 Train에서  --model_type = unigram이 디폴트 적용되어 있습니다. --model_type = bpe로 옵션을 주어 변경할 수 있습니다.\n",
    "\n",
    "!ls -l korean_spm*   "
   ]
  },
  {
   "cell_type": "code",
   "execution_count": 32,
   "id": "b100267c",
   "metadata": {},
   "outputs": [
    {
     "name": "stdout",
     "output_type": "stream",
     "text": [
      "['<unk>', '<s>', '</s>', '▁', '이', '▁영화', '의', '도', '가', '는', '을', '에', '고', '은', '다', '지', '한', '를', '▁너무', '▁이', '만', '▁정말', '로', '나', '게', '▁진짜', '영화', '과', '라', '기', '어', '으로', '하고', '인', '리', '서', '네', '▁그', '▁안', '▁잘', '아', '에서', '와', '▁다', '들', '▁왜', '요', '▁점', '▁수', '▁더', '하는', '▁이런', '해', '거', '네요', '▁아', '스', '자', '▁그냥', '면', '수', '▁드라마', '지만', '▁본', '음', '니', '▁보고', '시', '▁연기', '함', '야', '대', '▁내', '하', '사', '▁평점', '하게', '▁한', '▁영화를', '▁좀', '일', '하다', '이다', '▁개', '데', '미', '주', '진', '▁참', '▁봤는데', '는데', '▁ᄏᄏ', '구', '▁스토리', '우', '임', '▁못', '▁없는', '▁쓰레기', '보다']\n"
     ]
    }
   ],
   "source": [
    "import sentencepiece as spm\n",
    "\n",
    "s = spm.SentencePieceProcessor()\n",
    "s.Load('korean_spm.model')  # load the pre-trained SentencePiece model\n",
    "print([s.IdToPiece(i) for i in range(100)])"
   ]
  },
  {
   "cell_type": "markdown",
   "id": "d96c7237",
   "metadata": {},
   "source": [
    "네이버 리뷰 데이터로 사전학습 시킨 것 확인함."
   ]
  },
  {
   "cell_type": "code",
   "execution_count": 33,
   "id": "7b4ac9b8",
   "metadata": {},
   "outputs": [
    {
     "data": {
      "text/plain": [
       "[['▁아', '▁더빙', '▁진짜', '▁짜증나', '네요', '▁목소리'],\n",
       " ['▁흠',\n",
       "  '포스터',\n",
       "  '보고',\n",
       "  '▁초딩',\n",
       "  '영화',\n",
       "  '줄',\n",
       "  '오',\n",
       "  '버',\n",
       "  '연기',\n",
       "  '조차',\n",
       "  '▁가볍지',\n",
       "  '▁않',\n",
       "  '구나'],\n",
       " ['▁너무', '재', '밓', '었다', '그래서', '보는', '것을', '추천', '한다']]"
      ]
     },
     "execution_count": 33,
     "metadata": {},
     "output_type": "execute_result"
    }
   ],
   "source": [
    "# 1. prefix로 parsing 어떻게 했나 확인하기\n",
    "\n",
    "def texts_to_pieces(sentences):\n",
    "    pieces = []\n",
    "    for sen  in sentences:\n",
    "        token_pieces = s.EncodeAsPieces(sen)\n",
    "        pieces.append(token_pieces)\n",
    "    return pieces\n",
    "\n",
    "texts_to_pieces(examples[:3])"
   ]
  },
  {
   "cell_type": "code",
   "execution_count": 34,
   "id": "844ed877",
   "metadata": {},
   "outputs": [],
   "source": [
    "# 2. 인코딩, 디코딩해보기\n",
    "\n",
    "def encoded_decoded(sentences):\n",
    "    sequences = []\n",
    "    for sen in sentences:\n",
    "        token_ids = s.EncodeAsIds(sen)\n",
    "        sequences.append(token_ids)\n",
    "    \n",
    "    texts = []\n",
    "    for seq in sequences:\n",
    "        text_pieces = s.DecodeIds(seq)\n",
    "        texts.append(text_pieces)\n",
    "    return sequences, texts"
   ]
  },
  {
   "cell_type": "code",
   "execution_count": 35,
   "id": "0962bb96",
   "metadata": {},
   "outputs": [
    {
     "name": "stdout",
     "output_type": "stream",
     "text": [
      "[[55, 792, 25, 2028, 54, 1717], [1636, 5072, 144, 1302, 26, 283, 157, 498, 381, 1244, 6917, 736, 347], [18, 360, 7833, 333, 4043, 521, 2078, 1579, 291]]\n",
      "['아 더빙 진짜 짜증나네요 목소리', '흠포스터보고 초딩영화줄오버연기조차 가볍지 않구나', '너무재밓었다그래서보는것을추천한다']\n"
     ]
    }
   ],
   "source": [
    "encoded_output, decoded_output = encoded_decoded(examples)\n",
    "print(encoded_output[:3])\n",
    "print(decoded_output[:3])"
   ]
  },
  {
   "cell_type": "code",
   "execution_count": 36,
   "id": "b55631e6",
   "metadata": {},
   "outputs": [
    {
     "name": "stdout",
     "output_type": "stream",
     "text": [
      "max_len: 140\n",
      "everage_len: 33.013999492424084\n"
     ]
    },
    {
     "data": {
      "text/plain": [
       "Text(0.5, 0, 'Number')"
      ]
     },
     "execution_count": 36,
     "metadata": {},
     "output_type": "execute_result"
    },
    {
     "data": {
      "image/png": "[encoded data removed]",
      "text/plain": [
       "<Figure size 432x288 with 1 Axes>"
      ]
     },
     "metadata": {},
     "output_type": "display_data"
    }
   ],
   "source": [
    "# 길이 분포 확인\n",
    "\n",
    "print('max_len:', max(len(l) for l in examples))\n",
    "print('everage_len:', sum(map(len,examples)) / len(examples))\n",
    "\n",
    "plt.hist([len(l) for l in examples], bins=50)\n",
    "plt.xlabel('Length')\n",
    "plt.xlabel('Number')"
   ]
  },
  {
   "cell_type": "code",
   "execution_count": 37,
   "id": "c381497a",
   "metadata": {},
   "outputs": [],
   "source": [
    "# 해당 길이 몇프로인지 확인하는 함수\n",
    "\n",
    "def below_threshold_len(max_len, nested_list):\n",
    "    count = 0\n",
    "    for sentence in nested_list:\n",
    "        if(len(sentence) <= max_len):\n",
    "            count = count + 1\n",
    "    print('전체 샘플 중 길이가 %s 이하인 샘플의 비율: %s'%(max_len, (count / len(nested_list)) * 100)) "
   ]
  },
  {
   "cell_type": "code",
   "execution_count": 38,
   "id": "98e07d48",
   "metadata": {},
   "outputs": [
    {
     "name": "stdout",
     "output_type": "stream",
     "text": [
      "전체 샘플 중 길이가 120 이하인 샘플의 비율: 97.15894671138821\n"
     ]
    }
   ],
   "source": [
    "# max_len\n",
    "\n",
    "max_len = 120\n",
    "below_threshold_len(max_len, examples)"
   ]
  },
  {
   "cell_type": "code",
   "execution_count": 39,
   "id": "77beeb5e",
   "metadata": {},
   "outputs": [],
   "source": [
    "# 3. 단어사전 & 패딩하기\n",
    "\n",
    "def dictionary(sentences):\n",
    "    # 1. text_to_pieces 파싱\n",
    "    pieces = []\n",
    "    for sen in sentences:\n",
    "        token_pieces = s.EncodeAsPieces(sen)\n",
    "        pieces.append(token_pieces)\n",
    "    \n",
    "    # 2의 toatl_vocab 지정하기위해 전체 데이터셋을 한번 더 불러와 len셈.\n",
    "    with open(\"./korean_spm.vocab\", 'r') as f:\n",
    "        total_vocab = f.readlines()\n",
    "    \n",
    "    # 2. 단어사전 두가지 리스트 만들기\n",
    "    word_index = {}\n",
    "    index_word = {}\n",
    "\n",
    "    for idx, line in enumerate(total_vocab):\n",
    "        word = line.split(\"\\t\")[0]\n",
    "\n",
    "        word_index.update({word:idx})\n",
    "        index_word.update({idx:word})\n",
    "    \n",
    "    # 3. 패딩하기\n",
    "    tensor = []\n",
    "    for sen in sentences:\n",
    "        tensor.append(s.EncodeAsIds(sen))\n",
    "    tensor = tf.keras.preprocessing.sequence.pad_sequences(tensor, padding='post')\n",
    "    \n",
    "    return tensor, word_index, index_word"
   ]
  },
  {
   "cell_type": "code",
   "execution_count": 40,
   "id": "3c00562c",
   "metadata": {},
   "outputs": [
    {
     "name": "stdout",
     "output_type": "stream",
     "text": [
      "[[  55  792   25 2028   54 1717    0    0    0    0    0    0    0    0\n",
      "     0    0    0    0    0    0    0    0    0    0    0    0    0    0\n",
      "     0    0    0    0    0    0    0    0    0    0    0    0    0    0\n",
      "     0    0    0    0    0    0    0    0    0    0    0    0    0    0\n",
      "     0    0    0    0    0    0    0    0    0    0    0    0    0    0\n",
      "     0    0    0    0    0    0    0    0    0    0    0    0    0    0\n",
      "     0    0    0    0    0    0    0    0    0    0    0    0    0    0\n",
      "     0    0    0    0    0    0    0    0    0    0    0    0    0    0\n",
      "     0    0    0    0]]\n",
      "(145791, 116)\n"
     ]
    }
   ],
   "source": [
    "tensor, word_index, index_word = dictionary(examples)\n",
    "print(tensor[:1])\n",
    "# print(word_index)\n",
    "# print(index_word)\n",
    "print(tensor.shape)"
   ]
  },
  {
   "cell_type": "code",
   "execution_count": 41,
   "id": "2f62e2f8",
   "metadata": {},
   "outputs": [
    {
     "name": "stdout",
     "output_type": "stream",
     "text": [
      "(145383, 40)\n"
     ]
    }
   ],
   "source": [
    "print(X_train.shape)"
   ]
  },
  {
   "cell_type": "code",
   "execution_count": 42,
   "id": "4aeccf2b",
   "metadata": {},
   "outputs": [
    {
     "name": "stdout",
     "output_type": "stream",
     "text": [
      "Model: \"sequential_2\"\n",
      "_________________________________________________________________\n",
      "Layer (type)                 Output Shape              Param #   \n",
      "=================================================================\n",
      "embedding_2 (Embedding)      (None, None, 100)         800000    \n",
      "_________________________________________________________________\n",
      "lstm_2 (LSTM)                (None, 128)               117248    \n",
      "_________________________________________________________________\n",
      "dense_2 (Dense)              (None, 1)                 129       \n",
      "=================================================================\n",
      "Total params: 917,377\n",
      "Trainable params: 917,377\n",
      "Non-trainable params: 0\n",
      "_________________________________________________________________\n",
      "Epoch 1/15\n",
      "1818/1818 [==============================] - 15s 8ms/step - loss: 0.3996 - acc: 0.8141 - val_loss: 0.3664 - val_acc: 0.8357\n",
      "Epoch 2/15\n",
      "1818/1818 [==============================] - 13s 7ms/step - loss: 0.3408 - acc: 0.8481 - val_loss: 0.3460 - val_acc: 0.8464\n",
      "Epoch 3/15\n",
      "1818/1818 [==============================] - 12s 7ms/step - loss: 0.3236 - acc: 0.8585 - val_loss: 0.3414 - val_acc: 0.8492\n",
      "Epoch 4/15\n",
      "1818/1818 [==============================] - 13s 7ms/step - loss: 0.3116 - acc: 0.8638 - val_loss: 0.3435 - val_acc: 0.8477\n",
      "Epoch 5/15\n",
      "1818/1818 [==============================] - 12s 7ms/step - loss: 0.3019 - acc: 0.8685 - val_loss: 0.3365 - val_acc: 0.8523\n",
      "Epoch 6/15\n",
      "1818/1818 [==============================] - 13s 7ms/step - loss: 0.2922 - acc: 0.8737 - val_loss: 0.3362 - val_acc: 0.8511\n",
      "Epoch 7/15\n",
      "1818/1818 [==============================] - 13s 7ms/step - loss: 0.2825 - acc: 0.8781 - val_loss: 0.3393 - val_acc: 0.8518\n",
      "Epoch 8/15\n",
      "1818/1818 [==============================] - 12s 7ms/step - loss: 0.2726 - acc: 0.8830 - val_loss: 0.3445 - val_acc: 0.8491\n",
      "Epoch 9/15\n",
      "1818/1818 [==============================] - 12s 7ms/step - loss: 0.2622 - acc: 0.8881 - val_loss: 0.3502 - val_acc: 0.8486\n",
      "1532/1532 [==============================] - 4s 3ms/step - loss: 0.3639 - acc: 0.8416\n",
      "Test accuracy: 0.8415756821632385\n"
     ]
    }
   ],
   "source": [
    "from keras.callbacks import EarlyStopping\n",
    "\n",
    "embedding_dim = 100\n",
    "hidden_units = 128\n",
    "vocab_size = 8000\n",
    "\n",
    "model = Sequential()\n",
    "model.add(Embedding(vocab_size,embedding_dim))\n",
    "model.add(LSTM(hidden_units))\n",
    "model.add(Dense(1, activation = 'sigmoid'))\n",
    "\n",
    "model.compile(optimizer='rmsprop',\n",
    "              loss = \"binary_crossentropy\",\n",
    "              metrics = ['acc'])\n",
    "model.summary()\n",
    "\n",
    "# Early stopping\n",
    "early_stop = EarlyStopping(monitor='val_loss', patience=3)\n",
    "\n",
    "# Fit\n",
    "history = model.fit(X_train, y_train, epochs=15, batch_size=64, validation_split=0.2, callbacks=[early_stop])\n",
    "\n",
    "# Evaluate\n",
    "test_loss, test_acc = model.evaluate(X_test, y_test)\n",
    "print('Test accuracy:', test_acc)"
   ]
  },
  {
   "cell_type": "code",
   "execution_count": 43,
   "id": "2fd708e7",
   "metadata": {},
   "outputs": [
    {
     "data": {
      "image/png": "[encoded data removed]",
      "text/plain": [
       "<Figure size 432x288 with 1 Axes>"
      ]
     },
     "metadata": {},
     "output_type": "display_data"
    },
    {
     "data": {
      "image/png": "[encoded data removed]",
      "text/plain": [
       "<Figure size 432x288 with 1 Axes>"
      ]
     },
     "metadata": {},
     "output_type": "display_data"
    }
   ],
   "source": [
    "hist_dict = history.history\n",
    "loss = hist_dict['loss']\n",
    "val_loss = hist_dict['val_loss']\n",
    "acc = hist_dict['acc']\n",
    "val_acc = hist_dict['val_acc']\n",
    "\n",
    "plt.plot(loss,'b--', label = 'training loss')\n",
    "plt.plot(val_loss,'r--', label = 'validation loss')\n",
    "plt.legend()\n",
    "plt.grid()\n",
    "\n",
    "plt.figure()\n",
    "plt.plot(acc,'b--', label = 'training acc')\n",
    "plt.plot(val_acc,'r--', label = 'validation acc')\n",
    "plt.legend()\n",
    "plt.grid()"
   ]
  },
  {
   "cell_type": "markdown",
   "id": "e4b93ded",
   "metadata": {},
   "source": [
    "# 모델 타입 바꿔보기 (bpe)"
   ]
  },
  {
   "cell_type": "code",
   "execution_count": 44,
   "id": "c33ab992",
   "metadata": {},
   "outputs": [
    {
     "name": "stderr",
     "output_type": "stream",
     "text": [
      "sentencepiece_trainer.cc(177) LOG(INFO) Running command: --input=/aiffel/aiffel/sp_tokenizer/data/korean-english-park.train.ko.temp --model_prefix=korean_spm --vocab_size=8000 --model_type=bpe\n",
      "sentencepiece_trainer.cc(77) LOG(INFO) Starts training with : \n",
      "trainer_spec {\n",
      "  input: /aiffel/aiffel/sp_tokenizer/data/korean-english-park.train.ko.temp\n",
      "  input_format: \n",
      "  model_prefix: korean_spm\n",
      "  model_type: BPE\n",
      "  vocab_size: 8000\n",
      "  self_test_sample_size: 0\n",
      "  character_coverage: 0.9995\n",
      "  input_sentence_size: 0\n",
      "  shuffle_input_sentence: 1\n",
      "  seed_sentencepiece_size: 1000000\n",
      "  shrinking_factor: 0.75\n",
      "  max_sentence_length: 4192\n",
      "  num_threads: 16\n",
      "  num_sub_iterations: 2\n",
      "  max_sentencepiece_length: 16\n",
      "  split_by_unicode_script: 1\n",
      "  split_by_number: 1\n",
      "  split_by_whitespace: 1\n",
      "  split_digits: 0\n",
      "  treat_whitespace_as_suffix: 0\n",
      "  allow_whitespace_only_pieces: 0\n",
      "  required_chars: \n",
      "  byte_fallback: 0\n",
      "  vocabulary_output_piece_score: 1\n",
      "  train_extremely_large_corpus: 0\n",
      "  hard_vocab_limit: 1\n",
      "  use_all_vocab: 0\n",
      "  unk_id: 0\n",
      "  bos_id: 1\n",
      "  eos_id: 2\n",
      "  pad_id: -1\n",
      "  unk_piece: <unk>\n",
      "  bos_piece: <s>\n",
      "  eos_piece: </s>\n",
      "  pad_piece: <pad>\n",
      "  unk_surface:  ⁇ \n",
      "}\n",
      "normalizer_spec {\n",
      "  name: nmt_nfkc\n",
      "  add_dummy_prefix: 1\n",
      "  remove_extra_whitespaces: 1\n",
      "  escape_whitespaces: 1\n",
      "  normalization_rule_tsv: \n",
      "}\n",
      "denormalizer_spec {}\n",
      "trainer_interface.cc(329) LOG(INFO) SentenceIterator is not specified. Using MultiFileSentenceIterator.\n",
      "trainer_interface.cc(178) LOG(INFO) Loading corpus: /aiffel/aiffel/sp_tokenizer/data/korean-english-park.train.ko.temp\n",
      "trainer_interface.cc(385) LOG(INFO) Loaded all 145791 sentences\n",
      "trainer_interface.cc(400) LOG(INFO) Adding meta_piece: <unk>\n",
      "trainer_interface.cc(400) LOG(INFO) Adding meta_piece: <s>\n",
      "trainer_interface.cc(400) LOG(INFO) Adding meta_piece: </s>\n",
      "trainer_interface.cc(405) LOG(INFO) Normalizing sentences...\n",
      "trainer_interface.cc(466) LOG(INFO) all chars count=4944911\n",
      "trainer_interface.cc(477) LOG(INFO) Done: 99.95% characters are covered.\n",
      "trainer_interface.cc(487) LOG(INFO) Alphabet size=1550\n",
      "trainer_interface.cc(488) LOG(INFO) Final character coverage=0.9995\n",
      "trainer_interface.cc(520) LOG(INFO) Done! preprocessed 145395 sentences.\n",
      "trainer_interface.cc(526) LOG(INFO) Tokenizing input sentences with whitespace: 145395\n",
      "trainer_interface.cc(537) LOG(INFO) Done! 299292\n",
      "bpe_model_trainer.cc(167) LOG(INFO) Updating active symbols. max_freq=58855 min_freq=78\n",
      "bpe_model_trainer.cc(258) LOG(INFO) Added: freq=10818 size=20 all=117484 active=11835 piece=▁사\n",
      "bpe_model_trainer.cc(258) LOG(INFO) Added: freq=8492 size=40 all=122473 active=16824 piece=▁점\n",
      "bpe_model_trainer.cc(258) LOG(INFO) Added: freq=5826 size=60 all=126531 active=20882 piece=▁개\n",
      "bpe_model_trainer.cc(258) LOG(INFO) Added: freq=5014 size=80 all=131360 active=25711 piece=▁왜\n",
      "bpe_model_trainer.cc(258) LOG(INFO) Added: freq=4050 size=100 all=135464 active=29815 piece=▁것\n",
      "bpe_model_trainer.cc(167) LOG(INFO) Updating active symbols. max_freq=4031 min_freq=64\n",
      "bpe_model_trainer.cc(258) LOG(INFO) Added: freq=3558 size=120 all=138513 active=9769 piece=▁조\n",
      "bpe_model_trainer.cc(258) LOG(INFO) Added: freq=3081 size=140 all=141682 active=12938 piece=리고\n",
      "bpe_model_trainer.cc(258) LOG(INFO) Added: freq=2775 size=160 all=144009 active=15265 piece=액션\n",
      "bpe_model_trainer.cc(258) LOG(INFO) Added: freq=2538 size=180 all=146904 active=18160 piece=들의\n",
      "bpe_model_trainer.cc(258) LOG(INFO) Added: freq=2344 size=200 all=149744 active=21000 piece=▁최고의\n",
      "bpe_model_trainer.cc(167) LOG(INFO) Updating active symbols. max_freq=2337 min_freq=57\n",
      "bpe_model_trainer.cc(258) LOG(INFO) Added: freq=2136 size=220 all=152667 active=10376 piece=▁지금\n",
      "bpe_model_trainer.cc(258) LOG(INFO) Added: freq=1987 size=240 all=156005 active=13714 piece=▁모르\n",
      "bpe_model_trainer.cc(258) LOG(INFO) Added: freq=1867 size=260 all=159256 active=16965 piece=▁아깝\n",
      "bpe_model_trainer.cc(258) LOG(INFO) Added: freq=1761 size=280 all=161836 active=19545 piece=▁우리\n",
      "bpe_model_trainer.cc(258) LOG(INFO) Added: freq=1623 size=300 all=164283 active=21992 piece=▁잔\n",
      "bpe_model_trainer.cc(167) LOG(INFO) Updating active symbols. max_freq=1622 min_freq=51\n",
      "bpe_model_trainer.cc(258) LOG(INFO) Added: freq=1492 size=320 all=166209 active=10101 piece=재미\n",
      "bpe_model_trainer.cc(258) LOG(INFO) Added: freq=1426 size=340 all=168395 active=12287 piece=▁줄\n",
      "bpe_model_trainer.cc(258) LOG(INFO) Added: freq=1357 size=360 all=171211 active=15103 piece=▁힘\n",
      "bpe_model_trainer.cc(258) LOG(INFO) Added: freq=1268 size=380 all=173490 active=17382 piece=니까\n",
      "bpe_model_trainer.cc(258) LOG(INFO) Added: freq=1227 size=400 all=175804 active=19696 piece=인지\n",
      "bpe_model_trainer.cc(167) LOG(INFO) Updating active symbols. max_freq=1227 min_freq=46\n",
      "bpe_model_trainer.cc(258) LOG(INFO) Added: freq=1178 size=420 all=178324 active=10965 piece=▁계\n",
      "bpe_model_trainer.cc(258) LOG(INFO) Added: freq=1113 size=440 all=180503 active=13144 piece=스러\n",
      "bpe_model_trainer.cc(258) LOG(INFO) Added: freq=1076 size=460 all=182322 active=14963 piece=▁돌\n",
      "bpe_model_trainer.cc(258) LOG(INFO) Added: freq=1010 size=480 all=184590 active=17231 piece=▁프\n",
      "bpe_model_trainer.cc(258) LOG(INFO) Added: freq=968 size=500 all=186393 active=19034 piece=된다\n",
      "bpe_model_trainer.cc(167) LOG(INFO) Updating active symbols. max_freq=960 min_freq=43\n",
      "bpe_model_trainer.cc(258) LOG(INFO) Added: freq=924 size=520 all=188461 active=11240 piece=리가\n",
      "bpe_model_trainer.cc(258) LOG(INFO) Added: freq=896 size=540 all=190696 active=13475 piece=을때\n",
      "bpe_model_trainer.cc(258) LOG(INFO) Added: freq=873 size=560 all=193117 active=15896 piece=생각\n",
      "bpe_model_trainer.cc(258) LOG(INFO) Added: freq=847 size=580 all=195513 active=18292 piece=▁흥미\n",
      "bpe_model_trainer.cc(258) LOG(INFO) Added: freq=822 size=600 all=198062 active=20841 piece=▁즐\n",
      "bpe_model_trainer.cc(167) LOG(INFO) Updating active symbols. max_freq=818 min_freq=39\n",
      "bpe_model_trainer.cc(258) LOG(INFO) Added: freq=788 size=620 all=200378 active=12202 piece=▁않은\n",
      "bpe_model_trainer.cc(258) LOG(INFO) Added: freq=771 size=640 all=202644 active=14468 piece=성이\n",
      "bpe_model_trainer.cc(258) LOG(INFO) Added: freq=748 size=660 all=205044 active=16868 piece=해요\n",
      "bpe_model_trainer.cc(258) LOG(INFO) Added: freq=721 size=680 all=207073 active=18897 piece=▁홍\n",
      "bpe_model_trainer.cc(258) LOG(INFO) Added: freq=698 size=700 all=208549 active=20373 piece=기가\n",
      "bpe_model_trainer.cc(167) LOG(INFO) Updating active symbols. max_freq=697 min_freq=36\n",
      "bpe_model_trainer.cc(258) LOG(INFO) Added: freq=671 size=720 all=210342 active=12023 piece=▁왜이\n",
      "bpe_model_trainer.cc(258) LOG(INFO) Added: freq=659 size=740 all=211691 active=13372 piece=▁너무나\n",
      "bpe_model_trainer.cc(258) LOG(INFO) Added: freq=643 size=760 all=213165 active=14846 piece=▁의미\n",
      "bpe_model_trainer.cc(258) LOG(INFO) Added: freq=627 size=780 all=214727 active=16408 piece=더니\n",
      "bpe_model_trainer.cc(258) LOG(INFO) Added: freq=615 size=800 all=216309 active=17990 piece=었습니다\n",
      "bpe_model_trainer.cc(167) LOG(INFO) Updating active symbols. max_freq=614 min_freq=35\n",
      "bpe_model_trainer.cc(258) LOG(INFO) Added: freq=603 size=820 all=217891 active=12287 piece=▁무서\n",
      "bpe_model_trainer.cc(258) LOG(INFO) Added: freq=581 size=840 all=219378 active=13774 piece=▁좋았다\n",
      "bpe_model_trainer.cc(258) LOG(INFO) Added: freq=566 size=860 all=220577 active=14973 piece=▁우리나라\n",
      "bpe_model_trainer.cc(258) LOG(INFO) Added: freq=556 size=880 all=222031 active=16427 piece=▁시나리오\n",
      "bpe_model_trainer.cc(258) LOG(INFO) Added: freq=545 size=900 all=223287 active=17683 piece=아깝\n",
      "bpe_model_trainer.cc(167) LOG(INFO) Updating active symbols. max_freq=544 min_freq=33\n",
      "bpe_model_trainer.cc(258) LOG(INFO) Added: freq=534 size=920 all=224646 active=12430 piece=▁환\n",
      "bpe_model_trainer.cc(258) LOG(INFO) Added: freq=523 size=940 all=225972 active=13756 piece=▁큰\n",
      "bpe_model_trainer.cc(258) LOG(INFO) Added: freq=514 size=960 all=226909 active=14693 piece=을듯\n",
      "bpe_model_trainer.cc(258) LOG(INFO) Added: freq=500 size=980 all=228454 activ"
     ]
    },
    {
     "name": "stdout",
     "output_type": "stream",
     "text": [
      "-rw-r--r-- 1 root root 373422 Feb 21 17:18 korean_spm.model\r\n",
      "-rw-r--r-- 1 root root 118628 Feb 21 17:18 korean_spm.vocab\r\n"
     ]
    }
   ],
   "source": [
    "import sentencepiece as spm\n",
    "import os\n",
    "temp_file = os.getenv('HOME')+'/aiffel/sp_tokenizer/data/korean-english-park.train.ko.temp'\n",
    "\n",
    "vocab_size = 8000\n",
    "\n",
    "with open(temp_file, 'w') as f:\n",
    "    for row in examples:   # 이전 스텝에서 정제했던 corpus를 활용합니다.\n",
    "        f.write(str(row) + '\\n') # 줄별로 불러오고\n",
    "        \n",
    "spm.SentencePieceTrainer.Train(\n",
    "    '--input={} --model_prefix=korean_spm --vocab_size={} --model_type=bpe'.format(temp_file, vocab_size)    \n",
    ")\n",
    "#위 Train에서  --model_type = unigram이 디폴트 적용되어 있습니다. --model_type = bpe로 옵션을 주어 변경할 수 있습니다.\n",
    "\n",
    "!ls -l korean_spm*     "
   ]
  },
  {
   "cell_type": "code",
   "execution_count": 45,
   "id": "f286e705",
   "metadata": {},
   "outputs": [
    {
     "name": "stdout",
     "output_type": "stream",
     "text": [
      "['<unk>', '<s>', '</s>', '영화', '▁영화', '▁이', '▁아', '▁그', '▁보', '▁재', 'ᄏᄏ', '▁정', '니다', '▁나', '는데', '너무', '▁다', '▁하', '▁좋', '▁없', '▁어', '▁너무', '▁사', '▁내', '▁진', '▁감', '▁연', '▁있', '▁재미', '▁지', '▁시', '으로', '지만', '하고', '▁한', '네요', '▁안', '▁최', '▁정말', '▁만', '▁스', '▁가', '▁점', '에서', '▁기', '▁대', '▁재밌', '▁봤', '▁평', '▁전', '▁진짜', '▁연기', '▁마', '하는', '▁무', '▁모', '▁수', '▁여', '▁생', '▁잘', '▁주', '어요', '▁개', '▁않', '▁더', '▁최고', '▁평점', '▁인', '드라', '토리', '▁오', '▁제', '▁배', '▁이런', '이다', '습니다', '▁말', '하다', '드라마', '▁생각', '▁자', '▁ᄏᄏ', '▁왜', '들이', '▁같', '▁못', '▁스토리', '▁소', '▁남', '▁알', '▁본', '까지', '▁느', '▁유', '▁미', '▁일', '▁보고', '▁감동', '▁볼', '하게']\n"
     ]
    }
   ],
   "source": [
    "import sentencepiece as spm\n",
    "\n",
    "s = spm.SentencePieceProcessor()\n",
    "s.Load('korean_spm.model')  # load the pre-trained SentencePiece model\n",
    "print([s.IdToPiece(i) for i in range(100)])"
   ]
  },
  {
   "cell_type": "code",
   "execution_count": 46,
   "id": "d408c7c8",
   "metadata": {
    "scrolled": true
   },
   "outputs": [
    {
     "name": "stdout",
     "output_type": "stream",
     "text": [
      "[['▁아', '▁더빙', '▁진짜', '▁짜증나', '네요', '▁목소리'], ['▁흠', '포스터', '보고', '▁초딩', '영화', '줄', '오', '버', '연기', '조차', '▁가볍', '지', '▁않', '구나'], ['▁너무', '재', '밓', '었다', '그래서', '보는', '것을', '추천', '한다']]\n"
     ]
    }
   ],
   "source": [
    "# 1. prefix로 parsing 어떻게 했나 확인하기\n",
    "\n",
    "def texts_to_pieces(sentences):\n",
    "    pieces = []\n",
    "    for sen  in sentences:\n",
    "        token_pieces = s.EncodeAsPieces(sen)\n",
    "        pieces.append(token_pieces)\n",
    "    return pieces\n",
    "\n",
    "print(texts_to_pieces(examples[:3]))"
   ]
  },
  {
   "cell_type": "code",
   "execution_count": 47,
   "id": "c2141b7c",
   "metadata": {},
   "outputs": [
    {
     "name": "stdout",
     "output_type": "stream",
     "text": [
      "[[6, 1019, 50, 2293, 35, 2010], [1521, 4986, 159, 1227, 3, 6658, 6519, 6626, 264, 1642, 1824, 6455, 63, 393], [21, 6483, 7955, 105, 3951, 397, 1170, 1757, 275]]\n",
      "['아 더빙 진짜 짜증나네요 목소리', '흠포스터보고 초딩영화줄오버연기조차 가볍지 않구나', '너무재밓었다그래서보는것을추천한다']\n"
     ]
    }
   ],
   "source": [
    "# 2. 인코딩, 디코딩해보기\n",
    "\n",
    "def encoded_decoded(sentences):\n",
    "    sequences = []\n",
    "    for sen in sentences:\n",
    "        token_ids = s.EncodeAsIds(sen)\n",
    "        sequences.append(token_ids)\n",
    "    \n",
    "    texts = []\n",
    "    for seq in sequences:\n",
    "        text_pieces = s.DecodeIds(seq)\n",
    "        texts.append(text_pieces)\n",
    "    return sequences, texts\n",
    "\n",
    "encoded_output, decoded_output = encoded_decoded(examples)\n",
    "print(encoded_output[:3])\n",
    "print(decoded_output[:3])"
   ]
  },
  {
   "cell_type": "code",
   "execution_count": 48,
   "id": "cf0ce922",
   "metadata": {},
   "outputs": [
    {
     "name": "stdout",
     "output_type": "stream",
     "text": [
      "max_len: 140\n",
      "everage_len: 33.013999492424084\n"
     ]
    },
    {
     "data": {
      "text/plain": [
       "Text(0.5, 0, 'Number')"
      ]
     },
     "execution_count": 48,
     "metadata": {},
     "output_type": "execute_result"
    },
    {
     "data": {
      "image/png": "[encoded data removed]",
      "text/plain": [
       "<Figure size 432x288 with 1 Axes>"
      ]
     },
     "metadata": {},
     "output_type": "display_data"
    }
   ],
   "source": [
    "# 길이 분포 확인\n",
    "\n",
    "print('max_len:', max(len(l) for l in examples))\n",
    "print('everage_len:', sum(map(len,examples)) / len(examples))\n",
    "\n",
    "plt.hist([len(l) for l in examples], bins=50)\n",
    "plt.xlabel('Length')\n",
    "plt.xlabel('Number')"
   ]
  },
  {
   "cell_type": "code",
   "execution_count": 49,
   "id": "c55e71f3",
   "metadata": {},
   "outputs": [],
   "source": [
    "# 해당 길이 몇프로인지 확인하는 함수\n",
    "\n",
    "def below_threshold_len(max_len, nested_list):\n",
    "    count = 0\n",
    "    for sentence in nested_list:\n",
    "        if(len(sentence) <= max_len):\n",
    "            count = count + 1\n",
    "    print('전체 샘플 중 길이가 %s 이하인 샘플의 비율: %s'%(max_len, (count / len(nested_list)) * 100)) "
   ]
  },
  {
   "cell_type": "code",
   "execution_count": 50,
   "id": "1fc3a1e2",
   "metadata": {},
   "outputs": [
    {
     "name": "stdout",
     "output_type": "stream",
     "text": [
      "전체 샘플 중 길이가 120 이하인 샘플의 비율: 97.15894671138821\n"
     ]
    }
   ],
   "source": [
    "# max_len\n",
    "\n",
    "max_len = 120\n",
    "below_threshold_len(max_len, examples)"
   ]
  },
  {
   "cell_type": "code",
   "execution_count": 51,
   "id": "48a9a177",
   "metadata": {},
   "outputs": [],
   "source": [
    "# 3. 단어사전 & 패딩하기\n",
    "\n",
    "def dictionary(sentences):\n",
    "    # 1. text_to_pieces 파싱\n",
    "    pieces = []\n",
    "    for sen in sentences:\n",
    "        token_pieces = s.EncodeAsPieces(sen)\n",
    "        pieces.append(token_pieces)\n",
    "    \n",
    "    # 2의 toatl_vocab 지정하기위해 전체 데이터셋을 한번 더 불러와 len셈.\n",
    "    with open(\"./korean_spm.vocab\", 'r') as f:\n",
    "        total_vocab = f.readlines()\n",
    "    \n",
    "    # 2. 단어사전 두가지 리스트 만들기\n",
    "    word_index = {}\n",
    "    index_word = {}\n",
    "\n",
    "    for idx, line in enumerate(total_vocab):\n",
    "        word = line.split(\"\\t\")[0]\n",
    "\n",
    "        word_index.update({word:idx})\n",
    "        index_word.update({idx:word})\n",
    "    \n",
    "    # 3. 패딩하기\n",
    "    tensor = []\n",
    "    for sen in sentences:\n",
    "        tensor.append(s.EncodeAsIds(sen))\n",
    "    tensor = tf.keras.preprocessing.sequence.pad_sequences(tensor, padding='post')\n",
    "    \n",
    "    return tensor, word_index, index_word\n",
    "\n",
    "tensor, word_index, index_word = dictionary(examples)"
   ]
  },
  {
   "cell_type": "code",
   "execution_count": 52,
   "id": "9202c9f9",
   "metadata": {},
   "outputs": [
    {
     "name": "stdout",
     "output_type": "stream",
     "text": [
      "Model: \"sequential_3\"\n",
      "_________________________________________________________________\n",
      "Layer (type)                 Output Shape              Param #   \n",
      "=================================================================\n",
      "embedding_3 (Embedding)      (None, None, 100)         800000    \n",
      "_________________________________________________________________\n",
      "lstm_3 (LSTM)                (None, 128)               117248    \n",
      "_________________________________________________________________\n",
      "dense_3 (Dense)              (None, 1)                 129       \n",
      "=================================================================\n",
      "Total params: 917,377\n",
      "Trainable params: 917,377\n",
      "Non-trainable params: 0\n",
      "_________________________________________________________________\n",
      "Epoch 1/15\n",
      "1818/1818 [==============================] - 15s 8ms/step - loss: 0.4026 - acc: 0.8136 - val_loss: 0.3600 - val_acc: 0.8368\n",
      "Epoch 2/15\n",
      "1818/1818 [==============================] - 12s 7ms/step - loss: 0.3404 - acc: 0.8479 - val_loss: 0.3462 - val_acc: 0.8461\n",
      "Epoch 3/15\n",
      "1818/1818 [==============================] - 12s 7ms/step - loss: 0.3225 - acc: 0.8587 - val_loss: 0.3555 - val_acc: 0.8379\n",
      "Epoch 4/15\n",
      "1818/1818 [==============================] - 12s 7ms/step - loss: 0.3098 - acc: 0.8645 - val_loss: 0.3402 - val_acc: 0.8491\n",
      "Epoch 5/15\n",
      "1818/1818 [==============================] - 12s 7ms/step - loss: 0.2992 - acc: 0.8702 - val_loss: 0.3361 - val_acc: 0.8529\n",
      "Epoch 6/15\n",
      "1818/1818 [==============================] - 12s 7ms/step - loss: 0.2891 - acc: 0.8751 - val_loss: 0.3431 - val_acc: 0.8466\n",
      "Epoch 7/15\n",
      "1818/1818 [==============================] - 13s 7ms/step - loss: 0.2791 - acc: 0.8808 - val_loss: 0.3443 - val_acc: 0.8497\n",
      "Epoch 8/15\n",
      "1818/1818 [==============================] - 12s 7ms/step - loss: 0.2680 - acc: 0.8859 - val_loss: 0.3505 - val_acc: 0.8473\n",
      "1532/1532 [==============================] - 4s 3ms/step - loss: 0.3618 - acc: 0.8403\n",
      "Test accuracy: 0.840289831161499\n"
     ]
    }
   ],
   "source": [
    "from keras.callbacks import EarlyStopping\n",
    "\n",
    "embedding_dim = 100\n",
    "hidden_units = 128\n",
    "vocab_size = 8000\n",
    "\n",
    "model = Sequential()\n",
    "model.add(Embedding(vocab_size,embedding_dim))\n",
    "model.add(LSTM(hidden_units))\n",
    "model.add(Dense(1, activation = 'sigmoid'))\n",
    "\n",
    "model.compile(optimizer='rmsprop',\n",
    "              loss = \"binary_crossentropy\",\n",
    "              metrics = ['acc'])\n",
    "model.summary()\n",
    "\n",
    "# Early stopping\n",
    "early_stop = EarlyStopping(monitor='val_loss', patience=3)\n",
    "\n",
    "# Fit\n",
    "history = model.fit(X_train, y_train, epochs=15, batch_size=64, validation_split=0.2, callbacks=[early_stop])\n",
    "\n",
    "# Evaluate\n",
    "test_loss, test_acc = model.evaluate(X_test, y_test)\n",
    "print('Test accuracy:', test_acc)"
   ]
  },
  {
   "cell_type": "code",
   "execution_count": 53,
   "id": "6758489c",
   "metadata": {},
   "outputs": [
    {
     "data": {
      "image/png": "[encoded data removed]",
      "text/plain": [
       "<Figure size 432x288 with 1 Axes>"
      ]
     },
     "metadata": {},
     "output_type": "display_data"
    },
    {
     "data": {
      "image/png": "[encoded data removed]",
      "text/plain": [
       "<Figure size 432x288 with 1 Axes>"
      ]
     },
     "metadata": {},
     "output_type": "display_data"
    }
   ],
   "source": [
    "hist_dict = history.history\n",
    "loss = hist_dict['loss']\n",
    "val_loss = hist_dict['val_loss']\n",
    "acc = hist_dict['acc']\n",
    "val_acc = hist_dict['val_acc']\n",
    "\n",
    "plt.plot(loss,'b--', label = 'training loss')\n",
    "plt.plot(val_loss,'r--', label = 'validation loss')\n",
    "plt.legend()\n",
    "plt.grid()\n",
    "\n",
    "plt.figure()\n",
    "plt.plot(acc,'b--', label = 'training acc')\n",
    "plt.plot(val_acc,'r--', label = 'validation acc')\n",
    "plt.legend()\n",
    "plt.grid()"
   ]
  },
  {
   "cell_type": "markdown",
   "id": "3ae3f71b",
   "metadata": {},
   "source": [
    "# 모델 타입 바꿔보기 (word)"
   ]
  },
  {
   "cell_type": "code",
   "execution_count": 55,
   "id": "c3f9e622",
   "metadata": {},
   "outputs": [
    {
     "name": "stdout",
     "output_type": "stream",
     "text": [
      "-rw-r--r-- 1 root root 373422 Feb 22 00:14 korean_spm.model\r\n",
      "-rw-r--r-- 1 root root 118628 Feb 22 00:14 korean_spm.vocab\r\n"
     ]
    }
   ],
   "source": [
    "import sentencepiece as spm\n",
    "import os\n",
    "temp_file = os.getenv('HOME')+'/aiffel/sp_tokenizer/data/korean-english-park.train.ko.temp'\n",
    "\n",
    "vocab_size = 8000\n",
    "\n",
    "with open(temp_file, 'w') as f:\n",
    "    for row in examples:   # 이전 스텝에서 정제했던 corpus를 활용합니다.\n",
    "        f.write(str(row) + '\\n') # 줄별로 불러오고\n",
    "        \n",
    "spm.SentencePieceTrainer.Train(\n",
    "    '--input={} --model_prefix=korean_spm --vocab_size={} --model_type=bpe'.format(temp_file, vocab_size)    \n",
    ")\n",
    "#위 Train에서  --model_type = unigram이 디폴트 적용되어 있습니다. --model_type = bpe로 옵션을 주어 변경할 수 있습니다.\n",
    "\n",
    "!ls -l korean_spm*     "
   ]
  },
  {
   "cell_type": "code",
   "execution_count": 56,
   "id": "20577fac",
   "metadata": {},
   "outputs": [
    {
     "name": "stdout",
     "output_type": "stream",
     "text": [
      "['<unk>', '<s>', '</s>', '영화', '▁영화', '▁이', '▁아', '▁그', '▁보', '▁재', 'ᄏᄏ', '▁정', '니다', '▁나', '는데', '너무', '▁다', '▁하', '▁좋', '▁없', '▁어', '▁너무', '▁사', '▁내', '▁진', '▁감', '▁연', '▁있', '▁재미', '▁지', '▁시', '으로', '지만', '하고', '▁한', '네요', '▁안', '▁최', '▁정말', '▁만', '▁스', '▁가', '▁점', '에서', '▁기', '▁대', '▁재밌', '▁봤', '▁평', '▁전', '▁진짜', '▁연기', '▁마', '하는', '▁무', '▁모', '▁수', '▁여', '▁생', '▁잘', '▁주', '어요', '▁개', '▁않', '▁더', '▁최고', '▁평점', '▁인', '드라', '토리', '▁오', '▁제', '▁배', '▁이런', '이다', '습니다', '▁말', '하다', '드라마', '▁생각', '▁자', '▁ᄏᄏ', '▁왜', '들이', '▁같', '▁못', '▁스토리', '▁소', '▁남', '▁알', '▁본', '까지', '▁느', '▁유', '▁미', '▁일', '▁보고', '▁감동', '▁볼', '하게']\n"
     ]
    }
   ],
   "source": [
    "import sentencepiece as spm\n",
    "\n",
    "s = spm.SentencePieceProcessor()\n",
    "s.Load('korean_spm.model')  # load the pre-trained SentencePiece model\n",
    "print([s.IdToPiece(i) for i in range(100)])"
   ]
  },
  {
   "cell_type": "code",
   "execution_count": 57,
   "id": "6d11679b",
   "metadata": {},
   "outputs": [
    {
     "data": {
      "text/plain": [
       "[['▁아', '▁더빙', '▁진짜', '▁짜증나', '네요', '▁목소리'],\n",
       " ['▁흠',\n",
       "  '포스터',\n",
       "  '보고',\n",
       "  '▁초딩',\n",
       "  '영화',\n",
       "  '줄',\n",
       "  '오',\n",
       "  '버',\n",
       "  '연기',\n",
       "  '조차',\n",
       "  '▁가볍',\n",
       "  '지',\n",
       "  '▁않',\n",
       "  '구나'],\n",
       " ['▁너무', '재', '밓', '었다', '그래서', '보는', '것을', '추천', '한다']]"
      ]
     },
     "execution_count": 57,
     "metadata": {},
     "output_type": "execute_result"
    }
   ],
   "source": [
    "# 1. prefix로 parsing 어떻게 했나 확인하기\n",
    "\n",
    "def texts_to_pieces(sentences):\n",
    "    pieces = []\n",
    "    for sen  in sentences:\n",
    "        token_pieces = s.EncodeAsPieces(sen)\n",
    "        pieces.append(token_pieces)\n",
    "    return pieces\n",
    "\n",
    "texts_to_pieces(examples[:3])"
   ]
  },
  {
   "cell_type": "code",
   "execution_count": 58,
   "id": "6ee9fdae",
   "metadata": {},
   "outputs": [
    {
     "name": "stdout",
     "output_type": "stream",
     "text": [
      "[[6, 1019, 50, 2293, 35, 2010], [1521, 4986, 159, 1227, 3, 6658, 6519, 6626, 264, 1642, 1824, 6455, 63, 393], [21, 6483, 7955, 105, 3951, 397, 1170, 1757, 275]]\n",
      "['아 더빙 진짜 짜증나네요 목소리', '흠포스터보고 초딩영화줄오버연기조차 가볍지 않구나', '너무재밓었다그래서보는것을추천한다']\n"
     ]
    }
   ],
   "source": [
    "# 2. 인코딩, 디코딩해보기\n",
    "\n",
    "def encoded_decoded(sentences):\n",
    "    sequences = []\n",
    "    for sen in sentences:\n",
    "        token_ids = s.EncodeAsIds(sen)\n",
    "        sequences.append(token_ids)\n",
    "    \n",
    "    texts = []\n",
    "    for seq in sequences:\n",
    "        text_pieces = s.DecodeIds(seq)\n",
    "        texts.append(text_pieces)\n",
    "    return sequences, texts\n",
    "\n",
    "encoded_output, decoded_output = encoded_decoded(examples)\n",
    "print(encoded_output[:3])\n",
    "print(decoded_output[:3])"
   ]
  },
  {
   "cell_type": "code",
   "execution_count": 59,
   "id": "9a28e169",
   "metadata": {},
   "outputs": [
    {
     "name": "stdout",
     "output_type": "stream",
     "text": [
      "max_len: 140\n",
      "everage_len: 33.013999492424084\n"
     ]
    },
    {
     "data": {
      "text/plain": [
       "Text(0.5, 0, 'Number')"
      ]
     },
     "execution_count": 59,
     "metadata": {},
     "output_type": "execute_result"
    },
    {
     "data": {
      "image/png": "[encoded data removed]",
      "text/plain": [
       "<Figure size 432x288 with 1 Axes>"
      ]
     },
     "metadata": {},
     "output_type": "display_data"
    }
   ],
   "source": [
    "# 길이 분포 확인\n",
    "\n",
    "print('max_len:', max(len(l) for l in examples))\n",
    "print('everage_len:', sum(map(len,examples)) / len(examples))\n",
    "\n",
    "plt.hist([len(l) for l in examples], bins=50)\n",
    "plt.xlabel('Length')\n",
    "plt.xlabel('Number')"
   ]
  },
  {
   "cell_type": "code",
   "execution_count": 60,
   "id": "02c91f4c",
   "metadata": {},
   "outputs": [],
   "source": [
    "# 해당 길이 몇프로인지 확인하는 함수\n",
    "\n",
    "def below_threshold_len(max_len, nested_list):\n",
    "    count = 0\n",
    "    for sentence in nested_list:\n",
    "        if(len(sentence) <= max_len):\n",
    "            count = count + 1\n",
    "    print('전체 샘플 중 길이가 %s 이하인 샘플의 비율: %s'%(max_len, (count / len(nested_list)) * 100)) "
   ]
  },
  {
   "cell_type": "code",
   "execution_count": 61,
   "id": "2e5f1397",
   "metadata": {},
   "outputs": [
    {
     "name": "stdout",
     "output_type": "stream",
     "text": [
      "전체 샘플 중 길이가 120 이하인 샘플의 비율: 97.15894671138821\n"
     ]
    }
   ],
   "source": [
    "# max_len\n",
    "\n",
    "max_len = 120\n",
    "below_threshold_len(max_len, examples)"
   ]
  },
  {
   "cell_type": "code",
   "execution_count": 62,
   "id": "3b44dc13",
   "metadata": {},
   "outputs": [],
   "source": [
    "# 3. 단어사전 & 패딩하기\n",
    "\n",
    "def dictionary(sentences):\n",
    "    # 1. text_to_pieces 파싱\n",
    "    pieces = []\n",
    "    for sen in sentences:\n",
    "        token_pieces = s.EncodeAsPieces(sen)\n",
    "        pieces.append(token_pieces)\n",
    "    \n",
    "    # 2의 toatl_vocab 지정하기위해 전체 데이터셋을 한번 더 불러와 len셈.\n",
    "    with open(\"./korean_spm.vocab\", 'r') as f:\n",
    "        total_vocab = f.readlines()\n",
    "    \n",
    "    # 2. 단어사전 두가지 리스트 만들기\n",
    "    word_index = {}\n",
    "    index_word = {}\n",
    "\n",
    "    for idx, line in enumerate(total_vocab):\n",
    "        word = line.split(\"\\t\")[0]\n",
    "\n",
    "        word_index.update({word:idx})\n",
    "        index_word.update({idx:word})\n",
    "    \n",
    "    # 3. 패딩하기\n",
    "    tensor = []\n",
    "    for sen in sentences:\n",
    "        tensor.append(s.EncodeAsIds(sen))\n",
    "    tensor = tf.keras.preprocessing.sequence.pad_sequences(tensor, padding='post')\n",
    "    \n",
    "    return tensor, word_index, index_word\n",
    "\n",
    "tensor, word_index, index_word = dictionary(examples)"
   ]
  },
  {
   "cell_type": "code",
   "execution_count": 63,
   "id": "54fa7443",
   "metadata": {},
   "outputs": [
    {
     "name": "stdout",
     "output_type": "stream",
     "text": [
      "Model: \"sequential_4\"\n",
      "_________________________________________________________________\n",
      "Layer (type)                 Output Shape              Param #   \n",
      "=================================================================\n",
      "embedding_4 (Embedding)      (None, None, 100)         800000    \n",
      "_________________________________________________________________\n",
      "lstm_4 (LSTM)                (None, 128)               117248    \n",
      "_________________________________________________________________\n",
      "dense_4 (Dense)              (None, 1)                 129       \n",
      "=================================================================\n",
      "Total params: 917,377\n",
      "Trainable params: 917,377\n",
      "Non-trainable params: 0\n",
      "_________________________________________________________________\n",
      "Epoch 1/15\n",
      "1818/1818 [==============================] - 14s 7ms/step - loss: 0.4019 - acc: 0.8129 - val_loss: 0.3584 - val_acc: 0.8379\n",
      "Epoch 2/15\n",
      "1818/1818 [==============================] - 11s 6ms/step - loss: 0.3398 - acc: 0.8491 - val_loss: 0.3438 - val_acc: 0.8467\n",
      "Epoch 3/15\n",
      "1818/1818 [==============================] - 11s 6ms/step - loss: 0.3215 - acc: 0.8589 - val_loss: 0.3412 - val_acc: 0.8496\n",
      "Epoch 4/15\n",
      "1818/1818 [==============================] - 11s 6ms/step - loss: 0.3096 - acc: 0.8646 - val_loss: 0.3369 - val_acc: 0.8493\n",
      "Epoch 5/15\n",
      "1818/1818 [==============================] - 11s 6ms/step - loss: 0.2990 - acc: 0.8698 - val_loss: 0.3367 - val_acc: 0.8511\n",
      "Epoch 6/15\n",
      "1818/1818 [==============================] - 11s 6ms/step - loss: 0.2891 - acc: 0.8752 - val_loss: 0.3439 - val_acc: 0.8477\n",
      "Epoch 7/15\n",
      "1818/1818 [==============================] - 11s 6ms/step - loss: 0.2783 - acc: 0.8797 - val_loss: 0.3379 - val_acc: 0.8530\n",
      "Epoch 8/15\n",
      "1818/1818 [==============================] - 11s 6ms/step - loss: 0.2672 - acc: 0.8865 - val_loss: 0.3490 - val_acc: 0.8509\n",
      "1532/1532 [==============================] - 4s 2ms/step - loss: 0.3649 - acc: 0.8443\n",
      "Test accuracy: 0.8443106412887573\n"
     ]
    }
   ],
   "source": [
    "from keras.callbacks import EarlyStopping\n",
    "\n",
    "embedding_dim = 100\n",
    "hidden_units = 128\n",
    "vocab_size = 8000\n",
    "\n",
    "model = Sequential()\n",
    "model.add(Embedding(vocab_size,embedding_dim))\n",
    "model.add(LSTM(hidden_units))\n",
    "model.add(Dense(1, activation = 'sigmoid'))\n",
    "\n",
    "model.compile(optimizer='rmsprop',\n",
    "              loss = \"binary_crossentropy\",\n",
    "              metrics = ['acc'])\n",
    "model.summary()\n",
    "\n",
    "# Early stopping\n",
    "early_stop = EarlyStopping(monitor='val_loss', patience=3)\n",
    "\n",
    "# Fit\n",
    "history = model.fit(X_train, y_train, epochs=15, batch_size=64, validation_split=0.2, callbacks=[early_stop])\n",
    "\n",
    "# Evaluate\n",
    "test_loss, test_acc = model.evaluate(X_test, y_test)\n",
    "print('Test accuracy:', test_acc)"
   ]
  },
  {
   "cell_type": "code",
   "execution_count": 64,
   "id": "25919393",
   "metadata": {},
   "outputs": [
    {
     "data": {
      "image/png": "[encoded data removed]",
      "text/plain": [
       "<Figure size 432x288 with 1 Axes>"
      ]
     },
     "metadata": {},
     "output_type": "display_data"
    },
    {
     "data": {
      "image/png": "[encoded data removed]",
      "text/plain": [
       "<Figure size 432x288 with 1 Axes>"
      ]
     },
     "metadata": {},
     "output_type": "display_data"
    }
   ],
   "source": [
    "hist_dict = history.history\n",
    "loss = hist_dict['loss']\n",
    "val_loss = hist_dict['val_loss']\n",
    "acc = hist_dict['acc']\n",
    "val_acc = hist_dict['val_acc']\n",
    "\n",
    "plt.plot(loss,'b--', label = 'training loss')\n",
    "plt.plot(val_loss,'r--', label = 'validation loss')\n",
    "plt.legend()\n",
    "plt.grid()\n",
    "\n",
    "plt.figure()\n",
    "plt.plot(acc,'b--', label = 'training acc')\n",
    "plt.plot(val_acc,'r--', label = 'validation acc')\n",
    "plt.legend()\n",
    "plt.grid()"
   ]
  },
  {
   "cell_type": "code",
   "execution_count": null,
   "id": "545a4093",
   "metadata": {},
   "outputs": [],
   "source": []
  },
  {
   "cell_type": "code",
   "execution_count": null,
   "id": "79cf5e12",
   "metadata": {},
   "outputs": [],
   "source": []
  },
  {
   "cell_type": "code",
   "execution_count": null,
   "id": "abc03f6d",
   "metadata": {},
   "outputs": [],
   "source": []
  },
  {
   "cell_type": "markdown",
   "id": "c755b100",
   "metadata": {},
   "source": [
    "평가문항\t상세기준\n",
    "1. SentencePiece를 이용하여 모델을 만들기까지의 과정이 정상적으로 진행되었는가?\n",
    "\n",
    "코퍼스 분석, 전처리, SentencePiece 적용, 토크나이저 구현 및 동작이 빠짐없이 진행되었는가?\n",
    "2. SentencePiece를 통해 만든 Tokenizer가 자연어처리 모델과 결합하여 동작하는가?\n",
    "\n",
    "SentencePiece 토크나이저가 적용된 Text Classifier 모델이 정상적으로 수렴하여 80% 이상의 test accuracy가 확인되었다.\n",
    "3. SentencePiece의 성능을 다각도로 비교분석하였는가?\n",
    "\n",
    "SentencePiece 토크나이저를 활용했을 때의 성능을 다른 토크나이저 혹은 SentencePiece의 다른 옵션의 경우와 비교하여 분석을 체계적으로 진행하였다."
   ]
  },
  {
   "cell_type": "markdown",
   "id": "ececc85f",
   "metadata": {},
   "source": [
    "\n",
    "데이터는 97% 정도로 맞춰 자름"
   ]
  },
  {
   "cell_type": "markdown",
   "id": "52cb41c4",
   "metadata": {},
   "source": [
    "# 회고  \n",
    "## 1. mecab > Tokenizer  \n",
    "[['아', '더', '빙', '진짜', '짜증', '나', '네요', '목소리']  \n",
    "Test accuracy: 0.8602102398872375  \n",
    "## 2. okt > Tokenizer\n",
    "['아', '더빙', '진짜', '짜증나네요', '목소리'],  \n",
    "Test accuracy: 0.8399224281311035  \n",
    "## 3. Sentencepiece\n",
    "#### Unigram - Test accuracy: 0.8408204913139343\n",
    "[['▁아', '▁더빙', '▁진짜', '▁짜증나', '네요', '▁목소리'],  \n",
    " ['▁흠', '포스터', '보고', '▁초딩', '영화', '줄', '오', '버', '연기', '조차',\n",
    " '▁가볍지',  '▁않',  '구나'],  \n",
    " ['▁너무', '재', '밓', '었다', '그래서', '보는', '것을', '추천', '한다']]  \n",
    "#### BPE - Test accuracy: 0.840289831161499\n",
    "[['▁아', '▁더빙', '▁진짜', '▁짜증나', '네요', '▁목소리']  \n",
    "['▁흠', '포스터', '보고', '▁초딩', '영화', '줄', '오', '버', '연기', '조차', \n",
    "'▁가볍', '지', '▁않', '구나']  \n",
    "['▁너무', '재', '밓', '었다', '그래서', '보는', '것을', '추천', '한다']]\n",
    "#### Word - Test accuracy: 0.8443106412887573\n",
    "[['▁아', '▁더빙', '▁진짜', '▁짜증나', '네요', '▁목소리'],  \n",
    " ['▁흠', '포스터', '보고', '▁초딩', '영화', '줄', '오', '버', '연기', '조차', '▁가볍', '지', '▁않', '구나'],  \n",
    " ['▁너무', '재', '밓', '었다', '그래서', '보는', '것을', '추천', '한다']]\n",
    "\n",
    "데이터는 각각 정제 후 97% 수준이 되도록 끊었고, \n",
    "vocab size, layer conditions 등은 모두 동일하게 줬다.\n",
    "결과가 mecab이 sentencepiece 보다 좋게 나왔는데,\n",
    "예제 문장을 split 한 것을 보면 더빙을 더 빙으로 끊으면서 사실상 그렇게 자연스럽지 않아 결과에 의문이 남기는 한다. \n",
    "노드학습때에도 형태소 분석기 간의 결과를 보고 가장 한국어같이 끊어내던 mecab과 okt가 원픽이라 함께 해봤는데,\n",
    "<mark>사실 끊기는 okt가 훨씬 자연스러워도 test acc는 mecab이 더 좋았다.</mark>\n",
    "\n",
    "끊은 것이 자연스럽기로는 okt보다 sentencepiece가 훨씬 자연스럽다. 나중에 다른문장이 많아져도 조사정도를 따로 분리해뒀기 때문에 단어사전의 갯수가 폭발적으로 많아지는 것도 줄일 수 있을 것 같다.\n",
    "\n",
    "연산속도는 확실히 okt가 많이 느렸다..\n",
    "\n",
    "개인적으로 sentencepiece가  아주 재밌었다. 모드가 3개 있어서 각 모드별로 나눠지는 것을 함께 비교해볼 수 있어서 좋았다. 같은 데이터로 사전학습을 했는데도 조금씩 미세하게 달라지는 결과가 나왔다. <mark>세 모드 중에서는 word 모드가 제일 acc가 좋았다.</mark>\n",
    "처음 끌어오는 과정에서 파일명에 혼란이 있어 조금 꿈쩍거리긴 했는데, 결과를 뽑아보니 영화 데이터로 사전학습이 잘 되어있는 상태였다. 또 이상한 거에서 많은 시간을 보냈군.. "
   ]
  },
  {
   "cell_type": "markdown",
   "id": "35bc23a8",
   "metadata": {},
   "source": [
    "\n",
    "model_type=unigram\n",
    "['<unk>', '<s>', '</s>', '▁', '이', '▁영화', '의', '도', '가', '는', '을', '에', '고', '은', '다', '지', '한', '를', '▁너무', '▁이', '만', '▁정말', '로', '나', '게', '▁진짜', '영화', '과', '라', '기', '어', '으로', '하고', '인', '리', '서', '네', '▁그', '▁안', '▁잘', '아', '에서', '와', '▁다', '들', '▁왜', '요', '▁점', '▁수', '▁더', '하는', '▁이런', '해', '거', '네요', '▁아', '스', '자', '▁그냥', '면', '수', '▁드라마', '지만', '▁본', '음', '니', '▁보고', '시', '▁연기', '함', '야', '대', '▁내', '하', '사', '▁평점', '하게', '▁한', '▁영화를', '▁좀', '일', '하다', '이다', '▁개', '데', '미', '주', '진', '▁참', '▁봤는데', '는데', '▁ᄏᄏ', '구', '▁스토리', '우', '임', '▁못', '▁없는', '▁쓰레기', '보다']\n",
    "\n",
    "model_type=bpe,\n",
    "\n",
    "['<unk>', '<s>', '</s>', '영화', '▁영화', '▁이', '▁아', '▁그', '▁보', '▁재', 'ᄏᄏ', '▁정', '니다', '▁나', '는데', '너무', '▁다', '▁하', '▁좋', '▁없', '▁어', '▁너무', '▁사', '▁내', '▁진', '▁감', '▁연', '▁있', '▁재미', '▁지', '▁시', '으로', '지만', '하고', '▁한', '네요', '▁안', '▁최', '▁정말', '▁만', '▁스', '▁가', '▁점', '에서', '▁기', '▁대', '▁재밌', '▁봤', '▁평', '▁전', '▁진짜', '▁연기', '▁마', '하는', '▁무', '▁모', '▁수', '▁여', '▁생', '▁잘', '▁주', '어요', '▁개', '▁않', '▁더', '▁최고', '▁평점', '▁인', '드라', '토리', '▁오', '▁제', '▁배', '▁이런', '이다', '습니다', '▁말', '하다', '드라마', '▁생각', '▁자', '▁ᄏᄏ', '▁왜', '들이', '▁같', '▁못', '▁스토리', '▁소', '▁남', '▁알', '▁본', '까지', '▁느', '▁유', '▁미', '▁일', '▁보고', '▁감동', '▁볼', '하게']\n",
    "\n",
    "model_type=word,\n",
    "\n",
    "['<unk>', '<s>', '</s>', '영화', '▁영화', '▁이', '▁아', '▁그', '▁보', '▁재', 'ᄏᄏ', '▁정', '니다', '▁나', '는데', '너무', '▁다', '▁하', '▁좋', '▁없', '▁어', '▁너무', '▁사', '▁내', '▁진', '▁감', '▁연', '▁있', '▁재미', '▁지', '▁시', '으로', '지만', '하고', '▁한', '네요', '▁안', '▁최', '▁정말', '▁만', '▁스', '▁가', '▁점', '에서', '▁기', '▁대', '▁재밌', '▁봤', '▁평', '▁전', '▁진짜', '▁연기', '▁마', '하는', '▁무', '▁모', '▁수', '▁여', '▁생', '▁잘', '▁주', '어요', '▁개', '▁않', '▁더', '▁최고', '▁평점', '▁인', '드라', '토리', '▁오', '▁제', '▁배', '▁이런', '이다', '습니다', '▁말', '하다', '드라마', '▁생각', '▁자', '▁ᄏᄏ', '▁왜', '들이', '▁같', '▁못', '▁스토리', '▁소', '▁남', '▁알', '▁본', '까지', '▁느', '▁유', '▁미', '▁일', '▁보고', '▁감동', '▁볼', '하게']"
   ]
  }
 ],
 "metadata": {
  "kernelspec": {
   "display_name": "Python 3 (ipykernel)",
   "language": "python",
   "name": "python3"
  },
  "language_info": {
   "codemirror_mode": {
    "name": "ipython",
    "version": 3
   },
   "file_extension": ".py",
   "mimetype": "text/x-python",
   "name": "python",
   "nbconvert_exporter": "python",
   "pygments_lexer": "ipython3",
   "version": "3.9.7"
  }
 },
 "nbformat": 4,
 "nbformat_minor": 5
}
