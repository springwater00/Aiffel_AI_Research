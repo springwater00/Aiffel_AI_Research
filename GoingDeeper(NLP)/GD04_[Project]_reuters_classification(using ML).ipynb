{
 "cells": [
  {
   "cell_type": "markdown",
   "id": "1e996417",
   "metadata": {},
   "source": [
    "# 학습목표\n",
    "- 머신러닝을 이용한 텍스트 분류 (text Classification) 중 다중분류 수행하기\n",
    "- F1 score와 confusion matrix 출력해보기\n",
    "- 여러 머신러닝 모델에 대해서 성능 비교하기\n",
    "- 단어 수에 따른 성능 비교해보기"
   ]
  },
  {
   "cell_type": "markdown",
   "id": "f333f1ba",
   "metadata": {},
   "source": [
    "# 데이터 정보\n",
    "- 로이터 뉴스 데이터\n",
    "- 총 46개의 카테고리로 구분되며, 해당뉴스의 카테고리를 예측하기 위한 데이터\n",
    "- 이미 데이터가 sequence로 인코딩 되어있음.\n",
    "- 그래서 이미 빈도수가 높은 순으로 단어가 sort 되어있는 상태라 num_words 수만큼이 빈도수별로 끊김."
   ]
  },
  {
   "cell_type": "code",
   "execution_count": 1,
   "id": "bfea62d0",
   "metadata": {},
   "outputs": [],
   "source": [
    "from tensorflow.keras.datasets import reuters\n",
    "import matplotlib.pyplot as plt\n",
    "import seaborn as sns\n",
    "import numpy as np\n",
    "import pandas as pd\n",
    "import tensorflow as tf"
   ]
  },
  {
   "cell_type": "code",
   "execution_count": 2,
   "id": "8a2ed949",
   "metadata": {},
   "outputs": [],
   "source": [
    "# 데이터 불러오면서 데이터셋 나누기\n",
    "(x_train, y_train), (x_test, y_test) = reuters.load_data(num_words=10000, test_split=0.2)"
   ]
  },
  {
   "cell_type": "code",
   "execution_count": 3,
   "id": "4e8d669d",
   "metadata": {},
   "outputs": [
    {
     "name": "stdout",
     "output_type": "stream",
     "text": [
      "('northerly', None)\t30979\n",
      "('jung', None)\t30978\n",
      "('figueras', None)\t30977\n",
      "('capco', None)\t30976\n",
      "('recirculation', None)\t30975\n",
      "(\"guard's\", None)\t30974\n",
      "('odilon', None)\t30973\n",
      "('staalfabrieken', None)\t30972\n",
      "('corporacion', None)\t30971\n",
      "('clampdown', None)\t30970\n",
      "==============================\n",
      "('attendence', None)\t20988\n",
      "('19p', None)\t20987\n",
      "('teapa', None)\t20986\n",
      "('teape', None)\t20985\n",
      "('menswear', None)\t20984\n",
      "(\"centronic's\", None)\t20983\n",
      "('expropriated', None)\t20982\n",
      "('displays', None)\t20981\n",
      "('fractionation', None)\t20980\n",
      "('kemper', None)\t20979\n"
     ]
    }
   ],
   "source": [
    "word_index = reuters.get_word_index()\n",
    "word_freq = {k: (v, word_index.get(k)) for k, v in sorted(((v, k) for (k, v) in word_index.items()), reverse=True)}\n",
    "\n",
    "# 앞에서 top10위 단어들\n",
    "for i, (freq, idx) in enumerate(word_freq.items()):\n",
    "    if i == 10:\n",
    "        break\n",
    "    print(f\"{idx}\\t{freq}\")\n",
    "print(\"=\"*30)\n",
    "    \n",
    "# 뒤에서 10위 \n",
    "num_words = 10000\n",
    "for i, (freq, idx) in enumerate(word_freq.items()):\n",
    "    if i > num_words-10:\n",
    "        print(f\"{idx}\\t{freq}\")\n",
    "    if i == num_words:    \n",
    "        break"
   ]
  },
  {
   "cell_type": "code",
   "execution_count": 4,
   "id": "f7bd0cac",
   "metadata": {},
   "outputs": [
    {
     "name": "stdout",
     "output_type": "stream",
     "text": [
      "훈련 샘플의 수: 8982\n",
      "테스트 샘플의 수: 2246\n"
     ]
    }
   ],
   "source": [
    "print('훈련 샘플의 수: {}'.format(len(x_train)))\n",
    "print('테스트 샘플의 수: {}'.format(len(x_test)))"
   ]
  },
  {
   "cell_type": "code",
   "execution_count": 5,
   "id": "58476768",
   "metadata": {},
   "outputs": [
    {
     "name": "stdout",
     "output_type": "stream",
     "text": [
      "[1, 2, 2, 8, 43, 10, 447, 5, 25, 207, 270, 5, 3095, 111, 16, 369, 186, 90, 67, 7, 89, 5, 19, 102, 6, 19, 124, 15, 90, 67, 84, 22, 482, 26, 7, 48, 4, 49, 8, 864, 39, 209, 154, 6, 151, 6, 83, 11, 15, 22, 155, 11, 15, 7, 48, 9, 4579, 1005, 504, 6, 258, 6, 272, 11, 15, 22, 134, 44, 11, 15, 16, 8, 197, 1245, 90, 67, 52, 29, 209, 30, 32, 132, 6, 109, 15, 17, 12]\n",
      "[1, 4, 1378, 2025, 9, 697, 4622, 111, 8, 25, 109, 29, 3650, 11, 150, 244, 364, 33, 30, 30, 1398, 333, 6, 2, 159, 9, 1084, 363, 13, 2, 71, 9, 2, 71, 117, 4, 225, 78, 206, 10, 9, 1214, 8, 4, 270, 5, 2, 7, 748, 48, 9, 2, 7, 207, 1451, 966, 1864, 793, 97, 133, 336, 7, 4, 493, 98, 273, 104, 284, 25, 39, 338, 22, 905, 220, 3465, 644, 59, 20, 6, 119, 61, 11, 15, 58, 579, 26, 10, 67, 7, 4, 738, 98, 43, 88, 333, 722, 12, 20, 6, 19, 746, 35, 15, 10, 9, 1214, 855, 129, 783, 21, 4, 2280, 244, 364, 51, 16, 299, 452, 16, 515, 4, 99, 29, 5, 4, 364, 281, 48, 10, 9, 1214, 23, 644, 47, 20, 324, 27, 56, 2, 2, 5, 192, 510, 17, 12]\n",
      "3\n",
      "3\n"
     ]
    }
   ],
   "source": [
    "print(x_train[0])\n",
    "print(x_test[0])\n",
    "print(y_train[0])\n",
    "print(y_test[0])"
   ]
  },
  {
   "cell_type": "code",
   "execution_count": 6,
   "id": "6c0fa6a4",
   "metadata": {},
   "outputs": [
    {
     "name": "stdout",
     "output_type": "stream",
     "text": [
      "46\n",
      "46\n"
     ]
    }
   ],
   "source": [
    "# 총 카테고리 갯수 알아보기\n",
    "\n",
    "print(len(np.unique(y_train)))\n",
    "print(len(np.unique(y_test)))"
   ]
  },
  {
   "cell_type": "markdown",
   "id": "ac78e448",
   "metadata": {},
   "source": [
    "# 0. 데이터 분포 확인하기"
   ]
  },
  {
   "cell_type": "code",
   "execution_count": 7,
   "id": "1f29794d",
   "metadata": {},
   "outputs": [
    {
     "name": "stdout",
     "output_type": "stream",
     "text": [
      "훈련용 뉴스의 최대 길이 :2376\n",
      "훈련용 뉴스의 평균 길이 :145.5398574927633\n"
     ]
    },
    {
     "data": {
      "image/png": "[encoded data removed]",
      "text/plain": [
       "<Figure size 432x288 with 1 Axes>"
      ]
     },
     "metadata": {
      "needs_background": "light"
     },
     "output_type": "display_data"
    }
   ],
   "source": [
    "print('훈련용 뉴스의 최대 길이 :{}'.format(max(len(l) for l in x_train)))\n",
    "print('훈련용 뉴스의 평균 길이 :{}'.format(sum(map(len, x_train))/len(x_train)))\n",
    "\n",
    "plt.hist([len(s) for s in x_train], bins=50)\n",
    "plt.xlabel('length of samples')\n",
    "plt.ylabel('number of samples')\n",
    "plt.show()"
   ]
  },
  {
   "cell_type": "markdown",
   "id": "b3f17a18",
   "metadata": {},
   "source": [
    "길이가 가장 긴 뉴스의 길이는 2,376입니다. 평균 길이는 145구요. 아무래도 길이가 가장 긴 뉴스의 길이가 다른 뉴스에 비해 유독 긴 편인 것 같습니다. 시각화된 그래프의 분포로 봤을 때 500~1,000 사이의 길이를 가지는 뉴스도 일부 있어 보이죠?\n",
    "\n",
    "우리가 맞춰야 하는 클래스의 분포를 확인해볼까요? 모델의 성능에 영향을 줄 수 있는 요소이기 때문에 실제로 모든 클래스가 다 존재는 하는 것인지, 또 어떤 클래스가 유독 많은지와 같은 것들을 사전에 확인해 보아야 합니다."
   ]
  },
  {
   "cell_type": "code",
   "execution_count": 8,
   "id": "5873a367",
   "metadata": {},
   "outputs": [
    {
     "data": {
      "image/png": "[encoded data removed]",
      "text/plain": [
       "<Figure size 792x360 with 1 Axes>"
      ]
     },
     "metadata": {
      "needs_background": "light"
     },
     "output_type": "display_data"
    }
   ],
   "source": [
    "fig, axe = plt.subplots(ncols=1)\n",
    "fig.set_size_inches(11,5)\n",
    "sns.countplot(x=y_train)\n",
    "plt.show()"
   ]
  },
  {
   "cell_type": "markdown",
   "id": "12b5e472",
   "metadata": {},
   "source": [
    "이 뉴스 데이터는 3번, 4번 클래스가 대부분을 차지하고 있습니다. 그 뒤로는 19번, 16번, 1번, 11번 등이 높은 분포를 가지고 있네요. 시각화를 통해 어떤 클래스가 많고, 적은 것을 쉽게 확인할 수는 있었지만 수치적으로 정확히 몇 개인지도 출력해보겠습니다."
   ]
  },
  {
   "cell_type": "code",
   "execution_count": 9,
   "id": "1deb651f",
   "metadata": {},
   "outputs": [
    {
     "name": "stdout",
     "output_type": "stream",
     "text": [
      "각 클래스 빈도수:\n",
      "[[   0    1    2    3    4    5    6    7    8    9   10   11   12   13\n",
      "    14   15   16   17   18   19   20   21   22   23   24   25   26   27\n",
      "    28   29   30   31   32   33   34   35   36   37   38   39   40   41\n",
      "    42   43   44   45]\n",
      " [  55  432   74 3159 1949   17   48   16  139  101  124  390   49  172\n",
      "    26   20  444   39   66  549  269  100   15   41   62   92   24   15\n",
      "    48   19   45   39   32   11   50   10   49   19   19   24   36   30\n",
      "    13   21   12   18]]\n"
     ]
    }
   ],
   "source": [
    "unique_elements, counts_elements = np.unique(y_train, return_counts=True)\n",
    "print(\"각 클래스 빈도수:\")\n",
    "print(np.asarray((unique_elements, counts_elements)))"
   ]
  },
  {
   "cell_type": "markdown",
   "id": "69709e3b",
   "metadata": {},
   "source": [
    "3번, 4번 클래스의 경우에는 각각 3,159개와 1,949개가 존재합니다. 그 뒤로는 549개로 19번 클래스가 세 번째로 많고, 16번 클래스가 444개로 네 번째로 많네요. 이렇게 각 클래스가 몇 개가 존재하는지도 확인해 봤어요."
   ]
  },
  {
   "cell_type": "markdown",
   "id": "ce747df9",
   "metadata": {},
   "source": [
    "# 1. 데이터 굳이 텍스트 원본으로 복원하기\n",
    "\n",
    "이번에는 조금은 일반적이지 않은 전처리를 해볼 겁니다! 이 데이터는 이미 어느 정도 전처리가 되어서 각 단어가 정수 시퀀스로 변환된 채 제공되고 있다고 언급했었어요. 하지만 일반적인 상황이라면 텍스트를 숫자로 수치화하는 과정을 처음부터 해야 합니다.\n",
    "\n",
    "그래서 우리는 여기서 정수 시퀀스로 변환된 데이터를 '굳이' 다시 텍스트로 돌려보겠습니다.\n",
    "\n",
    "로이터 뉴스 데이터는 '단어'를 key값으로, 고유한 '정수'를 value로 가지는 dictionary를 제공합니다. 이를 word_index로 저장해보겠습니다."
   ]
  },
  {
   "cell_type": "code",
   "execution_count": 10,
   "id": "cb693832",
   "metadata": {},
   "outputs": [
    {
     "name": "stdout",
     "output_type": "stream",
     "text": [
      "1\n",
      "13\n"
     ]
    }
   ],
   "source": [
    "# word_index = reuters.get_word_index() # 위에서 했음\n",
    "print(word_index['the'])\n",
    "print(word_index['it'])"
   ]
  },
  {
   "cell_type": "markdown",
   "id": "cff8bee7",
   "metadata": {},
   "source": [
    "그런데 지금 우리가 해야 할 일은 현재 갖고 있는 정수 시퀀스로 되어 있는 데이터를 텍스트 형태로 되돌려야 하는 일이므로 사실 word_index보다는 정수로부터 단어를 얻을 수 있는 index_word가 필요합니다.\n",
    "\n",
    "그런데 이 데이터에는 숨겨진 비밀이 하나 있는데, 뉴스 데이터 안에서 단어 'the'는 사실 1번이 아니라 4번 단어입니다. 그리고 단어 'it'은 사실 13번 단어가 아니라 16번 단어입니다. 왜냐하면 0번, 1번, 2번은 사실 자연어 처리에 쓰이는 특별한 토큰들을 위해 맵핑된 번호이기 때문입니다. (각각 <pad>, <sos>, <unk>라는 토큰을 나타냅니다.)\n",
    "\n",
    "그렇기 때문에, 다른 단어들도 word_index의 결과로 나오는 숫자에 3을 더해주어야 단어가 실제로 맵핑된 인덱스 값이 나옵니다. 이건 로이터 뉴스 데이터가 정의한 일종의 약속입니다."
   ]
  },
  {
   "cell_type": "code",
   "execution_count": 11,
   "id": "40306afb",
   "metadata": {},
   "outputs": [],
   "source": [
    "index_to_word = { index+3 : word for word, index in word_index.items() }"
   ]
  },
  {
   "cell_type": "code",
   "execution_count": 12,
   "id": "da37710c",
   "metadata": {},
   "outputs": [
    {
     "name": "stdout",
     "output_type": "stream",
     "text": [
      "the\n",
      "it\n"
     ]
    }
   ],
   "source": [
    "print(index_to_word[4])   # 1+3\n",
    "print(index_to_word[16])  # 13+3"
   ]
  },
  {
   "cell_type": "markdown",
   "id": "12a5515b",
   "metadata": {},
   "source": [
    "위에서 0번, 1번, 2번 인덱스에는 각각 <pad>, <sos>, <unk>라는 특별한 토큰이 맵핑되어 있다고 했죠? 그래서 만들어진 index_to_word에 이 토큰들도 추가해주어야 진짜 index_to_word가 완성됩니다."
   ]
  },
  {
   "cell_type": "code",
   "execution_count": 13,
   "id": "2bdd9841",
   "metadata": {},
   "outputs": [],
   "source": [
    "# 위에 3씩 미뤄놓은 index_to_word 앞에 0,1,2 추가해주기\n",
    "\n",
    "for index, token in enumerate((\"<pad>\",\"<sos>\",\"<unk>\")):\n",
    "    index_to_word[index]=token    "
   ]
  },
  {
   "cell_type": "code",
   "execution_count": 14,
   "id": "f536cc80",
   "metadata": {},
   "outputs": [
    {
     "name": "stdout",
     "output_type": "stream",
     "text": [
      "<sos> <unk> <unk> said as a result of its december acquisition of space co it expects earnings per share in 1987 of 1 15 to 1 30 dlrs per share up from 70 cts in 1986 the company said pretax net should rise to nine to 10 mln dlrs from six mln dlrs in 1986 and rental operation revenues to 19 to 22 mln dlrs from 12 5 mln dlrs it said cash flow per share this year should be 2 50 to three dlrs reuter 3\n"
     ]
    }
   ],
   "source": [
    "# 첫번째 기사 복원하기\n",
    "\n",
    "print(' '.join([index_to_word[index] for index in x_train[0]]))"
   ]
  },
  {
   "cell_type": "markdown",
   "id": "8e1d9efc",
   "metadata": {},
   "source": [
    "첫 번째 훈련용 뉴스 기사가 정수 시퀀스에서 텍스트로 복원되었습니다. 이 데이터도 어느 정도 전처리가 된 상태라서, 자연스럽게 읽히지는 않습니다. 하지만 문맥을 가진 텍스트이기 때문에, 이 데이터를 가지고 머신러닝을 시작해도 별 무리는 없어 보입니다.\n",
    "\n",
    "복원된 첫 번째 훈련용 뉴스 기사에 특별 토큰인 <sos>와 <unk>가 보이는데, <sos>는 텍스트 분류를 위한 토큰이 아니므로 크게 신경을 쓰지 않아도 됩니다. 하지만 <unk>는 자연어 처리 전반에서 쓰이는 특별 토큰이므로 이에 대해서는 이해할 필요가 있습니다."
   ]
  },
  {
   "cell_type": "markdown",
   "id": "7e42c79e",
   "metadata": {},
   "source": [
    "## OOV 문제와 UNK 토큰\n",
    "기계가 알고 있는 단어들의 집합을 단어장(Vocabulary)이라고 합니다. 기계가 미처 배우지 못한 모르는 단어를 OOV(Out-Of-Vocabulary) 또는 UNK(Unknown) 이라고 표현합니다. 어떤 단어를 기계가 모르는 단어로 판단하면, 기계는 해당 단어를 전부 <unk>라는 일관된 특별 토큰으로 변환합니다.\n",
    "\n",
    "우리가 가장 맨 처음 사용했던 코드를 상기해 봅시다.\n",
    "\n",
    "(x_train, y_train), (x_test, y_test) = reuters.load_data(num_words=10000, test_split=0.2)\n",
    "    \n",
    "    \n",
    "num_words=10000는 정수 번호가 10,000이 넘는 단어들을 자동으로 \\<unk> 토큰으로 처리합니다. 로이터 뉴스 데이터에서 \\<unk>은 정수 2번을 가지도록 약속돼 있으므로 데이터를 로드하는 과정에서 정수 번호가 10,000이 넘는 단어들은 전부 정수 2로 변환되어서 로드가 되었던 것입니다."
   ]
  },
  {
   "cell_type": "markdown",
   "id": "b1b8f721",
   "metadata": {},
   "source": [
    "Q1. 로이터 뉴스 데이터 중 [4, 587, 23, 133, 6, 30, 515]인 정수 시퀀스가 있습니다. 현재 우리가 가진 index_word를 사용하여 이 정수 시퀀스를 텍스트 시퀀스로 변환해보세요."
   ]
  },
  {
   "cell_type": "code",
   "execution_count": 15,
   "id": "b2f14032",
   "metadata": {},
   "outputs": [
    {
     "name": "stdout",
     "output_type": "stream",
     "text": [
      "the transaction is expected to be completed\n"
     ]
    }
   ],
   "source": [
    "a = [4, 587, 23, 133, 6, 30, 515]\n",
    "print(' '.join([index_to_word[index] for index in a]))\n",
    "# print(' '.join([index_to_word[index] for index in x_train[0]]))"
   ]
  },
  {
   "cell_type": "markdown",
   "id": "6ad6eddd",
   "metadata": {},
   "source": [
    "Q2. 데이터를 로드하기 전 로이터 뉴스 데이터에는 다음과 같은 정수 시퀀스가 있었다고 해봅시다.\n",
    "[4, 12000, 23, 133, 6, 30, 515]\n",
    "이 데이터를 로드한 데이터에서 우리가 저 문장을 출력하면 다른 정수 시퀀스가 출력되는데요. 해당 정수 시퀀스를 추측해 보세요."
   ]
  },
  {
   "cell_type": "code",
   "execution_count": 16,
   "id": "e7f29fdd",
   "metadata": {},
   "outputs": [
    {
     "name": "stdout",
     "output_type": "stream",
     "text": [
      "in responsibilities cts under and will approval\n",
      "['in', 'responsibilities', 'cts', 'under', 'and', 'will', 'approval']\n"
     ]
    }
   ],
   "source": [
    "a = [4, 12000, 23, 133, 6, 30, 515]\n",
    "print(' '.join([index_to_word[index+3] for index in a]))\n",
    "print([index_to_word[index+3] for index in a])\n",
    "# 사실 12000은 num_words=10000에서 잘려 OOV가 되므로, <unk>=2로 매칭됨\n",
    "# 번역된 단어에도 해당단어는 OOV라 아예 출력이 안됨."
   ]
  },
  {
   "cell_type": "code",
   "execution_count": 17,
   "id": "b8e2c09a",
   "metadata": {},
   "outputs": [
    {
     "name": "stdout",
     "output_type": "stream",
     "text": [
      "x_train 데이터 갯수 : 8982\n"
     ]
    }
   ],
   "source": [
    "# 전체 train 데이터 복원하기\n",
    "\n",
    "decoded = []\n",
    "for i in range(len(x_train)):\n",
    "    t = ' '.join([index_to_word[index] for index in x_train[i]])\n",
    "    decoded.append(t)\n",
    "\n",
    "x_train = decoded\n",
    "print(\"x_train 데이터 갯수 :\",len(x_train))"
   ]
  },
  {
   "cell_type": "code",
   "execution_count": 18,
   "id": "28f43d88",
   "metadata": {},
   "outputs": [
    {
     "name": "stdout",
     "output_type": "stream",
     "text": [
      "x_test 데이터 갯수 : 2246\n"
     ]
    }
   ],
   "source": [
    "# 전체 test 데이터 복원하기\n",
    "\n",
    "decoded = []\n",
    "for i in range(len(x_test)):\n",
    "    t = ' '.join([index_to_word[index] for index in x_test[i]])\n",
    "    decoded.append(t)\n",
    "\n",
    "x_test = decoded\n",
    "print(\"x_test 데이터 갯수 :\",len(x_test))"
   ]
  },
  {
   "cell_type": "code",
   "execution_count": 19,
   "id": "89c15dbe",
   "metadata": {},
   "outputs": [
    {
     "name": "stdout",
     "output_type": "stream",
     "text": [
      "['<sos> <unk> <unk> said as a result of its december acquisition of space co it expects earnings per share in 1987 of 1 15 to 1 30 dlrs per share up from 70 cts in 1986 the company said pretax net should rise to nine to 10 mln dlrs from six mln dlrs in 1986 and rental operation revenues to 19 to 22 mln dlrs from 12 5 mln dlrs it said cash flow per share this year should be 2 50 to three dlrs reuter 3']\n",
      "==============================\n",
      "['<sos> the great atlantic and pacific tea co said its three year 345 mln dlr capital program will be be substantially increased to <unk> growth and expansion plans for <unk> inc and <unk> inc over the next two years a and p said the acquisition of <unk> in august 1986 and <unk> in december helped us achieve better than expected results in the fourth quarter ended february 28 its net income from continuing operations jumped 52 6 pct to 20 7 mln dlrs or 55 cts a share in the latest quarter as sales increased 48 3 pct to 1 58 billion dlrs a and p gave no details on the expanded capital program but it did say it completed the first year of the program during 1986 a and p is 52 4 pct owned by lt <unk> <unk> of west germany reuter 3']\n"
     ]
    }
   ],
   "source": [
    "print(x_train[:1])\n",
    "print(\"=\"*30)\n",
    "print(x_test[:1])"
   ]
  },
  {
   "cell_type": "markdown",
   "id": "7ff50fef",
   "metadata": {},
   "source": [
    "# 2. 벡터화 하기"
   ]
  },
  {
   "cell_type": "markdown",
   "id": "11da2445",
   "metadata": {},
   "source": [
    "텍스트 데이터가 있을 때, 모델의 입력으로 넣기 위해서는 우선 각 문서를 벡터화할 필요가 있습니다. 항상 그런 것은 아니지만, 일반적으로 텍스트 분류를 할 모델로 인공 신경망을 사용하는 경우, 벡터화 방법 또한 인공 신경망을 사용하는 것이 보편적입니다. Word Embedding, Document Embedding, Contextual Embedding 등의 다양한 벡터화 방법이 존재하는데요.\n",
    "\n",
    "이번 실습에서는 딥러닝이 아닌 머신러닝 방법을 사용하여 텍스트 분류를 진행할 예정이기 때문에 벡터화 방법도 인공 신경망이 아닌 방법을 사용하겠습니다. 저희가 사용할 벡터화 방법은 Bag of Words 가설을 기반으로 하는 DTM, TF-IDF 행렬입니다.\n",
    "\n",
    "Bag of Words 가설과 이를 통해 만드는 DTM에 대한 정의는 아래의 링크를 통해 알아보겠습니다."
   ]
  },
  {
   "cell_type": "markdown",
   "id": "a1a27b9b",
   "metadata": {},
   "source": [
    "Q3. (O/X 퀴즈) 총 3개의 문서가 있습니다. 단어 단위로 토크나이징을 하였을 때, 첫 번째 문서의 길이가 3, 두 번째 문서의 길이가 2, 세 번째 문서의 길이가 4로 나왔습니다. 이 세 개의 문서로부터 만든 DTM의 열의 개수는 9입니다. (O/X) \n",
    "- 모름. 9단어 중 중복이 있으면 더 적을 수 있음. 9개 이하가 정답."
   ]
  },
  {
   "cell_type": "markdown",
   "id": "fd00ab57",
   "metadata": {},
   "source": [
    "Q4. DTM을 기반으로 문서를 군집, 혹은 분류한다면 같은 단어가 많이 등장한 문서들일수록 그 유사도가 높다고 판단할 수 있습니다. 군집이나 분류 시에 이러한 가정을 사용한다면 성능을 저하시킬 수 있는 요소는 무엇일까요?\n",
    "- 불용어는 모든 문서에 자주 등장하지만 실제로 중요한 의미를 가지지는 않으므로 이러한 가정에서는 성능 저하의 원인이 될 수 있습니다."
   ]
  },
  {
   "cell_type": "code",
   "execution_count": 20,
   "id": "a638339a",
   "metadata": {},
   "outputs": [],
   "source": [
    "from sklearn.feature_extraction.text import CountVectorizer\n",
    "from sklearn.feature_extraction.text import TfidfTransformer"
   ]
  },
  {
   "cell_type": "markdown",
   "id": "7a8e93cf",
   "metadata": {},
   "source": [
    "Document Term Matrix, DTM은 사이킷런의 CountVectorizer()를 통해서 생성할 수 있습니다.\n",
    "\n",
    "DTM을 생성하고, DTM의 크기를 확인해보겠습니다."
   ]
  },
  {
   "cell_type": "code",
   "execution_count": 21,
   "id": "64d14338",
   "metadata": {},
   "outputs": [
    {
     "name": "stdout",
     "output_type": "stream",
     "text": [
      "(8982, 9670)\n"
     ]
    }
   ],
   "source": [
    "dtmvector = CountVectorizer()\n",
    "x_train_dtm = dtmvector.fit_transform(x_train)\n",
    "print(x_train_dtm.shape)"
   ]
  },
  {
   "cell_type": "markdown",
   "id": "c4330f18",
   "metadata": {},
   "source": [
    "훈련용 뉴스의 수가 총 8,982개였기 때문에 DTM의 행의 개수는 8,982개가 됩니다. 그런데 이상한 점은 앞에서 데이터를 로드할 때, num_words=10,000이라는 값을 사용했음에도 DTM 열의 개수는 이보다 현저하게 적은 9,670개밖에 되지 않습니다. 그 이유는 DTM이 자체적인 규칙에 따라서 불필요하다고 판단하는 토큰들을 제거하기 때문입니다.\n",
    "\n",
    "DTM 행렬을 이어서 TF-IDF 행렬을 만들어보겠습니다. TF-IDF 행렬은 퀴즈 4에서 알아본 DTM의 단점을 보정해 주는 효과를 가지고 있습니다. TF-IDF 행렬에 대한 설명은 아래의 글을 참고하겠습니다."
   ]
  },
  {
   "cell_type": "markdown",
   "id": "16b2bc21",
   "metadata": {},
   "source": [
    "Q5. (O/X 퀴즈) TF-IDF 행렬은 모든 문서에 걸쳐서 중요하다고 판단되는 단어에 가중치를 주는 효과를 가지고 있습니다. 만약, 모든 문서에 걸쳐서 자주 등장하는 단어라면 TF-IDF는 다른 단어들보다 상대적으로 높은 가중치를 주게 됩니다.\n",
    "- X. 모든 문서에 걸쳐서 자주 등장한다면 다른 단어들보다 중요도가 낮은 단어로 판단합니다."
   ]
  },
  {
   "cell_type": "markdown",
   "id": "dab5c5a1",
   "metadata": {},
   "source": [
    "TF-IDF Matrix는 사이킷런의 TfidfTransformer()를 통해서 생성할 수 있습니다. TF-IDF Matrix는 추가적인 전처리를 하지 않는 이상, DTM과 동일한 크기를 가집니다."
   ]
  },
  {
   "cell_type": "code",
   "execution_count": 22,
   "id": "df27f9d4",
   "metadata": {},
   "outputs": [
    {
     "name": "stdout",
     "output_type": "stream",
     "text": [
      "(8982, 9670)\n"
     ]
    }
   ],
   "source": [
    "tfidf_transformer = TfidfTransformer()\n",
    "tfidfv = tfidf_transformer.fit_transform(x_train_dtm)\n",
    "print(tfidfv.shape)"
   ]
  },
  {
   "cell_type": "markdown",
   "id": "99f167bb",
   "metadata": {},
   "source": [
    "# 3. 여러가지 분류기 써보기 (ML)"
   ]
  },
  {
   "cell_type": "code",
   "execution_count": 23,
   "id": "ed947e78",
   "metadata": {},
   "outputs": [],
   "source": [
    "from sklearn.naive_bayes import MultinomialNB #다항분포 나이브 베이즈 모델\n",
    "from sklearn.linear_model import LogisticRegression, SGDClassifier\n",
    "from sklearn.naive_bayes import ComplementNB\n",
    "from sklearn.tree import DecisionTreeClassifier\n",
    "from sklearn.ensemble import RandomForestClassifier\n",
    "from sklearn.ensemble import GradientBoostingClassifier\n",
    "from sklearn.ensemble import VotingClassifier\n",
    "from sklearn.svm import LinearSVC\n",
    "from sklearn.metrics import accuracy_score #정확도 계산"
   ]
  },
  {
   "cell_type": "markdown",
   "id": "baba5864",
   "metadata": {},
   "source": [
    ">## 1) 나이브 베이즈 분류기 (Multinomial Naive Bayes Classifier)\n",
    "\n",
    "나이브 베이즈 분류기는 사이킷런의 MultinomialNB()를 통해 사용할 수 있습니다.\n",
    "\n",
    "사이킷런이 제공하는 머신러닝 모델들은 공통적으로 fit()이라는 함수를 제공하고 있는데요. 훈련 데이터와 해당 훈련 데이터에 대한 레이블을 인자로 사용하면 모델이 이를 학습합니다."
   ]
  },
  {
   "cell_type": "code",
   "execution_count": 24,
   "id": "df1a4511",
   "metadata": {},
   "outputs": [
    {
     "data": {
      "text/plain": [
       "MultinomialNB()"
      ]
     },
     "execution_count": 24,
     "metadata": {},
     "output_type": "execute_result"
    }
   ],
   "source": [
    "# 모델 만들기\n",
    "model = MultinomialNB()\n",
    "model.fit(tfidfv, y_train) # tfidfv = x_train tdidf로 바꾼것"
   ]
  },
  {
   "cell_type": "markdown",
   "id": "867e419b",
   "metadata": {},
   "source": [
    "테스트 데이터에 대한 정확도를 측정하기 위해서는 훈련 데이터와 동일한 전처리를 거쳐야 합니다. 다시 말해 테스트 데이터도 TF-IDF 행렬로 변환해 주어야 합니다. 그 후 해당 행렬과 predict() 함수를 통해 예측값을 얻어 정확도를 측정합니다."
   ]
  },
  {
   "cell_type": "code",
   "execution_count": 25,
   "id": "5e5e762b",
   "metadata": {},
   "outputs": [
    {
     "name": "stdout",
     "output_type": "stream",
     "text": [
      "정확도: 0.6567230632235085\n"
     ]
    }
   ],
   "source": [
    "# test로 predict값 얻기\n",
    "x_test_dtm = dtmvector.transform(x_test) #테스트 데이터를 DTM으로 변환\n",
    "tfidfv_test = tfidf_transformer.transform(x_test_dtm) #DTM을 TF-IDF 행렬로 변환\n",
    "\n",
    "# predict와 y_test 얼마나 차이나는지 평가\n",
    "predicted = model.predict(tfidfv_test) #테스트 데이터에 대한 예측\n",
    "print(\"정확도:\", accuracy_score(y_test, predicted)) #예측값과 실제값 비교"
   ]
  },
  {
   "cell_type": "markdown",
   "id": "6d303e0d",
   "metadata": {},
   "source": [
    "약 66%의 정확도를 얻었습니다. 사실 그렇게 좋은 성능은 아닙니다. 뒤에서 다른 모델들을 통해서 더 좋은 성능을 얻기 위해서 노력해 봅시다.\n",
    "\n",
    "나이브 베이즈 분류기가 임의의 샘플에 대해서 클래스를 정확히 예측하는지 테스트를 해보겠습니다. 네 번째 샘플(인덱스 상으로는 3)의 원문을 출력하면 다음과 같습니다."
   ]
  },
  {
   "cell_type": "code",
   "execution_count": 26,
   "id": "5ab36255",
   "metadata": {},
   "outputs": [
    {
     "data": {
      "text/plain": [
       "'<sos> <unk> <unk> oil and gas partnership said it completed the sale of interests in two major oil and gas fields to lt energy assets international corp for 21 mln dlrs the company said it sold about one half of its 50 pct interest in the oak hill and north <unk> fields its two largest producing properties it said it used about 20 mln dlrs of the proceeds to <unk> principal on its senior secured notes semi annual principal payments on the remaining 40 mln dlrs of notes have been satisfied until december 1988 as a result it said the company said the note agreements were amended to reflect an easing of some financial covenants and an increase of interest to 13 5 pct from 13 0 pct until december 1990 it said the <unk> exercise price for 1 125 000 warrants was also reduced to 50 cts from 1 50 dlrs the company said energy assets agreed to share the costs of increasing production at the oak hill field reuter 3'"
      ]
     },
     "execution_count": 26,
     "metadata": {},
     "output_type": "execute_result"
    }
   ],
   "source": [
    "x_test[3]"
   ]
  },
  {
   "cell_type": "markdown",
   "id": "f9f4650c",
   "metadata": {},
   "source": [
    "이 샘플의 레이블은 몇이었을까요?"
   ]
  },
  {
   "cell_type": "code",
   "execution_count": 27,
   "id": "a3350154",
   "metadata": {},
   "outputs": [
    {
     "data": {
      "text/plain": [
       "4"
      ]
     },
     "execution_count": 27,
     "metadata": {},
     "output_type": "execute_result"
    }
   ],
   "source": [
    "y_test[3]"
   ]
  },
  {
   "cell_type": "markdown",
   "id": "6937a4b6",
   "metadata": {},
   "source": [
    "이 샘플의 레이블은 4네요. 과연 모델은 제대로 예측하고 있는지 그리고 어느 정도의 확신을 가지고 판단하는지 모델이 결정한 확률을 그래프로 시각화해봅시다."
   ]
  },
  {
   "cell_type": "code",
   "execution_count": 28,
   "id": "ac84062a",
   "metadata": {},
   "outputs": [
    {
     "data": {
      "image/png": "[encoded data removed]",
      "text/plain": [
       "<Figure size 792x360 with 1 Axes>"
      ]
     },
     "metadata": {
      "needs_background": "light"
     },
     "output_type": "display_data"
    }
   ],
   "source": [
    "probability_3 = model.predict_proba(tfidfv_test[3])[0]\n",
    "\n",
    "plt.rcParams[\"figure.figsize\"] = (11,5)\n",
    "plt.bar(model.classes_, probability_3)\n",
    "plt.xlim(-1, 21)\n",
    "plt.xticks(model.classes_)\n",
    "plt.xlabel(\"Class\")\n",
    "plt.ylabel(\"Probability\")\n",
    "plt.show()"
   ]
  },
  {
   "cell_type": "code",
   "execution_count": 29,
   "id": "a5a0ecef",
   "metadata": {},
   "outputs": [
    {
     "name": "stdout",
     "output_type": "stream",
     "text": [
      "<class 'numpy.ndarray'>\n",
      "(46,)\n",
      "index#: 4 value: 0.9003173006221439\n"
     ]
    }
   ],
   "source": [
    "print(type(probability_3))\n",
    "print(probability_3.shape)\n",
    "print(\"index#:\",probability_3.argmax(),\"value:\",probability_3[probability_3.argmax()])"
   ]
  },
  {
   "cell_type": "code",
   "execution_count": 30,
   "id": "7557d1a2",
   "metadata": {},
   "outputs": [
    {
     "data": {
      "text/plain": [
       "array([4])"
      ]
     },
     "execution_count": 30,
     "metadata": {},
     "output_type": "execute_result"
    }
   ],
   "source": [
    "model.predict(tfidfv_test[3])"
   ]
  },
  {
   "cell_type": "markdown",
   "id": "a9b8423a",
   "metadata": {},
   "source": [
    "모델은 4번 클래스를 약 90%의 확률로 확신하는데, 10%의 확률로 3번 클래스라고 판단합니다. 90%의 확률로 확신하므로 모델이 예측한 레이블은 4번입니다. 해당 샘플은 정확하게 예측했네요."
   ]
  },
  {
   "cell_type": "markdown",
   "id": "38aa8b41",
   "metadata": {},
   "source": [
    ">## (참고) 분류성능 평가지표 : F1-Score, Confusion Matrix, Accuracy\n",
    "\n",
    "label이 불균형하면 accuracy를 믿을 수가 없어짐. 찍을수도 있기 때문. 이럴때는 F1-Score를 봐야함."
   ]
  },
  {
   "cell_type": "code",
   "execution_count": 31,
   "id": "5b26252d",
   "metadata": {},
   "outputs": [],
   "source": [
    "from sklearn.metrics import classification_report\n",
    "from sklearn.metrics import confusion_matrix"
   ]
  },
  {
   "cell_type": "markdown",
   "id": "f064e5c8",
   "metadata": {},
   "source": [
    "사이킷런의 metrics 패키지에서는 정밀도, 재현율, F1점수를 구하는 classification_report() 함수를 제공합니다. 이 함수는 각각의 클래스를 양성(positive) 클래스로 보았을 때의 정밀도, 재현율, F1점수를 각각 구하고 그 평균값으로 전체 모델의 성능을 평가합니다."
   ]
  },
  {
   "cell_type": "code",
   "execution_count": 32,
   "id": "1969e387",
   "metadata": {},
   "outputs": [
    {
     "name": "stdout",
     "output_type": "stream",
     "text": [
      "              precision    recall  f1-score   support\n",
      "\n",
      "           0       0.00      0.00      0.00        12\n",
      "           1       0.62      0.69      0.65       105\n",
      "           2       0.00      0.00      0.00        20\n",
      "           3       0.81      0.90      0.85       813\n",
      "           4       0.51      0.96      0.67       474\n",
      "           5       0.00      0.00      0.00         5\n",
      "           6       0.00      0.00      0.00        14\n",
      "           7       0.00      0.00      0.00         3\n",
      "           8       0.00      0.00      0.00        38\n",
      "           9       1.00      0.08      0.15        25\n",
      "          10       0.00      0.00      0.00        30\n",
      "          11       0.66      0.63      0.64        83\n",
      "          12       0.00      0.00      0.00        13\n",
      "          13       1.00      0.03      0.05        37\n",
      "          14       0.00      0.00      0.00         2\n",
      "          15       0.00      0.00      0.00         9\n",
      "          16       0.69      0.56      0.61        99\n",
      "          17       0.00      0.00      0.00        12\n",
      "          18       0.00      0.00      0.00        20\n",
      "          19       0.60      0.78      0.68       133\n",
      "          20       1.00      0.04      0.08        70\n",
      "          21       0.00      0.00      0.00        27\n",
      "          22       0.00      0.00      0.00         7\n",
      "          23       0.00      0.00      0.00        12\n",
      "          24       0.00      0.00      0.00        19\n",
      "          25       1.00      0.03      0.06        31\n",
      "          26       0.00      0.00      0.00         8\n",
      "          27       0.00      0.00      0.00         4\n",
      "          28       0.00      0.00      0.00        10\n",
      "          29       0.00      0.00      0.00         4\n",
      "          30       0.00      0.00      0.00        12\n",
      "          31       0.00      0.00      0.00        13\n",
      "          32       0.00      0.00      0.00        10\n",
      "          33       0.00      0.00      0.00         5\n",
      "          34       0.00      0.00      0.00         7\n",
      "          35       0.00      0.00      0.00         6\n",
      "          36       0.00      0.00      0.00        11\n",
      "          37       0.00      0.00      0.00         2\n",
      "          38       0.00      0.00      0.00         3\n",
      "          39       0.00      0.00      0.00         5\n",
      "          40       0.00      0.00      0.00        10\n",
      "          41       0.00      0.00      0.00         8\n",
      "          42       0.00      0.00      0.00         3\n",
      "          43       0.00      0.00      0.00         6\n",
      "          44       0.00      0.00      0.00         5\n",
      "          45       0.00      0.00      0.00         1\n",
      "\n",
      "    accuracy                           0.66      2246\n",
      "   macro avg       0.17      0.10      0.10      2246\n",
      "weighted avg       0.59      0.66      0.58      2246\n",
      "\n"
     ]
    }
   ],
   "source": [
    "print(classification_report(y_test, model.predict(tfidfv_test), zero_division=0))"
   ]
  },
  {
   "cell_type": "markdown",
   "id": "a5d0a759",
   "metadata": {},
   "source": [
    "최종 결과에서 각각이 의미하는 바는 다음과 같습니다.\n",
    "\n",
    "- macro: 단순평균\n",
    "- weighted: 각 클래스에 속하는 표본의 개수로 가중평균\n",
    "- accuracy: 정확도. 전체 학습 데이터의 개수에서 클래스를 정확하게 맞춘 개수의 비율"
   ]
  },
  {
   "cell_type": "code",
   "execution_count": 33,
   "id": "6aa94986",
   "metadata": {},
   "outputs": [],
   "source": [
    "def graph_confusion_matrix(model, x_test, y_test):#, classes_name):\n",
    "    df_cm = pd.DataFrame(confusion_matrix(y_test, model.predict(x_test)))#, index=classes_name, columns=classes_name)\n",
    "    fig = plt.figure(figsize=(12,12))\n",
    "    heatmap = sns.heatmap(df_cm, annot=True, fmt=\"d\")\n",
    "    heatmap.yaxis.set_ticklabels(heatmap.yaxis.get_ticklabels(), rotation=0, ha='right', fontsize=12)\n",
    "    heatmap.xaxis.set_ticklabels(heatmap.xaxis.get_ticklabels(), rotation=45, ha='right', fontsize=12)\n",
    "    plt.ylabel('label')\n",
    "    plt.xlabel('predicted value')\n"
   ]
  },
  {
   "cell_type": "code",
   "execution_count": 34,
   "id": "15dc2cc3",
   "metadata": {},
   "outputs": [
    {
     "data": {
      "image/png": "[encoded data removed]",
      "text/plain": [
       "<Figure size 864x864 with 2 Axes>"
      ]
     },
     "metadata": {
      "needs_background": "light"
     },
     "output_type": "display_data"
    }
   ],
   "source": [
    "graph_confusion_matrix(model, tfidfv_test, y_test)"
   ]
  },
  {
   "cell_type": "markdown",
   "id": "4a8659d9",
   "metadata": {},
   "source": [
    ">## 2) 보완한 나이브 베이즈 분류기 Complement Naive Bayes Classifier(CNB)"
   ]
  },
  {
   "cell_type": "markdown",
   "id": "21d00b10",
   "metadata": {},
   "source": [
    "앞서 사용한 나이브 베이즈 분류기(MultinomialNB)로는 약 66%의 정확도밖에 얻지 못했습니다. 사실 클래스의 개수가 46개인 것을 감안해도 그리 좋은 성능은 아닙니다. 좀 더 좋은 성능을 얻기 위해서 여러 다른 모델들을 시도해 봅시다.\n",
    "\n",
    "나이브 베이지안 분류기는 독립 변수가 '조건부로 독립적'이라는 가정을 하기 때문에, 문서가 특정 분류에 속할 실제 확률을 사용할 때 문제가 발생할 수 있습니다. 예를 들어 많은 샘플(sample)이 특정 클래스에 치우쳐져 있을 경우, 결정 경계의 가중치가 한쪽으로 치우쳐져 모델이 특정 클래스를 선호할 수 있어요. 앞서 로이터 뉴스 데이터에서도 3번, 4번 클래스가 다른 클래스에 비해 상대적으로 많은 클래스를 갖고 있음을 확인했었죠.\n",
    "\n",
    "데이터가 불균형할 경우를 대비해 나이브 베이즈 분류기를 보완한 것이 컴플리먼트 나이브 베이즈 분류기입니다. 컴플리먼트 나이브 베이즈 분류기는 데이터의 불균형을 고려하여 가중치를 부여하는 특징을 가지고 있습니다. 따라서 컴플리먼트 나이브 베이즈 분류기는 나이브 베이즈 분류기(MultinomialNB)보다 성능이 일반적으로 더 좋습니다."
   ]
  },
  {
   "cell_type": "code",
   "execution_count": 35,
   "id": "09ac9543",
   "metadata": {},
   "outputs": [
    {
     "data": {
      "text/plain": [
       "ComplementNB()"
      ]
     },
     "execution_count": 35,
     "metadata": {},
     "output_type": "execute_result"
    }
   ],
   "source": [
    "cb = ComplementNB()\n",
    "cb.fit(tfidfv, y_train)"
   ]
  },
  {
   "cell_type": "code",
   "execution_count": 36,
   "id": "20f84b8d",
   "metadata": {},
   "outputs": [
    {
     "name": "stdout",
     "output_type": "stream",
     "text": [
      "정확도: 0.7707034728406055\n",
      "              precision    recall  f1-score   support\n",
      "\n",
      "           0       0.89      0.67      0.76        12\n",
      "           1       0.64      0.88      0.74       105\n",
      "           2       0.91      0.50      0.65        20\n",
      "           3       0.91      0.89      0.90       813\n",
      "           4       0.75      0.92      0.83       474\n",
      "           5       0.00      0.00      0.00         5\n",
      "           6       0.93      0.93      0.93        14\n",
      "           7       1.00      0.67      0.80         3\n",
      "           8       0.50      0.13      0.21        38\n",
      "           9       0.82      0.92      0.87        25\n",
      "          10       0.96      0.80      0.87        30\n",
      "          11       0.55      0.73      0.63        83\n",
      "          12       0.00      0.00      0.00        13\n",
      "          13       0.58      0.59      0.59        37\n",
      "          14       0.00      0.00      0.00         2\n",
      "          15       0.50      0.11      0.18         9\n",
      "          16       0.67      0.79      0.73        99\n",
      "          17       0.00      0.00      0.00        12\n",
      "          18       0.55      0.60      0.57        20\n",
      "          19       0.55      0.80      0.65       133\n",
      "          20       0.75      0.30      0.43        70\n",
      "          21       0.74      0.63      0.68        27\n",
      "          22       0.00      0.00      0.00         7\n",
      "          23       0.75      0.50      0.60        12\n",
      "          24       0.50      0.11      0.17        19\n",
      "          25       0.85      0.74      0.79        31\n",
      "          26       0.88      0.88      0.88         8\n",
      "          27       1.00      0.25      0.40         4\n",
      "          28       0.25      0.10      0.14        10\n",
      "          29       0.00      0.00      0.00         4\n",
      "          30       0.00      0.00      0.00        12\n",
      "          31       1.00      0.31      0.47        13\n",
      "          32       1.00      0.70      0.82        10\n",
      "          33       1.00      0.80      0.89         5\n",
      "          34       1.00      0.71      0.83         7\n",
      "          35       1.00      0.17      0.29         6\n",
      "          36       0.00      0.00      0.00        11\n",
      "          37       0.00      0.00      0.00         2\n",
      "          38       1.00      0.33      0.50         3\n",
      "          39       1.00      0.20      0.33         5\n",
      "          40       0.00      0.00      0.00        10\n",
      "          41       0.67      0.25      0.36         8\n",
      "          42       1.00      0.33      0.50         3\n",
      "          43       1.00      0.17      0.29         6\n",
      "          44       0.67      0.80      0.73         5\n",
      "          45       1.00      1.00      1.00         1\n",
      "\n",
      "    accuracy                           0.77      2246\n",
      "   macro avg       0.63      0.44      0.48      2246\n",
      "weighted avg       0.75      0.77      0.75      2246\n",
      "\n"
     ]
    }
   ],
   "source": [
    "predicted = cb.predict(tfidfv_test) #테스트 데이터에 대한 예측\n",
    "print(\"정확도:\", accuracy_score(y_test, predicted)) #예측값과 실제값 비교\n",
    "print(classification_report(y_test, cb.predict(tfidfv_test), zero_division=0))"
   ]
  },
  {
   "cell_type": "markdown",
   "id": "3bd776c2",
   "metadata": {},
   "source": [
    ">## 3) 로지스틱 회귀(Logistic Regression) = Softmax Regression\n",
    "\n",
    "softmax로 다중분류하는 알고리즘\n",
    "\n",
    "소프트맥스 함수는 클래스가 N개일 때, N차원의 벡터가 '각 클래스가 정답일 확률'을 표현하도록 정규화해주는 함수입니다. 예를 들어 위의 그림은 4차원의 벡터를 입력으로 받으면서 3개의 클래스를 가지는 경우의 소프트맥스 회귀의 동작 과정을 보여주고 있습니다. 3개의 클래스 중 1개의 클래스를 예측해야 하므로 소프트맥스 회귀의 출력은 3차원의 벡터고, 각 벡터의 차원은 특정 클래스일 확률입니다. 오차와 실제값의 차이를 줄이는 과정에서 가중치와 편향이 학습됩니다.\n",
    "\n",
    "사이킷런에서 소프트맥스 회귀는 LogisticRegression()을 통해서 구현할 수 있습니다."
   ]
  },
  {
   "cell_type": "code",
   "execution_count": 37,
   "id": "57ac2dd1",
   "metadata": {},
   "outputs": [
    {
     "data": {
      "text/plain": [
       "LogisticRegression(C=10000, max_iter=3000)"
      ]
     },
     "execution_count": 37,
     "metadata": {},
     "output_type": "execute_result"
    }
   ],
   "source": [
    "# 10분 정도 소요됩니다.\n",
    "lr = LogisticRegression(C=10000, penalty='l2', max_iter=3000)\n",
    "lr.fit(tfidfv, y_train)"
   ]
  },
  {
   "cell_type": "code",
   "execution_count": 38,
   "id": "4cc2fdf8",
   "metadata": {},
   "outputs": [
    {
     "name": "stdout",
     "output_type": "stream",
     "text": [
      "정확도: 0.8107747105966162\n",
      "              precision    recall  f1-score   support\n",
      "\n",
      "           0       0.89      0.67      0.76        12\n",
      "           1       0.74      0.78      0.76       105\n",
      "           2       0.70      0.70      0.70        20\n",
      "           3       0.91      0.93      0.92       813\n",
      "           4       0.80      0.87      0.84       474\n",
      "           5       1.00      0.20      0.33         5\n",
      "           6       0.93      0.93      0.93        14\n",
      "           7       1.00      0.33      0.50         3\n",
      "           8       0.68      0.71      0.69        38\n",
      "           9       0.81      0.88      0.85        25\n",
      "          10       0.93      0.87      0.90        30\n",
      "          11       0.67      0.72      0.70        83\n",
      "          12       0.62      0.38      0.48        13\n",
      "          13       0.65      0.59      0.62        37\n",
      "          14       0.67      1.00      0.80         2\n",
      "          15       0.80      0.44      0.57         9\n",
      "          16       0.71      0.77      0.74        99\n",
      "          17       0.80      0.67      0.73        12\n",
      "          18       0.81      0.65      0.72        20\n",
      "          19       0.69      0.71      0.70       133\n",
      "          20       0.60      0.49      0.54        70\n",
      "          21       0.71      0.81      0.76        27\n",
      "          22       1.00      0.14      0.25         7\n",
      "          23       0.64      0.75      0.69        12\n",
      "          24       0.62      0.53      0.57        19\n",
      "          25       0.88      0.68      0.76        31\n",
      "          26       1.00      0.88      0.93         8\n",
      "          27       1.00      0.25      0.40         4\n",
      "          28       0.57      0.40      0.47        10\n",
      "          29       0.50      0.75      0.60         4\n",
      "          30       1.00      0.58      0.74        12\n",
      "          31       0.78      0.54      0.64        13\n",
      "          32       1.00      0.80      0.89        10\n",
      "          33       0.80      0.80      0.80         5\n",
      "          34       0.80      0.57      0.67         7\n",
      "          35       1.00      0.33      0.50         6\n",
      "          36       0.45      0.45      0.45        11\n",
      "          37       0.50      0.50      0.50         2\n",
      "          38       0.50      0.33      0.40         3\n",
      "          39       0.50      0.40      0.44         5\n",
      "          40       0.75      0.30      0.43        10\n",
      "          41       0.75      0.38      0.50         8\n",
      "          42       1.00      0.67      0.80         3\n",
      "          43       0.86      1.00      0.92         6\n",
      "          44       1.00      0.80      0.89         5\n",
      "          45       1.00      1.00      1.00         1\n",
      "\n",
      "    accuracy                           0.81      2246\n",
      "   macro avg       0.78      0.63      0.67      2246\n",
      "weighted avg       0.81      0.81      0.81      2246\n",
      "\n"
     ]
    }
   ],
   "source": [
    "predicted = lr.predict(tfidfv_test) #테스트 데이터에 대한 예측\n",
    "print(\"정확도:\", accuracy_score(y_test, predicted)) #예측값과 실제값 비교\n",
    "print(classification_report(y_test, lr.predict(tfidfv_test), zero_division=0))"
   ]
  },
  {
   "cell_type": "markdown",
   "id": "8fb1505c",
   "metadata": {},
   "source": [
    ">## 4) Linear SVM (Linear Support Vector Machine)"
   ]
  },
  {
   "cell_type": "markdown",
   "id": "b0b1889c",
   "metadata": {},
   "source": [
    "많은 선형 분류 모델은 태생적으로는 이진 분류만을 지원하는 이진 분류 모델입니다. (위에서 설명한 로지스틱 회귀는 예외입니다.) 서포트 벡터 머신의 구현체인 사이킷런의 LinearSVC 또한 태생적으로는 이진 분류를 위한 모델입니다. 그런데 이진 분류 알고리즘을 다중 클래스 분류 알고리즘으로 사용하는 방법이 있습니다. 바로 일대다(one-vs.-rest 또는 one-vs.-all) 방법입니다. 일대다 방식은 각 클래스를 다른 모든 클래스와 구분하도록 이진 분류 모델을 학습시킵니다.\n",
    "\n",
    "결국 클래스의 수만큼 이진 분류 모델이 만들어집니다. 예측할 때는 만들어진 모든 이진 분류기가 작동하여 가장 높은 점수를 내는 분류기의 클래스를 예측값으로 선택합니다. 서포트 벡터 머신을 사용하여 로이터 뉴스를 분류해 봅시다."
   ]
  },
  {
   "cell_type": "code",
   "execution_count": 39,
   "id": "136b59a0",
   "metadata": {},
   "outputs": [
    {
     "name": "stderr",
     "output_type": "stream",
     "text": [
      "/opt/conda/lib/python3.9/site-packages/sklearn/svm/_base.py:1199: ConvergenceWarning: Liblinear failed to converge, increase the number of iterations.\n",
      "  warnings.warn(\n"
     ]
    },
    {
     "data": {
      "text/plain": [
       "LinearSVC(C=1000, dual=False, max_iter=3000, penalty='l1')"
      ]
     },
     "execution_count": 39,
     "metadata": {},
     "output_type": "execute_result"
    }
   ],
   "source": [
    "lsvc = LinearSVC(C=1000, penalty='l1', max_iter=3000, dual=False)\n",
    "lsvc.fit(tfidfv, y_train)"
   ]
  },
  {
   "cell_type": "code",
   "execution_count": 40,
   "id": "c11e1c28",
   "metadata": {},
   "outputs": [
    {
     "name": "stdout",
     "output_type": "stream",
     "text": [
      "정확도: 0.786286731967943\n",
      "              precision    recall  f1-score   support\n",
      "\n",
      "           0       0.80      0.67      0.73        12\n",
      "           1       0.73      0.72      0.73       105\n",
      "           2       0.70      0.70      0.70        20\n",
      "           3       0.91      0.91      0.91       813\n",
      "           4       0.81      0.84      0.82       474\n",
      "           5       0.00      0.00      0.00         5\n",
      "           6       0.75      0.86      0.80        14\n",
      "           7       1.00      0.67      0.80         3\n",
      "           8       0.60      0.66      0.62        38\n",
      "           9       0.78      0.84      0.81        25\n",
      "          10       0.83      0.83      0.83        30\n",
      "          11       0.67      0.77      0.72        83\n",
      "          12       0.50      0.38      0.43        13\n",
      "          13       0.54      0.59      0.56        37\n",
      "          14       1.00      1.00      1.00         2\n",
      "          15       0.60      0.33      0.43         9\n",
      "          16       0.65      0.71      0.68        99\n",
      "          17       0.75      0.50      0.60        12\n",
      "          18       0.75      0.60      0.67        20\n",
      "          19       0.62      0.65      0.63       133\n",
      "          20       0.52      0.47      0.49        70\n",
      "          21       0.62      0.78      0.69        27\n",
      "          22       0.50      0.14      0.22         7\n",
      "          23       0.60      0.75      0.67        12\n",
      "          24       0.75      0.47      0.58        19\n",
      "          25       0.91      0.65      0.75        31\n",
      "          26       0.88      0.88      0.88         8\n",
      "          27       0.67      0.50      0.57         4\n",
      "          28       0.57      0.40      0.47        10\n",
      "          29       0.38      0.75      0.50         4\n",
      "          30       0.75      0.50      0.60        12\n",
      "          31       0.75      0.69      0.72        13\n",
      "          32       1.00      0.90      0.95        10\n",
      "          33       0.83      1.00      0.91         5\n",
      "          34       0.67      0.57      0.62         7\n",
      "          35       0.67      0.33      0.44         6\n",
      "          36       0.71      0.45      0.56        11\n",
      "          37       0.50      0.50      0.50         2\n",
      "          38       1.00      0.33      0.50         3\n",
      "          39       0.75      0.60      0.67         5\n",
      "          40       0.40      0.20      0.27        10\n",
      "          41       0.71      0.62      0.67         8\n",
      "          42       1.00      0.33      0.50         3\n",
      "          43       0.75      1.00      0.86         6\n",
      "          44       1.00      0.80      0.89         5\n",
      "          45       0.50      1.00      0.67         1\n",
      "\n",
      "    accuracy                           0.79      2246\n",
      "   macro avg       0.70      0.63      0.64      2246\n",
      "weighted avg       0.79      0.79      0.78      2246\n",
      "\n"
     ]
    }
   ],
   "source": [
    "predicted = lsvc.predict(tfidfv_test) #테스트 데이터에 대한 예측\n",
    "print(\"정확도:\", accuracy_score(y_test, predicted)) #예측값과 실제값 비교\n",
    "print(classification_report(y_test, lsvc.predict(tfidfv_test), zero_division=0))"
   ]
  },
  {
   "cell_type": "markdown",
   "id": "426d9c7c",
   "metadata": {},
   "source": [
    ">## 5) Decision Tree\n",
    "\n",
    "결정 트리는 분류와 회귀 문제에 널리 사용하는 모델입니다. 기본적으로 결정 트리는 결정에 다다르기 위해 '예/아니오' 질문을 이어 나가면서 학습합니다. 이 질문은 스무고개 놀이의 질문과 비슷합니다. \n",
    "\n",
    "사이킷런에서는 DecisionTreeClassifier()를 사용해서 결정 트리를 구현할 수 있습니다. 결정 트리의 깊이는 max_depth라는 인자를 통해서 정해줄 수 있습니다."
   ]
  },
  {
   "cell_type": "code",
   "execution_count": 41,
   "id": "80077a00",
   "metadata": {},
   "outputs": [
    {
     "data": {
      "text/plain": [
       "DecisionTreeClassifier(max_depth=10, random_state=0)"
      ]
     },
     "execution_count": 41,
     "metadata": {},
     "output_type": "execute_result"
    }
   ],
   "source": [
    "tree = DecisionTreeClassifier(max_depth=10, random_state=0)\n",
    "tree.fit(tfidfv, y_train)"
   ]
  },
  {
   "cell_type": "code",
   "execution_count": 42,
   "id": "033e7b7d",
   "metadata": {},
   "outputs": [
    {
     "name": "stdout",
     "output_type": "stream",
     "text": [
      "정확도: 0.6202137132680321\n",
      "              precision    recall  f1-score   support\n",
      "\n",
      "           0       0.00      0.00      0.00        12\n",
      "           1       0.72      0.42      0.53       105\n",
      "           2       0.62      0.50      0.56        20\n",
      "           3       0.93      0.83      0.88       813\n",
      "           4       0.40      0.90      0.56       474\n",
      "           5       0.00      0.00      0.00         5\n",
      "           6       0.90      0.64      0.75        14\n",
      "           7       0.00      0.00      0.00         3\n",
      "           8       0.00      0.00      0.00        38\n",
      "           9       0.88      0.88      0.88        25\n",
      "          10       0.85      0.77      0.81        30\n",
      "          11       0.64      0.51      0.56        83\n",
      "          12       0.14      0.08      0.10        13\n",
      "          13       0.00      0.00      0.00        37\n",
      "          14       0.00      0.00      0.00         2\n",
      "          15       0.00      0.00      0.00         9\n",
      "          16       0.59      0.84      0.69        99\n",
      "          17       0.00      0.00      0.00        12\n",
      "          18       0.00      0.00      0.00        20\n",
      "          19       0.62      0.29      0.39       133\n",
      "          20       0.27      0.06      0.09        70\n",
      "          21       0.00      0.00      0.00        27\n",
      "          22       0.00      0.00      0.00         7\n",
      "          23       0.00      0.00      0.00        12\n",
      "          24       0.67      0.11      0.18        19\n",
      "          25       0.86      0.19      0.32        31\n",
      "          26       0.00      0.00      0.00         8\n",
      "          27       0.00      0.00      0.00         4\n",
      "          28       0.50      0.10      0.17        10\n",
      "          29       0.00      0.00      0.00         4\n",
      "          30       0.00      0.00      0.00        12\n",
      "          31       0.00      0.00      0.00        13\n",
      "          32       0.00      0.00      0.00        10\n",
      "          33       1.00      1.00      1.00         5\n",
      "          34       0.00      0.00      0.00         7\n",
      "          35       0.00      0.00      0.00         6\n",
      "          36       0.00      0.00      0.00        11\n",
      "          37       0.00      0.00      0.00         2\n",
      "          38       0.00      0.00      0.00         3\n",
      "          39       0.00      0.00      0.00         5\n",
      "          40       0.00      0.00      0.00        10\n",
      "          41       0.00      0.00      0.00         8\n",
      "          42       0.00      0.00      0.00         3\n",
      "          43       0.00      0.00      0.00         6\n",
      "          44       0.00      0.00      0.00         5\n",
      "          45       0.00      0.00      0.00         1\n",
      "\n",
      "    accuracy                           0.62      2246\n",
      "   macro avg       0.23      0.18      0.18      2246\n",
      "weighted avg       0.61      0.62      0.58      2246\n",
      "\n"
     ]
    }
   ],
   "source": [
    "predicted = tree.predict(tfidfv_test) #테스트 데이터에 대한 예측\n",
    "print(\"정확도:\", accuracy_score(y_test, predicted)) #예측값과 실제값 비교\n",
    "print(classification_report(y_test, tree.predict(tfidfv_test), zero_division=0))"
   ]
  },
  {
   "cell_type": "markdown",
   "id": "e308a890",
   "metadata": {},
   "source": [
    "지금까지의 모델 중 가장 낮은 정확도인 62%를 얻습니다. 사실 트리 계열의 모델들은 고차원이고 희소한 데이터에 대해서는 성능이 나오지 않는다는 특징이 있습니다. DTM이나 TF-IDF 행렬의 경우 고차원이면서 대부분의 값이 0인 희소한 데이터이므로 트리 계열의 모델보다는 선형 분류 모델을 통해 접근하는 것이 더 나은 접근일 수 있습니다."
   ]
  },
  {
   "cell_type": "markdown",
   "id": "d23da8eb",
   "metadata": {},
   "source": [
    ">## 6) Random Forest\n",
    "\n",
    "앙상블(Ensemble) 이란 여러 머신러닝 모델을 연결하여 더 강력한 모델을 만드는 기법입니다. 뒤에서 보팅(Voting)이라는 앙상블 기법을 알아볼 텐데, 모델 자체가 앙상블을 사용하는 앙상블 모델들도 존재합니다. 랜덤 포레스트와 그래디언트 부스팅 트리는 결정 트리를 사용하는 앙상블 모델입니다.\n",
    "\n",
    "결정 트리는 훈련 데이터에 과적합(Overfitting)되는 경향이 있습니다. 랜덤 포레스트는 이 문제를 앙상블로 해결합니다. 가령 서로 다른 방향으로 과적합된 트리들을 조합하면 오히려 모델 전체에서는 과적합을 피할 수 있다는 것이죠."
   ]
  },
  {
   "cell_type": "code",
   "execution_count": 43,
   "id": "31936b85",
   "metadata": {},
   "outputs": [
    {
     "data": {
      "text/plain": [
       "RandomForestClassifier(n_estimators=5, random_state=0)"
      ]
     },
     "execution_count": 43,
     "metadata": {},
     "output_type": "execute_result"
    }
   ],
   "source": [
    "forest = RandomForestClassifier(n_estimators=5, random_state=0)\n",
    "forest.fit(tfidfv, y_train)"
   ]
  },
  {
   "cell_type": "code",
   "execution_count": 44,
   "id": "fa1e3c18",
   "metadata": {},
   "outputs": [
    {
     "name": "stdout",
     "output_type": "stream",
     "text": [
      "정확도: 0.674087266251113\n",
      "              precision    recall  f1-score   support\n",
      "\n",
      "           0       0.22      0.33      0.27        12\n",
      "           1       0.45      0.77      0.57       105\n",
      "           2       0.30      0.30      0.30        20\n",
      "           3       0.82      0.90      0.86       813\n",
      "           4       0.61      0.83      0.70       474\n",
      "           5       0.00      0.00      0.00         5\n",
      "           6       0.67      0.43      0.52        14\n",
      "           7       0.50      0.33      0.40         3\n",
      "           8       0.67      0.53      0.59        38\n",
      "           9       0.70      0.28      0.40        25\n",
      "          10       0.75      0.30      0.43        30\n",
      "          11       0.55      0.59      0.57        83\n",
      "          12       0.40      0.15      0.22        13\n",
      "          13       0.37      0.19      0.25        37\n",
      "          14       0.00      0.00      0.00         2\n",
      "          15       0.00      0.00      0.00         9\n",
      "          16       0.59      0.59      0.59        99\n",
      "          17       0.00      0.00      0.00        12\n",
      "          18       0.50      0.25      0.33        20\n",
      "          19       0.69      0.54      0.61       133\n",
      "          20       0.57      0.29      0.38        70\n",
      "          21       0.67      0.30      0.41        27\n",
      "          22       0.00      0.00      0.00         7\n",
      "          23       0.00      0.00      0.00        12\n",
      "          24       0.67      0.11      0.18        19\n",
      "          25       1.00      0.32      0.49        31\n",
      "          26       1.00      0.25      0.40         8\n",
      "          27       0.00      0.00      0.00         4\n",
      "          28       0.00      0.00      0.00        10\n",
      "          29       0.00      0.00      0.00         4\n",
      "          30       0.50      0.08      0.14        12\n",
      "          31       0.67      0.15      0.25        13\n",
      "          32       0.67      0.20      0.31        10\n",
      "          33       1.00      0.60      0.75         5\n",
      "          34       0.50      0.14      0.22         7\n",
      "          35       1.00      0.17      0.29         6\n",
      "          36       0.33      0.09      0.14        11\n",
      "          37       0.00      0.00      0.00         2\n",
      "          38       0.00      0.00      0.00         3\n",
      "          39       0.00      0.00      0.00         5\n",
      "          40       1.00      0.20      0.33        10\n",
      "          41       0.00      0.00      0.00         8\n",
      "          42       0.00      0.00      0.00         3\n",
      "          43       0.67      0.33      0.44         6\n",
      "          44       1.00      0.80      0.89         5\n",
      "          45       1.00      1.00      1.00         1\n",
      "\n",
      "    accuracy                           0.67      2246\n",
      "   macro avg       0.46      0.27      0.31      2246\n",
      "weighted avg       0.66      0.67      0.64      2246\n",
      "\n"
     ]
    }
   ],
   "source": [
    "predicted = forest.predict(tfidfv_test) #테스트 데이터에 대한 예측\n",
    "print(\"정확도:\", accuracy_score(y_test, predicted)) #예측값과 실제값 비교\n",
    "print(classification_report(y_test, forest.predict(tfidfv_test), zero_division=0))"
   ]
  },
  {
   "cell_type": "markdown",
   "id": "ebfbbcc2",
   "metadata": {},
   "source": [
    ">## 7) Gradient Boosting Classifier"
   ]
  },
  {
   "cell_type": "markdown",
   "id": "1feb9432",
   "metadata": {},
   "source": [
    "그래디언트 부스팅 트리는 여러 개의 결정 트리를 묶어 만드는 앙상블 모델입니다. 그레디언트 부스팅은 랜덤 포레스트와 다르게 이전 트리의 오차를 보완하는 방식으로 순차적으로 트리를 만듭니다.\n",
    "\n",
    "그래디언트 부스팅 트리는 일부 특성을 무시한다는 특징을 가지고 있습니다. 그래서 보통 랜덤 포레스트를 먼저 사용해보고, 성능이나 예측 시간 면에서 만족스럽지 않은 경우에 그래디언트 부스팅 트리를 시도해보는 것이 좋습니다.\n",
    "\n",
    "일반적으로 1 ~ 5 정도의 깊지 않은 트리를 사용하므로 메모리도 적게 사용하고 예측도 빠릅니다.\n",
    "\n",
    "정확도도 준수하고, 특히 예측 속도가 빠르다는 점에서 데이터 경진 대회에서 많은 우승을 했던 모델입니다. 다만, 훈련 시간의 속도가 좀 오래 걸리고, 트리 기반 모델의 특성으로 인해서 희소한 고차원 데이터에 대해서는 잘 동작하지 않는다는 단점이 있습니다.\n",
    "\n",
    "현재 우리가 사용하는 TF-IDF 행렬은 희소하고 고차원 데이터지만, 결정 트리나 랜덤 포레스트보다 더 높은 성능을 얻을 수 있을지 한번 테스트해 볼까요?\n",
    "\n",
    "저는 아래 코드 실행에 약 12분 정도 소요되었습니다. verbose=3을 GradientBoostingClassifier안에 인자로 넣어 진행 상황을 확인할 수 있으니 참고해 주세요!"
   ]
  },
  {
   "cell_type": "code",
   "execution_count": 45,
   "id": "6fdd0308",
   "metadata": {},
   "outputs": [
    {
     "data": {
      "text/plain": [
       "GradientBoostingClassifier(random_state=0)"
      ]
     },
     "execution_count": 45,
     "metadata": {},
     "output_type": "execute_result"
    }
   ],
   "source": [
    "# 15분 정도 소요될 수 있습니다.\n",
    "grbt = GradientBoostingClassifier(random_state=0) # verbose=3\n",
    "grbt.fit(tfidfv, y_train)"
   ]
  },
  {
   "cell_type": "code",
   "execution_count": 46,
   "id": "c7522ff2",
   "metadata": {},
   "outputs": [
    {
     "name": "stdout",
     "output_type": "stream",
     "text": [
      "정확도: 0.7662511130899377\n",
      "              precision    recall  f1-score   support\n",
      "\n",
      "           0       0.82      0.75      0.78        12\n",
      "           1       0.77      0.68      0.72       105\n",
      "           2       0.78      0.70      0.74        20\n",
      "           3       0.88      0.91      0.89       813\n",
      "           4       0.76      0.83      0.79       474\n",
      "           5       0.50      0.20      0.29         5\n",
      "           6       0.80      0.86      0.83        14\n",
      "           7       1.00      0.33      0.50         3\n",
      "           8       0.64      0.66      0.65        38\n",
      "           9       0.74      0.80      0.77        25\n",
      "          10       0.90      0.87      0.88        30\n",
      "          11       0.62      0.64      0.63        83\n",
      "          12       0.33      0.46      0.39        13\n",
      "          13       0.62      0.49      0.55        37\n",
      "          14       0.14      0.50      0.22         2\n",
      "          15       0.38      0.33      0.35         9\n",
      "          16       0.73      0.73      0.73        99\n",
      "          17       0.27      0.25      0.26        12\n",
      "          18       0.59      0.50      0.54        20\n",
      "          19       0.68      0.65      0.66       133\n",
      "          20       0.67      0.46      0.54        70\n",
      "          21       0.69      0.74      0.71        27\n",
      "          22       1.00      0.14      0.25         7\n",
      "          23       0.54      0.58      0.56        12\n",
      "          24       0.61      0.58      0.59        19\n",
      "          25       0.89      0.55      0.68        31\n",
      "          26       0.75      0.75      0.75         8\n",
      "          27       0.50      0.50      0.50         4\n",
      "          28       0.38      0.30      0.33        10\n",
      "          29       0.23      0.75      0.35         4\n",
      "          30       0.45      0.42      0.43        12\n",
      "          31       0.62      0.38      0.48        13\n",
      "          32       1.00      0.90      0.95        10\n",
      "          33       0.75      0.60      0.67         5\n",
      "          34       0.67      0.29      0.40         7\n",
      "          35       0.80      0.67      0.73         6\n",
      "          36       0.62      0.45      0.53        11\n",
      "          37       0.67      1.00      0.80         2\n",
      "          38       0.33      0.33      0.33         3\n",
      "          39       0.40      0.40      0.40         5\n",
      "          40       0.40      0.20      0.27        10\n",
      "          41       0.56      0.62      0.59         8\n",
      "          42       0.67      0.67      0.67         3\n",
      "          43       0.67      0.67      0.67         6\n",
      "          44       0.67      0.80      0.73         5\n",
      "          45       0.33      1.00      0.50         1\n",
      "\n",
      "    accuracy                           0.77      2246\n",
      "   macro avg       0.63      0.58      0.58      2246\n",
      "weighted avg       0.77      0.77      0.76      2246\n",
      "\n"
     ]
    }
   ],
   "source": [
    "predicted = grbt.predict(tfidfv_test) #테스트 데이터에 대한 예측\n",
    "print(\"정확도:\", accuracy_score(y_test, predicted)) #예측값과 실제값 비교\n",
    "print(classification_report(y_test, grbt.predict(tfidfv_test), zero_division=0))"
   ]
  },
  {
   "cell_type": "markdown",
   "id": "9c8da73f",
   "metadata": {},
   "source": [
    ">## 8) Voting\n",
    "\n",
    "사용한 ML 모델들을 유권자라고 하고, 각각의 답을 적어내서 최종 답을 뽑는것.\n",
    "- 하드보팅 : 각 ML 모델들에게 투표용지를 한 장씩 줘서 투표하는 것. 모두 자신이 뽑아낸 predicted label (여기선 다중분류이니깐)이 카테고리 숫자를 써내고, 그중에 가장 많은 표를 받은 것이 답이됨.\n",
    "- 소프트보팅 : 각 모델이 라벨을 계산하게 된 근거, 즉 그럴 확률이 다들 있음. predicted_proba 함수를 통해 최종 결과가 나올 확률값을 다 더하고, 최종 결과물에 대한 각각의 확률을 구한 뒤에 최종값을 도출함."
   ]
  },
  {
   "cell_type": "markdown",
   "id": "f0ee2620",
   "metadata": {},
   "source": [
    "이전에 사용했던 세 가지 모델인 로지스틱 회귀, CNB, 그래디언트 부스팅 트리를 사용하여 소프트 보팅을 하였을 때의 성능을 비교해 봅시다."
   ]
  },
  {
   "cell_type": "code",
   "execution_count": 47,
   "id": "103a2bbf",
   "metadata": {},
   "outputs": [
    {
     "data": {
      "text/plain": [
       "VotingClassifier(estimators=[('lr', LogisticRegression(C=10000, max_iter=3000)),\n",
       "                             ('cb', ComplementNB()),\n",
       "                             ('grbt',\n",
       "                              GradientBoostingClassifier(random_state=0))],\n",
       "                 voting='soft')"
      ]
     },
     "execution_count": 47,
     "metadata": {},
     "output_type": "execute_result"
    }
   ],
   "source": [
    "# 20분 이상 소요될 수 있습니다.\n",
    "voting_classifier = VotingClassifier(estimators=[\n",
    "         ('lr', LogisticRegression(C=10000, max_iter=3000, penalty='l2')),\n",
    "        ('cb', ComplementNB()),\n",
    "        ('grbt', GradientBoostingClassifier(random_state=0))\n",
    "], voting='soft')\n",
    "voting_classifier.fit(tfidfv, y_train)"
   ]
  },
  {
   "cell_type": "code",
   "execution_count": 48,
   "id": "8aa8d801",
   "metadata": {},
   "outputs": [
    {
     "name": "stdout",
     "output_type": "stream",
     "text": [
      "정확도: 0.8165627782724845\n",
      "              precision    recall  f1-score   support\n",
      "\n",
      "           0       0.90      0.75      0.82        12\n",
      "           1       0.78      0.77      0.78       105\n",
      "           2       0.80      0.80      0.80        20\n",
      "           3       0.92      0.94      0.93       813\n",
      "           4       0.82      0.87      0.85       474\n",
      "           5       1.00      0.20      0.33         5\n",
      "           6       0.86      0.86      0.86        14\n",
      "           7       1.00      0.33      0.50         3\n",
      "           8       0.68      0.68      0.68        38\n",
      "           9       0.81      0.84      0.82        25\n",
      "          10       0.96      0.90      0.93        30\n",
      "          11       0.68      0.70      0.69        83\n",
      "          12       0.46      0.46      0.46        13\n",
      "          13       0.69      0.65      0.67        37\n",
      "          14       0.14      0.50      0.22         2\n",
      "          15       0.57      0.44      0.50         9\n",
      "          16       0.73      0.75      0.74        99\n",
      "          17       0.53      0.67      0.59        12\n",
      "          18       0.81      0.65      0.72        20\n",
      "          19       0.71      0.72      0.72       133\n",
      "          20       0.66      0.53      0.59        70\n",
      "          21       0.73      0.81      0.77        27\n",
      "          22       1.00      0.14      0.25         7\n",
      "          23       0.60      0.75      0.67        12\n",
      "          24       0.67      0.63      0.65        19\n",
      "          25       0.88      0.68      0.76        31\n",
      "          26       0.88      0.88      0.88         8\n",
      "          27       0.67      0.50      0.57         4\n",
      "          28       0.38      0.30      0.33        10\n",
      "          29       0.33      0.75      0.46         4\n",
      "          30       0.67      0.50      0.57        12\n",
      "          31       0.78      0.54      0.64        13\n",
      "          32       1.00      1.00      1.00        10\n",
      "          33       0.80      0.80      0.80         5\n",
      "          34       0.75      0.43      0.55         7\n",
      "          35       1.00      0.67      0.80         6\n",
      "          36       0.67      0.55      0.60        11\n",
      "          37       0.67      1.00      0.80         2\n",
      "          38       0.50      0.33      0.40         3\n",
      "          39       1.00      0.40      0.57         5\n",
      "          40       0.75      0.30      0.43        10\n",
      "          41       0.80      0.50      0.62         8\n",
      "          42       0.67      0.67      0.67         3\n",
      "          43       0.71      0.83      0.77         6\n",
      "          44       0.67      0.80      0.73         5\n",
      "          45       0.33      1.00      0.50         1\n",
      "\n",
      "    accuracy                           0.82      2246\n",
      "   macro avg       0.73      0.65      0.65      2246\n",
      "weighted avg       0.82      0.82      0.81      2246\n",
      "\n"
     ]
    }
   ],
   "source": [
    "predicted = voting_classifier.predict(tfidfv_test) #테스트 데이터에 대한 예측\n",
    "print(\"정확도:\", accuracy_score(y_test, predicted)) #예측값과 실제값 비교\n",
    "print(classification_report(y_test, voting_classifier.predict(tfidfv_test), zero_division=0))"
   ]
  },
  {
   "cell_type": "markdown",
   "id": "36cdf831",
   "metadata": {},
   "source": [
    "# 빈도수 상위 5000개의 단어만 사용하기"
   ]
  },
  {
   "cell_type": "code",
   "execution_count": 49,
   "id": "413ea9e0",
   "metadata": {},
   "outputs": [
    {
     "name": "stdout",
     "output_type": "stream",
     "text": [
      "x_train 데이터 갯수 : 8982\n",
      "x_test 데이터 갯수 : 2246\n"
     ]
    }
   ],
   "source": [
    "# 데이터 불러오기\n",
    "(x_train, y_train), (x_test, y_test) = reuters.load_data(num_words=5000, test_split=0.2)\n",
    "\n",
    "# 데이터 복원\n",
    "word_index = reuters.get_word_index()\n",
    "index_to_word = { index+3 : word for word, index in word_index.items() }\n",
    "for index, token in enumerate((\"<pad>\",\"<sos>\",\"<unk>\")):\n",
    "    index_to_word[index]=token   \n",
    "\n",
    "decoded = []\n",
    "for i in range(len(x_train)):\n",
    "    t = ' '.join([index_to_word[index] for index in x_train[i]])\n",
    "    decoded.append(t)\n",
    "x_train = decoded\n",
    "print(\"x_train 데이터 갯수 :\",len(x_train))\n",
    "\n",
    "decoded = []\n",
    "for i in range(len(x_test)):\n",
    "    t = ' '.join([index_to_word[index] for index in x_test[i]])\n",
    "    decoded.append(t)\n",
    "x_test = decoded\n",
    "print(\"x_test 데이터 갯수 :\",len(x_test))\n",
    "\n",
    "# train 벡터화 (DTM)\n",
    "dtmvector = CountVectorizer()\n",
    "x_train_dtm = dtmvector.fit_transform(x_train)\n",
    "tfidf_transformer = TfidfTransformer()\n",
    "tfidfv = tfidf_transformer.fit_transform(x_train_dtm)"
   ]
  },
  {
   "cell_type": "code",
   "execution_count": 50,
   "id": "9a155608",
   "metadata": {},
   "outputs": [
    {
     "name": "stdout",
     "output_type": "stream",
     "text": [
      "NB 정확도: 0.6731967943009796\n",
      "              precision    recall  f1-score   support\n",
      "\n",
      "           0       0.00      0.00      0.00        12\n",
      "           1       0.50      0.80      0.62       105\n",
      "           2       0.00      0.00      0.00        20\n",
      "           3       0.86      0.89      0.87       813\n",
      "           4       0.59      0.95      0.73       474\n",
      "           5       0.00      0.00      0.00         5\n",
      "           6       0.00      0.00      0.00        14\n",
      "           7       0.00      0.00      0.00         3\n",
      "           8       0.00      0.00      0.00        38\n",
      "           9       1.00      0.28      0.44        25\n",
      "          10       0.00      0.00      0.00        30\n",
      "          11       0.48      0.73      0.58        83\n",
      "          12       0.00      0.00      0.00        13\n",
      "          13       1.00      0.14      0.24        37\n",
      "          14       0.00      0.00      0.00         2\n",
      "          15       0.00      0.00      0.00         9\n",
      "          16       0.60      0.66      0.62        99\n",
      "          17       0.00      0.00      0.00        12\n",
      "          18       0.00      0.00      0.00        20\n",
      "          19       0.51      0.81      0.63       133\n",
      "          20       0.90      0.13      0.23        70\n",
      "          21       0.00      0.00      0.00        27\n",
      "          22       0.00      0.00      0.00         7\n",
      "          23       0.00      0.00      0.00        12\n",
      "          24       0.00      0.00      0.00        19\n",
      "          25       1.00      0.06      0.12        31\n",
      "          26       0.00      0.00      0.00         8\n",
      "          27       0.00      0.00      0.00         4\n",
      "          28       0.00      0.00      0.00        10\n",
      "          29       0.00      0.00      0.00         4\n",
      "          30       0.00      0.00      0.00        12\n",
      "          31       0.00      0.00      0.00        13\n",
      "          32       0.00      0.00      0.00        10\n",
      "          33       0.00      0.00      0.00         5\n",
      "          34       0.00      0.00      0.00         7\n",
      "          35       0.00      0.00      0.00         6\n",
      "          36       0.00      0.00      0.00        11\n",
      "          37       0.00      0.00      0.00         2\n",
      "          38       0.00      0.00      0.00         3\n",
      "          39       0.00      0.00      0.00         5\n",
      "          40       0.00      0.00      0.00        10\n",
      "          41       0.00      0.00      0.00         8\n",
      "          42       0.00      0.00      0.00         3\n",
      "          43       0.00      0.00      0.00         6\n",
      "          44       0.00      0.00      0.00         5\n",
      "          45       0.00      0.00      0.00         1\n",
      "\n",
      "    accuracy                           0.67      2246\n",
      "   macro avg       0.16      0.12      0.11      2246\n",
      "weighted avg       0.60      0.67      0.60      2246\n",
      "\n"
     ]
    }
   ],
   "source": [
    "# 1. 나이브 베이즈 분류기\n",
    "model = MultinomialNB()\n",
    "model.fit(tfidfv, y_train)\n",
    "x_test_dtm = dtmvector.transform(x_test) #테스트 데이터를 DTM으로 변환\n",
    "tfidfv_test = tfidf_transformer.transform(x_test_dtm) #DTM을 TF-IDF 행렬로 변환\n",
    "predicted = model.predict(tfidfv_test) #테스트 데이터에 대한 예측\n",
    "print(\"NB 정확도:\", accuracy_score(y_test, predicted)) #예측값과 실제값 비교\n",
    "print(classification_report(y_test, model.predict(tfidfv_test), zero_division=0))"
   ]
  },
  {
   "cell_type": "code",
   "execution_count": 51,
   "id": "ffeb0e0d",
   "metadata": {},
   "outputs": [
    {
     "name": "stdout",
     "output_type": "stream",
     "text": [
      "CNB 정확도: 0.7707034728406055\n",
      "              precision    recall  f1-score   support\n",
      "\n",
      "           0       0.00      0.00      0.00        12\n",
      "           1       0.50      0.80      0.62       105\n",
      "           2       0.00      0.00      0.00        20\n",
      "           3       0.86      0.89      0.87       813\n",
      "           4       0.59      0.95      0.73       474\n",
      "           5       0.00      0.00      0.00         5\n",
      "           6       0.00      0.00      0.00        14\n",
      "           7       0.00      0.00      0.00         3\n",
      "           8       0.00      0.00      0.00        38\n",
      "           9       1.00      0.28      0.44        25\n",
      "          10       0.00      0.00      0.00        30\n",
      "          11       0.48      0.73      0.58        83\n",
      "          12       0.00      0.00      0.00        13\n",
      "          13       1.00      0.14      0.24        37\n",
      "          14       0.00      0.00      0.00         2\n",
      "          15       0.00      0.00      0.00         9\n",
      "          16       0.60      0.66      0.62        99\n",
      "          17       0.00      0.00      0.00        12\n",
      "          18       0.00      0.00      0.00        20\n",
      "          19       0.51      0.81      0.63       133\n",
      "          20       0.90      0.13      0.23        70\n",
      "          21       0.00      0.00      0.00        27\n",
      "          22       0.00      0.00      0.00         7\n",
      "          23       0.00      0.00      0.00        12\n",
      "          24       0.00      0.00      0.00        19\n",
      "          25       1.00      0.06      0.12        31\n",
      "          26       0.00      0.00      0.00         8\n",
      "          27       0.00      0.00      0.00         4\n",
      "          28       0.00      0.00      0.00        10\n",
      "          29       0.00      0.00      0.00         4\n",
      "          30       0.00      0.00      0.00        12\n",
      "          31       0.00      0.00      0.00        13\n",
      "          32       0.00      0.00      0.00        10\n",
      "          33       0.00      0.00      0.00         5\n",
      "          34       0.00      0.00      0.00         7\n",
      "          35       0.00      0.00      0.00         6\n",
      "          36       0.00      0.00      0.00        11\n",
      "          37       0.00      0.00      0.00         2\n",
      "          38       0.00      0.00      0.00         3\n",
      "          39       0.00      0.00      0.00         5\n",
      "          40       0.00      0.00      0.00        10\n",
      "          41       0.00      0.00      0.00         8\n",
      "          42       0.00      0.00      0.00         3\n",
      "          43       0.00      0.00      0.00         6\n",
      "          44       0.00      0.00      0.00         5\n",
      "          45       0.00      0.00      0.00         1\n",
      "\n",
      "    accuracy                           0.67      2246\n",
      "   macro avg       0.16      0.12      0.11      2246\n",
      "weighted avg       0.60      0.67      0.60      2246\n",
      "\n"
     ]
    }
   ],
   "source": [
    "# 2. 보완된 나이브 베이즈 분류기\n",
    "cb = ComplementNB()\n",
    "cb.fit(tfidfv, y_train)\n",
    "predicted = cb.predict(tfidfv_test)\n",
    "print(\"CNB 정확도:\", accuracy_score(y_test, predicted))\n",
    "print(classification_report(y_test, model.predict(tfidfv_test), zero_division=0))"
   ]
  },
  {
   "cell_type": "code",
   "execution_count": 52,
   "id": "0e2545fe",
   "metadata": {},
   "outputs": [
    {
     "name": "stdout",
     "output_type": "stream",
     "text": [
      "Softmax 정확도: 0.8036509349955476\n",
      "              precision    recall  f1-score   support\n",
      "\n",
      "           0       0.89      0.67      0.76        12\n",
      "           1       0.73      0.77      0.75       105\n",
      "           2       0.76      0.80      0.78        20\n",
      "           3       0.90      0.93      0.91       813\n",
      "           4       0.80      0.86      0.83       474\n",
      "           5       0.00      0.00      0.00         5\n",
      "           6       0.93      0.93      0.93        14\n",
      "           7       1.00      0.33      0.50         3\n",
      "           8       0.66      0.71      0.68        38\n",
      "           9       0.81      0.88      0.85        25\n",
      "          10       0.89      0.83      0.86        30\n",
      "          11       0.64      0.73      0.69        83\n",
      "          12       0.57      0.31      0.40        13\n",
      "          13       0.63      0.65      0.64        37\n",
      "          14       0.50      0.50      0.50         2\n",
      "          15       0.75      0.33      0.46         9\n",
      "          16       0.70      0.75      0.73        99\n",
      "          17       0.80      0.67      0.73        12\n",
      "          18       0.87      0.65      0.74        20\n",
      "          19       0.69      0.68      0.68       133\n",
      "          20       0.57      0.50      0.53        70\n",
      "          21       0.72      0.85      0.78        27\n",
      "          22       1.00      0.29      0.44         7\n",
      "          23       0.64      0.75      0.69        12\n",
      "          24       0.67      0.53      0.59        19\n",
      "          25       0.87      0.65      0.74        31\n",
      "          26       1.00      0.88      0.93         8\n",
      "          27       1.00      0.25      0.40         4\n",
      "          28       0.40      0.40      0.40        10\n",
      "          29       0.57      1.00      0.73         4\n",
      "          30       1.00      0.58      0.74        12\n",
      "          31       0.80      0.62      0.70        13\n",
      "          32       1.00      0.80      0.89        10\n",
      "          33       0.80      0.80      0.80         5\n",
      "          34       0.80      0.57      0.67         7\n",
      "          35       1.00      0.33      0.50         6\n",
      "          36       0.43      0.27      0.33        11\n",
      "          37       0.50      0.50      0.50         2\n",
      "          38       1.00      0.33      0.50         3\n",
      "          39       0.25      0.20      0.22         5\n",
      "          40       0.60      0.30      0.40        10\n",
      "          41       0.75      0.38      0.50         8\n",
      "          42       1.00      0.67      0.80         3\n",
      "          43       0.86      1.00      0.92         6\n",
      "          44       1.00      0.80      0.89         5\n",
      "          45       1.00      1.00      1.00         1\n",
      "\n",
      "    accuracy                           0.80      2246\n",
      "   macro avg       0.76      0.61      0.65      2246\n",
      "weighted avg       0.80      0.80      0.80      2246\n",
      "\n"
     ]
    }
   ],
   "source": [
    "# 3. Softmax 회귀\n",
    "lr = LogisticRegression(C=10000, penalty='l2', max_iter=3000)  \n",
    "lr.fit(tfidfv, y_train)\n",
    "predicted = lr.predict(tfidfv_test) \n",
    "print(\"Softmax 정확도:\", accuracy_score(y_test, predicted))\n",
    "print(classification_report(y_test, lr.predict(tfidfv_test), zero_division=0))"
   ]
  },
  {
   "cell_type": "code",
   "execution_count": 53,
   "id": "7405ee8e",
   "metadata": {},
   "outputs": [
    {
     "name": "stdout",
     "output_type": "stream",
     "text": [
      "Softmax 정확도: 0.8067675868210151\n"
     ]
    }
   ],
   "source": [
    "# 3-1. Softmax 회귀\n",
    "lr = LogisticRegression(C=5000, penalty='l2', max_iter=3000)  # C 10000>>5000\n",
    "lr.fit(tfidfv, y_train)\n",
    "predicted = lr.predict(tfidfv_test) \n",
    "print(\"Softmax 정확도:\", accuracy_score(y_test, predicted))"
   ]
  },
  {
   "cell_type": "code",
   "execution_count": 54,
   "id": "950a1cc6",
   "metadata": {},
   "outputs": [
    {
     "name": "stdout",
     "output_type": "stream",
     "text": [
      "Softmax 정확도: 0.8032056990204809\n"
     ]
    }
   ],
   "source": [
    "# 3-2. Softmax 회귀\n",
    "lr = LogisticRegression(C=15000, penalty='l2', max_iter=3000)  # C 10000>>15000\n",
    "lr.fit(tfidfv, y_train)\n",
    "predicted = lr.predict(tfidfv_test) \n",
    "print(\"Softmax 정확도:\", accuracy_score(y_test, predicted))"
   ]
  },
  {
   "cell_type": "code",
   "execution_count": 55,
   "id": "be2eaa4c",
   "metadata": {},
   "outputs": [
    {
     "name": "stdout",
     "output_type": "stream",
     "text": [
      "Linear SVM 정확도: 0.7751558325912734\n",
      "              precision    recall  f1-score   support\n",
      "\n",
      "           0       0.80      0.67      0.73        12\n",
      "           1       0.68      0.71      0.69       105\n",
      "           2       0.73      0.80      0.76        20\n",
      "           3       0.90      0.90      0.90       813\n",
      "           4       0.80      0.84      0.82       474\n",
      "           5       0.00      0.00      0.00         5\n",
      "           6       0.88      1.00      0.93        14\n",
      "           7       1.00      0.67      0.80         3\n",
      "           8       0.59      0.63      0.61        38\n",
      "           9       0.81      0.84      0.82        25\n",
      "          10       0.85      0.77      0.81        30\n",
      "          11       0.63      0.72      0.67        83\n",
      "          12       0.44      0.31      0.36        13\n",
      "          13       0.60      0.65      0.62        37\n",
      "          14       0.50      1.00      0.67         2\n",
      "          15       0.67      0.22      0.33         9\n",
      "          16       0.64      0.71      0.67        99\n",
      "          17       0.83      0.42      0.56        12\n",
      "          18       0.80      0.60      0.69        20\n",
      "          19       0.64      0.63      0.63       133\n",
      "          20       0.50      0.44      0.47        70\n",
      "          21       0.55      0.78      0.65        27\n",
      "          22       0.00      0.00      0.00         7\n",
      "          23       0.57      0.67      0.62        12\n",
      "          24       0.65      0.58      0.61        19\n",
      "          25       0.84      0.68      0.75        31\n",
      "          26       0.78      0.88      0.82         8\n",
      "          27       1.00      0.50      0.67         4\n",
      "          28       0.60      0.30      0.40        10\n",
      "          29       0.38      0.75      0.50         4\n",
      "          30       0.75      0.50      0.60        12\n",
      "          31       0.89      0.62      0.73        13\n",
      "          32       0.89      0.80      0.84        10\n",
      "          33       0.67      0.80      0.73         5\n",
      "          34       0.67      0.57      0.62         7\n",
      "          35       1.00      0.33      0.50         6\n",
      "          36       0.57      0.36      0.44        11\n",
      "          37       0.50      0.50      0.50         2\n",
      "          38       0.33      0.33      0.33         3\n",
      "          39       0.33      0.20      0.25         5\n",
      "          40       0.57      0.40      0.47        10\n",
      "          41       0.43      0.38      0.40         8\n",
      "          42       0.50      0.67      0.57         3\n",
      "          43       0.75      1.00      0.86         6\n",
      "          44       1.00      0.80      0.89         5\n",
      "          45       0.50      1.00      0.67         1\n",
      "\n",
      "    accuracy                           0.78      2246\n",
      "   macro avg       0.65      0.61      0.61      2246\n",
      "weighted avg       0.77      0.78      0.77      2246\n",
      "\n"
     ]
    },
    {
     "name": "stderr",
     "output_type": "stream",
     "text": [
      "/opt/conda/lib/python3.9/site-packages/sklearn/svm/_base.py:1199: ConvergenceWarning: Liblinear failed to converge, increase the number of iterations.\n",
      "  warnings.warn(\n"
     ]
    }
   ],
   "source": [
    "# 4. Linear SVM\n",
    "lsvc = LinearSVC(C=1000, penalty='l1', max_iter=3000, dual=False)\n",
    "lsvc.fit(tfidfv, y_train)\n",
    "predicted = lsvc.predict(tfidfv_test) \n",
    "print(\"Linear SVM 정확도:\", accuracy_score(y_test, predicted)) \n",
    "print(classification_report(y_test, lsvc.predict(tfidfv_test), zero_division=0))"
   ]
  },
  {
   "cell_type": "code",
   "execution_count": 56,
   "id": "d67af3fc",
   "metadata": {},
   "outputs": [
    {
     "name": "stdout",
     "output_type": "stream",
     "text": [
      "Linear SVM 정확도: 0.7720391807658059\n"
     ]
    },
    {
     "name": "stderr",
     "output_type": "stream",
     "text": [
      "/opt/conda/lib/python3.9/site-packages/sklearn/svm/_base.py:1199: ConvergenceWarning: Liblinear failed to converge, increase the number of iterations.\n",
      "  warnings.warn(\n"
     ]
    }
   ],
   "source": [
    "# 4-1. Linear SVM\n",
    "lsvc = LinearSVC(C=1500, penalty='l1', max_iter=3000, dual=False) #C 1000>>1500\n",
    "lsvc.fit(tfidfv, y_train)\n",
    "predicted = lsvc.predict(tfidfv_test) \n",
    "print(\"Linear SVM 정확도:\", accuracy_score(y_test, predicted)) "
   ]
  },
  {
   "cell_type": "code",
   "execution_count": 57,
   "id": "592d240b",
   "metadata": {},
   "outputs": [
    {
     "name": "stdout",
     "output_type": "stream",
     "text": [
      "DT 정확도: 0.6179875333926982\n",
      "              precision    recall  f1-score   support\n",
      "\n",
      "           0       0.00      0.00      0.00        12\n",
      "           1       0.50      0.80      0.62       105\n",
      "           2       0.00      0.00      0.00        20\n",
      "           3       0.86      0.89      0.87       813\n",
      "           4       0.59      0.95      0.73       474\n",
      "           5       0.00      0.00      0.00         5\n",
      "           6       0.00      0.00      0.00        14\n",
      "           7       0.00      0.00      0.00         3\n",
      "           8       0.00      0.00      0.00        38\n",
      "           9       1.00      0.28      0.44        25\n",
      "          10       0.00      0.00      0.00        30\n",
      "          11       0.48      0.73      0.58        83\n",
      "          12       0.00      0.00      0.00        13\n",
      "          13       1.00      0.14      0.24        37\n",
      "          14       0.00      0.00      0.00         2\n",
      "          15       0.00      0.00      0.00         9\n",
      "          16       0.60      0.66      0.62        99\n",
      "          17       0.00      0.00      0.00        12\n",
      "          18       0.00      0.00      0.00        20\n",
      "          19       0.51      0.81      0.63       133\n",
      "          20       0.90      0.13      0.23        70\n",
      "          21       0.00      0.00      0.00        27\n",
      "          22       0.00      0.00      0.00         7\n",
      "          23       0.00      0.00      0.00        12\n",
      "          24       0.00      0.00      0.00        19\n",
      "          25       1.00      0.06      0.12        31\n",
      "          26       0.00      0.00      0.00         8\n",
      "          27       0.00      0.00      0.00         4\n",
      "          28       0.00      0.00      0.00        10\n",
      "          29       0.00      0.00      0.00         4\n",
      "          30       0.00      0.00      0.00        12\n",
      "          31       0.00      0.00      0.00        13\n",
      "          32       0.00      0.00      0.00        10\n",
      "          33       0.00      0.00      0.00         5\n",
      "          34       0.00      0.00      0.00         7\n",
      "          35       0.00      0.00      0.00         6\n",
      "          36       0.00      0.00      0.00        11\n",
      "          37       0.00      0.00      0.00         2\n",
      "          38       0.00      0.00      0.00         3\n",
      "          39       0.00      0.00      0.00         5\n",
      "          40       0.00      0.00      0.00        10\n",
      "          41       0.00      0.00      0.00         8\n",
      "          42       0.00      0.00      0.00         3\n",
      "          43       0.00      0.00      0.00         6\n",
      "          44       0.00      0.00      0.00         5\n",
      "          45       0.00      0.00      0.00         1\n",
      "\n",
      "    accuracy                           0.67      2246\n",
      "   macro avg       0.16      0.12      0.11      2246\n",
      "weighted avg       0.60      0.67      0.60      2246\n",
      "\n"
     ]
    }
   ],
   "source": [
    "# 5. Decision Tree\n",
    "tree = DecisionTreeClassifier(max_depth=10, random_state=0)\n",
    "tree.fit(tfidfv, y_train)\n",
    "predicted = tree.predict(tfidfv_test)\n",
    "print(\"DT 정확도:\", accuracy_score(y_test, predicted))\n",
    "print(classification_report(y_test, model.predict(tfidfv_test), zero_division=0))"
   ]
  },
  {
   "cell_type": "code",
   "execution_count": 58,
   "id": "702f96cb",
   "metadata": {},
   "outputs": [
    {
     "name": "stdout",
     "output_type": "stream",
     "text": [
      "RF 정확도: 0.701246660730187\n",
      "              precision    recall  f1-score   support\n",
      "\n",
      "           0       0.28      0.42      0.33        12\n",
      "           1       0.42      0.78      0.55       105\n",
      "           2       0.44      0.35      0.39        20\n",
      "           3       0.84      0.90      0.87       813\n",
      "           4       0.68      0.84      0.75       474\n",
      "           5       0.00      0.00      0.00         5\n",
      "           6       0.86      0.43      0.57        14\n",
      "           7       1.00      0.33      0.50         3\n",
      "           8       0.59      0.53      0.56        38\n",
      "           9       0.71      0.40      0.51        25\n",
      "          10       0.89      0.53      0.67        30\n",
      "          11       0.57      0.69      0.62        83\n",
      "          12       0.33      0.15      0.21        13\n",
      "          13       0.46      0.32      0.38        37\n",
      "          14       0.00      0.00      0.00         2\n",
      "          15       1.00      0.11      0.20         9\n",
      "          16       0.70      0.67      0.68        99\n",
      "          17       0.00      0.00      0.00        12\n",
      "          18       0.60      0.45      0.51        20\n",
      "          19       0.62      0.64      0.63       133\n",
      "          20       0.46      0.33      0.38        70\n",
      "          21       0.65      0.41      0.50        27\n",
      "          22       0.00      0.00      0.00         7\n",
      "          23       0.75      0.25      0.38        12\n",
      "          24       0.33      0.05      0.09        19\n",
      "          25       0.87      0.42      0.57        31\n",
      "          26       1.00      0.12      0.22         8\n",
      "          27       1.00      0.25      0.40         4\n",
      "          28       0.00      0.00      0.00        10\n",
      "          29       0.33      0.25      0.29         4\n",
      "          30       0.00      0.00      0.00        12\n",
      "          31       0.00      0.00      0.00        13\n",
      "          32       1.00      0.30      0.46        10\n",
      "          33       1.00      0.20      0.33         5\n",
      "          34       0.00      0.00      0.00         7\n",
      "          35       1.00      0.17      0.29         6\n",
      "          36       0.33      0.09      0.14        11\n",
      "          37       1.00      0.50      0.67         2\n",
      "          38       0.00      0.00      0.00         3\n",
      "          39       0.00      0.00      0.00         5\n",
      "          40       1.00      0.20      0.33        10\n",
      "          41       0.25      0.12      0.17         8\n",
      "          42       0.00      0.00      0.00         3\n",
      "          43       1.00      0.33      0.50         6\n",
      "          44       1.00      0.80      0.89         5\n",
      "          45       1.00      1.00      1.00         1\n",
      "\n",
      "    accuracy                           0.70      2246\n",
      "   macro avg       0.54      0.31      0.36      2246\n",
      "weighted avg       0.69      0.70      0.68      2246\n",
      "\n"
     ]
    }
   ],
   "source": [
    "# 6. Random Forest\n",
    "forest = RandomForestClassifier(n_estimators=5, random_state=0)\n",
    "forest.fit(tfidfv, y_train)\n",
    "predicted = forest.predict(tfidfv_test) \n",
    "print(\"RF 정확도:\", accuracy_score(y_test, predicted))\n",
    "print(classification_report(y_test, forest.predict(tfidfv_test), zero_division=0))"
   ]
  },
  {
   "cell_type": "code",
   "execution_count": 59,
   "id": "9fe457da",
   "metadata": {},
   "outputs": [
    {
     "name": "stdout",
     "output_type": "stream",
     "text": [
      "GBC 정확도: 0.767586821015138\n",
      "              precision    recall  f1-score   support\n",
      "\n",
      "           0       0.89      0.67      0.76        12\n",
      "           1       0.80      0.68      0.73       105\n",
      "           2       0.70      0.70      0.70        20\n",
      "           3       0.90      0.90      0.90       813\n",
      "           4       0.76      0.83      0.79       474\n",
      "           5       0.14      0.20      0.17         5\n",
      "           6       0.93      0.93      0.93        14\n",
      "           7       0.50      0.33      0.40         3\n",
      "           8       0.64      0.66      0.65        38\n",
      "           9       0.91      0.84      0.87        25\n",
      "          10       0.87      0.87      0.87        30\n",
      "          11       0.62      0.66      0.64        83\n",
      "          12       0.46      0.46      0.46        13\n",
      "          13       0.55      0.43      0.48        37\n",
      "          14       0.08      0.50      0.14         2\n",
      "          15       0.33      0.22      0.27         9\n",
      "          16       0.72      0.77      0.75        99\n",
      "          17       0.33      0.33      0.33        12\n",
      "          18       0.61      0.55      0.58        20\n",
      "          19       0.71      0.65      0.68       133\n",
      "          20       0.56      0.44      0.50        70\n",
      "          21       0.67      0.67      0.67        27\n",
      "          22       0.50      0.14      0.22         7\n",
      "          23       0.36      0.42      0.38        12\n",
      "          24       0.71      0.63      0.67        19\n",
      "          25       0.91      0.65      0.75        31\n",
      "          26       0.75      0.75      0.75         8\n",
      "          27       0.40      0.50      0.44         4\n",
      "          28       0.38      0.30      0.33        10\n",
      "          29       0.22      0.50      0.31         4\n",
      "          30       0.38      0.42      0.40        12\n",
      "          31       0.60      0.46      0.52        13\n",
      "          32       0.88      0.70      0.78        10\n",
      "          33       0.71      1.00      0.83         5\n",
      "          34       0.50      0.29      0.36         7\n",
      "          35       1.00      0.50      0.67         6\n",
      "          36       0.67      0.55      0.60        11\n",
      "          37       0.67      1.00      0.80         2\n",
      "          38       0.25      0.33      0.29         3\n",
      "          39       0.25      0.20      0.22         5\n",
      "          40       0.71      0.50      0.59        10\n",
      "          41       0.44      0.50      0.47         8\n",
      "          42       0.75      1.00      0.86         3\n",
      "          43       0.50      0.67      0.57         6\n",
      "          44       1.00      0.80      0.89         5\n",
      "          45       0.50      1.00      0.67         1\n",
      "\n",
      "    accuracy                           0.77      2246\n",
      "   macro avg       0.60      0.59      0.58      2246\n",
      "weighted avg       0.77      0.77      0.77      2246\n",
      "\n"
     ]
    }
   ],
   "source": [
    "# 7. Gradient Boosting Classifier\n",
    "grbt = GradientBoostingClassifier(random_state=0) # verbose=3\n",
    "grbt.fit(tfidfv, y_train)\n",
    "predicted = grbt.predict(tfidfv_test) \n",
    "print(\"GBC 정확도:\", accuracy_score(y_test, predicted))\n",
    "print(classification_report(y_test, grbt.predict(tfidfv_test), zero_division=0))"
   ]
  },
  {
   "cell_type": "code",
   "execution_count": 60,
   "id": "a41e4987",
   "metadata": {},
   "outputs": [
    {
     "name": "stdout",
     "output_type": "stream",
     "text": [
      "Voting 정확도: 0.8103294746215495\n",
      "              precision    recall  f1-score   support\n",
      "\n",
      "           0       0.90      0.75      0.82        12\n",
      "           1       0.79      0.73      0.76       105\n",
      "           2       0.65      0.65      0.65        20\n",
      "           3       0.91      0.94      0.92       813\n",
      "           4       0.82      0.87      0.84       474\n",
      "           5       0.50      0.20      0.29         5\n",
      "           6       0.93      0.93      0.93        14\n",
      "           7       1.00      0.33      0.50         3\n",
      "           8       0.68      0.68      0.68        38\n",
      "           9       0.78      0.84      0.81        25\n",
      "          10       0.93      0.87      0.90        30\n",
      "          11       0.67      0.72      0.70        83\n",
      "          12       0.60      0.46      0.52        13\n",
      "          13       0.65      0.65      0.65        37\n",
      "          14       0.10      0.50      0.17         2\n",
      "          15       0.60      0.33      0.43         9\n",
      "          16       0.75      0.75      0.75        99\n",
      "          17       0.50      0.58      0.54        12\n",
      "          18       0.68      0.65      0.67        20\n",
      "          19       0.74      0.70      0.72       133\n",
      "          20       0.59      0.51      0.55        70\n",
      "          21       0.65      0.74      0.69        27\n",
      "          22       0.67      0.29      0.40         7\n",
      "          23       0.50      0.58      0.54        12\n",
      "          24       0.71      0.63      0.67        19\n",
      "          25       0.96      0.74      0.84        31\n",
      "          26       0.88      0.88      0.88         8\n",
      "          27       0.67      0.50      0.57         4\n",
      "          28       0.38      0.30      0.33        10\n",
      "          29       0.43      0.75      0.55         4\n",
      "          30       0.62      0.42      0.50        12\n",
      "          31       0.82      0.69      0.75        13\n",
      "          32       1.00      0.80      0.89        10\n",
      "          33       0.71      1.00      0.83         5\n",
      "          34       1.00      0.43      0.60         7\n",
      "          35       1.00      0.50      0.67         6\n",
      "          36       0.60      0.55      0.57        11\n",
      "          37       0.67      1.00      0.80         2\n",
      "          38       0.50      0.33      0.40         3\n",
      "          39       0.33      0.20      0.25         5\n",
      "          40       0.80      0.40      0.53        10\n",
      "          41       0.67      0.50      0.57         8\n",
      "          42       0.75      1.00      0.86         3\n",
      "          43       0.62      0.83      0.71         6\n",
      "          44       1.00      0.80      0.89         5\n",
      "          45       1.00      1.00      1.00         1\n",
      "\n",
      "    accuracy                           0.81      2246\n",
      "   macro avg       0.71      0.64      0.65      2246\n",
      "weighted avg       0.81      0.81      0.81      2246\n",
      "\n"
     ]
    }
   ],
   "source": [
    "# 8. Voting\n",
    "voting_classifier = VotingClassifier(estimators=[\n",
    "         ('lr', LogisticRegression(C=10000, max_iter=3000, penalty='l2')),#C 10000>5000\n",
    "        ('cb', ComplementNB()),\n",
    "        ('grbt', GradientBoostingClassifier(random_state=0))\n",
    "], voting='soft')\n",
    "voting_classifier.fit(tfidfv, y_train)\n",
    "predicted = voting_classifier.predict(tfidfv_test)\n",
    "print(\"Voting 정확도:\", accuracy_score(y_test, predicted))\n",
    "print(classification_report(y_test, voting_classifier.predict(tfidfv_test), zero_division=0))"
   ]
  },
  {
   "cell_type": "code",
   "execution_count": 61,
   "id": "cae93738",
   "metadata": {},
   "outputs": [
    {
     "name": "stdout",
     "output_type": "stream",
     "text": [
      "Voting 정확도: 0.8098842386464826\n"
     ]
    }
   ],
   "source": [
    "# 8-1. Voting\n",
    "voting_classifier = VotingClassifier(estimators=[\n",
    "         ('lr', LogisticRegression(C=15000, max_iter=3000, penalty='l2')),#C 10000>15000\n",
    "        ('cb', ComplementNB()),\n",
    "        ('grbt', GradientBoostingClassifier(random_state=0))\n",
    "], voting='soft')\n",
    "voting_classifier.fit(tfidfv, y_train)\n",
    "predicted = voting_classifier.predict(tfidfv_test)\n",
    "print(\"Voting 정확도:\", accuracy_score(y_test, predicted))"
   ]
  },
  {
   "cell_type": "markdown",
   "id": "e5ea54d7",
   "metadata": {},
   "source": [
    "NB 정확도: 0.6731967943009796  \n",
    "CNB 정확도: 0.7707034728406055  \n",
    "Softmax 정확도: 0.8036509349955476 (C=10000)  \n",
    "Softmax 정확도: 0.8067675868210151 (C=5000)  \n",
    "Softmax 정확도: 0.8032056990204809 (C=15000)  \n",
    "Linear SVM 정확도: 0.7724844167408726 (C=1000)  \n",
    "Linear SVM 정확도: 0.7742653606411398 (C=1500)  \n",
    "DT 정확도: 0.6179875333926982  \n",
    "RF 정확도: 0.701246660730187  \n",
    "GBC 정확도: 0.767586821015138  \n",
    "<mark>Voting 정확도: 0.8103294746215495 (C=10000) </mark>   \n",
    "Voting 정확도: 0.8098842386464826 (C=15000)"
   ]
  },
  {
   "cell_type": "markdown",
   "id": "a6cd9ce2",
   "metadata": {},
   "source": [
    "# 딥러닝으로 해보기 1\n",
    "\n",
    "- 재복원된 train+test를 합쳐서 토크나이징과 인덱싱을 하고\n",
    "- 패딩은 post, maxlen =400 (ml과 동일)\n",
    "- 임베딩 들어가기 전 다시 train과 test를 그전과 동일하게 8:2로 슬라이싱\n",
    "- 여러가지 딥러닝 하기에 수행했음\n"
   ]
  },
  {
   "cell_type": "code",
   "execution_count": 62,
   "id": "b5c99349",
   "metadata": {},
   "outputs": [
    {
     "name": "stdout",
     "output_type": "stream",
     "text": [
      "<class 'list'>\n",
      "8982\n",
      "2246\n",
      "11228\n",
      "<sos> <unk> <unk> said as a result of its december acquisition of space co it expects earnings per share in 1987 of 1 15 to 1 30 dlrs per share up from 70 cts in 1986 the company said pretax net should rise to nine to 10 mln dlrs from six mln dlrs in 1986 and rental operation revenues to 19 to 22 mln dlrs from 12 5 mln dlrs it said cash flow per share this year should be 2 50 to three dlrs reuter 3\n"
     ]
    }
   ],
   "source": [
    "# train + test 데이터 합치기\n",
    "print(type(x_train))\n",
    "print(len(x_train))\n",
    "print(len(x_test))\n",
    "data = x_train + x_test\n",
    "print(len(data))\n",
    "print(data[0])"
   ]
  },
  {
   "cell_type": "code",
   "execution_count": 63,
   "id": "fe45bbe7",
   "metadata": {},
   "outputs": [
    {
     "name": "stdout",
     "output_type": "stream",
     "text": [
      "[16, 2, 2, 7, 43, 9, 447, 4, 25, 207, 270, 4, 3082, 111, 15, 368, 186, 90, 67, 6, 89, 4, 19, 102, 5, 19, 124, 14, 90, 67, 84, 22, 480, 26, 6, 48, 3, 49, 7, 862, 39, 209, 154, 5, 151, 5, 83, 10, 14, 22, 155, 10, 14, 6, 48, 8, 4553, 1005, 503, 5, 258, 5, 272, 10, 14, 22, 134, 44, 10, 14, 15, 7, 197, 1244, 90, 67, 52, 29, 209, 30, 32, 132, 5, 109, 14, 17, 11]\n"
     ]
    }
   ],
   "source": [
    "# data tokenizing\n",
    "from keras.preprocessing.text import Tokenizer\n",
    "from keras.preprocessing.sequence import pad_sequences\n",
    "\n",
    "tokenizer = Tokenizer(num_words=5000, filters=' ', oov_token=\"<unk>\")\n",
    "tokenizer.fit_on_texts(data)\n",
    "tensor = tokenizer.texts_to_sequences(data)\n",
    "\n",
    "print(tensor[0])"
   ]
  },
  {
   "cell_type": "code",
   "execution_count": 64,
   "id": "1837e03a",
   "metadata": {},
   "outputs": [],
   "source": [
    "# 해당 길이 몇프로인지 확인하는 함수\n",
    "\n",
    "def below_threshold_len(max_len, nested_list):\n",
    "    count = 0\n",
    "    for sentence in nested_list:\n",
    "        if(len(sentence) <= max_len):\n",
    "            count = count + 1\n",
    "    print('전체 샘플 중 길이가 %s 이하인 샘플의 비율: %s'%(max_len, (count / len(nested_list)) * 100)) "
   ]
  },
  {
   "cell_type": "code",
   "execution_count": 65,
   "id": "a12ecbed",
   "metadata": {},
   "outputs": [
    {
     "name": "stdout",
     "output_type": "stream",
     "text": [
      "전체 샘플 중 길이가 400 이하인 샘플의 비율: 93.38261489134308\n"
     ]
    }
   ],
   "source": [
    "# maxlen\n",
    "\n",
    "maxlen = 400\n",
    "below_threshold_len(maxlen, tensor)"
   ]
  },
  {
   "cell_type": "code",
   "execution_count": 66,
   "id": "9bfd6408",
   "metadata": {},
   "outputs": [
    {
     "name": "stdout",
     "output_type": "stream",
     "text": [
      "[   0    0    0    0    0    0    0    0    0    0    0    0    0    0\n",
      "    0    0    0    0    0    0    0    0    0    0    0    0    0    0\n",
      "    0    0    0    0    0    0    0    0    0    0    0    0    0    0\n",
      "    0    0    0    0    0    0    0    0    0    0    0    0    0    0\n",
      "    0    0    0    0    0    0    0    0    0    0    0    0    0    0\n",
      "    0    0    0    0    0    0    0    0    0    0    0    0    0    0\n",
      "    0    0    0    0    0    0    0    0    0    0    0    0    0    0\n",
      "    0    0    0    0    0    0    0    0    0    0    0    0    0    0\n",
      "    0    0    0    0    0    0    0    0    0    0    0    0    0    0\n",
      "    0    0    0    0    0    0    0    0    0    0    0    0    0    0\n",
      "    0    0    0    0    0    0    0    0    0    0    0    0    0    0\n",
      "    0    0    0    0    0    0    0    0    0    0    0    0    0    0\n",
      "    0    0    0    0    0    0    0    0    0    0    0    0    0    0\n",
      "    0    0    0    0    0    0    0    0    0    0    0    0    0    0\n",
      "    0    0    0    0    0    0    0    0    0    0    0    0    0    0\n",
      "    0    0    0    0    0    0    0    0    0    0    0    0    0    0\n",
      "    0    0    0    0    0    0    0    0    0    0    0    0    0    0\n",
      "    0    0    0    0    0    0    0    0    0    0    0    0    0    0\n",
      "    0    0    0    0    0    0    0    0    0    0    0    0    0    0\n",
      "    0    0    0    0    0    0    0    0    0    0    0    0    0    0\n",
      "    0    0    0    0    0    0    0    0    0    0    0    0    0    0\n",
      "    0    0    0    0    0    0    0    0    0    0    0    0    0    0\n",
      "    0    0    0    0    0   16    2    2    7   43    9  447    4   25\n",
      "  207  270    4 3082  111   15  368  186   90   67    6   89    4   19\n",
      "  102    5   19  124   14   90   67   84   22  480   26    6   48    3\n",
      "   49    7  862   39  209  154    5  151    5   83   10   14   22  155\n",
      "   10   14    6   48    8 4553 1005  503    5  258    5  272   10   14\n",
      "   22  134   44   10   14   15    7  197 1244   90   67   52   29  209\n",
      "   30   32  132    5  109   14   17   11]\n",
      "<class 'numpy.ndarray'>\n"
     ]
    }
   ],
   "source": [
    "# 패딩하기\n",
    "\n",
    "tensor = pad_sequences(tensor,maxlen=maxlen)\n",
    "print(tensor[0])\n",
    "print(type(tensor))"
   ]
  },
  {
   "cell_type": "code",
   "execution_count": 67,
   "id": "4bc26373",
   "metadata": {},
   "outputs": [
    {
     "name": "stdout",
     "output_type": "stream",
     "text": [
      "(8982, 400)\n",
      "(2246, 400)\n",
      "<class 'numpy.ndarray'>\n"
     ]
    }
   ],
   "source": [
    "# 토큰화, 인코딩 후 데이터셋 다시 나누기 \n",
    "x_train = tensor[:8982]\n",
    "x_test = tensor[8982:]\n",
    "print(x_train.shape)\n",
    "print(x_test.shape)\n",
    "print(type(y_train))\n",
    "# print(x_train[0])\n",
    "# print(x_test[0])"
   ]
  },
  {
   "cell_type": "markdown",
   "id": "16ac8cf6",
   "metadata": {},
   "source": [
    ">## 1. Emb + LSTM(128) + Dense(46) -> test acc : 0.68"
   ]
  },
  {
   "cell_type": "code",
   "execution_count": 68,
   "id": "5ea78b23",
   "metadata": {},
   "outputs": [
    {
     "name": "stdout",
     "output_type": "stream",
     "text": [
      "Model: \"sequential\"\n",
      "_________________________________________________________________\n",
      "Layer (type)                 Output Shape              Param #   \n",
      "=================================================================\n",
      "embedding (Embedding)        (None, None, 100)         500000    \n",
      "_________________________________________________________________\n",
      "lstm (LSTM)                  (None, 128)               117248    \n",
      "_________________________________________________________________\n",
      "dense (Dense)                (None, 46)                5934      \n",
      "=================================================================\n",
      "Total params: 623,182\n",
      "Trainable params: 623,182\n",
      "Non-trainable params: 0\n",
      "_________________________________________________________________\n"
     ]
    }
   ],
   "source": [
    "# 모델링하기\n",
    "from tensorflow.keras.layers import Embedding, Dense, LSTM\n",
    "from keras.models import Sequential\n",
    "from keras.callbacks import EarlyStopping\n",
    "\n",
    "embedding_dim = 100\n",
    "hidden_units = 128\n",
    "vocab_size = 5000\n",
    "\n",
    "model = Sequential()\n",
    "model.add(Embedding(vocab_size, embedding_dim))\n",
    "model.add(LSTM(hidden_units))\n",
    "model.add(Dense(46, activation ='softmax'))\n",
    "\n",
    "model.compile(optimizer='rmsprop',\n",
    "              loss = \"sparse_categorical_crossentropy\",\n",
    "              metrics = ['acc'])\n",
    "model.summary()"
   ]
  },
  {
   "cell_type": "code",
   "execution_count": 69,
   "id": "43e4c422",
   "metadata": {},
   "outputs": [
    {
     "name": "stdout",
     "output_type": "stream",
     "text": [
      "Epoch 1/30\n",
      "113/113 [==============================] - 6s 23ms/step - loss: 2.2866 - acc: 0.4209 - val_loss: 2.0045 - val_acc: 0.4802\n",
      "Epoch 2/30\n",
      "113/113 [==============================] - 2s 19ms/step - loss: 1.8428 - acc: 0.5219 - val_loss: 1.7418 - val_acc: 0.5326\n",
      "Epoch 3/30\n",
      "113/113 [==============================] - 2s 20ms/step - loss: 1.6851 - acc: 0.5646 - val_loss: 1.7871 - val_acc: 0.5492\n",
      "Epoch 4/30\n",
      "113/113 [==============================] - 2s 19ms/step - loss: 1.5619 - acc: 0.5882 - val_loss: 1.5866 - val_acc: 0.5993\n",
      "Epoch 5/30\n",
      "113/113 [==============================] - 2s 20ms/step - loss: 1.4626 - acc: 0.6184 - val_loss: 1.5223 - val_acc: 0.6305\n",
      "Epoch 6/30\n",
      "113/113 [==============================] - 2s 19ms/step - loss: 1.3295 - acc: 0.6514 - val_loss: 1.4016 - val_acc: 0.6528\n",
      "Epoch 7/30\n",
      "113/113 [==============================] - 2s 19ms/step - loss: 1.2267 - acc: 0.6777 - val_loss: 1.4293 - val_acc: 0.6411\n",
      "Epoch 8/30\n",
      "113/113 [==============================] - 2s 19ms/step - loss: 1.1426 - acc: 0.6973 - val_loss: 1.3188 - val_acc: 0.6717\n",
      "Epoch 9/30\n",
      "113/113 [==============================] - 2s 19ms/step - loss: 1.0685 - acc: 0.7158 - val_loss: 1.4022 - val_acc: 0.6617\n",
      "Epoch 10/30\n",
      "113/113 [==============================] - 2s 18ms/step - loss: 0.9927 - acc: 0.7340 - val_loss: 1.3627 - val_acc: 0.6700\n",
      "Epoch 11/30\n",
      "113/113 [==============================] - 2s 19ms/step - loss: 0.9366 - acc: 0.7514 - val_loss: 1.2483 - val_acc: 0.7056\n",
      "Epoch 12/30\n",
      "113/113 [==============================] - 2s 18ms/step - loss: 0.8603 - acc: 0.7736 - val_loss: 1.2746 - val_acc: 0.7023\n",
      "Epoch 13/30\n",
      "113/113 [==============================] - 2s 19ms/step - loss: 0.8029 - acc: 0.7875 - val_loss: 1.2965 - val_acc: 0.6828\n",
      "Epoch 14/30\n",
      "113/113 [==============================] - 2s 19ms/step - loss: 0.7471 - acc: 0.8018 - val_loss: 1.4918 - val_acc: 0.6583\n"
     ]
    }
   ],
   "source": [
    "# Early stopping\n",
    "early_stop = EarlyStopping(monitor='val_loss', patience=3)\n",
    "\n",
    "# Fit\n",
    "history = model.fit(x_train, y_train, epochs=30, batch_size=64, validation_split=0.2, callbacks=[early_stop])"
   ]
  },
  {
   "cell_type": "code",
   "execution_count": 70,
   "id": "65f4cbe4",
   "metadata": {},
   "outputs": [
    {
     "name": "stdout",
     "output_type": "stream",
     "text": [
      "71/71 [==============================] - 0s 7ms/step - loss: 1.5604 - acc: 0.6425\n",
      "Test accuracy: 0.6424754858016968\n"
     ]
    }
   ],
   "source": [
    "# Evaluate\n",
    "test_loss, test_acc = model.evaluate(x_test, y_test)\n",
    "print('Test accuracy:', test_acc)"
   ]
  },
  {
   "cell_type": "code",
   "execution_count": 71,
   "id": "22801bcc",
   "metadata": {},
   "outputs": [
    {
     "data": {
      "image/png": "[encoded data removed]",
      "text/plain": [
       "<Figure size 792x360 with 1 Axes>"
      ]
     },
     "metadata": {
      "needs_background": "light"
     },
     "output_type": "display_data"
    },
    {
     "data": {
      "image/png": "[encoded data removed]",
      "text/plain": [
       "<Figure size 792x360 with 1 Axes>"
      ]
     },
     "metadata": {
      "needs_background": "light"
     },
     "output_type": "display_data"
    }
   ],
   "source": [
    "hist_dict = history.history\n",
    "loss = hist_dict['loss']\n",
    "val_loss = hist_dict['val_loss']\n",
    "acc = hist_dict['acc']\n",
    "val_acc = hist_dict['val_acc']\n",
    "\n",
    "plt.plot(loss,'b--', label = 'training loss')\n",
    "plt.plot(val_loss,'r--', label = 'validation loss')\n",
    "plt.legend()\n",
    "plt.grid()\n",
    "\n",
    "plt.figure()\n",
    "plt.plot(acc,'b--', label = 'training acc')\n",
    "plt.plot(val_acc,'r--', label = 'validation acc')\n",
    "plt.legend()\n",
    "plt.grid()"
   ]
  },
  {
   "cell_type": "markdown",
   "id": "98fd4bbb",
   "metadata": {},
   "source": [
    ">## 2. Emb + LSTM(128) + BatNorm + LSTM(128) + BatNorm +Dense(46) -> test acc : 0.56"
   ]
  },
  {
   "cell_type": "code",
   "execution_count": 72,
   "id": "27a92969",
   "metadata": {},
   "outputs": [
    {
     "name": "stdout",
     "output_type": "stream",
     "text": [
      "Model: \"sequential_1\"\n",
      "_________________________________________________________________\n",
      "Layer (type)                 Output Shape              Param #   \n",
      "=================================================================\n",
      "embedding_1 (Embedding)      (None, None, 100)         500000    \n",
      "_________________________________________________________________\n",
      "lstm_1 (LSTM)                (None, None, 128)         117248    \n",
      "_________________________________________________________________\n",
      "batch_normalization (BatchNo (None, None, 128)         512       \n",
      "_________________________________________________________________\n",
      "lstm_2 (LSTM)                (None, 128)               131584    \n",
      "_________________________________________________________________\n",
      "batch_normalization_1 (Batch (None, 128)               512       \n",
      "_________________________________________________________________\n",
      "dense_1 (Dense)              (None, 46)                5934      \n",
      "=================================================================\n",
      "Total params: 755,790\n",
      "Trainable params: 755,278\n",
      "Non-trainable params: 512\n",
      "_________________________________________________________________\n",
      "Epoch 1/30\n",
      "113/113 [==============================] - 8s 44ms/step - loss: 2.0356 - acc: 0.5464 - val_loss: 3.3174 - val_acc: 0.3745\n",
      "Epoch 2/30\n",
      "113/113 [==============================] - 4s 39ms/step - loss: 1.3402 - acc: 0.6806 - val_loss: 2.5882 - val_acc: 0.5398\n",
      "Epoch 3/30\n",
      "113/113 [==============================] - 4s 38ms/step - loss: 0.9553 - acc: 0.7674 - val_loss: 2.6550 - val_acc: 0.4252\n",
      "Epoch 4/30\n",
      "113/113 [==============================] - 4s 38ms/step - loss: 0.6721 - acc: 0.8347 - val_loss: 1.7585 - val_acc: 0.5971\n",
      "Epoch 5/30\n",
      "113/113 [==============================] - 4s 38ms/step - loss: 0.4649 - acc: 0.8885 - val_loss: 1.7576 - val_acc: 0.6171\n",
      "Epoch 6/30\n",
      "113/113 [==============================] - 4s 38ms/step - loss: 0.3408 - acc: 0.9154 - val_loss: 1.5505 - val_acc: 0.6750\n",
      "Epoch 7/30\n",
      "113/113 [==============================] - 4s 39ms/step - loss: 0.2671 - acc: 0.9367 - val_loss: 1.4396 - val_acc: 0.6984\n",
      "Epoch 8/30\n",
      "113/113 [==============================] - 4s 39ms/step - loss: 0.2307 - acc: 0.9432 - val_loss: 2.3467 - val_acc: 0.6344\n",
      "Epoch 9/30\n",
      "113/113 [==============================] - 4s 39ms/step - loss: 0.2037 - acc: 0.9470 - val_loss: 2.5128 - val_acc: 0.6088\n",
      "Epoch 10/30\n",
      "113/113 [==============================] - 4s 39ms/step - loss: 0.1852 - acc: 0.9524 - val_loss: 2.5197 - val_acc: 0.6221\n",
      "71/71 [==============================] - 1s 12ms/step - loss: 2.7360 - acc: 0.6095\n",
      "Test accuracy: 0.6095280647277832\n"
     ]
    },
    {
     "data": {
      "image/png": "[encoded data removed]",
      "text/plain": [
       "<Figure size 792x360 with 1 Axes>"
      ]
     },
     "metadata": {
      "needs_background": "light"
     },
     "output_type": "display_data"
    },
    {
     "data": {
      "image/png": "[encoded data removed]",
      "text/plain": [
       "<Figure size 792x360 with 1 Axes>"
      ]
     },
     "metadata": {
      "needs_background": "light"
     },
     "output_type": "display_data"
    }
   ],
   "source": [
    "# 모델링하기\n",
    "from tensorflow.keras.layers import Embedding, Dense, LSTM, BatchNormalization\n",
    "from keras.models import Sequential\n",
    "from keras.callbacks import EarlyStopping\n",
    "\n",
    "embedding_dim = 100\n",
    "hidden_units = 128\n",
    "vocab_size = 5000\n",
    "\n",
    "model = Sequential()\n",
    "model.add(Embedding(vocab_size, embedding_dim))\n",
    "model.add(LSTM(hidden_units, return_sequences=True))\n",
    "model.add(BatchNormalization())\n",
    "model.add(LSTM(hidden_units))\n",
    "model.add(BatchNormalization())\n",
    "model.add(Dense(46, activation ='softmax'))\n",
    "\n",
    "model.compile(optimizer='rmsprop',\n",
    "              loss = \"sparse_categorical_crossentropy\",\n",
    "              metrics = ['acc'])\n",
    "model.summary()\n",
    "\n",
    "# Early stopping\n",
    "early_stop = EarlyStopping(monitor='val_loss', patience=3)\n",
    "\n",
    "# Fit\n",
    "history = model.fit(x_train, y_train, epochs=30, batch_size=64, validation_split=0.2, callbacks=[early_stop])\n",
    "\n",
    "# Evaluate\n",
    "test_loss, test_acc = model.evaluate(x_test, y_test)\n",
    "print('Test accuracy:', test_acc)\n",
    "\n",
    "# Graph\n",
    "hist_dict = history.history\n",
    "loss = hist_dict['loss']\n",
    "val_loss = hist_dict['val_loss']\n",
    "acc = hist_dict['acc']\n",
    "val_acc = hist_dict['val_acc']\n",
    "\n",
    "plt.plot(loss,'b--', label = 'training loss')\n",
    "plt.plot(val_loss,'r--', label = 'validation loss')\n",
    "plt.legend()\n",
    "plt.grid()\n",
    "\n",
    "plt.figure()\n",
    "plt.plot(acc,'b--', label = 'training acc')\n",
    "plt.plot(val_acc,'r--', label = 'validation acc')\n",
    "plt.legend()\n",
    "plt.grid()"
   ]
  },
  {
   "cell_type": "markdown",
   "id": "d1ff67a4",
   "metadata": {},
   "source": [
    ">## 3. Emb + LSTM(128) + BatNorm + Dropout(0.2) + LSTM(128) + BatNorm + Dropout(0.2) + Dense(46) -> test acc : 0.45"
   ]
  },
  {
   "cell_type": "code",
   "execution_count": 73,
   "id": "fbe00f8b",
   "metadata": {},
   "outputs": [
    {
     "name": "stdout",
     "output_type": "stream",
     "text": [
      "Model: \"sequential_2\"\n",
      "_________________________________________________________________\n",
      "Layer (type)                 Output Shape              Param #   \n",
      "=================================================================\n",
      "embedding_2 (Embedding)      (None, None, 100)         500000    \n",
      "_________________________________________________________________\n",
      "lstm_3 (LSTM)                (None, None, 128)         117248    \n",
      "_________________________________________________________________\n",
      "dropout (Dropout)            (None, None, 128)         0         \n",
      "_________________________________________________________________\n",
      "batch_normalization_2 (Batch (None, None, 128)         512       \n",
      "_________________________________________________________________\n",
      "lstm_4 (LSTM)                (None, 128)               131584    \n",
      "_________________________________________________________________\n",
      "dropout_1 (Dropout)          (None, 128)               0         \n",
      "_________________________________________________________________\n",
      "batch_normalization_3 (Batch (None, 128)               512       \n",
      "_________________________________________________________________\n",
      "dense_2 (Dense)              (None, 46)                5934      \n",
      "=================================================================\n",
      "Total params: 755,790\n",
      "Trainable params: 755,278\n",
      "Non-trainable params: 512\n",
      "_________________________________________________________________\n",
      "Epoch 1/30\n",
      "113/113 [==============================] - 8s 46ms/step - loss: 2.4182 - acc: 0.4792 - val_loss: 2.8603 - val_acc: 0.3639\n",
      "Epoch 2/30\n",
      "113/113 [==============================] - 4s 39ms/step - loss: 1.5301 - acc: 0.6461 - val_loss: 2.3199 - val_acc: 0.5164\n",
      "Epoch 3/30\n",
      "113/113 [==============================] - 4s 40ms/step - loss: 1.1562 - acc: 0.7246 - val_loss: 1.7515 - val_acc: 0.5854\n",
      "Epoch 4/30\n",
      "113/113 [==============================] - 5s 40ms/step - loss: 0.9036 - acc: 0.7846 - val_loss: 1.5170 - val_acc: 0.6311\n",
      "Epoch 5/30\n",
      "113/113 [==============================] - 4s 39ms/step - loss: 0.6939 - acc: 0.8292 - val_loss: 1.4486 - val_acc: 0.6494\n",
      "Epoch 6/30\n",
      "113/113 [==============================] - 4s 40ms/step - loss: 0.5611 - acc: 0.8633 - val_loss: 1.6386 - val_acc: 0.6706\n",
      "Epoch 7/30\n",
      "113/113 [==============================] - 4s 39ms/step - loss: 0.4320 - acc: 0.8942 - val_loss: 1.8072 - val_acc: 0.6411\n",
      "Epoch 8/30\n",
      "113/113 [==============================] - 4s 39ms/step - loss: 0.3512 - acc: 0.9106 - val_loss: 2.0152 - val_acc: 0.6244\n",
      "71/71 [==============================] - 1s 12ms/step - loss: 2.1877 - acc: 0.6051\n",
      "Test accuracy: 0.6050757169723511\n"
     ]
    },
    {
     "data": {
      "image/png": "[encoded data removed]",
      "text/plain": [
       "<Figure size 792x360 with 1 Axes>"
      ]
     },
     "metadata": {
      "needs_background": "light"
     },
     "output_type": "display_data"
    },
    {
     "data": {
      "image/png": "[encoded data removed]",
      "text/plain": [
       "<Figure size 792x360 with 1 Axes>"
      ]
     },
     "metadata": {
      "needs_background": "light"
     },
     "output_type": "display_data"
    }
   ],
   "source": [
    "# 모델링하기\n",
    "from tensorflow.keras.layers import Embedding, Dense, LSTM, BatchNormalization, Dropout\n",
    "from keras.models import Sequential\n",
    "from keras.callbacks import EarlyStopping\n",
    "\n",
    "embedding_dim = 100\n",
    "hidden_units = 128\n",
    "vocab_size = 5000\n",
    "\n",
    "model = Sequential()\n",
    "model.add(Embedding(vocab_size, embedding_dim))\n",
    "model.add(LSTM(hidden_units, return_sequences=True))\n",
    "model.add(Dropout(0.2))\n",
    "model.add(BatchNormalization())\n",
    "model.add(LSTM(hidden_units))\n",
    "model.add(Dropout(0.2))\n",
    "model.add(BatchNormalization())\n",
    "model.add(Dense(46, activation ='softmax'))\n",
    "\n",
    "model.compile(optimizer='rmsprop',\n",
    "              loss = \"sparse_categorical_crossentropy\",\n",
    "              metrics = ['acc'])\n",
    "model.summary()\n",
    "\n",
    "# Early stopping\n",
    "early_stop = EarlyStopping(monitor='val_loss', patience=3)\n",
    "\n",
    "# Fit\n",
    "history = model.fit(x_train, y_train, epochs=30, batch_size=64, validation_split=0.2, callbacks=[early_stop])\n",
    "\n",
    "# Evaluate\n",
    "test_loss, test_acc = model.evaluate(x_test, y_test)\n",
    "print('Test accuracy:', test_acc)\n",
    "\n",
    "# Graph\n",
    "hist_dict = history.history\n",
    "loss = hist_dict['loss']\n",
    "val_loss = hist_dict['val_loss']\n",
    "acc = hist_dict['acc']\n",
    "val_acc = hist_dict['val_acc']\n",
    "\n",
    "plt.plot(loss,'b--', label = 'training loss')\n",
    "plt.plot(val_loss,'r--', label = 'validation loss')\n",
    "plt.legend()\n",
    "plt.grid()\n",
    "\n",
    "plt.figure()\n",
    "plt.plot(acc,'b--', label = 'training acc')\n",
    "plt.plot(val_acc,'r--', label = 'validation acc')\n",
    "plt.legend()\n",
    "plt.grid()"
   ]
  },
  {
   "cell_type": "markdown",
   "id": "f89005d5",
   "metadata": {},
   "source": [
    ">## 4. Emb + LSTM(300) + Dense(46) -> test acc : 0.68"
   ]
  },
  {
   "cell_type": "code",
   "execution_count": 74,
   "id": "0d69bfb4",
   "metadata": {},
   "outputs": [
    {
     "name": "stdout",
     "output_type": "stream",
     "text": [
      "Model: \"sequential_3\"\n",
      "_________________________________________________________________\n",
      "Layer (type)                 Output Shape              Param #   \n",
      "=================================================================\n",
      "embedding_3 (Embedding)      (None, None, 300)         1500000   \n",
      "_________________________________________________________________\n",
      "lstm_5 (LSTM)                (None, 128)               219648    \n",
      "_________________________________________________________________\n",
      "dense_3 (Dense)              (None, 46)                5934      \n",
      "=================================================================\n",
      "Total params: 1,725,582\n",
      "Trainable params: 1,725,582\n",
      "Non-trainable params: 0\n",
      "_________________________________________________________________\n",
      "Epoch 1/30\n",
      "113/113 [==============================] - 4s 27ms/step - loss: 2.1793 - acc: 0.4433 - val_loss: 1.8757 - val_acc: 0.5070\n",
      "Epoch 2/30\n",
      "113/113 [==============================] - 3s 25ms/step - loss: 1.7004 - acc: 0.5609 - val_loss: 1.7255 - val_acc: 0.5314\n",
      "Epoch 3/30\n",
      "113/113 [==============================] - 3s 24ms/step - loss: 1.4912 - acc: 0.6264 - val_loss: 1.4953 - val_acc: 0.6383\n",
      "Epoch 4/30\n",
      "113/113 [==============================] - 3s 25ms/step - loss: 1.2997 - acc: 0.6753 - val_loss: 1.4703 - val_acc: 0.6672\n",
      "Epoch 5/30\n",
      "113/113 [==============================] - 3s 24ms/step - loss: 1.1498 - acc: 0.7006 - val_loss: 1.6595 - val_acc: 0.6333\n",
      "Epoch 6/30\n",
      "113/113 [==============================] - 3s 24ms/step - loss: 1.0218 - acc: 0.7372 - val_loss: 1.4873 - val_acc: 0.6784\n",
      "Epoch 7/30\n",
      "113/113 [==============================] - 3s 24ms/step - loss: 0.9205 - acc: 0.7662 - val_loss: 2.8216 - val_acc: 0.4619\n",
      "71/71 [==============================] - 0s 7ms/step - loss: 2.8778 - acc: 0.4568\n",
      "Test accuracy: 0.4568121135234833\n"
     ]
    },
    {
     "data": {
      "image/png": "[encoded data removed]",
      "text/plain": [
       "<Figure size 792x360 with 1 Axes>"
      ]
     },
     "metadata": {
      "needs_background": "light"
     },
     "output_type": "display_data"
    },
    {
     "data": {
      "image/png": "[encoded data removed]",
      "text/plain": [
       "<Figure size 792x360 with 1 Axes>"
      ]
     },
     "metadata": {
      "needs_background": "light"
     },
     "output_type": "display_data"
    }
   ],
   "source": [
    "# 모델링하기\n",
    "from tensorflow.keras.layers import Embedding, Dense, LSTM, BatchNormalization, Dropout\n",
    "from keras.models import Sequential\n",
    "from keras.callbacks import EarlyStopping\n",
    "\n",
    "embedding_dim = 300\n",
    "hidden_units = 128\n",
    "vocab_size = 5000\n",
    "\n",
    "model = Sequential()\n",
    "model.add(Embedding(vocab_size, embedding_dim))\n",
    "model.add(LSTM(hidden_units))\n",
    "model.add(Dense(46, activation ='softmax'))\n",
    "\n",
    "model.compile(optimizer='rmsprop',\n",
    "              loss = \"sparse_categorical_crossentropy\",\n",
    "              metrics = ['acc'])\n",
    "model.summary()\n",
    "\n",
    "# Early stopping\n",
    "early_stop = EarlyStopping(monitor='val_loss', patience=3)\n",
    "\n",
    "# Fit\n",
    "history = model.fit(x_train, y_train, epochs=30, batch_size=64, validation_split=0.2, callbacks=[early_stop])\n",
    "\n",
    "# Evaluate\n",
    "test_loss, test_acc = model.evaluate(x_test, y_test)\n",
    "print('Test accuracy:', test_acc)\n",
    "\n",
    "# Graph\n",
    "hist_dict = history.history\n",
    "loss = hist_dict['loss']\n",
    "val_loss = hist_dict['val_loss']\n",
    "acc = hist_dict['acc']\n",
    "val_acc = hist_dict['val_acc']\n",
    "\n",
    "plt.plot(loss,'b--', label = 'training loss')\n",
    "plt.plot(val_loss,'r--', label = 'validation loss')\n",
    "plt.legend()\n",
    "plt.grid()\n",
    "\n",
    "plt.figure()\n",
    "plt.plot(acc,'b--', label = 'training acc')\n",
    "plt.plot(val_acc,'r--', label = 'validation acc')\n",
    "plt.legend()\n",
    "plt.grid()"
   ]
  },
  {
   "cell_type": "markdown",
   "id": "9064c0b6",
   "metadata": {},
   "source": [
    ">## 5. Emb + GApooling1D + Dense(46) -> test acc : 0.78"
   ]
  },
  {
   "cell_type": "code",
   "execution_count": 75,
   "id": "45e4d41a",
   "metadata": {},
   "outputs": [
    {
     "name": "stdout",
     "output_type": "stream",
     "text": [
      "Model: \"sequential_4\"\n",
      "_________________________________________________________________\n",
      "Layer (type)                 Output Shape              Param #   \n",
      "=================================================================\n",
      "embedding_4 (Embedding)      (None, None, 100)         500000    \n",
      "_________________________________________________________________\n",
      "global_average_pooling1d (Gl (None, 100)               0         \n",
      "_________________________________________________________________\n",
      "dense_4 (Dense)              (None, 46)                4646      \n",
      "=================================================================\n",
      "Total params: 504,646\n",
      "Trainable params: 504,646\n",
      "Non-trainable params: 0\n",
      "_________________________________________________________________\n",
      "Epoch 1/50\n",
      "113/113 [==============================] - 1s 4ms/step - loss: 3.1152 - acc: 0.3538 - val_loss: 2.4218 - val_acc: 0.3450\n",
      "Epoch 2/50\n",
      "113/113 [==============================] - 0s 3ms/step - loss: 2.3102 - acc: 0.3641 - val_loss: 2.2465 - val_acc: 0.3645\n",
      "Epoch 3/50\n",
      "113/113 [==============================] - 0s 3ms/step - loss: 2.2119 - acc: 0.3795 - val_loss: 2.1631 - val_acc: 0.3868\n",
      "Epoch 4/50\n",
      "113/113 [==============================] - 0s 3ms/step - loss: 2.1270 - acc: 0.3950 - val_loss: 2.0768 - val_acc: 0.4112\n",
      "Epoch 5/50\n",
      "113/113 [==============================] - 0s 3ms/step - loss: 2.0432 - acc: 0.4276 - val_loss: 1.9928 - val_acc: 0.4469\n",
      "Epoch 6/50\n",
      "113/113 [==============================] - 0s 3ms/step - loss: 1.9611 - acc: 0.4784 - val_loss: 1.9109 - val_acc: 0.5075\n",
      "Epoch 7/50\n",
      "113/113 [==============================] - 0s 3ms/step - loss: 1.8810 - acc: 0.5253 - val_loss: 1.8340 - val_acc: 0.5326\n",
      "Epoch 8/50\n",
      "113/113 [==============================] - 0s 3ms/step - loss: 1.8034 - acc: 0.5585 - val_loss: 1.7600 - val_acc: 0.5771\n",
      "Epoch 9/50\n",
      "113/113 [==============================] - 0s 3ms/step - loss: 1.7287 - acc: 0.5889 - val_loss: 1.6889 - val_acc: 0.6010\n",
      "Epoch 10/50\n",
      "113/113 [==============================] - 0s 3ms/step - loss: 1.6576 - acc: 0.6122 - val_loss: 1.6223 - val_acc: 0.6311\n",
      "Epoch 11/50\n",
      "113/113 [==============================] - 0s 3ms/step - loss: 1.5905 - acc: 0.6338 - val_loss: 1.5627 - val_acc: 0.6461\n",
      "Epoch 12/50\n",
      "113/113 [==============================] - 0s 3ms/step - loss: 1.5294 - acc: 0.6501 - val_loss: 1.5099 - val_acc: 0.6522\n",
      "Epoch 13/50\n",
      "113/113 [==============================] - 0s 3ms/step - loss: 1.4735 - acc: 0.6617 - val_loss: 1.4611 - val_acc: 0.6667\n",
      "Epoch 14/50\n",
      "113/113 [==============================] - 0s 3ms/step - loss: 1.4222 - acc: 0.6732 - val_loss: 1.4171 - val_acc: 0.6795\n",
      "Epoch 15/50\n",
      "113/113 [==============================] - 0s 3ms/step - loss: 1.3755 - acc: 0.6852 - val_loss: 1.3788 - val_acc: 0.6906\n",
      "Epoch 16/50\n",
      "113/113 [==============================] - 0s 3ms/step - loss: 1.3333 - acc: 0.6946 - val_loss: 1.3448 - val_acc: 0.6939\n",
      "Epoch 17/50\n",
      "113/113 [==============================] - 0s 3ms/step - loss: 1.2944 - acc: 0.7010 - val_loss: 1.3138 - val_acc: 0.7012\n",
      "Epoch 18/50\n",
      "113/113 [==============================] - 0s 3ms/step - loss: 1.2584 - acc: 0.7104 - val_loss: 1.2848 - val_acc: 0.7062\n",
      "Epoch 19/50\n",
      "113/113 [==============================] - 0s 3ms/step - loss: 1.2250 - acc: 0.7184 - val_loss: 1.2595 - val_acc: 0.7129\n",
      "Epoch 20/50\n",
      "113/113 [==============================] - 0s 3ms/step - loss: 1.1937 - acc: 0.7267 - val_loss: 1.2373 - val_acc: 0.7218\n",
      "Epoch 21/50\n",
      "113/113 [==============================] - 0s 3ms/step - loss: 1.1646 - acc: 0.7365 - val_loss: 1.2140 - val_acc: 0.7290\n",
      "Epoch 22/50\n",
      "113/113 [==============================] - 0s 3ms/step - loss: 1.1369 - acc: 0.7442 - val_loss: 1.1954 - val_acc: 0.7373\n",
      "Epoch 23/50\n",
      "113/113 [==============================] - 0s 3ms/step - loss: 1.1114 - acc: 0.7513 - val_loss: 1.1776 - val_acc: 0.7401\n",
      "Epoch 24/50\n",
      "113/113 [==============================] - 0s 3ms/step - loss: 1.0868 - acc: 0.7591 - val_loss: 1.1663 - val_acc: 0.7418\n",
      "Epoch 25/50\n",
      "113/113 [==============================] - 0s 3ms/step - loss: 1.0635 - acc: 0.7641 - val_loss: 1.1450 - val_acc: 0.7490\n",
      "Epoch 26/50\n",
      "113/113 [==============================] - 0s 3ms/step - loss: 1.0417 - acc: 0.7697 - val_loss: 1.1315 - val_acc: 0.7496\n",
      "Epoch 27/50\n",
      "113/113 [==============================] - 0s 3ms/step - loss: 1.0206 - acc: 0.7747 - val_loss: 1.1183 - val_acc: 0.7524\n",
      "Epoch 28/50\n",
      "113/113 [==============================] - 0s 3ms/step - loss: 1.0005 - acc: 0.7800 - val_loss: 1.1056 - val_acc: 0.7574\n",
      "Epoch 29/50\n",
      "113/113 [==============================] - 0s 3ms/step - loss: 0.9809 - acc: 0.7830 - val_loss: 1.0954 - val_acc: 0.7607\n",
      "Epoch 30/50\n",
      "113/113 [==============================] - 0s 3ms/step - loss: 0.9621 - acc: 0.7871 - val_loss: 1.0824 - val_acc: 0.7641\n",
      "Epoch 31/50\n",
      "113/113 [==============================] - 0s 3ms/step - loss: 0.9442 - acc: 0.7905 - val_loss: 1.0722 - val_acc: 0.7679\n",
      "Epoch 32/50\n",
      "113/113 [==============================] - 0s 3ms/step - loss: 0.9266 - acc: 0.7926 - val_loss: 1.0622 - val_acc: 0.7674\n",
      "Epoch 33/50\n",
      "113/113 [==============================] - 0s 3ms/step - loss: 0.9101 - acc: 0.7964 - val_loss: 1.0541 - val_acc: 0.7702\n",
      "Epoch 34/50\n",
      "113/113 [==============================] - 0s 3ms/step - loss: 0.8938 - acc: 0.8007 - val_loss: 1.0439 - val_acc: 0.7691\n",
      "Epoch 35/50\n",
      "113/113 [==============================] - 0s 3ms/step - loss: 0.8778 - acc: 0.8053 - val_loss: 1.0366 - val_acc: 0.7718\n",
      "Epoch 36/50\n",
      "113/113 [==============================] - 0s 3ms/step - loss: 0.8621 - acc: 0.8088 - val_loss: 1.0283 - val_acc: 0.7713\n",
      "Epoch 37/50\n",
      "113/113 [==============================] - 0s 3ms/step - loss: 0.8470 - acc: 0.8131 - val_loss: 1.0217 - val_acc: 0.7735\n",
      "Epoch 38/50\n",
      "113/113 [==============================] - 0s 3ms/step - loss: 0.8328 - acc: 0.8148 - val_loss: 1.0155 - val_acc: 0.7769\n",
      "Epoch 39/50\n",
      "113/113 [==============================] - 0s 3ms/step - loss: 0.8183 - acc: 0.8184 - val_loss: 1.0085 - val_acc: 0.7769\n",
      "Epoch 40/50\n",
      "113/113 [==============================] - 0s 3ms/step - loss: 0.8047 - acc: 0.8217 - val_loss: 1.0031 - val_acc: 0.7769\n",
      "Epoch 41/50\n",
      "113/113 [==============================] - 0s 3ms/step - loss: 0.7913 - acc: 0.8251 - val_loss: 0.9976 - val_acc: 0.7824\n",
      "Epoch 42/50\n",
      "113/113 [==============================] - 0s 3ms/step - loss: 0.7780 - acc: 0.8306 - val_loss: 0.9925 - val_acc: 0.7807\n",
      "Epoch 43/50\n",
      "113/113 [==============================] - 0s 3ms/step - loss: 0.7651 - acc: 0.8323 - val_loss: 0.9859 - val_acc: 0.7852\n",
      "Epoch 44/50\n",
      "113/113 [==============================] - 0s 3ms/step - loss: 0.7525 - acc: 0.8359 - val_loss: 0.9804 - val_acc: 0.7858\n",
      "Epoch 45/50\n",
      "113/113 [==============================] - 0s 3ms/step - loss: 0.7397 - acc: 0.8390 - val_loss: 0.9782 - val_acc: 0.7885\n",
      "Epoch 46/50\n",
      "113/113 [==============================] - 0s 3ms/step - loss: 0.7280 - acc: 0.8424 - val_loss: 0.9721 - val_acc: 0.7891\n",
      "Epoch 47/50\n",
      "113/113 [==============================] - 0s 3ms/step - loss: 0.7160 - acc: 0.8458 - val_loss: 0.9679 - val_acc: 0.7869\n",
      "Epoch 48/50\n",
      "113/113 [==============================] - 0s 3ms/step - loss: 0.7045 - acc: 0.8476 - val_loss: 0.9630 - val_acc: 0.7924\n",
      "Epoch 49/50\n",
      "113/113 [==============================] - 0s 3ms/step - loss: 0.6931 - acc: 0.8495 - val_loss: 0.9589 - val_acc: 0.7919\n",
      "Epoch 50/50\n",
      "113/113 [==============================] - 0s 3ms/step - loss: 0.6819 - acc: 0.8523 - val_loss: 0.9548 - val_acc: 0.7941\n",
      "71/71 [==============================] - 0s 2ms/step - loss: 1.0040 - acc: 0.7760\n",
      "Test accuracy: 0.7760462760925293\n"
     ]
    },
    {
     "data": {
      "image/png": "[encoded data removed]",
      "text/plain": [
       "<Figure size 792x360 with 1 Axes>"
      ]
     },
     "metadata": {
      "needs_background": "light"
     },
     "output_type": "display_data"
    },
    {
     "data": {
      "image/png": "[encoded data removed]",
      "text/plain": [
       "<Figure size 792x360 with 1 Axes>"
      ]
     },
     "metadata": {
      "needs_background": "light"
     },
     "output_type": "display_data"
    }
   ],
   "source": [
    "# 모델링하기\n",
    "from tensorflow.keras.layers import Embedding, Dense, GlobalAveragePooling1D, LSTM, BatchNormalization, Dropout\n",
    "from keras.models import Sequential\n",
    "from keras.callbacks import EarlyStopping\n",
    "\n",
    "embedding_dim = 100\n",
    "hidden_units = 128\n",
    "vocab_size = 5000\n",
    "\n",
    "model = Sequential()\n",
    "model.add(Embedding(vocab_size, embedding_dim))\n",
    "model.add(GlobalAveragePooling1D())\n",
    "model.add(Dense(46, activation ='softmax'))\n",
    "\n",
    "model.compile(optimizer='rmsprop',\n",
    "              loss = \"sparse_categorical_crossentropy\",\n",
    "              metrics = ['acc'])\n",
    "model.summary()\n",
    "\n",
    "# Early stopping\n",
    "early_stop = EarlyStopping(monitor='val_loss', patience=3)\n",
    "\n",
    "# Fit\n",
    "history = model.fit(x_train, y_train, epochs=50, batch_size=64, validation_split=0.2, callbacks=[early_stop])\n",
    "\n",
    "# Evaluate\n",
    "test_loss, test_acc = model.evaluate(x_test, y_test)\n",
    "print('Test accuracy:', test_acc)\n",
    "\n",
    "# Graph\n",
    "hist_dict = history.history\n",
    "loss = hist_dict['loss']\n",
    "val_loss = hist_dict['val_loss']\n",
    "acc = hist_dict['acc']\n",
    "val_acc = hist_dict['val_acc']\n",
    "\n",
    "plt.plot(loss,'b--', label = 'training loss')\n",
    "plt.plot(val_loss,'r--', label = 'validation loss')\n",
    "plt.legend()\n",
    "plt.grid()\n",
    "\n",
    "plt.figure()\n",
    "plt.plot(acc,'b--', label = 'training acc')\n",
    "plt.plot(val_acc,'r--', label = 'validation acc')\n",
    "plt.legend()\n",
    "plt.grid()"
   ]
  },
  {
   "cell_type": "markdown",
   "id": "330aa3ff",
   "metadata": {},
   "source": [
    "1. Emb + LSTM(128) + Dense(46) -> test acc : 0.68\n",
    "2. Emb + LSTM(128) + BatNorm + LSTM(128) + BatNorm +Dense(46) -> test acc : 0.56\n",
    "3. Emb + LSTM(128) + BatNorm + Dropout(0.2) + LSTM(128) + BatNorm + Dropout(0.2) + Dense(46) -> test acc : 0.45\n",
    "4. Emb + LSTM(300) + Dense(46) -> test acc : 0.68    \n",
    "5. Emb + GApooling1D + Dense(46) -> test acc : 0.78\n",
    "\n",
    "- 레이어가 깊을수록 결과가 좋지않고, lstm보다 pooling1d가 결과가 더 좋아서 당황.. \n",
    "- maxlen=100, padding을 post가 아닌 past에 둬보기로 함."
   ]
  },
  {
   "cell_type": "markdown",
   "id": "4a388ffa",
   "metadata": {},
   "source": [
    ">> ## 레이어 구조 : 1층 lstm, 데이터셋 : 원본 그대로 Solid"
   ]
  },
  {
   "cell_type": "markdown",
   "id": "834488d7",
   "metadata": {},
   "source": [
    ">> ## 1. maxlen = 100, padding=post >> Test_acc = 0.66"
   ]
  },
  {
   "cell_type": "code",
   "execution_count": 76,
   "id": "540bfc09",
   "metadata": {},
   "outputs": [
    {
     "name": "stdout",
     "output_type": "stream",
     "text": [
      "[   1    2    2    8   43   10  447    5   25  207  270    5 3095  111\n",
      "   16  369  186   90   67    7   89    5   19  102    6   19  124   15\n",
      "   90   67   84   22  482   26    7   48    4   49    8  864   39  209\n",
      "  154    6  151    6   83   11   15   22  155   11   15    7   48    9\n",
      " 4579 1005  504    6  258    6  272   11   15   22  134   44   11   15\n",
      "   16    8  197 1245   90   67   52   29  209   30   32  132    6  109\n",
      "   15   17   12    0    0    0    0    0    0    0    0    0    0    0\n",
      "    0    0]\n"
     ]
    }
   ],
   "source": [
    "from keras.preprocessing.text import Tokenizer\n",
    "from keras.preprocessing.sequence import pad_sequences\n",
    "\n",
    "(x_train, y_train), (x_test, y_test) = reuters.load_data(num_words=5000, test_split=0.2)\n",
    "maxlen = 100\n",
    "x_train = pad_sequences(x_train,maxlen=maxlen, padding='post')\n",
    "x_test = pad_sequences(x_test,maxlen=maxlen, padding='post')\n",
    "print(x_train[0])"
   ]
  },
  {
   "cell_type": "code",
   "execution_count": 77,
   "id": "ed27fc2d",
   "metadata": {},
   "outputs": [
    {
     "name": "stdout",
     "output_type": "stream",
     "text": [
      "Model: \"sequential_5\"\n",
      "_________________________________________________________________\n",
      "Layer (type)                 Output Shape              Param #   \n",
      "=================================================================\n",
      "embedding_5 (Embedding)      (None, None, 100)         500000    \n",
      "_________________________________________________________________\n",
      "lstm_6 (LSTM)                (None, 128)               117248    \n",
      "_________________________________________________________________\n",
      "dense_5 (Dense)              (None, 46)                5934      \n",
      "=================================================================\n",
      "Total params: 623,182\n",
      "Trainable params: 623,182\n",
      "Non-trainable params: 0\n",
      "_________________________________________________________________\n",
      "Epoch 1/30\n",
      "113/113 [==============================] - 2s 11ms/step - loss: 2.3950 - acc: 0.3640 - val_loss: 2.1999 - val_acc: 0.4062\n",
      "Epoch 2/30\n",
      "113/113 [==============================] - 1s 7ms/step - loss: 2.1102 - acc: 0.4299 - val_loss: 2.0984 - val_acc: 0.3701\n",
      "Epoch 3/30\n",
      "113/113 [==============================] - 1s 8ms/step - loss: 1.8983 - acc: 0.4853 - val_loss: 2.0450 - val_acc: 0.3166\n",
      "Epoch 4/30\n",
      "113/113 [==============================] - 1s 8ms/step - loss: 1.7833 - acc: 0.5073 - val_loss: 1.8908 - val_acc: 0.4597\n",
      "Epoch 5/30\n",
      "113/113 [==============================] - 1s 8ms/step - loss: 1.6901 - acc: 0.5343 - val_loss: 1.8898 - val_acc: 0.4702\n",
      "Epoch 6/30\n",
      "113/113 [==============================] - 1s 8ms/step - loss: 1.5660 - acc: 0.5555 - val_loss: 1.5891 - val_acc: 0.5865\n",
      "Epoch 7/30\n",
      "113/113 [==============================] - 1s 8ms/step - loss: 1.4762 - acc: 0.5957 - val_loss: 1.6622 - val_acc: 0.5587\n",
      "Epoch 8/30\n",
      "113/113 [==============================] - 1s 8ms/step - loss: 1.4141 - acc: 0.6131 - val_loss: 1.5331 - val_acc: 0.5860\n",
      "Epoch 9/30\n",
      "113/113 [==============================] - 1s 8ms/step - loss: 1.3157 - acc: 0.6356 - val_loss: 1.4431 - val_acc: 0.6316\n",
      "Epoch 10/30\n",
      "113/113 [==============================] - 1s 8ms/step - loss: 1.2511 - acc: 0.6589 - val_loss: 1.3750 - val_acc: 0.6439\n",
      "Epoch 11/30\n",
      "113/113 [==============================] - 1s 8ms/step - loss: 1.1833 - acc: 0.6838 - val_loss: 1.3971 - val_acc: 0.6533\n",
      "Epoch 12/30\n",
      "113/113 [==============================] - 1s 8ms/step - loss: 1.1227 - acc: 0.7012 - val_loss: 1.3922 - val_acc: 0.6622\n",
      "Epoch 13/30\n",
      "113/113 [==============================] - 1s 8ms/step - loss: 1.0505 - acc: 0.7182 - val_loss: 1.3427 - val_acc: 0.6728\n",
      "Epoch 14/30\n",
      "113/113 [==============================] - 1s 8ms/step - loss: 0.9783 - acc: 0.7415 - val_loss: 1.3225 - val_acc: 0.6683\n",
      "Epoch 15/30\n",
      "113/113 [==============================] - 1s 8ms/step - loss: 0.9080 - acc: 0.7624 - val_loss: 1.5079 - val_acc: 0.6656\n",
      "Epoch 16/30\n",
      "113/113 [==============================] - 1s 8ms/step - loss: 0.8630 - acc: 0.7734 - val_loss: 1.4175 - val_acc: 0.6605\n",
      "Epoch 17/30\n",
      "113/113 [==============================] - 1s 8ms/step - loss: 0.8167 - acc: 0.7910 - val_loss: 1.2929 - val_acc: 0.7028\n",
      "Epoch 18/30\n",
      "113/113 [==============================] - 1s 8ms/step - loss: 0.7608 - acc: 0.8040 - val_loss: 1.3726 - val_acc: 0.6711\n",
      "Epoch 19/30\n",
      "113/113 [==============================] - 1s 8ms/step - loss: 0.7247 - acc: 0.8142 - val_loss: 1.3353 - val_acc: 0.6978\n",
      "Epoch 20/30\n",
      "113/113 [==============================] - 1s 8ms/step - loss: 0.6792 - acc: 0.8237 - val_loss: 1.4464 - val_acc: 0.6934\n",
      "71/71 [==============================] - 0s 3ms/step - loss: 1.5361 - acc: 0.6719\n",
      "Test accuracy: 0.6718611121177673\n"
     ]
    },
    {
     "data": {
      "image/png": "[encoded data removed]",
      "text/plain": [
       "<Figure size 792x360 with 1 Axes>"
      ]
     },
     "metadata": {
      "needs_background": "light"
     },
     "output_type": "display_data"
    },
    {
     "data": {
      "image/png": "[encoded data removed]",
      "text/plain": [
       "<Figure size 792x360 with 1 Axes>"
      ]
     },
     "metadata": {
      "needs_background": "light"
     },
     "output_type": "display_data"
    }
   ],
   "source": [
    "from tensorflow.keras.layers import Embedding, Dense, GlobalAveragePooling1D, LSTM, BatchNormalization, Dropout\n",
    "from keras.models import Sequential\n",
    "from keras.callbacks import EarlyStopping\n",
    "\n",
    "embedding_dim = 100\n",
    "hidden_units = 128\n",
    "vocab_size = 5000\n",
    "\n",
    "model = Sequential()\n",
    "model.add(Embedding(vocab_size, embedding_dim))\n",
    "model.add(LSTM(hidden_units))\n",
    "model.add(Dense(46, activation ='softmax'))\n",
    "\n",
    "model.compile(optimizer='rmsprop',\n",
    "              loss = \"sparse_categorical_crossentropy\",\n",
    "              metrics = ['acc'])\n",
    "model.summary()\n",
    "\n",
    "early_stop = EarlyStopping(monitor='val_loss', patience=3)\n",
    "history = model.fit(x_train, y_train, epochs=30, batch_size=64, validation_split=0.2, callbacks=[early_stop])\n",
    "test_loss, test_acc = model.evaluate(x_test, y_test)\n",
    "print('Test accuracy:', test_acc)\n",
    "#######\n",
    "hist_dict = history.history\n",
    "loss = hist_dict['loss']\n",
    "val_loss = hist_dict['val_loss']\n",
    "acc = hist_dict['acc']\n",
    "val_acc = hist_dict['val_acc']\n",
    "\n",
    "plt.plot(loss,'b--', label = 'training loss')\n",
    "plt.plot(val_loss,'r--', label = 'validation loss')\n",
    "plt.legend()\n",
    "plt.grid()\n",
    "\n",
    "plt.figure()\n",
    "plt.plot(acc,'b--', label = 'training acc')\n",
    "plt.plot(val_acc,'r--', label = 'validation acc')\n",
    "plt.legend()\n",
    "plt.grid()   # 0.66"
   ]
  },
  {
   "cell_type": "markdown",
   "id": "883cea52",
   "metadata": {},
   "source": [
    ">>## 2. maxlen=400, padding=post >> Test_acc : 0.37"
   ]
  },
  {
   "cell_type": "code",
   "execution_count": 78,
   "id": "ec871e68",
   "metadata": {},
   "outputs": [
    {
     "name": "stdout",
     "output_type": "stream",
     "text": [
      "[   1    2    2    8   43   10  447    5   25  207  270    5 3095  111\n",
      "   16  369  186   90   67    7   89    5   19  102    6   19  124   15\n",
      "   90   67   84   22  482   26    7   48    4   49    8  864   39  209\n",
      "  154    6  151    6   83   11   15   22  155   11   15    7   48    9\n",
      " 4579 1005  504    6  258    6  272   11   15   22  134   44   11   15\n",
      "   16    8  197 1245   90   67   52   29  209   30   32  132    6  109\n",
      "   15   17   12    0    0    0    0    0    0    0    0    0    0    0\n",
      "    0    0    0    0    0    0    0    0    0    0    0    0    0    0\n",
      "    0    0    0    0    0    0    0    0    0    0    0    0    0    0\n",
      "    0    0    0    0    0    0    0    0    0    0    0    0    0    0\n",
      "    0    0    0    0    0    0    0    0    0    0    0    0    0    0\n",
      "    0    0    0    0    0    0    0    0    0    0    0    0    0    0\n",
      "    0    0    0    0    0    0    0    0    0    0    0    0    0    0\n",
      "    0    0    0    0    0    0    0    0    0    0    0    0    0    0\n",
      "    0    0    0    0    0    0    0    0    0    0    0    0    0    0\n",
      "    0    0    0    0    0    0    0    0    0    0    0    0    0    0\n",
      "    0    0    0    0    0    0    0    0    0    0    0    0    0    0\n",
      "    0    0    0    0    0    0    0    0    0    0    0    0    0    0\n",
      "    0    0    0    0    0    0    0    0    0    0    0    0    0    0\n",
      "    0    0    0    0    0    0    0    0    0    0    0    0    0    0\n",
      "    0    0    0    0    0    0    0    0    0    0    0    0    0    0\n",
      "    0    0    0    0    0    0    0    0    0    0    0    0    0    0\n",
      "    0    0    0    0    0    0    0    0    0    0    0    0    0    0\n",
      "    0    0    0    0    0    0    0    0    0    0    0    0    0    0\n",
      "    0    0    0    0    0    0    0    0    0    0    0    0    0    0\n",
      "    0    0    0    0    0    0    0    0    0    0    0    0    0    0\n",
      "    0    0    0    0    0    0    0    0    0    0    0    0    0    0\n",
      "    0    0    0    0    0    0    0    0    0    0    0    0    0    0\n",
      "    0    0    0    0    0    0    0    0]\n",
      "Model: \"sequential_6\"\n",
      "_________________________________________________________________\n",
      "Layer (type)                 Output Shape              Param #   \n",
      "=================================================================\n",
      "embedding_6 (Embedding)      (None, None, 100)         500000    \n",
      "_________________________________________________________________\n",
      "lstm_7 (LSTM)                (None, 128)               117248    \n",
      "_________________________________________________________________\n",
      "dense_6 (Dense)              (None, 46)                5934      \n",
      "=================================================================\n",
      "Total params: 623,182\n",
      "Trainable params: 623,182\n",
      "Non-trainable params: 0\n",
      "_________________________________________________________________\n",
      "Epoch 1/30\n",
      "113/113 [==============================] - 4s 23ms/step - loss: 2.4700 - acc: 0.3420 - val_loss: 2.4031 - val_acc: 0.3523\n",
      "Epoch 2/30\n",
      "113/113 [==============================] - 2s 19ms/step - loss: 2.4035 - acc: 0.3532 - val_loss: 2.4006 - val_acc: 0.3450\n",
      "Epoch 3/30\n",
      "113/113 [==============================] - 2s 20ms/step - loss: 2.3937 - acc: 0.3563 - val_loss: 2.4114 - val_acc: 0.3478\n",
      "Epoch 4/30\n",
      "113/113 [==============================] - 2s 20ms/step - loss: 2.3801 - acc: 0.3605 - val_loss: 2.3821 - val_acc: 0.3556\n",
      "Epoch 5/30\n",
      "113/113 [==============================] - 2s 19ms/step - loss: 2.3714 - acc: 0.3603 - val_loss: 2.4127 - val_acc: 0.3500\n",
      "Epoch 6/30\n",
      "113/113 [==============================] - 2s 19ms/step - loss: 2.3668 - acc: 0.3631 - val_loss: 2.3869 - val_acc: 0.3534\n",
      "Epoch 7/30\n",
      "113/113 [==============================] - 2s 19ms/step - loss: 2.3568 - acc: 0.3653 - val_loss: 2.3807 - val_acc: 0.3523\n",
      "Epoch 8/30\n",
      "113/113 [==============================] - 2s 19ms/step - loss: 2.3519 - acc: 0.3658 - val_loss: 2.3889 - val_acc: 0.3567\n",
      "Epoch 9/30\n",
      "113/113 [==============================] - 2s 19ms/step - loss: 2.3435 - acc: 0.3687 - val_loss: 2.3987 - val_acc: 0.3539\n",
      "Epoch 10/30\n",
      "113/113 [==============================] - 2s 19ms/step - loss: 2.3386 - acc: 0.3678 - val_loss: 2.4022 - val_acc: 0.3556\n",
      "71/71 [==============================] - 1s 7ms/step - loss: 2.4065 - acc: 0.3660\n",
      "Test accuracy: 0.3659839630126953\n"
     ]
    },
    {
     "data": {
      "image/png": "[encoded data removed]",
      "text/plain": [
       "<Figure size 792x360 with 1 Axes>"
      ]
     },
     "metadata": {
      "needs_background": "light"
     },
     "output_type": "display_data"
    },
    {
     "data": {
      "image/png": "[encoded data removed]",
      "text/plain": [
       "<Figure size 792x360 with 1 Axes>"
      ]
     },
     "metadata": {
      "needs_background": "light"
     },
     "output_type": "display_data"
    }
   ],
   "source": [
    "from keras.preprocessing.text import Tokenizer\n",
    "from keras.preprocessing.sequence import pad_sequences\n",
    "\n",
    "(x_train, y_train), (x_test, y_test) = reuters.load_data(num_words=5000, test_split=0.2)\n",
    "maxlen = 400\n",
    "x_train = pad_sequences(x_train,maxlen=maxlen, padding='post')\n",
    "x_test = pad_sequences(x_test,maxlen=maxlen, padding='post')\n",
    "print(x_train[0])\n",
    "\n",
    "from tensorflow.keras.layers import Embedding, Dense, GlobalAveragePooling1D, LSTM, BatchNormalization, Dropout\n",
    "from keras.models import Sequential\n",
    "from keras.callbacks import EarlyStopping\n",
    "\n",
    "embedding_dim = 100\n",
    "hidden_units = 128\n",
    "vocab_size = 5000\n",
    "\n",
    "model = Sequential()\n",
    "model.add(Embedding(vocab_size, embedding_dim))\n",
    "model.add(LSTM(hidden_units))\n",
    "model.add(Dense(46, activation ='softmax'))\n",
    "\n",
    "model.compile(optimizer='rmsprop',\n",
    "              loss = \"sparse_categorical_crossentropy\",\n",
    "              metrics = ['acc'])\n",
    "model.summary()\n",
    "\n",
    "early_stop = EarlyStopping(monitor='val_loss', patience=3)\n",
    "history = model.fit(x_train, y_train, epochs=30, batch_size=64, validation_split=0.2, callbacks=[early_stop])\n",
    "test_loss, test_acc = model.evaluate(x_test, y_test)\n",
    "print('Test accuracy:', test_acc)\n",
    "#######\n",
    "hist_dict = history.history\n",
    "loss = hist_dict['loss']\n",
    "val_loss = hist_dict['val_loss']\n",
    "acc = hist_dict['acc']\n",
    "val_acc = hist_dict['val_acc']\n",
    "\n",
    "plt.plot(loss,'b--', label = 'training loss')\n",
    "plt.plot(val_loss,'r--', label = 'validation loss')\n",
    "plt.legend()\n",
    "plt.grid()\n",
    "\n",
    "plt.figure()\n",
    "plt.plot(acc,'b--', label = 'training acc')\n",
    "plt.plot(val_acc,'r--', label = 'validation acc')\n",
    "plt.legend()\n",
    "plt.grid()   # 0.37"
   ]
  },
  {
   "cell_type": "markdown",
   "id": "bc43f33a",
   "metadata": {},
   "source": [
    ">## maxlen=400, Emb + LSTM(128) + Dense(46)로 Solid"
   ]
  },
  {
   "cell_type": "code",
   "execution_count": 79,
   "id": "afb43f32",
   "metadata": {},
   "outputs": [
    {
     "name": "stdout",
     "output_type": "stream",
     "text": [
      "[   1    2    2    8   43   10  447    5   25  207  270    5 3095  111\n",
      "   16  369  186   90   67    7   89    5   19  102    6   19  124   15\n",
      "   90   67   84   22  482   26    7   48    4   49    8  864   39  209\n",
      "  154    6  151    6   83   11   15   22  155   11   15    7   48    9\n",
      " 4579 1005  504    6  258    6  272   11   15   22  134   44   11   15\n",
      "   16    8  197 1245   90   67   52   29  209   30   32  132    6  109\n",
      "   15   17   12    0    0    0    0    0    0    0    0    0    0    0\n",
      "    0    0    0    0    0    0    0    0    0    0    0    0    0    0\n",
      "    0    0    0    0    0    0    0    0    0    0    0    0    0    0\n",
      "    0    0    0    0    0    0    0    0    0    0    0    0    0    0\n",
      "    0    0    0    0    0    0    0    0    0    0    0    0    0    0\n",
      "    0    0    0    0    0    0    0    0    0    0    0    0    0    0\n",
      "    0    0    0    0    0    0    0    0    0    0    0    0    0    0\n",
      "    0    0    0    0    0    0    0    0    0    0    0    0    0    0\n",
      "    0    0    0    0    0    0    0    0    0    0    0    0    0    0\n",
      "    0    0    0    0    0    0    0    0    0    0    0    0    0    0\n",
      "    0    0    0    0    0    0    0    0    0    0    0    0    0    0\n",
      "    0    0    0    0    0    0    0    0    0    0    0    0    0    0\n",
      "    0    0    0    0    0    0    0    0    0    0    0    0    0    0\n",
      "    0    0    0    0    0    0    0    0    0    0    0    0    0    0\n",
      "    0    0    0    0    0    0    0    0    0    0    0    0    0    0\n",
      "    0    0    0    0    0    0    0    0    0    0    0    0    0    0\n",
      "    0    0    0    0    0    0    0    0    0    0    0    0    0    0\n",
      "    0    0    0    0    0    0    0    0    0    0    0    0    0    0\n",
      "    0    0    0    0    0    0    0    0    0    0    0    0    0    0\n",
      "    0    0    0    0    0    0    0    0    0    0    0    0    0    0\n",
      "    0    0    0    0    0    0    0    0    0    0    0    0    0    0\n",
      "    0    0    0    0    0    0    0    0    0    0    0    0    0    0\n",
      "    0    0    0    0    0    0    0    0]\n",
      "Model: \"sequential_7\"\n",
      "_________________________________________________________________\n",
      "Layer (type)                 Output Shape              Param #   \n",
      "=================================================================\n",
      "embedding_7 (Embedding)      (None, None, 100)         500000    \n",
      "_________________________________________________________________\n",
      "global_average_pooling1d_1 ( (None, 100)               0         \n",
      "_________________________________________________________________\n",
      "dense_7 (Dense)              (None, 46)                4646      \n",
      "=================================================================\n",
      "Total params: 504,646\n",
      "Trainable params: 504,646\n",
      "Non-trainable params: 0\n",
      "_________________________________________________________________\n",
      "Epoch 1/500\n",
      "113/113 [==============================] - 1s 4ms/step - loss: 3.1075 - acc: 0.3514 - val_loss: 2.4151 - val_acc: 0.3450\n",
      "Epoch 2/500\n",
      "113/113 [==============================] - 0s 3ms/step - loss: 2.3147 - acc: 0.3601 - val_loss: 2.2578 - val_acc: 0.3634\n",
      "Epoch 3/500\n",
      "113/113 [==============================] - 0s 3ms/step - loss: 2.2240 - acc: 0.3756 - val_loss: 2.1796 - val_acc: 0.3767\n",
      "Epoch 4/500\n",
      "113/113 [==============================] - 0s 3ms/step - loss: 2.1383 - acc: 0.3915 - val_loss: 2.0894 - val_acc: 0.3973\n",
      "Epoch 5/500\n",
      "113/113 [==============================] - 0s 3ms/step - loss: 2.0495 - acc: 0.4249 - val_loss: 1.9985 - val_acc: 0.4697\n",
      "Epoch 6/500\n",
      "113/113 [==============================] - 0s 3ms/step - loss: 1.9631 - acc: 0.4775 - val_loss: 1.9135 - val_acc: 0.4903\n",
      "Epoch 7/500\n",
      "113/113 [==============================] - 0s 3ms/step - loss: 1.8773 - acc: 0.5275 - val_loss: 1.8333 - val_acc: 0.5270\n",
      "Epoch 8/500\n",
      "113/113 [==============================] - 0s 3ms/step - loss: 1.7965 - acc: 0.5649 - val_loss: 1.7509 - val_acc: 0.5799\n",
      "Epoch 9/500\n",
      "113/113 [==============================] - 0s 3ms/step - loss: 1.7191 - acc: 0.5926 - val_loss: 1.6827 - val_acc: 0.6016\n",
      "Epoch 10/500\n",
      "113/113 [==============================] - 0s 3ms/step - loss: 1.6482 - acc: 0.6166 - val_loss: 1.6140 - val_acc: 0.6255\n",
      "Epoch 11/500\n",
      "113/113 [==============================] - 0s 3ms/step - loss: 1.5819 - acc: 0.6363 - val_loss: 1.5542 - val_acc: 0.6500\n",
      "Epoch 12/500\n",
      "113/113 [==============================] - 0s 3ms/step - loss: 1.5204 - acc: 0.6509 - val_loss: 1.5030 - val_acc: 0.6611\n",
      "Epoch 13/500\n",
      "113/113 [==============================] - 0s 3ms/step - loss: 1.4649 - acc: 0.6647 - val_loss: 1.4522 - val_acc: 0.6772\n",
      "Epoch 14/500\n",
      "113/113 [==============================] - 0s 3ms/step - loss: 1.4140 - acc: 0.6725 - val_loss: 1.4087 - val_acc: 0.6856\n",
      "Epoch 15/500\n",
      "113/113 [==============================] - 0s 3ms/step - loss: 1.3684 - acc: 0.6834 - val_loss: 1.3705 - val_acc: 0.6900\n",
      "Epoch 16/500\n",
      "113/113 [==============================] - 0s 3ms/step - loss: 1.3256 - acc: 0.6932 - val_loss: 1.3361 - val_acc: 0.6912\n",
      "Epoch 17/500\n",
      "113/113 [==============================] - 0s 3ms/step - loss: 1.2875 - acc: 0.7009 - val_loss: 1.3061 - val_acc: 0.7001\n",
      "Epoch 18/500\n",
      "113/113 [==============================] - 0s 3ms/step - loss: 1.2525 - acc: 0.7093 - val_loss: 1.2800 - val_acc: 0.7056\n",
      "Epoch 19/500\n",
      "113/113 [==============================] - 0s 3ms/step - loss: 1.2202 - acc: 0.7191 - val_loss: 1.2537 - val_acc: 0.7156\n",
      "Epoch 20/500\n",
      "113/113 [==============================] - 0s 3ms/step - loss: 1.1899 - acc: 0.7276 - val_loss: 1.2327 - val_acc: 0.7195\n",
      "Epoch 21/500\n",
      "113/113 [==============================] - 0s 3ms/step - loss: 1.1609 - acc: 0.7363 - val_loss: 1.2102 - val_acc: 0.7279\n",
      "Epoch 22/500\n",
      "113/113 [==============================] - 0s 3ms/step - loss: 1.1338 - acc: 0.7442 - val_loss: 1.1922 - val_acc: 0.7318\n",
      "Epoch 23/500\n",
      "113/113 [==============================] - 0s 3ms/step - loss: 1.1088 - acc: 0.7525 - val_loss: 1.1735 - val_acc: 0.7401\n",
      "Epoch 24/500\n",
      "113/113 [==============================] - 0s 3ms/step - loss: 1.0845 - acc: 0.7585 - val_loss: 1.1572 - val_acc: 0.7462\n",
      "Epoch 25/500\n",
      "113/113 [==============================] - 0s 3ms/step - loss: 1.0614 - acc: 0.7628 - val_loss: 1.1430 - val_acc: 0.7496\n",
      "Epoch 26/500\n",
      "113/113 [==============================] - 0s 3ms/step - loss: 1.0400 - acc: 0.7704 - val_loss: 1.1281 - val_acc: 0.7563\n",
      "Epoch 27/500\n",
      "113/113 [==============================] - 0s 3ms/step - loss: 1.0193 - acc: 0.7749 - val_loss: 1.1145 - val_acc: 0.7568\n",
      "Epoch 28/500\n",
      "113/113 [==============================] - 0s 3ms/step - loss: 0.9996 - acc: 0.7798 - val_loss: 1.1033 - val_acc: 0.7607\n",
      "Epoch 29/500\n",
      "113/113 [==============================] - 0s 3ms/step - loss: 0.9802 - acc: 0.7837 - val_loss: 1.0912 - val_acc: 0.7629\n",
      "Epoch 30/500\n",
      "113/113 [==============================] - 0s 3ms/step - loss: 0.9620 - acc: 0.7866 - val_loss: 1.0809 - val_acc: 0.7646\n",
      "Epoch 31/500\n",
      "113/113 [==============================] - 0s 3ms/step - loss: 0.9441 - acc: 0.7898 - val_loss: 1.0699 - val_acc: 0.7679\n",
      "Epoch 32/500\n",
      "113/113 [==============================] - 0s 3ms/step - loss: 0.9266 - acc: 0.7925 - val_loss: 1.0610 - val_acc: 0.7724\n",
      "Epoch 33/500\n",
      "113/113 [==============================] - 0s 3ms/step - loss: 0.9100 - acc: 0.7974 - val_loss: 1.0517 - val_acc: 0.7702\n",
      "Epoch 34/500\n",
      "113/113 [==============================] - 0s 3ms/step - loss: 0.8941 - acc: 0.8004 - val_loss: 1.0460 - val_acc: 0.7746\n",
      "Epoch 35/500\n",
      "113/113 [==============================] - 0s 3ms/step - loss: 0.8784 - acc: 0.8053 - val_loss: 1.0356 - val_acc: 0.7763\n",
      "Epoch 36/500\n",
      "113/113 [==============================] - 0s 3ms/step - loss: 0.8634 - acc: 0.8097 - val_loss: 1.0302 - val_acc: 0.7752\n",
      "Epoch 37/500\n",
      "113/113 [==============================] - 0s 3ms/step - loss: 0.8485 - acc: 0.8129 - val_loss: 1.0261 - val_acc: 0.7774\n",
      "Epoch 38/500\n",
      "113/113 [==============================] - 0s 3ms/step - loss: 0.8342 - acc: 0.8166 - val_loss: 1.0179 - val_acc: 0.7785\n",
      "Epoch 39/500\n",
      "113/113 [==============================] - 0s 3ms/step - loss: 0.8203 - acc: 0.8198 - val_loss: 1.0092 - val_acc: 0.7791\n",
      "Epoch 40/500\n",
      "113/113 [==============================] - 0s 3ms/step - loss: 0.8066 - acc: 0.8214 - val_loss: 1.0044 - val_acc: 0.7796\n",
      "Epoch 41/500\n",
      "113/113 [==============================] - 0s 3ms/step - loss: 0.7930 - acc: 0.8263 - val_loss: 0.9978 - val_acc: 0.7813\n",
      "Epoch 42/500\n",
      "113/113 [==============================] - 0s 3ms/step - loss: 0.7801 - acc: 0.8291 - val_loss: 0.9931 - val_acc: 0.7819\n",
      "Epoch 43/500\n",
      "113/113 [==============================] - 0s 3ms/step - loss: 0.7673 - acc: 0.8316 - val_loss: 0.9887 - val_acc: 0.7852\n",
      "Epoch 44/500\n",
      "113/113 [==============================] - 0s 3ms/step - loss: 0.7548 - acc: 0.8360 - val_loss: 0.9814 - val_acc: 0.7880\n",
      "Epoch 45/500\n",
      "113/113 [==============================] - 0s 3ms/step - loss: 0.7422 - acc: 0.8390 - val_loss: 0.9776 - val_acc: 0.7863\n",
      "Epoch 46/500\n",
      "113/113 [==============================] - 0s 3ms/step - loss: 0.7299 - acc: 0.8427 - val_loss: 0.9734 - val_acc: 0.7919\n",
      "Epoch 47/500\n",
      "113/113 [==============================] - 0s 3ms/step - loss: 0.7181 - acc: 0.8441 - val_loss: 0.9684 - val_acc: 0.7935\n",
      "Epoch 48/500\n",
      "113/113 [==============================] - 0s 3ms/step - loss: 0.7064 - acc: 0.8466 - val_loss: 0.9640 - val_acc: 0.7930\n",
      "Epoch 49/500\n",
      "113/113 [==============================] - 0s 3ms/step - loss: 0.6948 - acc: 0.8495 - val_loss: 0.9621 - val_acc: 0.7963\n",
      "Epoch 50/500\n",
      "113/113 [==============================] - 0s 3ms/step - loss: 0.6841 - acc: 0.8522 - val_loss: 0.9559 - val_acc: 0.7958\n",
      "Epoch 51/500\n",
      "113/113 [==============================] - 0s 3ms/step - loss: 0.6726 - acc: 0.8543 - val_loss: 0.9530 - val_acc: 0.7941\n",
      "Epoch 52/500\n",
      "113/113 [==============================] - 0s 3ms/step - loss: 0.6619 - acc: 0.8568 - val_loss: 0.9472 - val_acc: 0.7986\n",
      "Epoch 53/500\n",
      "113/113 [==============================] - 0s 3ms/step - loss: 0.6514 - acc: 0.8587 - val_loss: 0.9446 - val_acc: 0.7991\n",
      "Epoch 54/500\n",
      "113/113 [==============================] - 0s 3ms/step - loss: 0.6411 - acc: 0.8589 - val_loss: 0.9444 - val_acc: 0.7991\n",
      "Epoch 55/500\n",
      "113/113 [==============================] - 0s 3ms/step - loss: 0.6311 - acc: 0.8625 - val_loss: 0.9410 - val_acc: 0.7986\n",
      "Epoch 56/500\n",
      "113/113 [==============================] - 0s 3ms/step - loss: 0.6211 - acc: 0.8644 - val_loss: 0.9378 - val_acc: 0.8013\n",
      "Epoch 57/500\n",
      "113/113 [==============================] - 0s 3ms/step - loss: 0.6112 - acc: 0.8657 - val_loss: 0.9335 - val_acc: 0.8063\n",
      "Epoch 58/500\n",
      "113/113 [==============================] - 0s 3ms/step - loss: 0.6018 - acc: 0.8690 - val_loss: 0.9316 - val_acc: 0.8058\n",
      "Epoch 59/500\n",
      "113/113 [==============================] - 0s 3ms/step - loss: 0.5915 - acc: 0.8728 - val_loss: 0.9279 - val_acc: 0.8052\n",
      "Epoch 60/500\n",
      "113/113 [==============================] - 0s 3ms/step - loss: 0.5826 - acc: 0.8743 - val_loss: 0.9273 - val_acc: 0.8052\n",
      "Epoch 61/500\n",
      "113/113 [==============================] - 0s 3ms/step - loss: 0.5733 - acc: 0.8756 - val_loss: 0.9238 - val_acc: 0.8052\n",
      "Epoch 62/500\n",
      "113/113 [==============================] - 0s 3ms/step - loss: 0.5643 - acc: 0.8771 - val_loss: 0.9215 - val_acc: 0.8091\n",
      "Epoch 63/500\n",
      "113/113 [==============================] - 0s 3ms/step - loss: 0.5552 - acc: 0.8809 - val_loss: 0.9211 - val_acc: 0.8075\n",
      "Epoch 64/500\n",
      "113/113 [==============================] - 0s 3ms/step - loss: 0.5467 - acc: 0.8823 - val_loss: 0.9163 - val_acc: 0.8108\n",
      "Epoch 65/500\n",
      "113/113 [==============================] - 0s 3ms/step - loss: 0.5375 - acc: 0.8841 - val_loss: 0.9156 - val_acc: 0.8119\n",
      "Epoch 66/500\n",
      "113/113 [==============================] - 0s 3ms/step - loss: 0.5291 - acc: 0.8863 - val_loss: 0.9143 - val_acc: 0.8130\n",
      "Epoch 67/500\n",
      "113/113 [==============================] - 0s 3ms/step - loss: 0.5209 - acc: 0.8878 - val_loss: 0.9090 - val_acc: 0.8108\n",
      "Epoch 68/500\n",
      "113/113 [==============================] - 0s 3ms/step - loss: 0.5125 - acc: 0.8900 - val_loss: 0.9099 - val_acc: 0.8097\n",
      "Epoch 69/500\n",
      "113/113 [==============================] - 0s 3ms/step - loss: 0.5044 - acc: 0.8903 - val_loss: 0.9074 - val_acc: 0.8119\n",
      "Epoch 70/500\n",
      "113/113 [==============================] - 0s 3ms/step - loss: 0.4963 - acc: 0.8928 - val_loss: 0.9021 - val_acc: 0.8164\n",
      "Epoch 71/500\n",
      "113/113 [==============================] - 0s 3ms/step - loss: 0.4887 - acc: 0.8944 - val_loss: 0.9018 - val_acc: 0.8147\n",
      "Epoch 72/500\n",
      "113/113 [==============================] - 0s 3ms/step - loss: 0.4811 - acc: 0.8952 - val_loss: 0.9011 - val_acc: 0.8119\n",
      "Epoch 73/500\n",
      "113/113 [==============================] - 0s 3ms/step - loss: 0.4733 - acc: 0.8973 - val_loss: 0.9009 - val_acc: 0.8175\n",
      "Epoch 74/500\n",
      "113/113 [==============================] - 0s 3ms/step - loss: 0.4659 - acc: 0.8995 - val_loss: 0.8964 - val_acc: 0.8158\n",
      "Epoch 75/500\n",
      "113/113 [==============================] - 0s 3ms/step - loss: 0.4587 - acc: 0.9017 - val_loss: 0.8978 - val_acc: 0.8136\n",
      "Epoch 76/500\n",
      "113/113 [==============================] - 0s 3ms/step - loss: 0.4516 - acc: 0.9030 - val_loss: 0.8945 - val_acc: 0.8175\n",
      "Epoch 77/500\n",
      "113/113 [==============================] - 0s 3ms/step - loss: 0.4444 - acc: 0.9044 - val_loss: 0.8947 - val_acc: 0.8152\n",
      "Epoch 78/500\n",
      "113/113 [==============================] - 0s 3ms/step - loss: 0.4373 - acc: 0.9044 - val_loss: 0.8931 - val_acc: 0.8197\n",
      "Epoch 79/500\n",
      "113/113 [==============================] - 0s 3ms/step - loss: 0.4305 - acc: 0.9088 - val_loss: 0.8892 - val_acc: 0.8175\n",
      "Epoch 80/500\n",
      "113/113 [==============================] - 0s 3ms/step - loss: 0.4234 - acc: 0.9093 - val_loss: 0.8926 - val_acc: 0.8175\n",
      "Epoch 81/500\n",
      "113/113 [==============================] - 0s 3ms/step - loss: 0.4173 - acc: 0.9098 - val_loss: 0.8886 - val_acc: 0.8230\n",
      "Epoch 82/500\n",
      "113/113 [==============================] - 0s 3ms/step - loss: 0.4104 - acc: 0.9116 - val_loss: 0.8873 - val_acc: 0.8175\n",
      "Epoch 83/500\n",
      "113/113 [==============================] - 0s 3ms/step - loss: 0.4045 - acc: 0.9129 - val_loss: 0.8877 - val_acc: 0.8203\n",
      "Epoch 84/500\n",
      "113/113 [==============================] - 0s 4ms/step - loss: 0.3977 - acc: 0.9137 - val_loss: 0.8882 - val_acc: 0.8169\n",
      "Epoch 85/500\n",
      "113/113 [==============================] - 0s 3ms/step - loss: 0.3912 - acc: 0.9175 - val_loss: 0.8864 - val_acc: 0.8225\n",
      "Epoch 86/500\n",
      "113/113 [==============================] - 0s 3ms/step - loss: 0.3855 - acc: 0.9164 - val_loss: 0.8858 - val_acc: 0.8219\n",
      "Epoch 87/500\n",
      "113/113 [==============================] - 0s 3ms/step - loss: 0.3795 - acc: 0.9184 - val_loss: 0.8897 - val_acc: 0.8230\n",
      "Epoch 88/500\n",
      "113/113 [==============================] - 0s 3ms/step - loss: 0.3734 - acc: 0.9186 - val_loss: 0.8858 - val_acc: 0.8186\n",
      "Epoch 89/500\n",
      "113/113 [==============================] - 0s 3ms/step - loss: 0.3682 - acc: 0.9201 - val_loss: 0.8864 - val_acc: 0.8230\n",
      "71/71 [==============================] - 0s 1ms/step - loss: 0.9389 - acc: 0.8028\n",
      "Test accuracy: 0.8027604818344116\n"
     ]
    },
    {
     "data": {
      "image/png": "[encoded data removed]",
      "text/plain": [
       "<Figure size 792x360 with 1 Axes>"
      ]
     },
     "metadata": {
      "needs_background": "light"
     },
     "output_type": "display_data"
    },
    {
     "data": {
      "image/png": "[encoded data removed]",
      "text/plain": [
       "<Figure size 792x360 with 1 Axes>"
      ]
     },
     "metadata": {
      "needs_background": "light"
     },
     "output_type": "display_data"
    }
   ],
   "source": [
    "from keras.preprocessing.text import Tokenizer\n",
    "from keras.preprocessing.sequence import pad_sequences\n",
    "\n",
    "(x_train, y_train), (x_test, y_test) = reuters.load_data(num_words=5000, test_split=0.2)\n",
    "maxlen = 400\n",
    "x_train = pad_sequences(x_train,maxlen=maxlen, padding='post')\n",
    "x_test = pad_sequences(x_test,maxlen=maxlen, padding='post')\n",
    "print(x_train[0])\n",
    "\n",
    "from tensorflow.keras.layers import Embedding, Dense, GlobalAveragePooling1D, LSTM, BatchNormalization, Dropout\n",
    "from keras.models import Sequential\n",
    "from keras.callbacks import EarlyStopping\n",
    "\n",
    "embedding_dim = 100\n",
    "hidden_units = 128\n",
    "vocab_size = 5000\n",
    "\n",
    "model = Sequential()\n",
    "model.add(Embedding(vocab_size, embedding_dim))\n",
    "model.add(GlobalAveragePooling1D())\n",
    "model.add(Dense(46, activation ='softmax'))\n",
    "\n",
    "model.compile(optimizer='rmsprop',\n",
    "              loss = \"sparse_categorical_crossentropy\",\n",
    "              metrics = ['acc'])\n",
    "model.summary()\n",
    "\n",
    "early_stop = EarlyStopping(monitor='val_loss', patience=3)\n",
    "history = model.fit(x_train, y_train, epochs=500, batch_size=64, validation_split=0.2, callbacks=[early_stop])\n",
    "test_loss, test_acc = model.evaluate(x_test, y_test)\n",
    "print('Test accuracy:', test_acc)\n",
    "#######\n",
    "hist_dict = history.history\n",
    "loss = hist_dict['loss']\n",
    "val_loss = hist_dict['val_loss']\n",
    "acc = hist_dict['acc']\n",
    "val_acc = hist_dict['val_acc']\n",
    "\n",
    "plt.plot(loss,'b--', label = 'training loss')\n",
    "plt.plot(val_loss,'r--', label = 'validation loss')\n",
    "plt.legend()\n",
    "plt.grid()\n",
    "\n",
    "plt.figure()\n",
    "plt.plot(acc,'b--', label = 'training acc')\n",
    "plt.plot(val_acc,'r--', label = 'validation acc')\n",
    "plt.legend()\n",
    "plt.grid()   # epoch30 : 0.74 / 50 : 0.78 / 86 : 0.80"
   ]
  },
  {
   "cell_type": "markdown",
   "id": "cbe20f6d",
   "metadata": {},
   "source": [
    ">> # dense 추가 실험"
   ]
  },
  {
   "cell_type": "code",
   "execution_count": 80,
   "id": "b482efe3",
   "metadata": {
    "scrolled": true
   },
   "outputs": [
    {
     "name": "stdout",
     "output_type": "stream",
     "text": [
      "Model: \"sequential_8\"\n",
      "_________________________________________________________________\n",
      "Layer (type)                 Output Shape              Param #   \n",
      "=================================================================\n",
      "embedding_8 (Embedding)      (None, None, 100)         500000    \n",
      "_________________________________________________________________\n",
      "global_average_pooling1d_2 ( (None, 100)               0         \n",
      "_________________________________________________________________\n",
      "dense_8 (Dense)              (None, 64)                6464      \n",
      "_________________________________________________________________\n",
      "dense_9 (Dense)              (None, 46)                2990      \n",
      "=================================================================\n",
      "Total params: 509,454\n",
      "Trainable params: 509,454\n",
      "Non-trainable params: 0\n",
      "_________________________________________________________________\n",
      "Epoch 1/500\n",
      "113/113 [==============================] - 1s 4ms/step - loss: 2.7286 - acc: 0.3502 - val_loss: 2.2920 - val_acc: 0.3534\n",
      "Epoch 2/500\n",
      "113/113 [==============================] - 0s 3ms/step - loss: 2.2309 - acc: 0.3677 - val_loss: 2.1470 - val_acc: 0.3701\n",
      "Epoch 3/500\n",
      "113/113 [==============================] - 0s 3ms/step - loss: 2.0534 - acc: 0.4065 - val_loss: 1.9408 - val_acc: 0.4636\n",
      "Epoch 4/500\n",
      "113/113 [==============================] - 0s 3ms/step - loss: 1.8695 - acc: 0.4905 - val_loss: 1.7761 - val_acc: 0.5320\n",
      "Epoch 5/500\n",
      "113/113 [==============================] - 0s 3ms/step - loss: 1.7317 - acc: 0.5603 - val_loss: 1.6790 - val_acc: 0.5743\n",
      "Epoch 6/500\n",
      "113/113 [==============================] - 0s 3ms/step - loss: 1.6368 - acc: 0.5961 - val_loss: 1.6044 - val_acc: 0.6071\n",
      "Epoch 7/500\n",
      "113/113 [==============================] - 0s 3ms/step - loss: 1.5622 - acc: 0.6241 - val_loss: 1.5418 - val_acc: 0.6388\n",
      "Epoch 8/500\n",
      "113/113 [==============================] - 0s 3ms/step - loss: 1.4960 - acc: 0.6422 - val_loss: 1.4932 - val_acc: 0.6477\n",
      "Epoch 9/500\n",
      "113/113 [==============================] - 0s 3ms/step - loss: 1.4272 - acc: 0.6596 - val_loss: 1.4254 - val_acc: 0.6594\n",
      "Epoch 10/500\n",
      "113/113 [==============================] - 0s 3ms/step - loss: 1.3580 - acc: 0.6733 - val_loss: 1.3636 - val_acc: 0.6750\n",
      "Epoch 11/500\n",
      "113/113 [==============================] - 0s 3ms/step - loss: 1.2870 - acc: 0.6875 - val_loss: 1.3107 - val_acc: 0.6873\n",
      "Epoch 12/500\n",
      "113/113 [==============================] - 0s 3ms/step - loss: 1.2197 - acc: 0.7033 - val_loss: 1.2808 - val_acc: 0.6934\n",
      "Epoch 13/500\n",
      "113/113 [==============================] - 0s 3ms/step - loss: 1.1573 - acc: 0.7194 - val_loss: 1.2222 - val_acc: 0.7101\n",
      "Epoch 14/500\n",
      "113/113 [==============================] - 0s 3ms/step - loss: 1.1021 - acc: 0.7333 - val_loss: 1.1907 - val_acc: 0.7245\n",
      "Epoch 15/500\n",
      "113/113 [==============================] - 0s 3ms/step - loss: 1.0515 - acc: 0.7475 - val_loss: 1.1505 - val_acc: 0.7301\n",
      "Epoch 16/500\n",
      "113/113 [==============================] - 0s 4ms/step - loss: 1.0060 - acc: 0.7569 - val_loss: 1.1206 - val_acc: 0.7496\n",
      "Epoch 17/500\n",
      "113/113 [==============================] - 0s 3ms/step - loss: 0.9636 - acc: 0.7678 - val_loss: 1.1039 - val_acc: 0.7485\n",
      "Epoch 18/500\n",
      "113/113 [==============================] - 0s 3ms/step - loss: 0.9254 - acc: 0.7777 - val_loss: 1.0912 - val_acc: 0.7535\n",
      "Epoch 19/500\n",
      "113/113 [==============================] - 0s 3ms/step - loss: 0.8892 - acc: 0.7851 - val_loss: 1.0678 - val_acc: 0.7635\n",
      "Epoch 20/500\n",
      "113/113 [==============================] - 0s 3ms/step - loss: 0.8539 - acc: 0.7954 - val_loss: 1.0757 - val_acc: 0.7507\n",
      "Epoch 21/500\n",
      "113/113 [==============================] - 0s 3ms/step - loss: 0.8212 - acc: 0.8028 - val_loss: 1.0481 - val_acc: 0.7702\n",
      "Epoch 22/500\n",
      "113/113 [==============================] - 0s 3ms/step - loss: 0.7902 - acc: 0.8079 - val_loss: 1.0388 - val_acc: 0.7702\n",
      "Epoch 23/500\n",
      "113/113 [==============================] - 0s 3ms/step - loss: 0.7613 - acc: 0.8141 - val_loss: 1.0262 - val_acc: 0.7674\n",
      "Epoch 24/500\n",
      "113/113 [==============================] - 0s 3ms/step - loss: 0.7337 - acc: 0.8189 - val_loss: 1.0224 - val_acc: 0.7763\n",
      "Epoch 25/500\n",
      "113/113 [==============================] - 0s 3ms/step - loss: 0.7065 - acc: 0.8278 - val_loss: 1.0164 - val_acc: 0.7780\n",
      "Epoch 26/500\n",
      "113/113 [==============================] - 0s 3ms/step - loss: 0.6814 - acc: 0.8342 - val_loss: 1.0224 - val_acc: 0.7791\n",
      "Epoch 27/500\n",
      "113/113 [==============================] - 0s 3ms/step - loss: 0.6585 - acc: 0.8384 - val_loss: 1.0062 - val_acc: 0.7807\n",
      "Epoch 28/500\n",
      "113/113 [==============================] - 0s 3ms/step - loss: 0.6343 - acc: 0.8476 - val_loss: 1.0262 - val_acc: 0.7846\n",
      "Epoch 29/500\n",
      "113/113 [==============================] - 0s 3ms/step - loss: 0.6112 - acc: 0.8523 - val_loss: 1.0201 - val_acc: 0.7785\n",
      "Epoch 30/500\n",
      "113/113 [==============================] - 0s 3ms/step - loss: 0.5906 - acc: 0.8590 - val_loss: 1.0152 - val_acc: 0.7824\n",
      "71/71 [==============================] - 0s 2ms/step - loss: 1.0639 - acc: 0.7605\n",
      "Test accuracy: 0.7604630589485168\n"
     ]
    },
    {
     "data": {
      "image/png": "[encoded data removed]",
      "text/plain": [
       "<Figure size 792x360 with 1 Axes>"
      ]
     },
     "metadata": {
      "needs_background": "light"
     },
     "output_type": "display_data"
    },
    {
     "data": {
      "image/png": "[encoded data removed]",
      "text/plain": [
       "<Figure size 792x360 with 1 Axes>"
      ]
     },
     "metadata": {
      "needs_background": "light"
     },
     "output_type": "display_data"
    }
   ],
   "source": [
    "from tensorflow.keras.layers import Embedding, Dense, GlobalAveragePooling1D, LSTM, BatchNormalization, Dropout\n",
    "from keras.models import Sequential\n",
    "from keras.callbacks import EarlyStopping\n",
    "\n",
    "embedding_dim = 100\n",
    "hidden_units = 128\n",
    "vocab_size = 5000\n",
    "\n",
    "model = Sequential()\n",
    "model.add(Embedding(vocab_size, embedding_dim))\n",
    "model.add(GlobalAveragePooling1D())\n",
    "model.add(Dense(64, activation ='relu'))\n",
    "model.add(Dense(46, activation ='softmax'))\n",
    "\n",
    "model.compile(optimizer='rmsprop',\n",
    "              loss = \"sparse_categorical_crossentropy\",\n",
    "              metrics = ['acc'])\n",
    "model.summary()\n",
    "\n",
    "early_stop = EarlyStopping(monitor='val_loss', patience=3)\n",
    "history = model.fit(x_train, y_train, epochs=500, batch_size=64, validation_split=0.2, callbacks=[early_stop])\n",
    "test_loss, test_acc = model.evaluate(x_test, y_test)\n",
    "print('Test accuracy:', test_acc)\n",
    "#######\n",
    "hist_dict = history.history\n",
    "loss = hist_dict['loss']\n",
    "val_loss = hist_dict['val_loss']\n",
    "acc = hist_dict['acc']\n",
    "val_acc = hist_dict['val_acc']\n",
    "\n",
    "plt.plot(loss,'b--', label = 'training loss')\n",
    "plt.plot(val_loss,'r--', label = 'validation loss')\n",
    "plt.legend()\n",
    "plt.grid()\n",
    "\n",
    "plt.figure()\n",
    "plt.plot(acc,'b--', label = 'training acc')\n",
    "plt.plot(val_acc,'r--', label = 'validation acc')\n",
    "plt.legend()\n",
    "plt.grid()   # + dense64 :0.77"
   ]
  },
  {
   "cell_type": "markdown",
   "id": "c1f51870",
   "metadata": {},
   "source": [
    ">>## Bidirectional LSTM 1층 "
   ]
  },
  {
   "cell_type": "code",
   "execution_count": 81,
   "id": "05f36641",
   "metadata": {
    "scrolled": true
   },
   "outputs": [
    {
     "name": "stdout",
     "output_type": "stream",
     "text": [
      "[   1    2    2    8   43   10  447    5   25  207  270    5 3095  111\n",
      "   16  369  186   90   67    7   89    5   19  102    6   19  124   15\n",
      "   90   67   84   22  482   26    7   48    4   49    8  864   39  209\n",
      "  154    6  151    6   83   11   15   22  155   11   15    7   48    9\n",
      " 4579 1005  504    6  258    6  272   11   15   22  134   44   11   15\n",
      "   16    8  197 1245   90   67   52   29  209   30   32  132    6  109\n",
      "   15   17   12    0    0    0    0    0    0    0    0    0    0    0\n",
      "    0    0    0    0    0    0    0    0    0    0    0    0    0    0\n",
      "    0    0    0    0    0    0    0    0    0    0    0    0    0    0\n",
      "    0    0    0    0    0    0    0    0    0    0    0    0    0    0\n",
      "    0    0    0    0    0    0    0    0    0    0    0    0    0    0\n",
      "    0    0    0    0    0    0    0    0    0    0    0    0    0    0\n",
      "    0    0    0    0    0    0    0    0    0    0    0    0    0    0\n",
      "    0    0    0    0    0    0    0    0    0    0    0    0    0    0\n",
      "    0    0    0    0    0    0    0    0    0    0    0    0    0    0\n",
      "    0    0    0    0    0    0    0    0    0    0    0    0    0    0\n",
      "    0    0    0    0    0    0    0    0    0    0    0    0    0    0\n",
      "    0    0    0    0    0    0    0    0    0    0    0    0    0    0\n",
      "    0    0    0    0    0    0    0    0    0    0    0    0    0    0\n",
      "    0    0    0    0    0    0    0    0    0    0    0    0    0    0\n",
      "    0    0    0    0    0    0    0    0    0    0    0    0    0    0\n",
      "    0    0    0    0    0    0    0    0    0    0    0    0    0    0\n",
      "    0    0    0    0    0    0    0    0    0    0    0    0    0    0\n",
      "    0    0    0    0    0    0    0    0    0    0    0    0    0    0\n",
      "    0    0    0    0    0    0    0    0    0    0    0    0    0    0\n",
      "    0    0    0    0    0    0    0    0    0    0    0    0    0    0\n",
      "    0    0    0    0    0    0    0    0    0    0    0    0    0    0\n",
      "    0    0    0    0    0    0    0    0    0    0    0    0    0    0\n",
      "    0    0    0    0    0    0    0    0]\n",
      "Model: \"sequential_9\"\n",
      "_________________________________________________________________\n",
      "Layer (type)                 Output Shape              Param #   \n",
      "=================================================================\n",
      "embedding_9 (Embedding)      (None, None, 100)         500000    \n",
      "_________________________________________________________________\n",
      "bidirectional (Bidirectional (None, 256)               234496    \n",
      "_________________________________________________________________\n",
      "dense_10 (Dense)             (None, 46)                11822     \n",
      "=================================================================\n",
      "Total params: 746,318\n",
      "Trainable params: 746,318\n",
      "Non-trainable params: 0\n",
      "_________________________________________________________________\n",
      "Epoch 1/30\n",
      "113/113 [==============================] - 7s 42ms/step - loss: 1.9683 - acc: 0.5175 - val_loss: 1.6300 - val_acc: 0.5715\n",
      "Epoch 2/30\n",
      "113/113 [==============================] - 4s 36ms/step - loss: 1.5643 - acc: 0.6173 - val_loss: 1.5393 - val_acc: 0.6255\n",
      "Epoch 3/30\n",
      "113/113 [==============================] - 4s 36ms/step - loss: 1.3691 - acc: 0.6636 - val_loss: 1.3188 - val_acc: 0.6939\n",
      "Epoch 4/30\n",
      "113/113 [==============================] - 4s 37ms/step - loss: 1.2087 - acc: 0.7038 - val_loss: 1.3355 - val_acc: 0.6906\n",
      "Epoch 5/30\n",
      "113/113 [==============================] - 4s 37ms/step - loss: 1.0619 - acc: 0.7388 - val_loss: 1.4855 - val_acc: 0.6761\n",
      "Epoch 6/30\n",
      "113/113 [==============================] - 4s 37ms/step - loss: 0.9359 - acc: 0.7656 - val_loss: 1.1242 - val_acc: 0.7379\n",
      "Epoch 7/30\n",
      "113/113 [==============================] - 4s 37ms/step - loss: 0.8253 - acc: 0.7961 - val_loss: 1.2320 - val_acc: 0.7028\n",
      "Epoch 8/30\n",
      "113/113 [==============================] - 4s 37ms/step - loss: 0.7535 - acc: 0.8132 - val_loss: 1.0759 - val_acc: 0.7574\n",
      "Epoch 9/30\n",
      "113/113 [==============================] - 4s 36ms/step - loss: 0.6985 - acc: 0.8277 - val_loss: 1.0803 - val_acc: 0.7579\n",
      "Epoch 10/30\n",
      "113/113 [==============================] - 4s 36ms/step - loss: 0.6151 - acc: 0.8470 - val_loss: 1.0792 - val_acc: 0.7496\n",
      "Epoch 11/30\n",
      "113/113 [==============================] - 4s 36ms/step - loss: 0.5580 - acc: 0.8647 - val_loss: 1.0664 - val_acc: 0.7607\n",
      "Epoch 12/30\n",
      "113/113 [==============================] - 4s 36ms/step - loss: 0.5039 - acc: 0.8817 - val_loss: 1.0364 - val_acc: 0.7730\n",
      "Epoch 13/30\n",
      "113/113 [==============================] - 4s 36ms/step - loss: 0.4627 - acc: 0.8910 - val_loss: 1.1863 - val_acc: 0.7385\n",
      "Epoch 14/30\n",
      "113/113 [==============================] - 4s 36ms/step - loss: 0.4189 - acc: 0.9056 - val_loss: 1.0709 - val_acc: 0.7696\n",
      "Epoch 15/30\n",
      "113/113 [==============================] - 4s 36ms/step - loss: 0.3736 - acc: 0.9122 - val_loss: 1.1128 - val_acc: 0.7618\n",
      "71/71 [==============================] - 1s 12ms/step - loss: 1.1841 - acc: 0.7435\n",
      "Test accuracy: 0.7435441017150879\n"
     ]
    },
    {
     "data": {
      "image/png": "[encoded data removed]",
      "text/plain": [
       "<Figure size 792x360 with 1 Axes>"
      ]
     },
     "metadata": {
      "needs_background": "light"
     },
     "output_type": "display_data"
    },
    {
     "data": {
      "image/png": "[encoded data removed]",
      "text/plain": [
       "<Figure size 792x360 with 1 Axes>"
      ]
     },
     "metadata": {
      "needs_background": "light"
     },
     "output_type": "display_data"
    }
   ],
   "source": [
    "from keras.preprocessing.text import Tokenizer\n",
    "from keras.preprocessing.sequence import pad_sequences\n",
    "\n",
    "(x_train, y_train), (x_test, y_test) = reuters.load_data(num_words=5000, test_split=0.2)\n",
    "maxlen = 400\n",
    "x_train = pad_sequences(x_train,maxlen=maxlen, padding='post')\n",
    "x_test = pad_sequences(x_test,maxlen=maxlen, padding='post')\n",
    "print(x_train[0])\n",
    "\n",
    "from tensorflow.keras.layers import Embedding, Dense, GlobalAveragePooling1D, LSTM, BatchNormalization, Dropout,Bidirectional\n",
    "from keras.models import Sequential\n",
    "from keras.callbacks import EarlyStopping\n",
    "\n",
    "embedding_dim = 100\n",
    "hidden_units = 128\n",
    "vocab_size = 5000\n",
    "\n",
    "model = Sequential()\n",
    "model.add(Embedding(vocab_size, embedding_dim))\n",
    "model.add(Bidirectional(LSTM(hidden_units)))\n",
    "model.add(Dense(46, activation ='softmax'))\n",
    "\n",
    "model.compile(optimizer='rmsprop',\n",
    "              loss = \"sparse_categorical_crossentropy\",\n",
    "              metrics = ['acc'])\n",
    "model.summary()\n",
    "\n",
    "early_stop = EarlyStopping(monitor='val_loss', patience=3)\n",
    "history = model.fit(x_train, y_train, epochs=30, batch_size=64, validation_split=0.2, callbacks=[early_stop])\n",
    "test_loss, test_acc = model.evaluate(x_test, y_test)\n",
    "print('Test accuracy:', test_acc)\n",
    "#######\n",
    "hist_dict = history.history\n",
    "loss = hist_dict['loss']\n",
    "val_loss = hist_dict['val_loss']\n",
    "acc = hist_dict['acc']\n",
    "val_acc = hist_dict['val_acc']\n",
    "\n",
    "plt.plot(loss,'b--', label = 'training loss')\n",
    "plt.plot(val_loss,'r--', label = 'validation loss')\n",
    "plt.legend()\n",
    "plt.grid()\n",
    "\n",
    "plt.figure()\n",
    "plt.plot(acc,'b--', label = 'training acc')\n",
    "plt.plot(val_acc,'r--', label = 'validation acc')\n",
    "plt.legend()\n",
    "plt.grid()   # 0.73"
   ]
  },
  {
   "cell_type": "markdown",
   "id": "3a4a82e6",
   "metadata": {},
   "source": [
    ">>## Bidirectional LSTM + Dropout 0.5"
   ]
  },
  {
   "cell_type": "code",
   "execution_count": 82,
   "id": "3d24dc01",
   "metadata": {},
   "outputs": [
    {
     "name": "stdout",
     "output_type": "stream",
     "text": [
      "Model: \"sequential_10\"\n",
      "_________________________________________________________________\n",
      "Layer (type)                 Output Shape              Param #   \n",
      "=================================================================\n",
      "embedding_10 (Embedding)     (None, None, 100)         500000    \n",
      "_________________________________________________________________\n",
      "bidirectional_1 (Bidirection (None, 256)               234496    \n",
      "_________________________________________________________________\n",
      "dropout_2 (Dropout)          (None, 256)               0         \n",
      "_________________________________________________________________\n",
      "dense_11 (Dense)             (None, 46)                11822     \n",
      "=================================================================\n",
      "Total params: 746,318\n",
      "Trainable params: 746,318\n",
      "Non-trainable params: 0\n",
      "_________________________________________________________________\n",
      "Epoch 1/30\n",
      "113/113 [==============================] - 7s 41ms/step - loss: 2.0388 - acc: 0.4866 - val_loss: 1.6837 - val_acc: 0.5732\n",
      "Epoch 2/30\n",
      "113/113 [==============================] - 4s 35ms/step - loss: 1.6404 - acc: 0.5887 - val_loss: 1.7460 - val_acc: 0.5882\n",
      "Epoch 3/30\n",
      "113/113 [==============================] - 4s 35ms/step - loss: 1.4688 - acc: 0.6373 - val_loss: 1.3956 - val_acc: 0.6767\n",
      "Epoch 4/30\n",
      "113/113 [==============================] - 4s 36ms/step - loss: 1.3097 - acc: 0.6759 - val_loss: 1.4054 - val_acc: 0.6589\n",
      "Epoch 5/30\n",
      "113/113 [==============================] - 4s 36ms/step - loss: 1.1989 - acc: 0.7041 - val_loss: 1.2650 - val_acc: 0.7056\n",
      "Epoch 6/30\n",
      "113/113 [==============================] - 4s 37ms/step - loss: 1.0902 - acc: 0.7368 - val_loss: 1.2129 - val_acc: 0.7012\n",
      "Epoch 7/30\n",
      "113/113 [==============================] - 4s 36ms/step - loss: 0.9836 - acc: 0.7644 - val_loss: 1.2217 - val_acc: 0.7123\n",
      "Epoch 8/30\n",
      "113/113 [==============================] - 4s 36ms/step - loss: 0.8943 - acc: 0.7879 - val_loss: 1.1100 - val_acc: 0.7474\n",
      "Epoch 9/30\n",
      "113/113 [==============================] - 4s 36ms/step - loss: 0.8268 - acc: 0.8054 - val_loss: 1.0946 - val_acc: 0.7507\n",
      "Epoch 10/30\n",
      "113/113 [==============================] - 4s 36ms/step - loss: 0.7598 - acc: 0.8224 - val_loss: 1.1857 - val_acc: 0.7435\n",
      "Epoch 11/30\n",
      "113/113 [==============================] - 4s 36ms/step - loss: 0.7017 - acc: 0.8362 - val_loss: 1.0999 - val_acc: 0.7585\n",
      "Epoch 12/30\n",
      "113/113 [==============================] - 4s 36ms/step - loss: 0.6506 - acc: 0.8493 - val_loss: 1.1671 - val_acc: 0.7462\n",
      "71/71 [==============================] - 1s 12ms/step - loss: 1.1781 - acc: 0.7413\n",
      "Test accuracy: 0.7413179278373718\n"
     ]
    },
    {
     "data": {
      "image/png": "[encoded data removed]",
      "text/plain": [
       "<Figure size 792x360 with 1 Axes>"
      ]
     },
     "metadata": {
      "needs_background": "light"
     },
     "output_type": "display_data"
    },
    {
     "data": {
      "image/png": "[encoded data removed]",
      "text/plain": [
       "<Figure size 792x360 with 1 Axes>"
      ]
     },
     "metadata": {
      "needs_background": "light"
     },
     "output_type": "display_data"
    }
   ],
   "source": [
    "embedding_dim = 100\n",
    "hidden_units = 128\n",
    "vocab_size = 5000\n",
    "\n",
    "model = Sequential()\n",
    "model.add(Embedding(vocab_size, embedding_dim))\n",
    "model.add(Bidirectional(LSTM(hidden_units)))\n",
    "model.add(Dropout(0.5))\n",
    "model.add(Dense(46, activation ='softmax'))\n",
    "\n",
    "model.compile(optimizer='rmsprop',\n",
    "              loss = \"sparse_categorical_crossentropy\",\n",
    "              metrics = ['acc'])\n",
    "model.summary()\n",
    "\n",
    "early_stop = EarlyStopping(monitor='val_loss', patience=3)\n",
    "history = model.fit(x_train, y_train, epochs=30, batch_size=64, validation_split=0.2, callbacks=[early_stop])\n",
    "test_loss, test_acc = model.evaluate(x_test, y_test)\n",
    "print('Test accuracy:', test_acc)\n",
    "#######\n",
    "hist_dict = history.history\n",
    "loss = hist_dict['loss']\n",
    "val_loss = hist_dict['val_loss']\n",
    "acc = hist_dict['acc']\n",
    "val_acc = hist_dict['val_acc']\n",
    "\n",
    "plt.plot(loss,'b--', label = 'training loss')\n",
    "plt.plot(val_loss,'r--', label = 'validation loss')\n",
    "plt.legend()\n",
    "plt.grid()\n",
    "\n",
    "plt.figure()\n",
    "plt.plot(acc,'b--', label = 'training acc')\n",
    "plt.plot(val_acc,'r--', label = 'validation acc')\n",
    "plt.legend()\n",
    "plt.grid()   # 0.69"
   ]
  },
  {
   "cell_type": "code",
   "execution_count": null,
   "id": "c21b7974",
   "metadata": {},
   "outputs": [],
   "source": []
  },
  {
   "cell_type": "code",
   "execution_count": null,
   "id": "21679311",
   "metadata": {},
   "outputs": [],
   "source": []
  },
  {
   "cell_type": "markdown",
   "id": "65a2949b",
   "metadata": {},
   "source": [
    "num_words = 10000,\n",
    "\n",
    "나이브 베이즈 분류기 (NB) : 0.66  \n",
    "보완된 나이브 분류기 (CNB): 0.77  \n",
    "softmax 분류기 : 0.81  \n",
    "Linear SVM : 0.78     \n",
    "Decision Tree : 0.62  \n",
    "Random Forest : 0.67  \n",
    "Gradient Boosting Classifier (GBC) : 0.76  \n",
    "<mark>Voting : 0.81</mark>"
   ]
  },
  {
   "cell_type": "markdown",
   "id": "756dc724",
   "metadata": {},
   "source": [
    "num_words = 5000,  \n",
    "\n",
    "NB 정확도: 0.6731967943009796  \n",
    "CNB 정확도: 0.7707034728406055  \n",
    "Softmax 정확도: 0.8036509349955476 (C=10000)  \n",
    "Softmax 정확도: 0.8067675868210151 (C=5000)  \n",
    "Softmax 정확도: 0.8032056990204809 (C=15000)  \n",
    "Linear SVM 정확도: 0.7724844167408726 (C=1000)  \n",
    "Linear SVM 정확도: 0.7742653606411398 (C=1500)  \n",
    "DT 정확도: 0.6179875333926982  \n",
    "RF 정확도: 0.701246660730187  \n",
    "GBC 정확도: 0.767586821015138  \n",
    "<mark>Voting 정확도: 0.8103294746215495 (C=10000)</mark>  \n",
    "Voting 정확도: 0.8098842386464826 (C=15000)  \n",
    "\n",
    "     - num_words가 줄어들면 규제의 C 파라미터를 늘려야한다고 해서 줄여도 늘려도 봤지만 아주 큰 변화는 찾기 힘들었다. \n",
    "     - num_words의 수를 10000 -> 5000으로 줄였으나, 거의 비슷한 정확도가 나왔으며 두 경우 모두 voting이 가장 우수하였다.\n",
    "     \n",
    "- F1 score가 머신러닝 기법별로 조금 다른 것을 확인했다. 공통적으로 Precision이 Recall보다 조금씩 높게 나오기는 했지만, 데이터의 종류에 따라 precision이나 recall이 중요한가에 따라 모델을 선택하는 기준이 달라질 듯 하다."
   ]
  },
  {
   "cell_type": "markdown",
   "id": "76e852c2",
   "metadata": {},
   "source": [
    "- num_words = 5000, DL\n",
    "1. Emb + LSTM(128) + Dense(46) -> test acc : 0.68\n",
    "2. Emb + LSTM(128) + BatNorm + LSTM(128) + BatNorm +Dense(46) -> test acc : 0.56\n",
    "3. Emb + LSTM(128) + BatNorm + Dropout(0.2) + LSTM(128) + BatNorm + Dropout(0.2) + Dense(46) -> test acc : 0.45\n",
    "4. Emb + LSTM(300) + Dense(46) -> test acc : 0.68    \n",
    "5. Emb + GApooling1D + Dense(46) -> test acc : 0.78 **\n",
    "\n",
    "    - LSTM 층이 깊을수록 좋지않다.\n",
    "    - 그래서 1층 lstm만 쌓고, maxlen와 padding을 조절하여 \n",
    "- 레이어 구조 : 1층 lstm, 데이터셋 : 원본 그대로 Solid\n",
    "1. maxlen=100, padding=post >> Test_acc = 0.66\n",
    "2. maxlen=400, padding=post >> Test_acc : 0.37\n",
    "\n",
    "- Emb + GApooling1D + Dense(46)로 Solid\n",
    "1. epoch 30 : 0.74   \n",
    "2. epoch 50 : 0.78 **   \n",
    "\n",
    "<mark> 3. epoch 86 : 0.80 </mark>\n",
    "\n",
    "Emb + GApooling1D + Dense(64) + Dense(46)  \n",
    "1. epoch 29 : 0.77 **\n",
    "\n",
    "BidirectionalLSTM\n",
    "1. Emb + BidirectionalLSTM(128) + Dense(46) >> 0.73\n",
    "2. Emb + BidirectionalLSTM(128) + Dropout(0.5) + Dense(46) >> 0.69\n"
   ]
  },
  {
   "cell_type": "markdown",
   "id": "f979eaf4",
   "metadata": {},
   "source": [
    "딥러닝으로 돌린 결과가 머신러닝 결과보다 좋지가 않아서..기분이 좋지 않았다.\n",
    "오늘 케창딥을 하면서 양방향 LSTM도 추가하였는데, 딱히 괄목할만한 결과가 없었다.\n",
    "왜그런지 모르겠는데,, 데이터가 garbage라고 하기에는 ML이 잘나와서 구조의 문제인 것 같다.\n",
    "\n",
    "여튼 내가 한 실험으로는,  \n",
    "적어도 이 데이터에 있어서만큼은,  \n",
    "층이 깊을수록 안좋았고,\n",
    "LSTM보다는 그냥 단순한 gepooling1D가 더 좋았다.\n",
    "\n",
    "트랜스포머에도 넣어보고 싶다. \n",
    "DL이 ML에게 진 것 같아서 성에 안찬다.. ㅜㅜ"
   ]
  },
  {
   "cell_type": "markdown",
   "id": "672ab247",
   "metadata": {},
   "source": [
    "평가문항\t상세기준\n",
    "1. 분류 모델의 accuracy가 기준 이상 높게 나왔는가?\n",
    "\n",
    "3가지 단어 개수에 대해 8가지 머신러닝 기법을 적용하여 그중 최적의 솔루션을 도출하였다.\n",
    "2. 분류 모델의 F1 score가 기준 이상 높게 나왔는가?\n",
    "\n",
    "Vocabulary size에 따른 각 머신러닝 모델의 성능변화 추이를 살피고, 해당 머신러닝 알고리즘의 특성에 근거해 원인을 분석하였다.\n",
    "3. 딥러닝 모델을 활용해 성능이 비교 및 확인되었는가?\n",
    "\n",
    "동일한 데이터셋과 전처리 조건으로 딥러닝 모델의 성능과 비교하여 결과에 따른 원인을 분석하였다."
   ]
  }
 ],
 "metadata": {
  "kernelspec": {
   "display_name": "Python 3 (ipykernel)",
   "language": "python",
   "name": "python3"
  },
  "language_info": {
   "codemirror_mode": {
    "name": "ipython",
    "version": 3
   },
   "file_extension": ".py",
   "mimetype": "text/x-python",
   "name": "python",
   "nbconvert_exporter": "python",
   "pygments_lexer": "ipython3",
   "version": "3.9.7"
  }
 },
 "nbformat": 4,
 "nbformat_minor": 5
}
